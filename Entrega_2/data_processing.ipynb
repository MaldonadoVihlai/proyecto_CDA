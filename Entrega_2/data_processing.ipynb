{
  "nbformat": 4,
  "nbformat_minor": 0,
  "metadata": {
    "colab": {
      "provenance": [],
      "toc_visible": true
    },
    "kernelspec": {
      "name": "python3",
      "display_name": "Python 3"
    },
    "language_info": {
      "name": "python"
    }
  },
  "cells": [
    {
      "cell_type": "markdown",
      "source": [
        "# Procesamiento de datos"
      ],
      "metadata": {
        "id": "yaw3kOpl5R2b"
      }
    },
    {
      "cell_type": "code",
      "source": [
        "!pip install --upgrade category_encoders"
      ],
      "metadata": {
        "colab": {
          "base_uri": "https://localhost:8080/"
        },
        "id": "V3loAGrNo995",
        "outputId": "20932825-11ae-40ff-8e65-5a16d1c5049f"
      },
      "execution_count": 31,
      "outputs": [
        {
          "output_type": "stream",
          "name": "stdout",
          "text": [
            "Looking in indexes: https://pypi.org/simple, https://us-python.pkg.dev/colab-wheels/public/simple/\n",
            "Requirement already satisfied: category_encoders in /usr/local/lib/python3.7/dist-packages (2.5.1.post0)\n",
            "Requirement already satisfied: numpy>=1.14.0 in /usr/local/lib/python3.7/dist-packages (from category_encoders) (1.21.6)\n",
            "Requirement already satisfied: statsmodels>=0.9.0 in /usr/local/lib/python3.7/dist-packages (from category_encoders) (0.12.2)\n",
            "Requirement already satisfied: scipy>=1.0.0 in /usr/local/lib/python3.7/dist-packages (from category_encoders) (1.7.3)\n",
            "Requirement already satisfied: patsy>=0.5.1 in /usr/local/lib/python3.7/dist-packages (from category_encoders) (0.5.3)\n",
            "Requirement already satisfied: pandas>=1.0.5 in /usr/local/lib/python3.7/dist-packages (from category_encoders) (1.3.5)\n",
            "Requirement already satisfied: scikit-learn>=0.20.0 in /usr/local/lib/python3.7/dist-packages (from category_encoders) (1.0.2)\n",
            "Requirement already satisfied: python-dateutil>=2.7.3 in /usr/local/lib/python3.7/dist-packages (from pandas>=1.0.5->category_encoders) (2.8.2)\n",
            "Requirement already satisfied: pytz>=2017.3 in /usr/local/lib/python3.7/dist-packages (from pandas>=1.0.5->category_encoders) (2022.5)\n",
            "Requirement already satisfied: six in /usr/local/lib/python3.7/dist-packages (from patsy>=0.5.1->category_encoders) (1.15.0)\n",
            "Requirement already satisfied: threadpoolctl>=2.0.0 in /usr/local/lib/python3.7/dist-packages (from scikit-learn>=0.20.0->category_encoders) (3.1.0)\n",
            "Requirement already satisfied: joblib>=0.11 in /usr/local/lib/python3.7/dist-packages (from scikit-learn>=0.20.0->category_encoders) (1.2.0)\n"
          ]
        }
      ]
    },
    {
      "cell_type": "code",
      "execution_count": 32,
      "metadata": {
        "id": "sL13Iqe84DfL"
      },
      "outputs": [],
      "source": [
        "import pandas as pd\n",
        "from sklearn.model_selection import train_test_split\n",
        "import matplotlib.pyplot as plt\n",
        "import seaborn as sns\n",
        "from sklearn.preprocessing import OneHotEncoder, MinMaxScaler, StandardScaler\n",
        "import category_encoders as ce"
      ]
    },
    {
      "cell_type": "code",
      "source": [
        "pd.set_option('display.max_rows', 100)\n",
        "pd.set_option('display.max_columns', 100)"
      ],
      "metadata": {
        "id": "bI3RhYzaK2wX"
      },
      "execution_count": 33,
      "outputs": []
    },
    {
      "cell_type": "markdown",
      "source": [
        "## Lectura de datos"
      ],
      "metadata": {
        "id": "f2NYcyd5WHAg"
      }
    },
    {
      "cell_type": "code",
      "source": [
        "cars_df = pd.read_csv('https://raw.githubusercontent.com/MaldonadoVihlai/proyecto_CDA/main/Entrega_1/car_price_prediction.csv')\n",
        "cars_df.head()"
      ],
      "metadata": {
        "id": "U7OuyIT-5cho",
        "colab": {
          "base_uri": "https://localhost:8080/",
          "height": 354
        },
        "outputId": "01bb3f06-f9aa-4393-fae5-ee67fdcae44d"
      },
      "execution_count": 34,
      "outputs": [
        {
          "output_type": "execute_result",
          "data": {
            "text/plain": [
              "         ID  Price  Levy Manufacturer    Model  Prod. year   Category  \\\n",
              "0  45654403  13328  1399        LEXUS   RX 450        2010       Jeep   \n",
              "1  44731507  16621  1018    CHEVROLET  Equinox        2011       Jeep   \n",
              "2  45774419   8467     -        HONDA      FIT        2006  Hatchback   \n",
              "3  45769185   3607   862         FORD   Escape        2011       Jeep   \n",
              "4  45809263  11726   446        HONDA      FIT        2014  Hatchback   \n",
              "\n",
              "  Leather interior Fuel type Engine volume    Mileage  Cylinders  \\\n",
              "0              Yes    Hybrid           3.5  186005 km        6.0   \n",
              "1               No    Petrol             3  192000 km        6.0   \n",
              "2               No    Petrol           1.3  200000 km        4.0   \n",
              "3              Yes    Hybrid           2.5  168966 km        4.0   \n",
              "4              Yes    Petrol           1.3   91901 km        4.0   \n",
              "\n",
              "  Gear box type Drive wheels   Doors             Wheel   Color  Airbags  \n",
              "0     Automatic          4x4  04-May        Left wheel  Silver       12  \n",
              "1     Tiptronic          4x4  04-May        Left wheel   Black        8  \n",
              "2      Variator        Front  04-May  Right-hand drive   Black        2  \n",
              "3     Automatic          4x4  04-May        Left wheel   White        0  \n",
              "4     Automatic        Front  04-May        Left wheel  Silver        4  "
            ],
            "text/html": [
              "\n",
              "  <div id=\"df-5a0ae065-782b-4c8a-bb67-db1c1c5c07b3\">\n",
              "    <div class=\"colab-df-container\">\n",
              "      <div>\n",
              "<style scoped>\n",
              "    .dataframe tbody tr th:only-of-type {\n",
              "        vertical-align: middle;\n",
              "    }\n",
              "\n",
              "    .dataframe tbody tr th {\n",
              "        vertical-align: top;\n",
              "    }\n",
              "\n",
              "    .dataframe thead th {\n",
              "        text-align: right;\n",
              "    }\n",
              "</style>\n",
              "<table border=\"1\" class=\"dataframe\">\n",
              "  <thead>\n",
              "    <tr style=\"text-align: right;\">\n",
              "      <th></th>\n",
              "      <th>ID</th>\n",
              "      <th>Price</th>\n",
              "      <th>Levy</th>\n",
              "      <th>Manufacturer</th>\n",
              "      <th>Model</th>\n",
              "      <th>Prod. year</th>\n",
              "      <th>Category</th>\n",
              "      <th>Leather interior</th>\n",
              "      <th>Fuel type</th>\n",
              "      <th>Engine volume</th>\n",
              "      <th>Mileage</th>\n",
              "      <th>Cylinders</th>\n",
              "      <th>Gear box type</th>\n",
              "      <th>Drive wheels</th>\n",
              "      <th>Doors</th>\n",
              "      <th>Wheel</th>\n",
              "      <th>Color</th>\n",
              "      <th>Airbags</th>\n",
              "    </tr>\n",
              "  </thead>\n",
              "  <tbody>\n",
              "    <tr>\n",
              "      <th>0</th>\n",
              "      <td>45654403</td>\n",
              "      <td>13328</td>\n",
              "      <td>1399</td>\n",
              "      <td>LEXUS</td>\n",
              "      <td>RX 450</td>\n",
              "      <td>2010</td>\n",
              "      <td>Jeep</td>\n",
              "      <td>Yes</td>\n",
              "      <td>Hybrid</td>\n",
              "      <td>3.5</td>\n",
              "      <td>186005 km</td>\n",
              "      <td>6.0</td>\n",
              "      <td>Automatic</td>\n",
              "      <td>4x4</td>\n",
              "      <td>04-May</td>\n",
              "      <td>Left wheel</td>\n",
              "      <td>Silver</td>\n",
              "      <td>12</td>\n",
              "    </tr>\n",
              "    <tr>\n",
              "      <th>1</th>\n",
              "      <td>44731507</td>\n",
              "      <td>16621</td>\n",
              "      <td>1018</td>\n",
              "      <td>CHEVROLET</td>\n",
              "      <td>Equinox</td>\n",
              "      <td>2011</td>\n",
              "      <td>Jeep</td>\n",
              "      <td>No</td>\n",
              "      <td>Petrol</td>\n",
              "      <td>3</td>\n",
              "      <td>192000 km</td>\n",
              "      <td>6.0</td>\n",
              "      <td>Tiptronic</td>\n",
              "      <td>4x4</td>\n",
              "      <td>04-May</td>\n",
              "      <td>Left wheel</td>\n",
              "      <td>Black</td>\n",
              "      <td>8</td>\n",
              "    </tr>\n",
              "    <tr>\n",
              "      <th>2</th>\n",
              "      <td>45774419</td>\n",
              "      <td>8467</td>\n",
              "      <td>-</td>\n",
              "      <td>HONDA</td>\n",
              "      <td>FIT</td>\n",
              "      <td>2006</td>\n",
              "      <td>Hatchback</td>\n",
              "      <td>No</td>\n",
              "      <td>Petrol</td>\n",
              "      <td>1.3</td>\n",
              "      <td>200000 km</td>\n",
              "      <td>4.0</td>\n",
              "      <td>Variator</td>\n",
              "      <td>Front</td>\n",
              "      <td>04-May</td>\n",
              "      <td>Right-hand drive</td>\n",
              "      <td>Black</td>\n",
              "      <td>2</td>\n",
              "    </tr>\n",
              "    <tr>\n",
              "      <th>3</th>\n",
              "      <td>45769185</td>\n",
              "      <td>3607</td>\n",
              "      <td>862</td>\n",
              "      <td>FORD</td>\n",
              "      <td>Escape</td>\n",
              "      <td>2011</td>\n",
              "      <td>Jeep</td>\n",
              "      <td>Yes</td>\n",
              "      <td>Hybrid</td>\n",
              "      <td>2.5</td>\n",
              "      <td>168966 km</td>\n",
              "      <td>4.0</td>\n",
              "      <td>Automatic</td>\n",
              "      <td>4x4</td>\n",
              "      <td>04-May</td>\n",
              "      <td>Left wheel</td>\n",
              "      <td>White</td>\n",
              "      <td>0</td>\n",
              "    </tr>\n",
              "    <tr>\n",
              "      <th>4</th>\n",
              "      <td>45809263</td>\n",
              "      <td>11726</td>\n",
              "      <td>446</td>\n",
              "      <td>HONDA</td>\n",
              "      <td>FIT</td>\n",
              "      <td>2014</td>\n",
              "      <td>Hatchback</td>\n",
              "      <td>Yes</td>\n",
              "      <td>Petrol</td>\n",
              "      <td>1.3</td>\n",
              "      <td>91901 km</td>\n",
              "      <td>4.0</td>\n",
              "      <td>Automatic</td>\n",
              "      <td>Front</td>\n",
              "      <td>04-May</td>\n",
              "      <td>Left wheel</td>\n",
              "      <td>Silver</td>\n",
              "      <td>4</td>\n",
              "    </tr>\n",
              "  </tbody>\n",
              "</table>\n",
              "</div>\n",
              "      <button class=\"colab-df-convert\" onclick=\"convertToInteractive('df-5a0ae065-782b-4c8a-bb67-db1c1c5c07b3')\"\n",
              "              title=\"Convert this dataframe to an interactive table.\"\n",
              "              style=\"display:none;\">\n",
              "        \n",
              "  <svg xmlns=\"http://www.w3.org/2000/svg\" height=\"24px\"viewBox=\"0 0 24 24\"\n",
              "       width=\"24px\">\n",
              "    <path d=\"M0 0h24v24H0V0z\" fill=\"none\"/>\n",
              "    <path d=\"M18.56 5.44l.94 2.06.94-2.06 2.06-.94-2.06-.94-.94-2.06-.94 2.06-2.06.94zm-11 1L8.5 8.5l.94-2.06 2.06-.94-2.06-.94L8.5 2.5l-.94 2.06-2.06.94zm10 10l.94 2.06.94-2.06 2.06-.94-2.06-.94-.94-2.06-.94 2.06-2.06.94z\"/><path d=\"M17.41 7.96l-1.37-1.37c-.4-.4-.92-.59-1.43-.59-.52 0-1.04.2-1.43.59L10.3 9.45l-7.72 7.72c-.78.78-.78 2.05 0 2.83L4 21.41c.39.39.9.59 1.41.59.51 0 1.02-.2 1.41-.59l7.78-7.78 2.81-2.81c.8-.78.8-2.07 0-2.86zM5.41 20L4 18.59l7.72-7.72 1.47 1.35L5.41 20z\"/>\n",
              "  </svg>\n",
              "      </button>\n",
              "      \n",
              "  <style>\n",
              "    .colab-df-container {\n",
              "      display:flex;\n",
              "      flex-wrap:wrap;\n",
              "      gap: 12px;\n",
              "    }\n",
              "\n",
              "    .colab-df-convert {\n",
              "      background-color: #E8F0FE;\n",
              "      border: none;\n",
              "      border-radius: 50%;\n",
              "      cursor: pointer;\n",
              "      display: none;\n",
              "      fill: #1967D2;\n",
              "      height: 32px;\n",
              "      padding: 0 0 0 0;\n",
              "      width: 32px;\n",
              "    }\n",
              "\n",
              "    .colab-df-convert:hover {\n",
              "      background-color: #E2EBFA;\n",
              "      box-shadow: 0px 1px 2px rgba(60, 64, 67, 0.3), 0px 1px 3px 1px rgba(60, 64, 67, 0.15);\n",
              "      fill: #174EA6;\n",
              "    }\n",
              "\n",
              "    [theme=dark] .colab-df-convert {\n",
              "      background-color: #3B4455;\n",
              "      fill: #D2E3FC;\n",
              "    }\n",
              "\n",
              "    [theme=dark] .colab-df-convert:hover {\n",
              "      background-color: #434B5C;\n",
              "      box-shadow: 0px 1px 3px 1px rgba(0, 0, 0, 0.15);\n",
              "      filter: drop-shadow(0px 1px 2px rgba(0, 0, 0, 0.3));\n",
              "      fill: #FFFFFF;\n",
              "    }\n",
              "  </style>\n",
              "\n",
              "      <script>\n",
              "        const buttonEl =\n",
              "          document.querySelector('#df-5a0ae065-782b-4c8a-bb67-db1c1c5c07b3 button.colab-df-convert');\n",
              "        buttonEl.style.display =\n",
              "          google.colab.kernel.accessAllowed ? 'block' : 'none';\n",
              "\n",
              "        async function convertToInteractive(key) {\n",
              "          const element = document.querySelector('#df-5a0ae065-782b-4c8a-bb67-db1c1c5c07b3');\n",
              "          const dataTable =\n",
              "            await google.colab.kernel.invokeFunction('convertToInteractive',\n",
              "                                                     [key], {});\n",
              "          if (!dataTable) return;\n",
              "\n",
              "          const docLinkHtml = 'Like what you see? Visit the ' +\n",
              "            '<a target=\"_blank\" href=https://colab.research.google.com/notebooks/data_table.ipynb>data table notebook</a>'\n",
              "            + ' to learn more about interactive tables.';\n",
              "          element.innerHTML = '';\n",
              "          dataTable['output_type'] = 'display_data';\n",
              "          await google.colab.output.renderOutput(dataTable, element);\n",
              "          const docLink = document.createElement('div');\n",
              "          docLink.innerHTML = docLinkHtml;\n",
              "          element.appendChild(docLink);\n",
              "        }\n",
              "      </script>\n",
              "    </div>\n",
              "  </div>\n",
              "  "
            ]
          },
          "metadata": {},
          "execution_count": 34
        }
      ]
    },
    {
      "cell_type": "markdown",
      "source": [
        "Documentación fuentes de datos:"
      ],
      "metadata": {
        "id": "DmrBUjJ5W-C-"
      }
    },
    {
      "cell_type": "markdown",
      "source": [
        "| Field            | Description                                                                                                      |\n",
        "|------------------|------------------------------------------------------------------------------------------------------------------|\n",
        "| ID               | Record Index                                                                                                     |\n",
        "| Price            | Precio del vehiculo en dolares                                                                                   |\n",
        "| Levy             | Monto de dinero que cubre parcialmente o totalmente los daños que puedan derivarse de accidentes en via pública |\n",
        "| Manufacturer     | Fabricante del automóvil                                                                                         |\n",
        "| Model            | Modelo del vehiculo                                                                                              |\n",
        "| Prod. year       | Año de produccion                                                                                                |\n",
        "| Category         | Categoria                                                                                                        |\n",
        "| Leather interior | Interior de cuero                                                                                                |\n",
        "| Fuel type        | Tipo de combustible                                                                                              |\n",
        "| Engine volume    | Volumen del motor (L)                                                                                            |\n",
        "| Mileage          | Kilometraje (km)                                                                                                 |\n",
        "| Cylinders        | Cantidad de cilindros                                                                                            |\n",
        "| Gear box type    | Tipo de caja de cambios                                                                                          |\n",
        "| Drive wheels     | Ruedas motrices                                                                                                  |\n",
        "| Doors            | Cantidad de puertas                                                                                              |\n",
        "| Wheel            | Ubicación del volante                                                                                            |\n",
        "| Color            | Color                                                                                                            |\n",
        "| Airbags          | Cantidad de Airbags                                                                                              |"
      ],
      "metadata": {
        "id": "0i8m4ZNEYmXt"
      }
    },
    {
      "cell_type": "markdown",
      "source": [
        "Fuente de datos: https://www.kaggle.com/code/seifzein/price-detiction-with-61-score-by-gradient-boost/notebook"
      ],
      "metadata": {
        "id": "3Xcs1JwQebAd"
      }
    },
    {
      "cell_type": "markdown",
      "source": [
        "A continuación se definen las funciones a utilizar para la limpieza de datos:"
      ],
      "metadata": {
        "id": "3vI_yIMgWJhI"
      }
    },
    {
      "cell_type": "code",
      "source": [
        "class clean_cars:\n",
        "  def __init__(self, dataframe):\n",
        "    self.dataframe = dataframe\n",
        "  \n",
        "  def remove_duplicates(self):\n",
        "    self.dataframe = self.dataframe.drop(['ID'], axis=1).drop_duplicates()\n",
        "  \n",
        "  def replace_boolean_by_numeric_columns(self):\n",
        "    self.dataframe['Engine volume'] = self.dataframe['Engine volume'].str.replace(' Turbo', '').astype(float)\n",
        "    # self.dataframe['Engine volume'] = self.dataframe['Engine volume'].str.contains('Turbo').replace({True: 1, False:0})\n",
        "\n",
        "  #Limpieza de datos de acuerdo al primer EDA realizado. \n",
        "  #TODO: reemplazar get_dummies por onehot\n",
        "  def cleaning_colums(self):\n",
        "    self.dataframe['Mileage'] = self.dataframe['Mileage'].str.replace(\" km\", \"\").astype(int)\n",
        "    self.dataframe[self.dataframe['Levy'] == '-']\n",
        "    self.dataframe['Levy'] = self.dataframe['Levy'].str.replace('-', \"0\").astype(int)\n",
        "    self.dataframe['Doors'] = self.dataframe['Doors'].replace({\n",
        "        \"04-May\":\"4-5\",\n",
        "        \"02-Mar\":\"2-3\"})\n",
        "    self.dataframe['Doors'] = self.dataframe['Doors'].replace({'2-3': 1, '4-5': 2, '>5': 3})\n",
        "\n",
        "  # Se aplica codificación one-hot para las variables categóricas\n",
        "  def one_hot_encoding(self):\n",
        "    wheel_dummies = pd.get_dummies(self.dataframe['Wheel'], drop_first = True, prefix='Wheel_')\n",
        "    self.dataframe = pd.concat([self.dataframe, wheel_dummies], axis = 1).drop('Wheel', axis=1)\n",
        "    drive_wheels = pd.get_dummies(self.dataframe['Drive wheels'], prefix='Drive wheels')\n",
        "    self.dataframe = pd.concat([self.dataframe, drive_wheels], axis = 1).drop('Drive wheels', axis=1)\n",
        "    gear_box_type = pd.get_dummies(self.dataframe['Gear box type'],  prefix='Gear_box_type')\n",
        "    self.dataframe = pd.concat([self.dataframe, gear_box_type], axis = 1).drop('Gear box type', axis=1)\n",
        "    fuel_type = pd.get_dummies(self.dataframe['Fuel type'], prefix='fuel_type_')\n",
        "    self.dataframe = pd.concat([self.dataframe, fuel_type], axis = 1).drop('Fuel type', axis=1)\n",
        "    self.dataframe['Leather interior'] = self.dataframe['Leather interior'].replace({'Yes': 1, 'No': 0})\n",
        "    category = pd.get_dummies(self.dataframe['Category'], drop_first = True, prefix='category_')\n",
        "    self.dataframe = pd.concat([self.dataframe, category], axis = 1).drop('Category', axis=1)\n",
        "\n",
        "    \n",
        "  def clean_dataframe(self):\n",
        "    self.remove_duplicates()\n",
        "    self.replace_boolean_by_numeric_columns()\n",
        "    self.cleaning_colums()\n",
        "    return self.dataframe\n",
        "  \n",
        "  def encode_one_hot_dataframe(self):\n",
        "    self.one_hot_encoding()\n",
        "    return self.dataframe\n",
        "\n",
        "  # Se utilizará codificación binaria para variables con alta cardinalidad como Manufacturer y Model\n",
        "  def encode_binary_dataframe(self):\n",
        "    self.dataframe = ce.BinaryEncoder().fit_transform(self.dataframe)\n",
        "    return self.dataframe\n",
        "\n",
        "processed_df = clean_cars(cars_df).clean_dataframe()"
      ],
      "metadata": {
        "id": "bP97MdBY9CiK"
      },
      "execution_count": 35,
      "outputs": []
    },
    {
      "cell_type": "code",
      "source": [
        "processed_df.info()"
      ],
      "metadata": {
        "id": "-LPXimxMK-8T",
        "outputId": "6fb208b4-398e-42b7-ece9-0213c554b75b",
        "colab": {
          "base_uri": "https://localhost:8080/"
        }
      },
      "execution_count": 36,
      "outputs": [
        {
          "output_type": "stream",
          "name": "stdout",
          "text": [
            "<class 'pandas.core.frame.DataFrame'>\n",
            "Int64Index: 15725 entries, 0 to 19236\n",
            "Data columns (total 17 columns):\n",
            " #   Column            Non-Null Count  Dtype  \n",
            "---  ------            --------------  -----  \n",
            " 0   Price             15725 non-null  int64  \n",
            " 1   Levy              15725 non-null  int64  \n",
            " 2   Manufacturer      15725 non-null  object \n",
            " 3   Model             15725 non-null  object \n",
            " 4   Prod. year        15725 non-null  int64  \n",
            " 5   Category          15725 non-null  object \n",
            " 6   Leather interior  15725 non-null  object \n",
            " 7   Fuel type         15725 non-null  object \n",
            " 8   Engine volume     15725 non-null  float64\n",
            " 9   Mileage           15725 non-null  int64  \n",
            " 10  Cylinders         15725 non-null  float64\n",
            " 11  Gear box type     15725 non-null  object \n",
            " 12  Drive wheels      15725 non-null  object \n",
            " 13  Doors             15725 non-null  int64  \n",
            " 14  Wheel             15725 non-null  object \n",
            " 15  Color             15725 non-null  object \n",
            " 16  Airbags           15725 non-null  int64  \n",
            "dtypes: float64(2), int64(6), object(9)\n",
            "memory usage: 2.2+ MB\n"
          ]
        }
      ]
    },
    {
      "cell_type": "code",
      "source": [
        "processed_df.head()"
      ],
      "metadata": {
        "colab": {
          "base_uri": "https://localhost:8080/",
          "height": 285
        },
        "id": "UWgfVchPA_Nw",
        "outputId": "f1fede40-fdcc-40d6-c0cd-b1bb597accc7"
      },
      "execution_count": 37,
      "outputs": [
        {
          "output_type": "execute_result",
          "data": {
            "text/plain": [
              "   Price  Levy Manufacturer    Model  Prod. year   Category Leather interior  \\\n",
              "0  13328  1399        LEXUS   RX 450        2010       Jeep              Yes   \n",
              "1  16621  1018    CHEVROLET  Equinox        2011       Jeep               No   \n",
              "2   8467     0        HONDA      FIT        2006  Hatchback               No   \n",
              "3   3607   862         FORD   Escape        2011       Jeep              Yes   \n",
              "4  11726   446        HONDA      FIT        2014  Hatchback              Yes   \n",
              "\n",
              "  Fuel type  Engine volume  Mileage  Cylinders Gear box type Drive wheels  \\\n",
              "0    Hybrid            3.5   186005        6.0     Automatic          4x4   \n",
              "1    Petrol            3.0   192000        6.0     Tiptronic          4x4   \n",
              "2    Petrol            1.3   200000        4.0      Variator        Front   \n",
              "3    Hybrid            2.5   168966        4.0     Automatic          4x4   \n",
              "4    Petrol            1.3    91901        4.0     Automatic        Front   \n",
              "\n",
              "   Doors             Wheel   Color  Airbags  \n",
              "0      2        Left wheel  Silver       12  \n",
              "1      2        Left wheel   Black        8  \n",
              "2      2  Right-hand drive   Black        2  \n",
              "3      2        Left wheel   White        0  \n",
              "4      2        Left wheel  Silver        4  "
            ],
            "text/html": [
              "\n",
              "  <div id=\"df-60607bfc-0d36-4cbc-a059-fffc0d779388\">\n",
              "    <div class=\"colab-df-container\">\n",
              "      <div>\n",
              "<style scoped>\n",
              "    .dataframe tbody tr th:only-of-type {\n",
              "        vertical-align: middle;\n",
              "    }\n",
              "\n",
              "    .dataframe tbody tr th {\n",
              "        vertical-align: top;\n",
              "    }\n",
              "\n",
              "    .dataframe thead th {\n",
              "        text-align: right;\n",
              "    }\n",
              "</style>\n",
              "<table border=\"1\" class=\"dataframe\">\n",
              "  <thead>\n",
              "    <tr style=\"text-align: right;\">\n",
              "      <th></th>\n",
              "      <th>Price</th>\n",
              "      <th>Levy</th>\n",
              "      <th>Manufacturer</th>\n",
              "      <th>Model</th>\n",
              "      <th>Prod. year</th>\n",
              "      <th>Category</th>\n",
              "      <th>Leather interior</th>\n",
              "      <th>Fuel type</th>\n",
              "      <th>Engine volume</th>\n",
              "      <th>Mileage</th>\n",
              "      <th>Cylinders</th>\n",
              "      <th>Gear box type</th>\n",
              "      <th>Drive wheels</th>\n",
              "      <th>Doors</th>\n",
              "      <th>Wheel</th>\n",
              "      <th>Color</th>\n",
              "      <th>Airbags</th>\n",
              "    </tr>\n",
              "  </thead>\n",
              "  <tbody>\n",
              "    <tr>\n",
              "      <th>0</th>\n",
              "      <td>13328</td>\n",
              "      <td>1399</td>\n",
              "      <td>LEXUS</td>\n",
              "      <td>RX 450</td>\n",
              "      <td>2010</td>\n",
              "      <td>Jeep</td>\n",
              "      <td>Yes</td>\n",
              "      <td>Hybrid</td>\n",
              "      <td>3.5</td>\n",
              "      <td>186005</td>\n",
              "      <td>6.0</td>\n",
              "      <td>Automatic</td>\n",
              "      <td>4x4</td>\n",
              "      <td>2</td>\n",
              "      <td>Left wheel</td>\n",
              "      <td>Silver</td>\n",
              "      <td>12</td>\n",
              "    </tr>\n",
              "    <tr>\n",
              "      <th>1</th>\n",
              "      <td>16621</td>\n",
              "      <td>1018</td>\n",
              "      <td>CHEVROLET</td>\n",
              "      <td>Equinox</td>\n",
              "      <td>2011</td>\n",
              "      <td>Jeep</td>\n",
              "      <td>No</td>\n",
              "      <td>Petrol</td>\n",
              "      <td>3.0</td>\n",
              "      <td>192000</td>\n",
              "      <td>6.0</td>\n",
              "      <td>Tiptronic</td>\n",
              "      <td>4x4</td>\n",
              "      <td>2</td>\n",
              "      <td>Left wheel</td>\n",
              "      <td>Black</td>\n",
              "      <td>8</td>\n",
              "    </tr>\n",
              "    <tr>\n",
              "      <th>2</th>\n",
              "      <td>8467</td>\n",
              "      <td>0</td>\n",
              "      <td>HONDA</td>\n",
              "      <td>FIT</td>\n",
              "      <td>2006</td>\n",
              "      <td>Hatchback</td>\n",
              "      <td>No</td>\n",
              "      <td>Petrol</td>\n",
              "      <td>1.3</td>\n",
              "      <td>200000</td>\n",
              "      <td>4.0</td>\n",
              "      <td>Variator</td>\n",
              "      <td>Front</td>\n",
              "      <td>2</td>\n",
              "      <td>Right-hand drive</td>\n",
              "      <td>Black</td>\n",
              "      <td>2</td>\n",
              "    </tr>\n",
              "    <tr>\n",
              "      <th>3</th>\n",
              "      <td>3607</td>\n",
              "      <td>862</td>\n",
              "      <td>FORD</td>\n",
              "      <td>Escape</td>\n",
              "      <td>2011</td>\n",
              "      <td>Jeep</td>\n",
              "      <td>Yes</td>\n",
              "      <td>Hybrid</td>\n",
              "      <td>2.5</td>\n",
              "      <td>168966</td>\n",
              "      <td>4.0</td>\n",
              "      <td>Automatic</td>\n",
              "      <td>4x4</td>\n",
              "      <td>2</td>\n",
              "      <td>Left wheel</td>\n",
              "      <td>White</td>\n",
              "      <td>0</td>\n",
              "    </tr>\n",
              "    <tr>\n",
              "      <th>4</th>\n",
              "      <td>11726</td>\n",
              "      <td>446</td>\n",
              "      <td>HONDA</td>\n",
              "      <td>FIT</td>\n",
              "      <td>2014</td>\n",
              "      <td>Hatchback</td>\n",
              "      <td>Yes</td>\n",
              "      <td>Petrol</td>\n",
              "      <td>1.3</td>\n",
              "      <td>91901</td>\n",
              "      <td>4.0</td>\n",
              "      <td>Automatic</td>\n",
              "      <td>Front</td>\n",
              "      <td>2</td>\n",
              "      <td>Left wheel</td>\n",
              "      <td>Silver</td>\n",
              "      <td>4</td>\n",
              "    </tr>\n",
              "  </tbody>\n",
              "</table>\n",
              "</div>\n",
              "      <button class=\"colab-df-convert\" onclick=\"convertToInteractive('df-60607bfc-0d36-4cbc-a059-fffc0d779388')\"\n",
              "              title=\"Convert this dataframe to an interactive table.\"\n",
              "              style=\"display:none;\">\n",
              "        \n",
              "  <svg xmlns=\"http://www.w3.org/2000/svg\" height=\"24px\"viewBox=\"0 0 24 24\"\n",
              "       width=\"24px\">\n",
              "    <path d=\"M0 0h24v24H0V0z\" fill=\"none\"/>\n",
              "    <path d=\"M18.56 5.44l.94 2.06.94-2.06 2.06-.94-2.06-.94-.94-2.06-.94 2.06-2.06.94zm-11 1L8.5 8.5l.94-2.06 2.06-.94-2.06-.94L8.5 2.5l-.94 2.06-2.06.94zm10 10l.94 2.06.94-2.06 2.06-.94-2.06-.94-.94-2.06-.94 2.06-2.06.94z\"/><path d=\"M17.41 7.96l-1.37-1.37c-.4-.4-.92-.59-1.43-.59-.52 0-1.04.2-1.43.59L10.3 9.45l-7.72 7.72c-.78.78-.78 2.05 0 2.83L4 21.41c.39.39.9.59 1.41.59.51 0 1.02-.2 1.41-.59l7.78-7.78 2.81-2.81c.8-.78.8-2.07 0-2.86zM5.41 20L4 18.59l7.72-7.72 1.47 1.35L5.41 20z\"/>\n",
              "  </svg>\n",
              "      </button>\n",
              "      \n",
              "  <style>\n",
              "    .colab-df-container {\n",
              "      display:flex;\n",
              "      flex-wrap:wrap;\n",
              "      gap: 12px;\n",
              "    }\n",
              "\n",
              "    .colab-df-convert {\n",
              "      background-color: #E8F0FE;\n",
              "      border: none;\n",
              "      border-radius: 50%;\n",
              "      cursor: pointer;\n",
              "      display: none;\n",
              "      fill: #1967D2;\n",
              "      height: 32px;\n",
              "      padding: 0 0 0 0;\n",
              "      width: 32px;\n",
              "    }\n",
              "\n",
              "    .colab-df-convert:hover {\n",
              "      background-color: #E2EBFA;\n",
              "      box-shadow: 0px 1px 2px rgba(60, 64, 67, 0.3), 0px 1px 3px 1px rgba(60, 64, 67, 0.15);\n",
              "      fill: #174EA6;\n",
              "    }\n",
              "\n",
              "    [theme=dark] .colab-df-convert {\n",
              "      background-color: #3B4455;\n",
              "      fill: #D2E3FC;\n",
              "    }\n",
              "\n",
              "    [theme=dark] .colab-df-convert:hover {\n",
              "      background-color: #434B5C;\n",
              "      box-shadow: 0px 1px 3px 1px rgba(0, 0, 0, 0.15);\n",
              "      filter: drop-shadow(0px 1px 2px rgba(0, 0, 0, 0.3));\n",
              "      fill: #FFFFFF;\n",
              "    }\n",
              "  </style>\n",
              "\n",
              "      <script>\n",
              "        const buttonEl =\n",
              "          document.querySelector('#df-60607bfc-0d36-4cbc-a059-fffc0d779388 button.colab-df-convert');\n",
              "        buttonEl.style.display =\n",
              "          google.colab.kernel.accessAllowed ? 'block' : 'none';\n",
              "\n",
              "        async function convertToInteractive(key) {\n",
              "          const element = document.querySelector('#df-60607bfc-0d36-4cbc-a059-fffc0d779388');\n",
              "          const dataTable =\n",
              "            await google.colab.kernel.invokeFunction('convertToInteractive',\n",
              "                                                     [key], {});\n",
              "          if (!dataTable) return;\n",
              "\n",
              "          const docLinkHtml = 'Like what you see? Visit the ' +\n",
              "            '<a target=\"_blank\" href=https://colab.research.google.com/notebooks/data_table.ipynb>data table notebook</a>'\n",
              "            + ' to learn more about interactive tables.';\n",
              "          element.innerHTML = '';\n",
              "          dataTable['output_type'] = 'display_data';\n",
              "          await google.colab.output.renderOutput(dataTable, element);\n",
              "          const docLink = document.createElement('div');\n",
              "          docLink.innerHTML = docLinkHtml;\n",
              "          element.appendChild(docLink);\n",
              "        }\n",
              "      </script>\n",
              "    </div>\n",
              "  </div>\n",
              "  "
            ]
          },
          "metadata": {},
          "execution_count": 37
        }
      ]
    },
    {
      "cell_type": "markdown",
      "source": [
        "A continuación se realizarán las transformaciones de valores atípicos de acuerdo a los requeimientos del negocio previo a la codificación de las columnas."
      ],
      "metadata": {
        "id": "jaUa_ACafTnd"
      }
    },
    {
      "cell_type": "markdown",
      "source": [
        "## Valores atípicos"
      ],
      "metadata": {
        "id": "M4vG1yQKP-Lb"
      }
    },
    {
      "cell_type": "markdown",
      "source": [
        "### Columna `Levy`"
      ],
      "metadata": {
        "id": "FxAFJYOoSLnW"
      }
    },
    {
      "cell_type": "code",
      "source": [
        "processed_df.shape"
      ],
      "metadata": {
        "colab": {
          "base_uri": "https://localhost:8080/"
        },
        "id": "8Ik8-s93Y4bp",
        "outputId": "59768a28-c9c0-40b4-ae85-8471427e0834"
      },
      "execution_count": 38,
      "outputs": [
        {
          "output_type": "execute_result",
          "data": {
            "text/plain": [
              "(15725, 17)"
            ]
          },
          "metadata": {},
          "execution_count": 38
        }
      ]
    },
    {
      "cell_type": "code",
      "source": [
        "sns.histplot(data=processed_df, x='Levy').set(title='Box Plot de Levy')"
      ],
      "metadata": {
        "colab": {
          "base_uri": "https://localhost:8080/",
          "height": 312
        },
        "id": "ml6llpC2YVxU",
        "outputId": "89d56d48-0e53-4440-e2d6-f309eb5e6061"
      },
      "execution_count": 39,
      "outputs": [
        {
          "output_type": "execute_result",
          "data": {
            "text/plain": [
              "[Text(0.5, 1.0, 'Box Plot de Levy')]"
            ]
          },
          "metadata": {},
          "execution_count": 39
        },
        {
          "output_type": "display_data",
          "data": {
            "text/plain": [
              "<Figure size 432x288 with 1 Axes>"
            ],
            "image/png": "[encoded data removed]"
          },
          "metadata": {
            "needs_background": "light"
          }
        }
      ]
    },
    {
      "cell_type": "code",
      "source": [
        "sns.boxplot(data=processed_df, x='Levy').set(title='Box Plot de Levy')"
      ],
      "metadata": {
        "colab": {
          "base_uri": "https://localhost:8080/",
          "height": 312
        },
        "id": "SrbeNArDQAYI",
        "outputId": "c426002f-1c02-49b1-a310-c4ac69c4ecdb"
      },
      "execution_count": 40,
      "outputs": [
        {
          "output_type": "execute_result",
          "data": {
            "text/plain": [
              "[Text(0.5, 1.0, 'Box Plot de Levy')]"
            ]
          },
          "metadata": {},
          "execution_count": 40
        },
        {
          "output_type": "display_data",
          "data": {
            "text/plain": [
              "<Figure size 432x288 with 1 Axes>"
            ],
            "image/png": "[encoded data removed]"
          },
          "metadata": {
            "needs_background": "light"
          }
        }
      ]
    },
    {
      "cell_type": "markdown",
      "source": [
        "De acuerdo a la gráfica anterior tenemos outliers con valores altos de Levy. Para tratar de no sesgar tanto el modelo, imputaremos a estos valores la media de la columna."
      ],
      "metadata": {
        "id": "UAppEF7JfnxJ"
      }
    },
    {
      "cell_type": "code",
      "source": [
        "def remove_outlier_IQR(df, column):\n",
        "    Q1=df[column].quantile(0.25)\n",
        "    Q3=df[column].quantile(0.75)\n",
        "    IQR=Q3-Q1\n",
        "    return [(Q1-1.5*IQR), (Q3+1.5*IQR)]\n",
        "lim_lower_outliers, lim_upper_outliers = remove_outlier_IQR(processed_df, 'Levy')\n",
        "lim_upper_outliers"
      ],
      "metadata": {
        "colab": {
          "base_uri": "https://localhost:8080/"
        },
        "id": "qPgNFDNbQORQ",
        "outputId": "3bfd2d3e-2110-4131-d605-7fb698eb20d1"
      },
      "execution_count": 41,
      "outputs": [
        {
          "output_type": "execute_result",
          "data": {
            "text/plain": [
              "2155.0"
            ]
          },
          "metadata": {},
          "execution_count": 41
        }
      ]
    },
    {
      "cell_type": "code",
      "source": [
        "processed_df.loc[processed_df['Levy'] >= lim_upper_outliers, 'Levy'] = processed_df['Levy'].median()"
      ],
      "metadata": {
        "id": "CC1OM5HZQndZ"
      },
      "execution_count": 42,
      "outputs": []
    },
    {
      "cell_type": "code",
      "source": [
        "sns.boxplot(data=processed_df, x='Levy').set(title='Box Plot de Levy')"
      ],
      "metadata": {
        "colab": {
          "base_uri": "https://localhost:8080/",
          "height": 312
        },
        "id": "QVucto9TR7p2",
        "outputId": "fdd9e086-509e-4947-bbd7-7516770040f1"
      },
      "execution_count": 43,
      "outputs": [
        {
          "output_type": "execute_result",
          "data": {
            "text/plain": [
              "[Text(0.5, 1.0, 'Box Plot de Levy')]"
            ]
          },
          "metadata": {},
          "execution_count": 43
        },
        {
          "output_type": "display_data",
          "data": {
            "text/plain": [
              "<Figure size 432x288 with 1 Axes>"
            ],
            "image/png": "[encoded data removed]"
          },
          "metadata": {
            "needs_background": "light"
          }
        }
      ]
    },
    {
      "cell_type": "markdown",
      "source": [
        "### Columna `Prod. year`"
      ],
      "metadata": {
        "id": "N7ZjUxlnSP-f"
      }
    },
    {
      "cell_type": "code",
      "source": [
        "sns.boxplot(data=processed_df, x='Prod. year').set(title='Box Plot de Prod. year')"
      ],
      "metadata": {
        "colab": {
          "base_uri": "https://localhost:8080/",
          "height": 312
        },
        "id": "2SMXKr7DSRaq",
        "outputId": "156ef752-77ba-499c-cff8-0dbcdc10d2dc"
      },
      "execution_count": 44,
      "outputs": [
        {
          "output_type": "execute_result",
          "data": {
            "text/plain": [
              "[Text(0.5, 1.0, 'Box Plot de Prod. year')]"
            ]
          },
          "metadata": {},
          "execution_count": 44
        },
        {
          "output_type": "display_data",
          "data": {
            "text/plain": [
              "<Figure size 432x288 with 1 Axes>"
            ],
            "image/png": "[encoded data removed]"
          },
          "metadata": {
            "needs_background": "light"
          }
        }
      ]
    },
    {
      "cell_type": "markdown",
      "source": [
        "Como restricción de negocio tenemos que no se aceptarán datos por debajo del año de 1995, dado que la empresa está enfocada en automóviles relativamente nuevos."
      ],
      "metadata": {
        "id": "yTxONsmiZbJg"
      }
    },
    {
      "cell_type": "code",
      "source": [
        "processed_df = processed_df[processed_df['Prod. year'] > 1994]"
      ],
      "metadata": {
        "id": "NoGS3M1WZdXL"
      },
      "execution_count": 45,
      "outputs": []
    },
    {
      "cell_type": "markdown",
      "source": [
        "### Columna `Mileage`"
      ],
      "metadata": {
        "id": "9x0GbiWgSqtz"
      }
    },
    {
      "cell_type": "code",
      "source": [
        "sns.boxplot(data=processed_df, x='Mileage').set(title='Box Plot de Mileage')"
      ],
      "metadata": {
        "id": "gMVqoGgR0gfD",
        "colab": {
          "base_uri": "https://localhost:8080/",
          "height": 312
        },
        "outputId": "c59f4f74-f0ba-4d93-a1f6-39ac5ba79c84"
      },
      "execution_count": 46,
      "outputs": [
        {
          "output_type": "execute_result",
          "data": {
            "text/plain": [
              "[Text(0.5, 1.0, 'Box Plot de Mileage')]"
            ]
          },
          "metadata": {},
          "execution_count": 46
        },
        {
          "output_type": "display_data",
          "data": {
            "text/plain": [
              "<Figure size 432x288 with 1 Axes>"
            ],
            "image/png": "[encoded data removed]"
          },
          "metadata": {
            "needs_background": "light"
          }
        }
      ]
    },
    {
      "cell_type": "code",
      "source": [
        "processed_df[processed_df['Mileage'] > 5e8]"
      ],
      "metadata": {
        "colab": {
          "base_uri": "https://localhost:8080/",
          "height": 717
        },
        "id": "6IG1PalccaKJ",
        "outputId": "b6218707-100a-45bb-d503-6a770189a72f"
      },
      "execution_count": 47,
      "outputs": [
        {
          "output_type": "execute_result",
          "data": {
            "text/plain": [
              "       Price  Levy   Manufacturer     Model  Prod. year   Category  \\\n",
              "985     2700     0           OPEL    Vectra        1997      Sedan   \n",
              "2278    6899     0     VOLKSWAGEN      Golf        1999      Sedan   \n",
              "5456   12544     0         NISSAN   X-Terra        2004       Jeep   \n",
              "6157    5959     0  MERCEDES-BENZ     C 180        1995      Sedan   \n",
              "7724    4800     0           OPEL     Corsa        1999      Sedan   \n",
              "9524      50     0         TOYOTA     Prius        2011  Hatchback   \n",
              "10667   6476     0         NISSAN      Note        2008  Hatchback   \n",
              "11901  10036     0         SUBARU  Forester        2005       Jeep   \n",
              "12591   2600  1529           OPEL    Vectra        1995      Sedan   \n",
              "12904   4077     0     VOLKSWAGEN      Golf        1997  Hatchback   \n",
              "15347      3     0            BMW       525        1995      Sedan   \n",
              "15393  15681     0         TOYOTA     Prius        2008      Sedan   \n",
              "16586  14113     0            BMW       328        2007      Sedan   \n",
              "17582   4234     0  MERCEDES-BENZ     E 200        2001      Sedan   \n",
              "19167  18817  1995           FORD   Transit        2003   Microbus   \n",
              "19199   3763     0  MERCEDES-BENZ     C 180        1995      Sedan   \n",
              "\n",
              "      Leather interior Fuel type  Engine volume     Mileage  Cylinders  \\\n",
              "985                 No       CNG            1.6   777777777        4.0   \n",
              "2278                No    Petrol            1.6  2147483647        4.0   \n",
              "5456                No       CNG            3.3   999999999        6.0   \n",
              "6157                No       CNG            1.8  2147483647        4.0   \n",
              "7724                No    Petrol            1.2  1234567899        4.0   \n",
              "9524                No    Hybrid            1.8  1111111111        4.0   \n",
              "10667               No       CNG            1.5   999999999        4.0   \n",
              "11901               No    Petrol            2.0  2147483647        4.0   \n",
              "12591               No       CNG            1.8   999999999        4.0   \n",
              "12904               No       CNG            1.8   999999999        4.0   \n",
              "15347               No    Petrol            2.8  2147483647        6.0   \n",
              "15393               No    Petrol            2.0  2147483647        4.0   \n",
              "16586              Yes    Petrol            3.0   999999999        6.0   \n",
              "17582              Yes       CNG            2.6  1777777778        6.0   \n",
              "19167               No    Diesel            2.4  2147483647        4.0   \n",
              "19199               No    Petrol            1.8  1111111111        5.0   \n",
              "\n",
              "      Gear box type Drive wheels  Doors             Wheel          Color  \\\n",
              "985       Automatic        Front      2        Left wheel          Beige   \n",
              "2278         Manual        Front      2        Left wheel          Black   \n",
              "5456      Tiptronic          4x4      2        Left wheel          Black   \n",
              "6157         Manual         Rear      2        Left wheel           Blue   \n",
              "7724         Manual        Front      2        Left wheel         Silver   \n",
              "9524      Automatic        Front      2        Left wheel          White   \n",
              "10667     Automatic          4x4      2  Right-hand drive          Black   \n",
              "11901     Tiptronic          4x4      2  Right-hand drive          White   \n",
              "12591        Manual        Front      2        Left wheel          Green   \n",
              "12904        Manual        Front      2        Left wheel  Carnelian red   \n",
              "15347        Manual         Rear      2        Left wheel          Black   \n",
              "15393     Automatic        Front      2        Left wheel           Blue   \n",
              "16586     Tiptronic         Rear      2        Left wheel         Silver   \n",
              "17582     Tiptronic         Rear      2  Right-hand drive          Black   \n",
              "19167        Manual        Front      1        Left wheel          White   \n",
              "19199        Manual         Rear      2  Right-hand drive          Green   \n",
              "\n",
              "       Airbags  \n",
              "985          2  \n",
              "2278         4  \n",
              "5456         8  \n",
              "6157         5  \n",
              "7724         2  \n",
              "9524         6  \n",
              "10667        0  \n",
              "11901       12  \n",
              "12591        4  \n",
              "12904        0  \n",
              "15347        3  \n",
              "15393        0  \n",
              "16586       16  \n",
              "17582       10  \n",
              "19167        2  \n",
              "19199        2  "
            ],
            "text/html": [
              "\n",
              "  <div id=\"df-166c7528-a060-40a1-81e3-474bb69226bc\">\n",
              "    <div class=\"colab-df-container\">\n",
              "      <div>\n",
              "<style scoped>\n",
              "    .dataframe tbody tr th:only-of-type {\n",
              "        vertical-align: middle;\n",
              "    }\n",
              "\n",
              "    .dataframe tbody tr th {\n",
              "        vertical-align: top;\n",
              "    }\n",
              "\n",
              "    .dataframe thead th {\n",
              "        text-align: right;\n",
              "    }\n",
              "</style>\n",
              "<table border=\"1\" class=\"dataframe\">\n",
              "  <thead>\n",
              "    <tr style=\"text-align: right;\">\n",
              "      <th></th>\n",
              "      <th>Price</th>\n",
              "      <th>Levy</th>\n",
              "      <th>Manufacturer</th>\n",
              "      <th>Model</th>\n",
              "      <th>Prod. year</th>\n",
              "      <th>Category</th>\n",
              "      <th>Leather interior</th>\n",
              "      <th>Fuel type</th>\n",
              "      <th>Engine volume</th>\n",
              "      <th>Mileage</th>\n",
              "      <th>Cylinders</th>\n",
              "      <th>Gear box type</th>\n",
              "      <th>Drive wheels</th>\n",
              "      <th>Doors</th>\n",
              "      <th>Wheel</th>\n",
              "      <th>Color</th>\n",
              "      <th>Airbags</th>\n",
              "    </tr>\n",
              "  </thead>\n",
              "  <tbody>\n",
              "    <tr>\n",
              "      <th>985</th>\n",
              "      <td>2700</td>\n",
              "      <td>0</td>\n",
              "      <td>OPEL</td>\n",
              "      <td>Vectra</td>\n",
              "      <td>1997</td>\n",
              "      <td>Sedan</td>\n",
              "      <td>No</td>\n",
              "      <td>CNG</td>\n",
              "      <td>1.6</td>\n",
              "      <td>777777777</td>\n",
              "      <td>4.0</td>\n",
              "      <td>Automatic</td>\n",
              "      <td>Front</td>\n",
              "      <td>2</td>\n",
              "      <td>Left wheel</td>\n",
              "      <td>Beige</td>\n",
              "      <td>2</td>\n",
              "    </tr>\n",
              "    <tr>\n",
              "      <th>2278</th>\n",
              "      <td>6899</td>\n",
              "      <td>0</td>\n",
              "      <td>VOLKSWAGEN</td>\n",
              "      <td>Golf</td>\n",
              "      <td>1999</td>\n",
              "      <td>Sedan</td>\n",
              "      <td>No</td>\n",
              "      <td>Petrol</td>\n",
              "      <td>1.6</td>\n",
              "      <td>2147483647</td>\n",
              "      <td>4.0</td>\n",
              "      <td>Manual</td>\n",
              "      <td>Front</td>\n",
              "      <td>2</td>\n",
              "      <td>Left wheel</td>\n",
              "      <td>Black</td>\n",
              "      <td>4</td>\n",
              "    </tr>\n",
              "    <tr>\n",
              "      <th>5456</th>\n",
              "      <td>12544</td>\n",
              "      <td>0</td>\n",
              "      <td>NISSAN</td>\n",
              "      <td>X-Terra</td>\n",
              "      <td>2004</td>\n",
              "      <td>Jeep</td>\n",
              "      <td>No</td>\n",
              "      <td>CNG</td>\n",
              "      <td>3.3</td>\n",
              "      <td>999999999</td>\n",
              "      <td>6.0</td>\n",
              "      <td>Tiptronic</td>\n",
              "      <td>4x4</td>\n",
              "      <td>2</td>\n",
              "      <td>Left wheel</td>\n",
              "      <td>Black</td>\n",
              "      <td>8</td>\n",
              "    </tr>\n",
              "    <tr>\n",
              "      <th>6157</th>\n",
              "      <td>5959</td>\n",
              "      <td>0</td>\n",
              "      <td>MERCEDES-BENZ</td>\n",
              "      <td>C 180</td>\n",
              "      <td>1995</td>\n",
              "      <td>Sedan</td>\n",
              "      <td>No</td>\n",
              "      <td>CNG</td>\n",
              "      <td>1.8</td>\n",
              "      <td>2147483647</td>\n",
              "      <td>4.0</td>\n",
              "      <td>Manual</td>\n",
              "      <td>Rear</td>\n",
              "      <td>2</td>\n",
              "      <td>Left wheel</td>\n",
              "      <td>Blue</td>\n",
              "      <td>5</td>\n",
              "    </tr>\n",
              "    <tr>\n",
              "      <th>7724</th>\n",
              "      <td>4800</td>\n",
              "      <td>0</td>\n",
              "      <td>OPEL</td>\n",
              "      <td>Corsa</td>\n",
              "      <td>1999</td>\n",
              "      <td>Sedan</td>\n",
              "      <td>No</td>\n",
              "      <td>Petrol</td>\n",
              "      <td>1.2</td>\n",
              "      <td>1234567899</td>\n",
              "      <td>4.0</td>\n",
              "      <td>Manual</td>\n",
              "      <td>Front</td>\n",
              "      <td>2</td>\n",
              "      <td>Left wheel</td>\n",
              "      <td>Silver</td>\n",
              "      <td>2</td>\n",
              "    </tr>\n",
              "    <tr>\n",
              "      <th>9524</th>\n",
              "      <td>50</td>\n",
              "      <td>0</td>\n",
              "      <td>TOYOTA</td>\n",
              "      <td>Prius</td>\n",
              "      <td>2011</td>\n",
              "      <td>Hatchback</td>\n",
              "      <td>No</td>\n",
              "      <td>Hybrid</td>\n",
              "      <td>1.8</td>\n",
              "      <td>1111111111</td>\n",
              "      <td>4.0</td>\n",
              "      <td>Automatic</td>\n",
              "      <td>Front</td>\n",
              "      <td>2</td>\n",
              "      <td>Left wheel</td>\n",
              "      <td>White</td>\n",
              "      <td>6</td>\n",
              "    </tr>\n",
              "    <tr>\n",
              "      <th>10667</th>\n",
              "      <td>6476</td>\n",
              "      <td>0</td>\n",
              "      <td>NISSAN</td>\n",
              "      <td>Note</td>\n",
              "      <td>2008</td>\n",
              "      <td>Hatchback</td>\n",
              "      <td>No</td>\n",
              "      <td>CNG</td>\n",
              "      <td>1.5</td>\n",
              "      <td>999999999</td>\n",
              "      <td>4.0</td>\n",
              "      <td>Automatic</td>\n",
              "      <td>4x4</td>\n",
              "      <td>2</td>\n",
              "      <td>Right-hand drive</td>\n",
              "      <td>Black</td>\n",
              "      <td>0</td>\n",
              "    </tr>\n",
              "    <tr>\n",
              "      <th>11901</th>\n",
              "      <td>10036</td>\n",
              "      <td>0</td>\n",
              "      <td>SUBARU</td>\n",
              "      <td>Forester</td>\n",
              "      <td>2005</td>\n",
              "      <td>Jeep</td>\n",
              "      <td>No</td>\n",
              "      <td>Petrol</td>\n",
              "      <td>2.0</td>\n",
              "      <td>2147483647</td>\n",
              "      <td>4.0</td>\n",
              "      <td>Tiptronic</td>\n",
              "      <td>4x4</td>\n",
              "      <td>2</td>\n",
              "      <td>Right-hand drive</td>\n",
              "      <td>White</td>\n",
              "      <td>12</td>\n",
              "    </tr>\n",
              "    <tr>\n",
              "      <th>12591</th>\n",
              "      <td>2600</td>\n",
              "      <td>1529</td>\n",
              "      <td>OPEL</td>\n",
              "      <td>Vectra</td>\n",
              "      <td>1995</td>\n",
              "      <td>Sedan</td>\n",
              "      <td>No</td>\n",
              "      <td>CNG</td>\n",
              "      <td>1.8</td>\n",
              "      <td>999999999</td>\n",
              "      <td>4.0</td>\n",
              "      <td>Manual</td>\n",
              "      <td>Front</td>\n",
              "      <td>2</td>\n",
              "      <td>Left wheel</td>\n",
              "      <td>Green</td>\n",
              "      <td>4</td>\n",
              "    </tr>\n",
              "    <tr>\n",
              "      <th>12904</th>\n",
              "      <td>4077</td>\n",
              "      <td>0</td>\n",
              "      <td>VOLKSWAGEN</td>\n",
              "      <td>Golf</td>\n",
              "      <td>1997</td>\n",
              "      <td>Hatchback</td>\n",
              "      <td>No</td>\n",
              "      <td>CNG</td>\n",
              "      <td>1.8</td>\n",
              "      <td>999999999</td>\n",
              "      <td>4.0</td>\n",
              "      <td>Manual</td>\n",
              "      <td>Front</td>\n",
              "      <td>2</td>\n",
              "      <td>Left wheel</td>\n",
              "      <td>Carnelian red</td>\n",
              "      <td>0</td>\n",
              "    </tr>\n",
              "    <tr>\n",
              "      <th>15347</th>\n",
              "      <td>3</td>\n",
              "      <td>0</td>\n",
              "      <td>BMW</td>\n",
              "      <td>525</td>\n",
              "      <td>1995</td>\n",
              "      <td>Sedan</td>\n",
              "      <td>No</td>\n",
              "      <td>Petrol</td>\n",
              "      <td>2.8</td>\n",
              "      <td>2147483647</td>\n",
              "      <td>6.0</td>\n",
              "      <td>Manual</td>\n",
              "      <td>Rear</td>\n",
              "      <td>2</td>\n",
              "      <td>Left wheel</td>\n",
              "      <td>Black</td>\n",
              "      <td>3</td>\n",
              "    </tr>\n",
              "    <tr>\n",
              "      <th>15393</th>\n",
              "      <td>15681</td>\n",
              "      <td>0</td>\n",
              "      <td>TOYOTA</td>\n",
              "      <td>Prius</td>\n",
              "      <td>2008</td>\n",
              "      <td>Sedan</td>\n",
              "      <td>No</td>\n",
              "      <td>Petrol</td>\n",
              "      <td>2.0</td>\n",
              "      <td>2147483647</td>\n",
              "      <td>4.0</td>\n",
              "      <td>Automatic</td>\n",
              "      <td>Front</td>\n",
              "      <td>2</td>\n",
              "      <td>Left wheel</td>\n",
              "      <td>Blue</td>\n",
              "      <td>0</td>\n",
              "    </tr>\n",
              "    <tr>\n",
              "      <th>16586</th>\n",
              "      <td>14113</td>\n",
              "      <td>0</td>\n",
              "      <td>BMW</td>\n",
              "      <td>328</td>\n",
              "      <td>2007</td>\n",
              "      <td>Sedan</td>\n",
              "      <td>Yes</td>\n",
              "      <td>Petrol</td>\n",
              "      <td>3.0</td>\n",
              "      <td>999999999</td>\n",
              "      <td>6.0</td>\n",
              "      <td>Tiptronic</td>\n",
              "      <td>Rear</td>\n",
              "      <td>2</td>\n",
              "      <td>Left wheel</td>\n",
              "      <td>Silver</td>\n",
              "      <td>16</td>\n",
              "    </tr>\n",
              "    <tr>\n",
              "      <th>17582</th>\n",
              "      <td>4234</td>\n",
              "      <td>0</td>\n",
              "      <td>MERCEDES-BENZ</td>\n",
              "      <td>E 200</td>\n",
              "      <td>2001</td>\n",
              "      <td>Sedan</td>\n",
              "      <td>Yes</td>\n",
              "      <td>CNG</td>\n",
              "      <td>2.6</td>\n",
              "      <td>1777777778</td>\n",
              "      <td>6.0</td>\n",
              "      <td>Tiptronic</td>\n",
              "      <td>Rear</td>\n",
              "      <td>2</td>\n",
              "      <td>Right-hand drive</td>\n",
              "      <td>Black</td>\n",
              "      <td>10</td>\n",
              "    </tr>\n",
              "    <tr>\n",
              "      <th>19167</th>\n",
              "      <td>18817</td>\n",
              "      <td>1995</td>\n",
              "      <td>FORD</td>\n",
              "      <td>Transit</td>\n",
              "      <td>2003</td>\n",
              "      <td>Microbus</td>\n",
              "      <td>No</td>\n",
              "      <td>Diesel</td>\n",
              "      <td>2.4</td>\n",
              "      <td>2147483647</td>\n",
              "      <td>4.0</td>\n",
              "      <td>Manual</td>\n",
              "      <td>Front</td>\n",
              "      <td>1</td>\n",
              "      <td>Left wheel</td>\n",
              "      <td>White</td>\n",
              "      <td>2</td>\n",
              "    </tr>\n",
              "    <tr>\n",
              "      <th>19199</th>\n",
              "      <td>3763</td>\n",
              "      <td>0</td>\n",
              "      <td>MERCEDES-BENZ</td>\n",
              "      <td>C 180</td>\n",
              "      <td>1995</td>\n",
              "      <td>Sedan</td>\n",
              "      <td>No</td>\n",
              "      <td>Petrol</td>\n",
              "      <td>1.8</td>\n",
              "      <td>1111111111</td>\n",
              "      <td>5.0</td>\n",
              "      <td>Manual</td>\n",
              "      <td>Rear</td>\n",
              "      <td>2</td>\n",
              "      <td>Right-hand drive</td>\n",
              "      <td>Green</td>\n",
              "      <td>2</td>\n",
              "    </tr>\n",
              "  </tbody>\n",
              "</table>\n",
              "</div>\n",
              "      <button class=\"colab-df-convert\" onclick=\"convertToInteractive('df-166c7528-a060-40a1-81e3-474bb69226bc')\"\n",
              "              title=\"Convert this dataframe to an interactive table.\"\n",
              "              style=\"display:none;\">\n",
              "        \n",
              "  <svg xmlns=\"http://www.w3.org/2000/svg\" height=\"24px\"viewBox=\"0 0 24 24\"\n",
              "       width=\"24px\">\n",
              "    <path d=\"M0 0h24v24H0V0z\" fill=\"none\"/>\n",
              "    <path d=\"M18.56 5.44l.94 2.06.94-2.06 2.06-.94-2.06-.94-.94-2.06-.94 2.06-2.06.94zm-11 1L8.5 8.5l.94-2.06 2.06-.94-2.06-.94L8.5 2.5l-.94 2.06-2.06.94zm10 10l.94 2.06.94-2.06 2.06-.94-2.06-.94-.94-2.06-.94 2.06-2.06.94z\"/><path d=\"M17.41 7.96l-1.37-1.37c-.4-.4-.92-.59-1.43-.59-.52 0-1.04.2-1.43.59L10.3 9.45l-7.72 7.72c-.78.78-.78 2.05 0 2.83L4 21.41c.39.39.9.59 1.41.59.51 0 1.02-.2 1.41-.59l7.78-7.78 2.81-2.81c.8-.78.8-2.07 0-2.86zM5.41 20L4 18.59l7.72-7.72 1.47 1.35L5.41 20z\"/>\n",
              "  </svg>\n",
              "      </button>\n",
              "      \n",
              "  <style>\n",
              "    .colab-df-container {\n",
              "      display:flex;\n",
              "      flex-wrap:wrap;\n",
              "      gap: 12px;\n",
              "    }\n",
              "\n",
              "    .colab-df-convert {\n",
              "      background-color: #E8F0FE;\n",
              "      border: none;\n",
              "      border-radius: 50%;\n",
              "      cursor: pointer;\n",
              "      display: none;\n",
              "      fill: #1967D2;\n",
              "      height: 32px;\n",
              "      padding: 0 0 0 0;\n",
              "      width: 32px;\n",
              "    }\n",
              "\n",
              "    .colab-df-convert:hover {\n",
              "      background-color: #E2EBFA;\n",
              "      box-shadow: 0px 1px 2px rgba(60, 64, 67, 0.3), 0px 1px 3px 1px rgba(60, 64, 67, 0.15);\n",
              "      fill: #174EA6;\n",
              "    }\n",
              "\n",
              "    [theme=dark] .colab-df-convert {\n",
              "      background-color: #3B4455;\n",
              "      fill: #D2E3FC;\n",
              "    }\n",
              "\n",
              "    [theme=dark] .colab-df-convert:hover {\n",
              "      background-color: #434B5C;\n",
              "      box-shadow: 0px 1px 3px 1px rgba(0, 0, 0, 0.15);\n",
              "      filter: drop-shadow(0px 1px 2px rgba(0, 0, 0, 0.3));\n",
              "      fill: #FFFFFF;\n",
              "    }\n",
              "  </style>\n",
              "\n",
              "      <script>\n",
              "        const buttonEl =\n",
              "          document.querySelector('#df-166c7528-a060-40a1-81e3-474bb69226bc button.colab-df-convert');\n",
              "        buttonEl.style.display =\n",
              "          google.colab.kernel.accessAllowed ? 'block' : 'none';\n",
              "\n",
              "        async function convertToInteractive(key) {\n",
              "          const element = document.querySelector('#df-166c7528-a060-40a1-81e3-474bb69226bc');\n",
              "          const dataTable =\n",
              "            await google.colab.kernel.invokeFunction('convertToInteractive',\n",
              "                                                     [key], {});\n",
              "          if (!dataTable) return;\n",
              "\n",
              "          const docLinkHtml = 'Like what you see? Visit the ' +\n",
              "            '<a target=\"_blank\" href=https://colab.research.google.com/notebooks/data_table.ipynb>data table notebook</a>'\n",
              "            + ' to learn more about interactive tables.';\n",
              "          element.innerHTML = '';\n",
              "          dataTable['output_type'] = 'display_data';\n",
              "          await google.colab.output.renderOutput(dataTable, element);\n",
              "          const docLink = document.createElement('div');\n",
              "          docLink.innerHTML = docLinkHtml;\n",
              "          element.appendChild(docLink);\n",
              "        }\n",
              "      </script>\n",
              "    </div>\n",
              "  </div>\n",
              "  "
            ]
          },
          "metadata": {},
          "execution_count": 47
        }
      ]
    },
    {
      "cell_type": "code",
      "source": [
        "processed_df['Mileage'].describe()"
      ],
      "metadata": {
        "colab": {
          "base_uri": "https://localhost:8080/"
        },
        "id": "8XjCHjLjdmkI",
        "outputId": "2214bfb8-30c2-41d5-b64f-e15ccf1de1a6"
      },
      "execution_count": 48,
      "outputs": [
        {
          "output_type": "execute_result",
          "data": {
            "text/plain": [
              "count    1.553500e+04\n",
              "mean     1.716112e+06\n",
              "std      5.103258e+07\n",
              "min      0.000000e+00\n",
              "25%      6.700000e+04\n",
              "50%      1.210000e+05\n",
              "75%      1.800000e+05\n",
              "max      2.147484e+09\n",
              "Name: Mileage, dtype: float64"
            ]
          },
          "metadata": {},
          "execution_count": 48
        }
      ]
    },
    {
      "cell_type": "markdown",
      "source": [
        "De acuerdo al resultado anterior encontramos valores inusualmente altos para el kilometraje. Asimismo, tenemos valores repetidos, o con dígitos repetidos, por lo que se asumirá que es un error de digitación. \\\n",
        "De acuerdo con [records mileage](https://info.westerncentralny.aaa.com/blog/high-mileage-vehicles-racked-millions-miles#:~:text=1966%20Volvo%20P1800%20%2D%203%2C000%2C000%20miles,in%20his%201966%20Volvo%201800S.) el automóvil con mayor kilometraje es de 3 millones de millas, un equivalente a 4.8 millones de km. \\\n",
        "Asimismo, debido a que tenemos valores de 11.111.111 km de kilometraje, \n",
        "se optará por remover los valores por encima de 10 millones de km."
      ],
      "metadata": {
        "id": "s00zJJ3AgV37"
      }
    },
    {
      "cell_type": "code",
      "source": [
        "processed_df = processed_df[processed_df['Mileage'] < 1e7]\n",
        "processed_df.shape"
      ],
      "metadata": {
        "id": "8LPZrKZOcuvG",
        "colab": {
          "base_uri": "https://localhost:8080/"
        },
        "outputId": "85cb5a69-2b5f-4fd6-a6a8-c5c383499371"
      },
      "execution_count": 49,
      "outputs": [
        {
          "output_type": "execute_result",
          "data": {
            "text/plain": [
              "(15507, 17)"
            ]
          },
          "metadata": {},
          "execution_count": 49
        }
      ]
    },
    {
      "cell_type": "markdown",
      "source": [
        "### Columna `Engine volume`"
      ],
      "metadata": {
        "id": "jZ9GsixvUduK"
      }
    },
    {
      "cell_type": "code",
      "source": [
        "sns.boxplot(data=processed_df, x='Engine volume').set(title='Box Plot de Engine volume')"
      ],
      "metadata": {
        "colab": {
          "base_uri": "https://localhost:8080/",
          "height": 312
        },
        "id": "wXLPMPvwUdLe",
        "outputId": "e3a45287-c9e4-4508-c513-8caec84cce3f"
      },
      "execution_count": 50,
      "outputs": [
        {
          "output_type": "execute_result",
          "data": {
            "text/plain": [
              "[Text(0.5, 1.0, 'Box Plot de Engine volume')]"
            ]
          },
          "metadata": {},
          "execution_count": 50
        },
        {
          "output_type": "display_data",
          "data": {
            "text/plain": [
              "<Figure size 432x288 with 1 Axes>"
            ],
            "image/png": "[encoded data removed]"
          },
          "metadata": {
            "needs_background": "light"
          }
        }
      ]
    },
    {
      "cell_type": "markdown",
      "source": [
        "Imputaremos algunos valores atípicos:"
      ],
      "metadata": {
        "id": "PFVlmTjLr3df"
      }
    },
    {
      "cell_type": "code",
      "source": [
        "processed_df[processed_df['Model'] == 'CLK 430']"
      ],
      "metadata": {
        "colab": {
          "base_uri": "https://localhost:8080/",
          "height": 208
        },
        "id": "O6-YlcTOaCTC",
        "outputId": "3528ca50-39ca-451b-8598-f30c1acb3cfd"
      },
      "execution_count": 51,
      "outputs": [
        {
          "output_type": "execute_result",
          "data": {
            "text/plain": [
              "      Price  Levy   Manufacturer    Model  Prod. year   Category  \\\n",
              "1588   7213     0  MERCEDES-BENZ  CLK 430        1999      Coupe   \n",
              "5367   7840   639  MERCEDES-BENZ  CLK 430        2005  Cabriolet   \n",
              "\n",
              "     Leather interior Fuel type  Engine volume  Mileage  Cylinders  \\\n",
              "1588              Yes    Petrol            4.3   115000        8.0   \n",
              "5367               No    Petrol            7.3   156470       12.0   \n",
              "\n",
              "     Gear box type Drive wheels  Doors       Wheel   Color  Airbags  \n",
              "1588     Tiptronic         Rear      1  Left wheel  Silver        4  \n",
              "5367     Automatic         Rear      2  Left wheel   Black       12  "
            ],
            "text/html": [
              "\n",
              "  <div id=\"df-4878d75c-eefd-4d38-aa71-001f89455f5b\">\n",
              "    <div class=\"colab-df-container\">\n",
              "      <div>\n",
              "<style scoped>\n",
              "    .dataframe tbody tr th:only-of-type {\n",
              "        vertical-align: middle;\n",
              "    }\n",
              "\n",
              "    .dataframe tbody tr th {\n",
              "        vertical-align: top;\n",
              "    }\n",
              "\n",
              "    .dataframe thead th {\n",
              "        text-align: right;\n",
              "    }\n",
              "</style>\n",
              "<table border=\"1\" class=\"dataframe\">\n",
              "  <thead>\n",
              "    <tr style=\"text-align: right;\">\n",
              "      <th></th>\n",
              "      <th>Price</th>\n",
              "      <th>Levy</th>\n",
              "      <th>Manufacturer</th>\n",
              "      <th>Model</th>\n",
              "      <th>Prod. year</th>\n",
              "      <th>Category</th>\n",
              "      <th>Leather interior</th>\n",
              "      <th>Fuel type</th>\n",
              "      <th>Engine volume</th>\n",
              "      <th>Mileage</th>\n",
              "      <th>Cylinders</th>\n",
              "      <th>Gear box type</th>\n",
              "      <th>Drive wheels</th>\n",
              "      <th>Doors</th>\n",
              "      <th>Wheel</th>\n",
              "      <th>Color</th>\n",
              "      <th>Airbags</th>\n",
              "    </tr>\n",
              "  </thead>\n",
              "  <tbody>\n",
              "    <tr>\n",
              "      <th>1588</th>\n",
              "      <td>7213</td>\n",
              "      <td>0</td>\n",
              "      <td>MERCEDES-BENZ</td>\n",
              "      <td>CLK 430</td>\n",
              "      <td>1999</td>\n",
              "      <td>Coupe</td>\n",
              "      <td>Yes</td>\n",
              "      <td>Petrol</td>\n",
              "      <td>4.3</td>\n",
              "      <td>115000</td>\n",
              "      <td>8.0</td>\n",
              "      <td>Tiptronic</td>\n",
              "      <td>Rear</td>\n",
              "      <td>1</td>\n",
              "      <td>Left wheel</td>\n",
              "      <td>Silver</td>\n",
              "      <td>4</td>\n",
              "    </tr>\n",
              "    <tr>\n",
              "      <th>5367</th>\n",
              "      <td>7840</td>\n",
              "      <td>639</td>\n",
              "      <td>MERCEDES-BENZ</td>\n",
              "      <td>CLK 430</td>\n",
              "      <td>2005</td>\n",
              "      <td>Cabriolet</td>\n",
              "      <td>No</td>\n",
              "      <td>Petrol</td>\n",
              "      <td>7.3</td>\n",
              "      <td>156470</td>\n",
              "      <td>12.0</td>\n",
              "      <td>Automatic</td>\n",
              "      <td>Rear</td>\n",
              "      <td>2</td>\n",
              "      <td>Left wheel</td>\n",
              "      <td>Black</td>\n",
              "      <td>12</td>\n",
              "    </tr>\n",
              "  </tbody>\n",
              "</table>\n",
              "</div>\n",
              "      <button class=\"colab-df-convert\" onclick=\"convertToInteractive('df-4878d75c-eefd-4d38-aa71-001f89455f5b')\"\n",
              "              title=\"Convert this dataframe to an interactive table.\"\n",
              "              style=\"display:none;\">\n",
              "        \n",
              "  <svg xmlns=\"http://www.w3.org/2000/svg\" height=\"24px\"viewBox=\"0 0 24 24\"\n",
              "       width=\"24px\">\n",
              "    <path d=\"M0 0h24v24H0V0z\" fill=\"none\"/>\n",
              "    <path d=\"M18.56 5.44l.94 2.06.94-2.06 2.06-.94-2.06-.94-.94-2.06-.94 2.06-2.06.94zm-11 1L8.5 8.5l.94-2.06 2.06-.94-2.06-.94L8.5 2.5l-.94 2.06-2.06.94zm10 10l.94 2.06.94-2.06 2.06-.94-2.06-.94-.94-2.06-.94 2.06-2.06.94z\"/><path d=\"M17.41 7.96l-1.37-1.37c-.4-.4-.92-.59-1.43-.59-.52 0-1.04.2-1.43.59L10.3 9.45l-7.72 7.72c-.78.78-.78 2.05 0 2.83L4 21.41c.39.39.9.59 1.41.59.51 0 1.02-.2 1.41-.59l7.78-7.78 2.81-2.81c.8-.78.8-2.07 0-2.86zM5.41 20L4 18.59l7.72-7.72 1.47 1.35L5.41 20z\"/>\n",
              "  </svg>\n",
              "      </button>\n",
              "      \n",
              "  <style>\n",
              "    .colab-df-container {\n",
              "      display:flex;\n",
              "      flex-wrap:wrap;\n",
              "      gap: 12px;\n",
              "    }\n",
              "\n",
              "    .colab-df-convert {\n",
              "      background-color: #E8F0FE;\n",
              "      border: none;\n",
              "      border-radius: 50%;\n",
              "      cursor: pointer;\n",
              "      display: none;\n",
              "      fill: #1967D2;\n",
              "      height: 32px;\n",
              "      padding: 0 0 0 0;\n",
              "      width: 32px;\n",
              "    }\n",
              "\n",
              "    .colab-df-convert:hover {\n",
              "      background-color: #E2EBFA;\n",
              "      box-shadow: 0px 1px 2px rgba(60, 64, 67, 0.3), 0px 1px 3px 1px rgba(60, 64, 67, 0.15);\n",
              "      fill: #174EA6;\n",
              "    }\n",
              "\n",
              "    [theme=dark] .colab-df-convert {\n",
              "      background-color: #3B4455;\n",
              "      fill: #D2E3FC;\n",
              "    }\n",
              "\n",
              "    [theme=dark] .colab-df-convert:hover {\n",
              "      background-color: #434B5C;\n",
              "      box-shadow: 0px 1px 3px 1px rgba(0, 0, 0, 0.15);\n",
              "      filter: drop-shadow(0px 1px 2px rgba(0, 0, 0, 0.3));\n",
              "      fill: #FFFFFF;\n",
              "    }\n",
              "  </style>\n",
              "\n",
              "      <script>\n",
              "        const buttonEl =\n",
              "          document.querySelector('#df-4878d75c-eefd-4d38-aa71-001f89455f5b button.colab-df-convert');\n",
              "        buttonEl.style.display =\n",
              "          google.colab.kernel.accessAllowed ? 'block' : 'none';\n",
              "\n",
              "        async function convertToInteractive(key) {\n",
              "          const element = document.querySelector('#df-4878d75c-eefd-4d38-aa71-001f89455f5b');\n",
              "          const dataTable =\n",
              "            await google.colab.kernel.invokeFunction('convertToInteractive',\n",
              "                                                     [key], {});\n",
              "          if (!dataTable) return;\n",
              "\n",
              "          const docLinkHtml = 'Like what you see? Visit the ' +\n",
              "            '<a target=\"_blank\" href=https://colab.research.google.com/notebooks/data_table.ipynb>data table notebook</a>'\n",
              "            + ' to learn more about interactive tables.';\n",
              "          element.innerHTML = '';\n",
              "          dataTable['output_type'] = 'display_data';\n",
              "          await google.colab.output.renderOutput(dataTable, element);\n",
              "          const docLink = document.createElement('div');\n",
              "          docLink.innerHTML = docLinkHtml;\n",
              "          element.appendChild(docLink);\n",
              "        }\n",
              "      </script>\n",
              "    </div>\n",
              "  </div>\n",
              "  "
            ]
          },
          "metadata": {},
          "execution_count": 51
        }
      ]
    },
    {
      "cell_type": "code",
      "source": [
        "processed_df.loc[processed_df['Model'] == 'CLK 430', 'Model'] = 4.3"
      ],
      "metadata": {
        "id": "dqGT-IKjpYU5"
      },
      "execution_count": 52,
      "outputs": []
    },
    {
      "cell_type": "markdown",
      "source": [],
      "metadata": {
        "id": "CBblOeHRcRwA"
      }
    },
    {
      "cell_type": "code",
      "source": [
        "processed_df[processed_df['Engine volume'] == 20]"
      ],
      "metadata": {
        "colab": {
          "base_uri": "https://localhost:8080/",
          "height": 159
        },
        "id": "bDosw_EYbQdi",
        "outputId": "027a5426-35cb-412d-e9c4-3831917cddbd"
      },
      "execution_count": 53,
      "outputs": [
        {
          "output_type": "execute_result",
          "data": {
            "text/plain": [
              "      Price  Levy Manufacturer   Model  Prod. year Category Leather interior  \\\n",
              "2357  10036   639      HYUNDAI  Sonata        2014    Sedan              Yes   \n",
              "\n",
              "     Fuel type  Engine volume  Mileage  Cylinders Gear box type Drive wheels  \\\n",
              "2357       LPG           20.0   333686        4.0     Automatic        Front   \n",
              "\n",
              "      Doors       Wheel   Color  Airbags  \n",
              "2357      2  Left wheel  Silver        4  "
            ],
            "text/html": [
              "\n",
              "  <div id=\"df-bd7a2a0c-3b7e-446a-a694-3a9bcf956412\">\n",
              "    <div class=\"colab-df-container\">\n",
              "      <div>\n",
              "<style scoped>\n",
              "    .dataframe tbody tr th:only-of-type {\n",
              "        vertical-align: middle;\n",
              "    }\n",
              "\n",
              "    .dataframe tbody tr th {\n",
              "        vertical-align: top;\n",
              "    }\n",
              "\n",
              "    .dataframe thead th {\n",
              "        text-align: right;\n",
              "    }\n",
              "</style>\n",
              "<table border=\"1\" class=\"dataframe\">\n",
              "  <thead>\n",
              "    <tr style=\"text-align: right;\">\n",
              "      <th></th>\n",
              "      <th>Price</th>\n",
              "      <th>Levy</th>\n",
              "      <th>Manufacturer</th>\n",
              "      <th>Model</th>\n",
              "      <th>Prod. year</th>\n",
              "      <th>Category</th>\n",
              "      <th>Leather interior</th>\n",
              "      <th>Fuel type</th>\n",
              "      <th>Engine volume</th>\n",
              "      <th>Mileage</th>\n",
              "      <th>Cylinders</th>\n",
              "      <th>Gear box type</th>\n",
              "      <th>Drive wheels</th>\n",
              "      <th>Doors</th>\n",
              "      <th>Wheel</th>\n",
              "      <th>Color</th>\n",
              "      <th>Airbags</th>\n",
              "    </tr>\n",
              "  </thead>\n",
              "  <tbody>\n",
              "    <tr>\n",
              "      <th>2357</th>\n",
              "      <td>10036</td>\n",
              "      <td>639</td>\n",
              "      <td>HYUNDAI</td>\n",
              "      <td>Sonata</td>\n",
              "      <td>2014</td>\n",
              "      <td>Sedan</td>\n",
              "      <td>Yes</td>\n",
              "      <td>LPG</td>\n",
              "      <td>20.0</td>\n",
              "      <td>333686</td>\n",
              "      <td>4.0</td>\n",
              "      <td>Automatic</td>\n",
              "      <td>Front</td>\n",
              "      <td>2</td>\n",
              "      <td>Left wheel</td>\n",
              "      <td>Silver</td>\n",
              "      <td>4</td>\n",
              "    </tr>\n",
              "  </tbody>\n",
              "</table>\n",
              "</div>\n",
              "      <button class=\"colab-df-convert\" onclick=\"convertToInteractive('df-bd7a2a0c-3b7e-446a-a694-3a9bcf956412')\"\n",
              "              title=\"Convert this dataframe to an interactive table.\"\n",
              "              style=\"display:none;\">\n",
              "        \n",
              "  <svg xmlns=\"http://www.w3.org/2000/svg\" height=\"24px\"viewBox=\"0 0 24 24\"\n",
              "       width=\"24px\">\n",
              "    <path d=\"M0 0h24v24H0V0z\" fill=\"none\"/>\n",
              "    <path d=\"M18.56 5.44l.94 2.06.94-2.06 2.06-.94-2.06-.94-.94-2.06-.94 2.06-2.06.94zm-11 1L8.5 8.5l.94-2.06 2.06-.94-2.06-.94L8.5 2.5l-.94 2.06-2.06.94zm10 10l.94 2.06.94-2.06 2.06-.94-2.06-.94-.94-2.06-.94 2.06-2.06.94z\"/><path d=\"M17.41 7.96l-1.37-1.37c-.4-.4-.92-.59-1.43-.59-.52 0-1.04.2-1.43.59L10.3 9.45l-7.72 7.72c-.78.78-.78 2.05 0 2.83L4 21.41c.39.39.9.59 1.41.59.51 0 1.02-.2 1.41-.59l7.78-7.78 2.81-2.81c.8-.78.8-2.07 0-2.86zM5.41 20L4 18.59l7.72-7.72 1.47 1.35L5.41 20z\"/>\n",
              "  </svg>\n",
              "      </button>\n",
              "      \n",
              "  <style>\n",
              "    .colab-df-container {\n",
              "      display:flex;\n",
              "      flex-wrap:wrap;\n",
              "      gap: 12px;\n",
              "    }\n",
              "\n",
              "    .colab-df-convert {\n",
              "      background-color: #E8F0FE;\n",
              "      border: none;\n",
              "      border-radius: 50%;\n",
              "      cursor: pointer;\n",
              "      display: none;\n",
              "      fill: #1967D2;\n",
              "      height: 32px;\n",
              "      padding: 0 0 0 0;\n",
              "      width: 32px;\n",
              "    }\n",
              "\n",
              "    .colab-df-convert:hover {\n",
              "      background-color: #E2EBFA;\n",
              "      box-shadow: 0px 1px 2px rgba(60, 64, 67, 0.3), 0px 1px 3px 1px rgba(60, 64, 67, 0.15);\n",
              "      fill: #174EA6;\n",
              "    }\n",
              "\n",
              "    [theme=dark] .colab-df-convert {\n",
              "      background-color: #3B4455;\n",
              "      fill: #D2E3FC;\n",
              "    }\n",
              "\n",
              "    [theme=dark] .colab-df-convert:hover {\n",
              "      background-color: #434B5C;\n",
              "      box-shadow: 0px 1px 3px 1px rgba(0, 0, 0, 0.15);\n",
              "      filter: drop-shadow(0px 1px 2px rgba(0, 0, 0, 0.3));\n",
              "      fill: #FFFFFF;\n",
              "    }\n",
              "  </style>\n",
              "\n",
              "      <script>\n",
              "        const buttonEl =\n",
              "          document.querySelector('#df-bd7a2a0c-3b7e-446a-a694-3a9bcf956412 button.colab-df-convert');\n",
              "        buttonEl.style.display =\n",
              "          google.colab.kernel.accessAllowed ? 'block' : 'none';\n",
              "\n",
              "        async function convertToInteractive(key) {\n",
              "          const element = document.querySelector('#df-bd7a2a0c-3b7e-446a-a694-3a9bcf956412');\n",
              "          const dataTable =\n",
              "            await google.colab.kernel.invokeFunction('convertToInteractive',\n",
              "                                                     [key], {});\n",
              "          if (!dataTable) return;\n",
              "\n",
              "          const docLinkHtml = 'Like what you see? Visit the ' +\n",
              "            '<a target=\"_blank\" href=https://colab.research.google.com/notebooks/data_table.ipynb>data table notebook</a>'\n",
              "            + ' to learn more about interactive tables.';\n",
              "          element.innerHTML = '';\n",
              "          dataTable['output_type'] = 'display_data';\n",
              "          await google.colab.output.renderOutput(dataTable, element);\n",
              "          const docLink = document.createElement('div');\n",
              "          docLink.innerHTML = docLinkHtml;\n",
              "          element.appendChild(docLink);\n",
              "        }\n",
              "      </script>\n",
              "    </div>\n",
              "  </div>\n",
              "  "
            ]
          },
          "metadata": {},
          "execution_count": 53
        }
      ]
    },
    {
      "cell_type": "markdown",
      "source": [
        "Para el anterior modelo se asumirá un error de imputación y se dejará el Engine volume en 2.0 L."
      ],
      "metadata": {
        "id": "m6bn5d1Rr7fp"
      }
    },
    {
      "cell_type": "code",
      "source": [
        "processed_df.loc[processed_df['Engine volume'] >= 20, 'Engine volume'] = 2"
      ],
      "metadata": {
        "id": "Prcozz63pNdM"
      },
      "execution_count": 54,
      "outputs": []
    },
    {
      "cell_type": "markdown",
      "source": [
        "### Columna `Cylinders`"
      ],
      "metadata": {
        "id": "sokypr5pnCWj"
      }
    },
    {
      "cell_type": "code",
      "source": [
        "sns.countplot(data = processed_df, x='Cylinders')"
      ],
      "metadata": {
        "colab": {
          "base_uri": "https://localhost:8080/",
          "height": 296
        },
        "id": "dRtVz5RbfG-d",
        "outputId": "ed64547e-45b4-4c16-ed6a-fd3645928958"
      },
      "execution_count": 55,
      "outputs": [
        {
          "output_type": "execute_result",
          "data": {
            "text/plain": [
              "<matplotlib.axes._subplots.AxesSubplot at 0x7f4597b44fd0>"
            ]
          },
          "metadata": {},
          "execution_count": 55
        },
        {
          "output_type": "display_data",
          "data": {
            "text/plain": [
              "<Figure size 432x288 with 1 Axes>"
            ],
            "image/png": "[encoded data removed]"
          },
          "metadata": {
            "needs_background": "light"
          }
        }
      ]
    },
    {
      "cell_type": "markdown",
      "source": [
        "Se analizarán las instancias con más de 10 cilindros:"
      ],
      "metadata": {
        "id": "WTWeEq7Onpo0"
      }
    },
    {
      "cell_type": "code",
      "source": [
        "processed_df[processed_df['Cylinders']>10].head()"
      ],
      "metadata": {
        "colab": {
          "base_uri": "https://localhost:8080/",
          "height": 302
        },
        "id": "qN5BNhMNnHfq",
        "outputId": "174b96fb-df6a-4fa4-970a-1c71a60f8d9a"
      },
      "execution_count": 56,
      "outputs": [
        {
          "output_type": "execute_result",
          "data": {
            "text/plain": [
              "     Price  Levy   Manufacturer       Model  Prod. year     Category  \\\n",
              "115  11917   639  MERCEDES-BENZ   E 500 AMG        2003        Sedan   \n",
              "322  22894     0         NISSAN  Pathfinder        2010        Sedan   \n",
              "456  11604   993           OPEL       Astra        2006  Goods wagon   \n",
              "724  81539  1360          LEXUS      GX 460        2013         Jeep   \n",
              "820   7997   308         TOYOTA  Prius 2014        2014        Sedan   \n",
              "\n",
              "    Leather interior Fuel type  Engine volume  Mileage  Cylinders  \\\n",
              "115              Yes    Petrol            5.0   150000       12.0   \n",
              "322               No    Petrol            4.0   109100       12.0   \n",
              "456               No    Diesel            1.3    27000       16.0   \n",
              "724              Yes    Petrol            4.6    76800       12.0   \n",
              "820              Yes    Hybrid            1.8        0       12.0   \n",
              "\n",
              "    Gear box type Drive wheels  Doors             Wheel  Color  Airbags  \n",
              "115     Tiptronic         Rear      2  Right-hand drive  White       12  \n",
              "322     Automatic          4x4      2        Left wheel   Blue       12  \n",
              "456        Manual        Front      2        Left wheel  Black        8  \n",
              "724     Tiptronic          4x4      2        Left wheel  Black        0  \n",
              "820     Tiptronic        Front      2        Left wheel  Black       12  "
            ],
            "text/html": [
              "\n",
              "  <div id=\"df-1ab70222-6a90-4c81-b621-dc5c4ba2665f\">\n",
              "    <div class=\"colab-df-container\">\n",
              "      <div>\n",
              "<style scoped>\n",
              "    .dataframe tbody tr th:only-of-type {\n",
              "        vertical-align: middle;\n",
              "    }\n",
              "\n",
              "    .dataframe tbody tr th {\n",
              "        vertical-align: top;\n",
              "    }\n",
              "\n",
              "    .dataframe thead th {\n",
              "        text-align: right;\n",
              "    }\n",
              "</style>\n",
              "<table border=\"1\" class=\"dataframe\">\n",
              "  <thead>\n",
              "    <tr style=\"text-align: right;\">\n",
              "      <th></th>\n",
              "      <th>Price</th>\n",
              "      <th>Levy</th>\n",
              "      <th>Manufacturer</th>\n",
              "      <th>Model</th>\n",
              "      <th>Prod. year</th>\n",
              "      <th>Category</th>\n",
              "      <th>Leather interior</th>\n",
              "      <th>Fuel type</th>\n",
              "      <th>Engine volume</th>\n",
              "      <th>Mileage</th>\n",
              "      <th>Cylinders</th>\n",
              "      <th>Gear box type</th>\n",
              "      <th>Drive wheels</th>\n",
              "      <th>Doors</th>\n",
              "      <th>Wheel</th>\n",
              "      <th>Color</th>\n",
              "      <th>Airbags</th>\n",
              "    </tr>\n",
              "  </thead>\n",
              "  <tbody>\n",
              "    <tr>\n",
              "      <th>115</th>\n",
              "      <td>11917</td>\n",
              "      <td>639</td>\n",
              "      <td>MERCEDES-BENZ</td>\n",
              "      <td>E 500 AMG</td>\n",
              "      <td>2003</td>\n",
              "      <td>Sedan</td>\n",
              "      <td>Yes</td>\n",
              "      <td>Petrol</td>\n",
              "      <td>5.0</td>\n",
              "      <td>150000</td>\n",
              "      <td>12.0</td>\n",
              "      <td>Tiptronic</td>\n",
              "      <td>Rear</td>\n",
              "      <td>2</td>\n",
              "      <td>Right-hand drive</td>\n",
              "      <td>White</td>\n",
              "      <td>12</td>\n",
              "    </tr>\n",
              "    <tr>\n",
              "      <th>322</th>\n",
              "      <td>22894</td>\n",
              "      <td>0</td>\n",
              "      <td>NISSAN</td>\n",
              "      <td>Pathfinder</td>\n",
              "      <td>2010</td>\n",
              "      <td>Sedan</td>\n",
              "      <td>No</td>\n",
              "      <td>Petrol</td>\n",
              "      <td>4.0</td>\n",
              "      <td>109100</td>\n",
              "      <td>12.0</td>\n",
              "      <td>Automatic</td>\n",
              "      <td>4x4</td>\n",
              "      <td>2</td>\n",
              "      <td>Left wheel</td>\n",
              "      <td>Blue</td>\n",
              "      <td>12</td>\n",
              "    </tr>\n",
              "    <tr>\n",
              "      <th>456</th>\n",
              "      <td>11604</td>\n",
              "      <td>993</td>\n",
              "      <td>OPEL</td>\n",
              "      <td>Astra</td>\n",
              "      <td>2006</td>\n",
              "      <td>Goods wagon</td>\n",
              "      <td>No</td>\n",
              "      <td>Diesel</td>\n",
              "      <td>1.3</td>\n",
              "      <td>27000</td>\n",
              "      <td>16.0</td>\n",
              "      <td>Manual</td>\n",
              "      <td>Front</td>\n",
              "      <td>2</td>\n",
              "      <td>Left wheel</td>\n",
              "      <td>Black</td>\n",
              "      <td>8</td>\n",
              "    </tr>\n",
              "    <tr>\n",
              "      <th>724</th>\n",
              "      <td>81539</td>\n",
              "      <td>1360</td>\n",
              "      <td>LEXUS</td>\n",
              "      <td>GX 460</td>\n",
              "      <td>2013</td>\n",
              "      <td>Jeep</td>\n",
              "      <td>Yes</td>\n",
              "      <td>Petrol</td>\n",
              "      <td>4.6</td>\n",
              "      <td>76800</td>\n",
              "      <td>12.0</td>\n",
              "      <td>Tiptronic</td>\n",
              "      <td>4x4</td>\n",
              "      <td>2</td>\n",
              "      <td>Left wheel</td>\n",
              "      <td>Black</td>\n",
              "      <td>0</td>\n",
              "    </tr>\n",
              "    <tr>\n",
              "      <th>820</th>\n",
              "      <td>7997</td>\n",
              "      <td>308</td>\n",
              "      <td>TOYOTA</td>\n",
              "      <td>Prius 2014</td>\n",
              "      <td>2014</td>\n",
              "      <td>Sedan</td>\n",
              "      <td>Yes</td>\n",
              "      <td>Hybrid</td>\n",
              "      <td>1.8</td>\n",
              "      <td>0</td>\n",
              "      <td>12.0</td>\n",
              "      <td>Tiptronic</td>\n",
              "      <td>Front</td>\n",
              "      <td>2</td>\n",
              "      <td>Left wheel</td>\n",
              "      <td>Black</td>\n",
              "      <td>12</td>\n",
              "    </tr>\n",
              "  </tbody>\n",
              "</table>\n",
              "</div>\n",
              "      <button class=\"colab-df-convert\" onclick=\"convertToInteractive('df-1ab70222-6a90-4c81-b621-dc5c4ba2665f')\"\n",
              "              title=\"Convert this dataframe to an interactive table.\"\n",
              "              style=\"display:none;\">\n",
              "        \n",
              "  <svg xmlns=\"http://www.w3.org/2000/svg\" height=\"24px\"viewBox=\"0 0 24 24\"\n",
              "       width=\"24px\">\n",
              "    <path d=\"M0 0h24v24H0V0z\" fill=\"none\"/>\n",
              "    <path d=\"M18.56 5.44l.94 2.06.94-2.06 2.06-.94-2.06-.94-.94-2.06-.94 2.06-2.06.94zm-11 1L8.5 8.5l.94-2.06 2.06-.94-2.06-.94L8.5 2.5l-.94 2.06-2.06.94zm10 10l.94 2.06.94-2.06 2.06-.94-2.06-.94-.94-2.06-.94 2.06-2.06.94z\"/><path d=\"M17.41 7.96l-1.37-1.37c-.4-.4-.92-.59-1.43-.59-.52 0-1.04.2-1.43.59L10.3 9.45l-7.72 7.72c-.78.78-.78 2.05 0 2.83L4 21.41c.39.39.9.59 1.41.59.51 0 1.02-.2 1.41-.59l7.78-7.78 2.81-2.81c.8-.78.8-2.07 0-2.86zM5.41 20L4 18.59l7.72-7.72 1.47 1.35L5.41 20z\"/>\n",
              "  </svg>\n",
              "      </button>\n",
              "      \n",
              "  <style>\n",
              "    .colab-df-container {\n",
              "      display:flex;\n",
              "      flex-wrap:wrap;\n",
              "      gap: 12px;\n",
              "    }\n",
              "\n",
              "    .colab-df-convert {\n",
              "      background-color: #E8F0FE;\n",
              "      border: none;\n",
              "      border-radius: 50%;\n",
              "      cursor: pointer;\n",
              "      display: none;\n",
              "      fill: #1967D2;\n",
              "      height: 32px;\n",
              "      padding: 0 0 0 0;\n",
              "      width: 32px;\n",
              "    }\n",
              "\n",
              "    .colab-df-convert:hover {\n",
              "      background-color: #E2EBFA;\n",
              "      box-shadow: 0px 1px 2px rgba(60, 64, 67, 0.3), 0px 1px 3px 1px rgba(60, 64, 67, 0.15);\n",
              "      fill: #174EA6;\n",
              "    }\n",
              "\n",
              "    [theme=dark] .colab-df-convert {\n",
              "      background-color: #3B4455;\n",
              "      fill: #D2E3FC;\n",
              "    }\n",
              "\n",
              "    [theme=dark] .colab-df-convert:hover {\n",
              "      background-color: #434B5C;\n",
              "      box-shadow: 0px 1px 3px 1px rgba(0, 0, 0, 0.15);\n",
              "      filter: drop-shadow(0px 1px 2px rgba(0, 0, 0, 0.3));\n",
              "      fill: #FFFFFF;\n",
              "    }\n",
              "  </style>\n",
              "\n",
              "      <script>\n",
              "        const buttonEl =\n",
              "          document.querySelector('#df-1ab70222-6a90-4c81-b621-dc5c4ba2665f button.colab-df-convert');\n",
              "        buttonEl.style.display =\n",
              "          google.colab.kernel.accessAllowed ? 'block' : 'none';\n",
              "\n",
              "        async function convertToInteractive(key) {\n",
              "          const element = document.querySelector('#df-1ab70222-6a90-4c81-b621-dc5c4ba2665f');\n",
              "          const dataTable =\n",
              "            await google.colab.kernel.invokeFunction('convertToInteractive',\n",
              "                                                     [key], {});\n",
              "          if (!dataTable) return;\n",
              "\n",
              "          const docLinkHtml = 'Like what you see? Visit the ' +\n",
              "            '<a target=\"_blank\" href=https://colab.research.google.com/notebooks/data_table.ipynb>data table notebook</a>'\n",
              "            + ' to learn more about interactive tables.';\n",
              "          element.innerHTML = '';\n",
              "          dataTable['output_type'] = 'display_data';\n",
              "          await google.colab.output.renderOutput(dataTable, element);\n",
              "          const docLink = document.createElement('div');\n",
              "          docLink.innerHTML = docLinkHtml;\n",
              "          element.appendChild(docLink);\n",
              "        }\n",
              "      </script>\n",
              "    </div>\n",
              "  </div>\n",
              "  "
            ]
          },
          "metadata": {},
          "execution_count": 56
        }
      ]
    },
    {
      "cell_type": "markdown",
      "source": [
        "Al buscar en internet para el modelo de auto LEXUS\tGX 460, encontramos que cuenta con 8 cilindros, mientras en el dataset está con 12. Esto nos da indicios que los valores por encima de 10 pueden estar errados. Por tal motivo conservaremos únicamente los valores por debajo o igual a 10:"
      ],
      "metadata": {
        "id": "tELcmFa5nu_O"
      }
    },
    {
      "cell_type": "code",
      "source": [
        "processed_df = processed_df[processed_df['Cylinders']<=10]\n",
        "processed_df.shape"
      ],
      "metadata": {
        "id": "XUZpRFeIfQZd",
        "colab": {
          "base_uri": "https://localhost:8080/"
        },
        "outputId": "933e31d6-0a2b-4b3e-e2ee-63b194c2861a"
      },
      "execution_count": 57,
      "outputs": [
        {
          "output_type": "execute_result",
          "data": {
            "text/plain": [
              "(15463, 17)"
            ]
          },
          "metadata": {},
          "execution_count": 57
        }
      ]
    },
    {
      "cell_type": "markdown",
      "source": [
        "### Columna `Airbags`"
      ],
      "metadata": {
        "id": "_b-yHLLrlTNV"
      }
    },
    {
      "cell_type": "code",
      "source": [
        "sns.boxplot(data = processed_df, x='Airbags')"
      ],
      "metadata": {
        "colab": {
          "base_uri": "https://localhost:8080/",
          "height": 296
        },
        "id": "2botly3yiTjj",
        "outputId": "af81ae84-9a3a-4e6f-b684-284e0c5b8667"
      },
      "execution_count": 58,
      "outputs": [
        {
          "output_type": "execute_result",
          "data": {
            "text/plain": [
              "<matplotlib.axes._subplots.AxesSubplot at 0x7f4597a713d0>"
            ]
          },
          "metadata": {},
          "execution_count": 58
        },
        {
          "output_type": "display_data",
          "data": {
            "text/plain": [
              "<Figure size 432x288 with 1 Axes>"
            ],
            "image/png": "[encoded data removed]"
          },
          "metadata": {
            "needs_background": "light"
          }
        }
      ]
    },
    {
      "cell_type": "markdown",
      "source": [
        "Analizaremos los automóviles con más de 12 airbags:"
      ],
      "metadata": {
        "id": "sJUtqtosm0Rg"
      }
    },
    {
      "cell_type": "code",
      "source": [
        "processed_df[processed_df['Airbags']>=12].head()"
      ],
      "metadata": {
        "colab": {
          "base_uri": "https://localhost:8080/",
          "height": 354
        },
        "id": "AFnZ3aRSlbDa",
        "outputId": "fe86a87a-d365-4e8f-e516-6511f34519f9"
      },
      "execution_count": 59,
      "outputs": [
        {
          "output_type": "execute_result",
          "data": {
            "text/plain": [
              "   Price  Levy Manufacturer   Model  Prod. year   Category Leather interior  \\\n",
              "0  13328  1399        LEXUS  RX 450        2010       Jeep              Yes   \n",
              "6   1803   761       TOYOTA   Prius        2010  Hatchback              Yes   \n",
              "7    549   751      HYUNDAI  Sonata        2013      Sedan              Yes   \n",
              "8   1098   394       TOYOTA   Camry        2014      Sedan              Yes   \n",
              "9  26657     0        LEXUS  RX 350        2007       Jeep              Yes   \n",
              "\n",
              "  Fuel type  Engine volume  Mileage  Cylinders Gear box type Drive wheels  \\\n",
              "0    Hybrid            3.5   186005        6.0     Automatic          4x4   \n",
              "6    Hybrid            1.8   258909        4.0     Automatic        Front   \n",
              "7    Petrol            2.4   216118        4.0     Automatic        Front   \n",
              "8    Hybrid            2.5   398069        4.0     Automatic        Front   \n",
              "9    Petrol            3.5   128500        6.0     Automatic          4x4   \n",
              "\n",
              "   Doors       Wheel   Color  Airbags  \n",
              "0      2  Left wheel  Silver       12  \n",
              "6      2  Left wheel   White       12  \n",
              "7      2  Left wheel    Grey       12  \n",
              "8      2  Left wheel   Black       12  \n",
              "9      2  Left wheel  Silver       12  "
            ],
            "text/html": [
              "\n",
              "  <div id=\"df-d9f7c42c-b423-42fc-8616-a468ec2f0ff3\">\n",
              "    <div class=\"colab-df-container\">\n",
              "      <div>\n",
              "<style scoped>\n",
              "    .dataframe tbody tr th:only-of-type {\n",
              "        vertical-align: middle;\n",
              "    }\n",
              "\n",
              "    .dataframe tbody tr th {\n",
              "        vertical-align: top;\n",
              "    }\n",
              "\n",
              "    .dataframe thead th {\n",
              "        text-align: right;\n",
              "    }\n",
              "</style>\n",
              "<table border=\"1\" class=\"dataframe\">\n",
              "  <thead>\n",
              "    <tr style=\"text-align: right;\">\n",
              "      <th></th>\n",
              "      <th>Price</th>\n",
              "      <th>Levy</th>\n",
              "      <th>Manufacturer</th>\n",
              "      <th>Model</th>\n",
              "      <th>Prod. year</th>\n",
              "      <th>Category</th>\n",
              "      <th>Leather interior</th>\n",
              "      <th>Fuel type</th>\n",
              "      <th>Engine volume</th>\n",
              "      <th>Mileage</th>\n",
              "      <th>Cylinders</th>\n",
              "      <th>Gear box type</th>\n",
              "      <th>Drive wheels</th>\n",
              "      <th>Doors</th>\n",
              "      <th>Wheel</th>\n",
              "      <th>Color</th>\n",
              "      <th>Airbags</th>\n",
              "    </tr>\n",
              "  </thead>\n",
              "  <tbody>\n",
              "    <tr>\n",
              "      <th>0</th>\n",
              "      <td>13328</td>\n",
              "      <td>1399</td>\n",
              "      <td>LEXUS</td>\n",
              "      <td>RX 450</td>\n",
              "      <td>2010</td>\n",
              "      <td>Jeep</td>\n",
              "      <td>Yes</td>\n",
              "      <td>Hybrid</td>\n",
              "      <td>3.5</td>\n",
              "      <td>186005</td>\n",
              "      <td>6.0</td>\n",
              "      <td>Automatic</td>\n",
              "      <td>4x4</td>\n",
              "      <td>2</td>\n",
              "      <td>Left wheel</td>\n",
              "      <td>Silver</td>\n",
              "      <td>12</td>\n",
              "    </tr>\n",
              "    <tr>\n",
              "      <th>6</th>\n",
              "      <td>1803</td>\n",
              "      <td>761</td>\n",
              "      <td>TOYOTA</td>\n",
              "      <td>Prius</td>\n",
              "      <td>2010</td>\n",
              "      <td>Hatchback</td>\n",
              "      <td>Yes</td>\n",
              "      <td>Hybrid</td>\n",
              "      <td>1.8</td>\n",
              "      <td>258909</td>\n",
              "      <td>4.0</td>\n",
              "      <td>Automatic</td>\n",
              "      <td>Front</td>\n",
              "      <td>2</td>\n",
              "      <td>Left wheel</td>\n",
              "      <td>White</td>\n",
              "      <td>12</td>\n",
              "    </tr>\n",
              "    <tr>\n",
              "      <th>7</th>\n",
              "      <td>549</td>\n",
              "      <td>751</td>\n",
              "      <td>HYUNDAI</td>\n",
              "      <td>Sonata</td>\n",
              "      <td>2013</td>\n",
              "      <td>Sedan</td>\n",
              "      <td>Yes</td>\n",
              "      <td>Petrol</td>\n",
              "      <td>2.4</td>\n",
              "      <td>216118</td>\n",
              "      <td>4.0</td>\n",
              "      <td>Automatic</td>\n",
              "      <td>Front</td>\n",
              "      <td>2</td>\n",
              "      <td>Left wheel</td>\n",
              "      <td>Grey</td>\n",
              "      <td>12</td>\n",
              "    </tr>\n",
              "    <tr>\n",
              "      <th>8</th>\n",
              "      <td>1098</td>\n",
              "      <td>394</td>\n",
              "      <td>TOYOTA</td>\n",
              "      <td>Camry</td>\n",
              "      <td>2014</td>\n",
              "      <td>Sedan</td>\n",
              "      <td>Yes</td>\n",
              "      <td>Hybrid</td>\n",
              "      <td>2.5</td>\n",
              "      <td>398069</td>\n",
              "      <td>4.0</td>\n",
              "      <td>Automatic</td>\n",
              "      <td>Front</td>\n",
              "      <td>2</td>\n",
              "      <td>Left wheel</td>\n",
              "      <td>Black</td>\n",
              "      <td>12</td>\n",
              "    </tr>\n",
              "    <tr>\n",
              "      <th>9</th>\n",
              "      <td>26657</td>\n",
              "      <td>0</td>\n",
              "      <td>LEXUS</td>\n",
              "      <td>RX 350</td>\n",
              "      <td>2007</td>\n",
              "      <td>Jeep</td>\n",
              "      <td>Yes</td>\n",
              "      <td>Petrol</td>\n",
              "      <td>3.5</td>\n",
              "      <td>128500</td>\n",
              "      <td>6.0</td>\n",
              "      <td>Automatic</td>\n",
              "      <td>4x4</td>\n",
              "      <td>2</td>\n",
              "      <td>Left wheel</td>\n",
              "      <td>Silver</td>\n",
              "      <td>12</td>\n",
              "    </tr>\n",
              "  </tbody>\n",
              "</table>\n",
              "</div>\n",
              "      <button class=\"colab-df-convert\" onclick=\"convertToInteractive('df-d9f7c42c-b423-42fc-8616-a468ec2f0ff3')\"\n",
              "              title=\"Convert this dataframe to an interactive table.\"\n",
              "              style=\"display:none;\">\n",
              "        \n",
              "  <svg xmlns=\"http://www.w3.org/2000/svg\" height=\"24px\"viewBox=\"0 0 24 24\"\n",
              "       width=\"24px\">\n",
              "    <path d=\"M0 0h24v24H0V0z\" fill=\"none\"/>\n",
              "    <path d=\"M18.56 5.44l.94 2.06.94-2.06 2.06-.94-2.06-.94-.94-2.06-.94 2.06-2.06.94zm-11 1L8.5 8.5l.94-2.06 2.06-.94-2.06-.94L8.5 2.5l-.94 2.06-2.06.94zm10 10l.94 2.06.94-2.06 2.06-.94-2.06-.94-.94-2.06-.94 2.06-2.06.94z\"/><path d=\"M17.41 7.96l-1.37-1.37c-.4-.4-.92-.59-1.43-.59-.52 0-1.04.2-1.43.59L10.3 9.45l-7.72 7.72c-.78.78-.78 2.05 0 2.83L4 21.41c.39.39.9.59 1.41.59.51 0 1.02-.2 1.41-.59l7.78-7.78 2.81-2.81c.8-.78.8-2.07 0-2.86zM5.41 20L4 18.59l7.72-7.72 1.47 1.35L5.41 20z\"/>\n",
              "  </svg>\n",
              "      </button>\n",
              "      \n",
              "  <style>\n",
              "    .colab-df-container {\n",
              "      display:flex;\n",
              "      flex-wrap:wrap;\n",
              "      gap: 12px;\n",
              "    }\n",
              "\n",
              "    .colab-df-convert {\n",
              "      background-color: #E8F0FE;\n",
              "      border: none;\n",
              "      border-radius: 50%;\n",
              "      cursor: pointer;\n",
              "      display: none;\n",
              "      fill: #1967D2;\n",
              "      height: 32px;\n",
              "      padding: 0 0 0 0;\n",
              "      width: 32px;\n",
              "    }\n",
              "\n",
              "    .colab-df-convert:hover {\n",
              "      background-color: #E2EBFA;\n",
              "      box-shadow: 0px 1px 2px rgba(60, 64, 67, 0.3), 0px 1px 3px 1px rgba(60, 64, 67, 0.15);\n",
              "      fill: #174EA6;\n",
              "    }\n",
              "\n",
              "    [theme=dark] .colab-df-convert {\n",
              "      background-color: #3B4455;\n",
              "      fill: #D2E3FC;\n",
              "    }\n",
              "\n",
              "    [theme=dark] .colab-df-convert:hover {\n",
              "      background-color: #434B5C;\n",
              "      box-shadow: 0px 1px 3px 1px rgba(0, 0, 0, 0.15);\n",
              "      filter: drop-shadow(0px 1px 2px rgba(0, 0, 0, 0.3));\n",
              "      fill: #FFFFFF;\n",
              "    }\n",
              "  </style>\n",
              "\n",
              "      <script>\n",
              "        const buttonEl =\n",
              "          document.querySelector('#df-d9f7c42c-b423-42fc-8616-a468ec2f0ff3 button.colab-df-convert');\n",
              "        buttonEl.style.display =\n",
              "          google.colab.kernel.accessAllowed ? 'block' : 'none';\n",
              "\n",
              "        async function convertToInteractive(key) {\n",
              "          const element = document.querySelector('#df-d9f7c42c-b423-42fc-8616-a468ec2f0ff3');\n",
              "          const dataTable =\n",
              "            await google.colab.kernel.invokeFunction('convertToInteractive',\n",
              "                                                     [key], {});\n",
              "          if (!dataTable) return;\n",
              "\n",
              "          const docLinkHtml = 'Like what you see? Visit the ' +\n",
              "            '<a target=\"_blank\" href=https://colab.research.google.com/notebooks/data_table.ipynb>data table notebook</a>'\n",
              "            + ' to learn more about interactive tables.';\n",
              "          element.innerHTML = '';\n",
              "          dataTable['output_type'] = 'display_data';\n",
              "          await google.colab.output.renderOutput(dataTable, element);\n",
              "          const docLink = document.createElement('div');\n",
              "          docLink.innerHTML = docLinkHtml;\n",
              "          element.appendChild(docLink);\n",
              "        }\n",
              "      </script>\n",
              "    </div>\n",
              "  </div>\n",
              "  "
            ]
          },
          "metadata": {},
          "execution_count": 59
        }
      ]
    },
    {
      "cell_type": "markdown",
      "source": [
        "Al buscar en internet para el primer modelo de auto encontramos que cuenta con 4 airbags, lo cual nos da indicios que los valores por encima de 12 están errados. Debido a esto se optará por eliminar los datos con cantidad de airbags mayores  a 12."
      ],
      "metadata": {
        "id": "SmsRq2aJlXuK"
      }
    },
    {
      "cell_type": "code",
      "source": [
        "processed_df = processed_df[processed_df['Airbags']<12]\n",
        "processed_df.shape"
      ],
      "metadata": {
        "id": "TXAseC-Qibwb",
        "colab": {
          "base_uri": "https://localhost:8080/"
        },
        "outputId": "19cc02d0-c947-429c-abfb-f34853da3663"
      },
      "execution_count": 60,
      "outputs": [
        {
          "output_type": "execute_result",
          "data": {
            "text/plain": [
              "(11413, 17)"
            ]
          },
          "metadata": {},
          "execution_count": 60
        }
      ]
    },
    {
      "cell_type": "markdown",
      "source": [
        "## Transformaciones"
      ],
      "metadata": {
        "id": "n_FJKIvdm8Rl"
      }
    },
    {
      "cell_type": "markdown",
      "source": [
        "A continuación se aplicaran las transformaciones sobre las columnas categóricas. Dado el análisis previo en la primera entrega, se encontró que todas las variables categóricas son nominales (a excepción de la variable Doors la cual se le aplicó una transformación ordinal), se les aplicará oneHot encoding (sin incluir las de mayor cardinalidad) y a un segundo dataset con las de mayor cardinalidad Binary encoding:"
      ],
      "metadata": {
        "id": "HaB25B_zpnsY"
      }
    },
    {
      "cell_type": "code",
      "source": [
        "one_hot_encoding_df = clean_cars(processed_df).encode_one_hot_dataframe()\n",
        "binary_encoding_df = clean_cars(processed_df).encode_binary_dataframe()"
      ],
      "metadata": {
        "id": "KcdFAdjRpqWr"
      },
      "execution_count": 61,
      "outputs": []
    },
    {
      "cell_type": "code",
      "source": [
        "standard_scaler = StandardScaler()\n",
        "min_max_scaler = MinMaxScaler()\n",
        "X_one_hot_encoding_df = one_hot_encoding_df.drop(['Price'], axis=1)\n",
        "X_binary_encoding_df = binary_encoding_df.drop(['Price'], axis=1)\n",
        "\n",
        "Y_one_hot_encoding_df = processed_df[['Price']]\n",
        "Y_binary_encoding_df = processed_df[['Price']]\n",
        "\n",
        "X_one_hot_encoding_standard_df = pd.DataFrame(standard_scaler.fit_transform(X_one_hot_encoding_df.drop(['Manufacturer', 'Model', 'Color'], axis=1)), columns = X_one_hot_encoding_df.drop(['Manufacturer', 'Model', 'Color'], axis=1).columns)\n",
        "X_one_hot_encoding_min_max_df = pd.DataFrame(min_max_scaler.fit_transform(X_one_hot_encoding_df.drop(['Manufacturer', 'Model', 'Color'], axis=1)), columns = X_one_hot_encoding_df.drop(['Manufacturer', 'Model', 'Color'], axis=1).columns)\n",
        "\n",
        "X_binary_encoding_standard_df = pd.DataFrame(standard_scaler.fit_transform(X_binary_encoding_df), columns = X_binary_encoding_df.columns)\n",
        "X_binary_encoding_min_max_df = pd.DataFrame(min_max_scaler.fit_transform(X_binary_encoding_df), columns = X_binary_encoding_df.columns)\n",
        "\n",
        "#One hot encoding\n",
        "X_train_one_hot_encoding_standard, X_test_one_hot_encoding_standard, Y_train_one_hot_encoding_standard, Y_test_one_hot_encoding_standard = train_test_split(X_one_hot_encoding_standard_df, Y_one_hot_encoding_df, test_size = 0.2, random_state=1)\n",
        "X_train_one_hot_encoding_standard, X_val_one_hot_encoding_standard, Y_train_one_hot_encoding_standard, y_val_one_hot_encoding_standard= train_test_split(X_train_one_hot_encoding_standard, Y_train_one_hot_encoding_standard, test_size = 0.2)\n",
        "\n",
        "X_train_one_hot_encoding_min_max, X_test_one_hot_encoding_min_max, Y_train_one_hot_encoding_min_max, Y_test_one_hot_encoding_min_max = train_test_split(X_one_hot_encoding_min_max_df, Y_one_hot_encoding_df, test_size = 0.2, random_state=1)\n",
        "X_train_one_hot_encoding_min_max, X_val_one_hot_encoding_min_max, Y_train_one_hot_encoding_min_max, y_val_one_hot_encoding_min_max= train_test_split(X_train_one_hot_encoding_min_max, Y_train_one_hot_encoding_min_max, test_size = 0.2)\n",
        "\n",
        "#Binary encoding\n",
        "X_train_binary_encoding_standard, X_test_binary_encoding_standard, Y_train_binary_encoding_standard, Y_test_binary_encoding_standard = train_test_split(X_binary_encoding_standard_df, Y_binary_encoding_df, test_size = 0.2, random_state=1)\n",
        "X_train_binary_encoding_standard, X_val_binary_encoding_standard, Y_train_binary_encoding_standard, y_val_binary_encoding_standard = train_test_split(X_train_binary_encoding_standard, Y_train_binary_encoding_standard, test_size = 0.2)\n",
        "\n",
        "X_train_binary_encoding_min_max, X_test_binary_encoding_min_max, Y_train_binary_encoding_min_max, Y_test_binary_encoding_min_max = train_test_split(X_binary_encoding_min_max_df, Y_binary_encoding_df, test_size = 0.2, random_state=1)\n",
        "X_train_binary_encoding_min_max, X_val_binary_encoding_min_max, Y_train_binary_encoding_min_max, y_val_binary_encoding_min_max = train_test_split(X_train_binary_encoding_min_max, Y_train_binary_encoding_min_max, test_size = 0.2)"
      ],
      "metadata": {
        "id": "d8Y_PsJ4fHgl"
      },
      "execution_count": 62,
      "outputs": []
    },
    {
      "cell_type": "code",
      "source": [
        "processed_df.to_csv('processed_cars.csv', index = False)"
      ],
      "metadata": {
        "id": "vaqZR7hjoJkP"
      },
      "execution_count": 64,
      "outputs": []
    },
    {
      "cell_type": "code",
      "source": [
        "def generate_csv(df, name):\n",
        "  df.to_csv(name+'.csv', encoding='utf-8', index=False)\n",
        "#One hot encoding\n",
        "generate_csv(X_train_one_hot_encoding_standard, 'X_train_one_hot_encoding_standard')\n",
        "generate_csv(X_val_one_hot_encoding_standard, 'X_val_one_hot_encoding_standard')\n",
        "generate_csv(X_test_one_hot_encoding_standard, 'X_test_one_hot_encoding_standard')\n",
        "generate_csv(Y_train_one_hot_encoding_standard, 'y_train_one_hot_encoding_standard')\n",
        "generate_csv(y_val_one_hot_encoding_standard, 'y_val_one_hot_encoding_standard')\n",
        "generate_csv(Y_test_one_hot_encoding_standard, 'y_test_one_hot_encoding_standard')\n",
        "\n",
        "generate_csv(X_train_one_hot_encoding_min_max, 'X_train_one_hot_encoding_min_max')\n",
        "generate_csv(X_val_one_hot_encoding_min_max, 'X_val_one_hot_encoding_min_max')\n",
        "generate_csv(X_test_one_hot_encoding_min_max, 'X_test_one_hot_encoding_min_max')\n",
        "generate_csv(Y_train_one_hot_encoding_min_max, 'y_train_one_hot_encoding_min_max')\n",
        "generate_csv(y_val_one_hot_encoding_min_max, 'y_val_one_hot_encoding_min_max')\n",
        "generate_csv(Y_test_one_hot_encoding_min_max, 'y_test_one_hot_encoding_min_max')\n",
        "\n",
        "#Binary encoding\n",
        "generate_csv(X_train_binary_encoding_standard, 'X_train_binary_encoding_standard')\n",
        "generate_csv(X_val_binary_encoding_standard, 'X_val_binary_encoding_standard')\n",
        "generate_csv(X_test_binary_encoding_standard, 'X_test_binary_encoding_standard')\n",
        "generate_csv(Y_train_binary_encoding_standard, 'Y_train_binary_encoding_standard')\n",
        "generate_csv(y_val_binary_encoding_standard, 'y_val_binary_encoding_standard')\n",
        "generate_csv(Y_test_binary_encoding_standard, 'Y_test_binary_encoding_standard')\n",
        "\n",
        "generate_csv(X_train_binary_encoding_min_max, 'X_train_binary_encoding_min_max')\n",
        "generate_csv(X_val_binary_encoding_min_max, 'X_val_binary_encoding_min_max')\n",
        "generate_csv(X_test_binary_encoding_min_max, 'X_test_binary_encoding_min_max')\n",
        "generate_csv(Y_train_binary_encoding_min_max, 'y_train_binary_encoding_min_max')\n",
        "generate_csv(y_val_binary_encoding_min_max, 'y_val_binary_encoding_min_max')\n",
        "generate_csv(Y_test_binary_encoding_min_max, 'y_test_binary_encoding_min_max')"
      ],
      "metadata": {
        "id": "yCoYeT6fFDiM"
      },
      "execution_count": 65,
      "outputs": []
    },
    {
      "cell_type": "markdown",
      "source": [
        "## Anexo: Distribuciones entre los conjuntos de entrenamiento"
      ],
      "metadata": {
        "id": "tjNiLb1mhYPd"
      }
    },
    {
      "cell_type": "markdown",
      "source": [
        "Como las variantes de los conjuntos de entrenamiento anteriores corresponden a un mismo conjunto pero con transformaciones diferentes, se analizará por simplicidad una sóla variante, en este caso one_hot_encoding con transformación estándar."
      ],
      "metadata": {
        "id": "axO4lp7QrXYF"
      }
    },
    {
      "cell_type": "code",
      "source": [
        "props_x = ['Train', 'Val', 'Test']\n",
        "\n",
        "fig, ax = plt.subplots(figsize=(8,6))\n",
        "\n",
        "sns.histplot(X_train_one_hot_encoding_standard.Levy, color=\"olive\")\n",
        "sns.histplot(X_val_one_hot_encoding_standard.Levy, color=\"coral\")\n",
        "sns.histplot(X_test_one_hot_encoding_standard.Levy)\n",
        "ax.legend( ['Train', 'Val', 'Test'])\n",
        "\n",
        "plt.xlabel('Levy')\n",
        "plt.title('Distribución Levy');"
      ],
      "metadata": {
        "id": "XLFY8MNNiQDL",
        "colab": {
          "base_uri": "https://localhost:8080/",
          "height": 404
        },
        "outputId": "3e4b69d6-3bc0-4a7e-c65f-6003f45d3f8c"
      },
      "execution_count": 74,
      "outputs": [
        {
          "output_type": "display_data",
          "data": {
            "text/plain": [
              "<Figure size 576x432 with 1 Axes>"
            ],
            "image/png": "[encoded data removed]"
          },
          "metadata": {
            "needs_background": "light"
          }
        }
      ]
    },
    {
      "cell_type": "code",
      "source": [
        "props_x = ['Train', 'Val', 'Test']\n",
        "\n",
        "fig, ax = plt.subplots(figsize=(8,6))\n",
        "\n",
        "sns.histplot(X_train_one_hot_encoding_standard['Prod. year'], color=\"olive\")\n",
        "sns.histplot(X_val_one_hot_encoding_standard['Prod. year'], color=\"coral\")\n",
        "sns.histplot(X_test_one_hot_encoding_standard['Prod. year'])\n",
        "ax.legend( ['Train', 'Val', 'Test'])\n",
        "\n",
        "plt.xlabel('Prod. year')\n",
        "plt.title('Distribución Prod. Year');"
      ],
      "metadata": {
        "id": "YzwmCwAFjLPO",
        "colab": {
          "base_uri": "https://localhost:8080/",
          "height": 404
        },
        "outputId": "10218431-62a0-4ce3-b5e5-4e14aad5a19f"
      },
      "execution_count": 75,
      "outputs": [
        {
          "output_type": "display_data",
          "data": {
            "text/plain": [
              "<Figure size 576x432 with 1 Axes>"
            ],
            "image/png": "[encoded data removed]"
          },
          "metadata": {
            "needs_background": "light"
          }
        }
      ]
    },
    {
      "cell_type": "code",
      "source": [
        "props_x = ['Train', 'Val', 'Test']\n",
        "\n",
        "fig, ax = plt.subplots(figsize=(8,6))\n",
        "\n",
        "sns.histplot(X_train_one_hot_encoding_standard['Leather interior'], color=\"olive\")\n",
        "sns.histplot(X_val_one_hot_encoding_standard['Leather interior'], color=\"coral\")\n",
        "sns.histplot(X_test_one_hot_encoding_standard['Leather interior'])\n",
        "ax.legend( ['Train', 'Val', 'Test'])\n",
        "\n",
        "plt.xlabel('Leather interior')\n",
        "plt.title('Distribución Leather interior');"
      ],
      "metadata": {
        "colab": {
          "base_uri": "https://localhost:8080/",
          "height": 404
        },
        "id": "PYF3bTVtsHaK",
        "outputId": "2779662b-b90f-42c8-b04c-ed434c6fd8f0"
      },
      "execution_count": 80,
      "outputs": [
        {
          "output_type": "display_data",
          "data": {
            "text/plain": [
              "<Figure size 576x432 with 1 Axes>"
            ],
            "image/png": "[encoded data removed]"
          },
          "metadata": {
            "needs_background": "light"
          }
        }
      ]
    },
    {
      "cell_type": "code",
      "source": [
        "props_x = ['Train', 'Val', 'Test']\n",
        "\n",
        "fig, ax = plt.subplots(figsize=(8,6))\n",
        "\n",
        "sns.histplot(X_train_one_hot_encoding_standard['Engine volume'], color=\"olive\")\n",
        "sns.histplot(X_val_one_hot_encoding_standard['Engine volume'], color=\"coral\")\n",
        "sns.histplot(X_test_one_hot_encoding_standard['Engine volume'])\n",
        "ax.legend( ['Train', 'Val', 'Test'])\n",
        "\n",
        "plt.xlabel('Engine volume')\n",
        "plt.title('Distribución Engine volume');"
      ],
      "metadata": {
        "id": "oyheD2fvj62H",
        "colab": {
          "base_uri": "https://localhost:8080/",
          "height": 404
        },
        "outputId": "25eba35a-8761-420f-a964-0308d636920a"
      },
      "execution_count": 81,
      "outputs": [
        {
          "output_type": "display_data",
          "data": {
            "text/plain": [
              "<Figure size 576x432 with 1 Axes>"
            ],
            "image/png": "[encoded data removed]"
          },
          "metadata": {
            "needs_background": "light"
          }
        }
      ]
    },
    {
      "cell_type": "code",
      "source": [
        "props_x = ['Train', 'Val', 'Test']\n",
        "\n",
        "fig, ax = plt.subplots(figsize=(8,6))\n",
        "\n",
        "sns.histplot(X_train_one_hot_encoding_standard['Mileage'], color=\"olive\")\n",
        "sns.histplot(X_val_one_hot_encoding_standard['Mileage'], color=\"coral\")\n",
        "sns.histplot(X_test_one_hot_encoding_standard['Mileage'])\n",
        "ax.legend( ['Train', 'Val', 'Test'])\n",
        "\n",
        "plt.xlabel('Mileage')\n",
        "plt.title('Distribución Mileage');"
      ],
      "metadata": {
        "id": "9matv2TvyUG-",
        "colab": {
          "base_uri": "https://localhost:8080/",
          "height": 404
        },
        "outputId": "3c619e3b-35bc-4ee6-c41b-075d783f0583"
      },
      "execution_count": 82,
      "outputs": [
        {
          "output_type": "display_data",
          "data": {
            "text/plain": [
              "<Figure size 576x432 with 1 Axes>"
            ],
            "image/png": "[encoded data removed]"
          },
          "metadata": {
            "needs_background": "light"
          }
        }
      ]
    },
    {
      "cell_type": "code",
      "source": [
        "props_x = ['Train', 'Val', 'Test']\n",
        "\n",
        "fig, ax = plt.subplots(figsize=(8,6))\n",
        "\n",
        "sns.histplot(X_train_one_hot_encoding_standard['Cylinders'], color=\"olive\")\n",
        "sns.histplot(X_val_one_hot_encoding_standard['Cylinders'], color=\"coral\")\n",
        "sns.histplot(X_test_one_hot_encoding_standard['Cylinders'])\n",
        "ax.legend( ['Train', 'Val', 'Test'])\n",
        "\n",
        "plt.xlabel('Cylinders')\n",
        "plt.title('Distribución Cylinders');"
      ],
      "metadata": {
        "id": "B-AzOi0azJ08",
        "colab": {
          "base_uri": "https://localhost:8080/",
          "height": 404
        },
        "outputId": "2f4e6d98-5032-435d-d1d4-d3308df35c51"
      },
      "execution_count": 83,
      "outputs": [
        {
          "output_type": "display_data",
          "data": {
            "text/plain": [
              "<Figure size 576x432 with 1 Axes>"
            ],
            "image/png": "[encoded data removed]"
          },
          "metadata": {
            "needs_background": "light"
          }
        }
      ]
    },
    {
      "cell_type": "code",
      "source": [
        "props_x = ['Train', 'Val', 'Test']\n",
        "\n",
        "fig, ax = plt.subplots(figsize=(8,6))\n",
        "\n",
        "sns.histplot(X_train_one_hot_encoding_standard['Doors'], color=\"olive\")\n",
        "sns.histplot(X_val_one_hot_encoding_standard['Doors'], color=\"coral\")\n",
        "sns.histplot(X_test_one_hot_encoding_standard['Doors'])\n",
        "ax.legend( ['Train', 'Val', 'Test'])\n",
        "\n",
        "plt.xlabel('Doors')\n",
        "plt.title('Distribución Doors');"
      ],
      "metadata": {
        "colab": {
          "base_uri": "https://localhost:8080/",
          "height": 404
        },
        "id": "hVqXZLuJsqYS",
        "outputId": "92e160d5-174f-43c7-8775-58200e13894c"
      },
      "execution_count": 85,
      "outputs": [
        {
          "output_type": "display_data",
          "data": {
            "text/plain": [
              "<Figure size 576x432 with 1 Axes>"
            ],
            "image/png": "[encoded data removed]"
          },
          "metadata": {
            "needs_background": "light"
          }
        }
      ]
    },
    {
      "cell_type": "code",
      "source": [
        "props_x = ['Train', 'Val', 'Test']\n",
        "\n",
        "fig, ax = plt.subplots(figsize=(8,6))\n",
        "\n",
        "sns.histplot(X_train_one_hot_encoding_standard['Airbags'], color=\"olive\")\n",
        "sns.histplot(X_val_one_hot_encoding_standard['Airbags'], color=\"coral\")\n",
        "sns.histplot(X_test_one_hot_encoding_standard['Airbags'])\n",
        "ax.legend( ['Train', 'Val', 'Test'])\n",
        "\n",
        "plt.xlabel('Airbags')\n",
        "plt.title('Distribución Airbags');"
      ],
      "metadata": {
        "colab": {
          "base_uri": "https://localhost:8080/",
          "height": 404
        },
        "id": "QHT9EkpLstky",
        "outputId": "5dc12b57-dce4-4423-bf99-541af7aabb45"
      },
      "execution_count": 86,
      "outputs": [
        {
          "output_type": "display_data",
          "data": {
            "text/plain": [
              "<Figure size 576x432 with 1 Axes>"
            ],
            "image/png": "[encoded data removed]"
          },
          "metadata": {
            "needs_background": "light"
          }
        }
      ]
    }
  ]
}