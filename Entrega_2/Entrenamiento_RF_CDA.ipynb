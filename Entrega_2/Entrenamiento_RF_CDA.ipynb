{
  "nbformat": 4,
  "nbformat_minor": 0,
  "metadata": {
    "colab": {
      "provenance": [],
      "collapsed_sections": []
    },
    "kernelspec": {
      "name": "python3",
      "display_name": "Python 3"
    },
    "language_info": {
      "name": "python"
    }
  },
  "cells": [
    {
      "cell_type": "code",
      "execution_count": 18,
      "metadata": {
        "id": "jiHZefBej5ij"
      },
      "outputs": [],
      "source": [
        "import numpy as np\n",
        "import pandas as pd\n",
        "\n",
        "from sklearn.preprocessing import StandardScaler,OneHotEncoder\n",
        "from sklearn.linear_model import LogisticRegression\n",
        "from sklearn.model_selection import RandomizedSearchCV\n",
        "from sklearn.ensemble import RandomForestRegressor\n",
        "from sklearn.feature_selection import SelectFromModel\n",
        "from sklearn.model_selection import train_test_split\n",
        "from sklearn.metrics import mean_squared_error, mean_absolute_error, r2_score\n",
        "\n",
        "import matplotlib.pyplot as plt\n",
        "import seaborn as sns"
      ]
    },
    {
      "cell_type": "markdown",
      "source": [
        "# Lectura de Archivos"
      ],
      "metadata": {
        "id": "xNkdYVlomam5"
      }
    },
    {
      "cell_type": "markdown",
      "source": [
        "## X Train"
      ],
      "metadata": {
        "id": "pS-6pqgGmrso"
      }
    },
    {
      "cell_type": "code",
      "source": [
        "X_train_binary_min_max = pd.read_csv('https://raw.githubusercontent.com/MaldonadoVihlai/proyecto_CDA/main/Entrega_2/data/binary_encoding/min_max/train/X_train_binary_encoding_min_max.csv')\n",
        "X_train_binary_standar = pd.read_csv('https://raw.githubusercontent.com/MaldonadoVihlai/proyecto_CDA/main/Entrega_2/data/binary_encoding/standard/train/X_train_binary_encoding_standard.csv')\n",
        "X_train_onehot_min_max = pd.read_csv('https://raw.githubusercontent.com/MaldonadoVihlai/proyecto_CDA/main/Entrega_2/data/one_hot_encoding/min_max/train/X_train_one_hot_encoding_min_max.csv')\n",
        "X_train_onehot_standar = pd.read_csv('https://raw.githubusercontent.com/MaldonadoVihlai/proyecto_CDA/main/Entrega_2/data/one_hot_encoding/standard/train/X_train_one_hot_encoding_standard.csv')"
      ],
      "metadata": {
        "id": "6aBRbHKqkC_4"
      },
      "execution_count": 2,
      "outputs": []
    },
    {
      "cell_type": "markdown",
      "source": [
        "## X Test"
      ],
      "metadata": {
        "id": "jqTtxZlN_Mlg"
      }
    },
    {
      "cell_type": "code",
      "source": [
        "X_test_binary_min_max = pd.read_csv('https://raw.githubusercontent.com/MaldonadoVihlai/proyecto_CDA/main/Entrega_2/data/binary_encoding/min_max/test/X_test_binary_encoding_min_max.csv')\n",
        "X_test_binary_standar = pd.read_csv('https://raw.githubusercontent.com/MaldonadoVihlai/proyecto_CDA/main/Entrega_2/data/binary_encoding/standard/test/X_test_binary_encoding_standard.csv')\n",
        "X_test_onehot_min_max = pd.read_csv('https://raw.githubusercontent.com/MaldonadoVihlai/proyecto_CDA/main/Entrega_2/data/one_hot_encoding/min_max/test/X_test_one_hot_encoding_min_max.csv')\n",
        "X_test_onehot_standar = pd.read_csv('https://raw.githubusercontent.com/MaldonadoVihlai/proyecto_CDA/main/Entrega_2/data/one_hot_encoding/standard/test/X_test_one_hot_encoding_standard.csv')"
      ],
      "metadata": {
        "id": "5sXdvy_P_L-k"
      },
      "execution_count": 14,
      "outputs": []
    },
    {
      "cell_type": "markdown",
      "source": [
        "## X Val"
      ],
      "metadata": {
        "id": "p0loun_OBylQ"
      }
    },
    {
      "cell_type": "code",
      "source": [
        "X_val_binary_min_max = pd.read_csv('https://raw.githubusercontent.com/MaldonadoVihlai/proyecto_CDA/main/Entrega_2/data/binary_encoding/min_max/val/X_val_binary_encoding_min_max.csv')\n",
        "X_val_binary_standar = pd.read_csv('https://raw.githubusercontent.com/MaldonadoVihlai/proyecto_CDA/main/Entrega_2/data/binary_encoding/standard/val/X_val_binary_encoding_standard.csv')\n",
        "X_val_onehot_min_max = pd.read_csv('https://raw.githubusercontent.com/MaldonadoVihlai/proyecto_CDA/main/Entrega_2/data/one_hot_encoding/min_max/val/X_val_one_hot_encoding_min_max.csv')\n",
        "X_val_onehot_standar = pd.read_csv('https://raw.githubusercontent.com/MaldonadoVihlai/proyecto_CDA/main/Entrega_2/data/one_hot_encoding/standard/val/X_val_one_hot_encoding_standard.csv')"
      ],
      "metadata": {
        "id": "J64ZrrS9By5e"
      },
      "execution_count": 23,
      "outputs": []
    },
    {
      "cell_type": "markdown",
      "source": [
        "## Y Train"
      ],
      "metadata": {
        "id": "VrEhqxdZq5fM"
      }
    },
    {
      "cell_type": "code",
      "source": [
        "Y_train_binary_min_max = pd.read_csv('https://raw.githubusercontent.com/MaldonadoVihlai/proyecto_CDA/main/Entrega_2/data/binary_encoding/min_max/train/y_train_binary_encoding_min_max.csv')\n",
        "Y_train_binary_standar = pd.read_csv('https://raw.githubusercontent.com/MaldonadoVihlai/proyecto_CDA/main/Entrega_2/data/binary_encoding/standard/train/Y_train_binary_encoding_standard.csv')\n",
        "Y_train_onehot_min_max = pd.read_csv('https://raw.githubusercontent.com/MaldonadoVihlai/proyecto_CDA/main/Entrega_2/data/one_hot_encoding/min_max/train/y_train_one_hot_encoding_min_max.csv')\n",
        "Y_train_onehot_standar = pd.read_csv('https://raw.githubusercontent.com/MaldonadoVihlai/proyecto_CDA/main/Entrega_2/data/one_hot_encoding/standard/train/y_train_one_hot_encoding_standard.csv')"
      ],
      "metadata": {
        "id": "9oXpBOHhq7aH"
      },
      "execution_count": 3,
      "outputs": []
    },
    {
      "cell_type": "markdown",
      "source": [
        "## Y test"
      ],
      "metadata": {
        "id": "V6_Y8RNQABTg"
      }
    },
    {
      "cell_type": "code",
      "source": [
        "Y_test_binary_min_max = pd.read_csv('https://raw.githubusercontent.com/MaldonadoVihlai/proyecto_CDA/main/Entrega_2/data/binary_encoding/min_max/test/y_test_binary_encoding_min_max.csv')\n",
        "Y_test_binary_standar = pd.read_csv('https://raw.githubusercontent.com/MaldonadoVihlai/proyecto_CDA/main/Entrega_2/data/binary_encoding/standard/test/Y_test_binary_encoding_standard.csv')\n",
        "Y_test_onehot_min_max = pd.read_csv('https://raw.githubusercontent.com/MaldonadoVihlai/proyecto_CDA/main/Entrega_2/data/one_hot_encoding/min_max/test/y_test_one_hot_encoding_min_max.csv')\n",
        "Y_test_onehot_standar = pd.read_csv('https://raw.githubusercontent.com/MaldonadoVihlai/proyecto_CDA/main/Entrega_2/data/one_hot_encoding/standard/test/y_test_one_hot_encoding_standard.csv')"
      ],
      "metadata": {
        "id": "2Ftv2c5iABuj"
      },
      "execution_count": 16,
      "outputs": []
    },
    {
      "cell_type": "markdown",
      "source": [
        "## Y Val"
      ],
      "metadata": {
        "id": "sWAQxElxB7I7"
      }
    },
    {
      "cell_type": "code",
      "source": [
        "Y_val_binary_min_max = pd.read_csv('https://raw.githubusercontent.com/MaldonadoVihlai/proyecto_CDA/main/Entrega_2/data/binary_encoding/min_max/val/y_val_binary_encoding_min_max.csv')\n",
        "Y_val_binary_standar = pd.read_csv('https://raw.githubusercontent.com/MaldonadoVihlai/proyecto_CDA/main/Entrega_2/data/binary_encoding/standard/val/y_val_binary_encoding_standard.csv')\n",
        "Y_val_onehot_min_max = pd.read_csv('https://raw.githubusercontent.com/MaldonadoVihlai/proyecto_CDA/main/Entrega_2/data/one_hot_encoding/min_max/val/y_val_one_hot_encoding_min_max.csv')\n",
        "Y_val_onehot_standar = pd.read_csv('https://raw.githubusercontent.com/MaldonadoVihlai/proyecto_CDA/main/Entrega_2/data/one_hot_encoding/standard/val/y_val_one_hot_encoding_standard.csv')"
      ],
      "metadata": {
        "id": "hXbApjpsB7ft"
      },
      "execution_count": 25,
      "outputs": []
    },
    {
      "cell_type": "markdown",
      "source": [
        "# Modelo"
      ],
      "metadata": {
        "id": "6l7yhLNpmd9h"
      }
    },
    {
      "cell_type": "code",
      "source": [
        "# Number of trees in random forest\n",
        "n_estimators = [int(x) for x in np.linspace(start = 200, stop = 1000, num = 5)]\n",
        "# Number of features to consider at every split\n",
        "max_features = ['auto', 'sqrt']\n",
        "# Maximum number of levels in tree\n",
        "max_depth = [int(x) for x in np.linspace(10, 30, num = 3)]\n",
        "max_depth.append(None)\n",
        "# Minimum number of samples required to split a node\n",
        "min_samples_split = [2, 5, 10]\n",
        "# Minimum number of samples required at each leaf node\n",
        "min_samples_leaf = [1, 2, 4]\n",
        "# Method of selecting samples for training each tree\n",
        "bootstrap = [True, False]\n",
        "# Create the random grid\n",
        "random_grid = {'n_estimators': n_estimators,\n",
        "               'max_features': max_features,\n",
        "               'max_depth': max_depth,\n",
        "               'min_samples_split': min_samples_split,\n",
        "               'min_samples_leaf': min_samples_leaf,\n",
        "               'bootstrap': bootstrap}\n",
        "print(random_grid)"
      ],
      "metadata": {
        "colab": {
          "base_uri": "https://localhost:8080/"
        },
        "id": "sb2O35k4mdj0",
        "outputId": "eafa9f9f-1aff-4cef-bb8f-cff4a1e81158"
      },
      "execution_count": 10,
      "outputs": [
        {
          "output_type": "stream",
          "name": "stdout",
          "text": [
            "{'n_estimators': [200, 400, 600, 800, 1000], 'max_features': ['auto', 'sqrt'], 'max_depth': [10, 20, 30, None], 'min_samples_split': [2, 5, 10], 'min_samples_leaf': [1, 2, 4], 'bootstrap': [True, False]}\n"
          ]
        }
      ]
    },
    {
      "cell_type": "markdown",
      "source": [
        "Al final seran 720 diferentes combinaciones de hiperparametros"
      ],
      "metadata": {
        "id": "wjIk6epFouU-"
      }
    },
    {
      "cell_type": "markdown",
      "source": [
        "# Evaluar Modelos "
      ],
      "metadata": {
        "id": "uLi3CCHmslde"
      }
    },
    {
      "cell_type": "markdown",
      "source": [
        "## Binanry encoding Min Max scaler"
      ],
      "metadata": {
        "id": "ErtSotWussVI"
      }
    },
    {
      "cell_type": "code",
      "source": [
        "# Use the random grid to search for best hyperparameters\n",
        "# First create the base model to tune\n",
        "rf = RandomForestRegressor()\n",
        "# Random search of parameters, using 3 fold cross validation, \n",
        "# search across 100 different combinations, and use all available cores\n",
        "rf_random_1 = RandomizedSearchCV(estimator = rf, param_distributions = random_grid,\n",
        "                               n_iter = 100, cv = 3, verbose=2, random_state=42,\n",
        "                               n_jobs = -1, scoring = \"neg_mean_squared_error\")\n",
        "# Fit the random search model\n",
        "rf_random_1.fit(X_train_binary_min_max, Y_train_binary_min_max)"
      ],
      "metadata": {
        "colab": {
          "base_uri": "https://localhost:8080/"
        },
        "id": "DxqH32CtortA",
        "outputId": "8a4e3410-217a-45d6-e48c-d29cfabb78c4"
      },
      "execution_count": null,
      "outputs": [
        {
          "output_type": "stream",
          "name": "stdout",
          "text": [
            "Fitting 3 folds for each of 100 candidates, totalling 300 fits\n"
          ]
        },
        {
          "output_type": "stream",
          "name": "stderr",
          "text": [
            "/usr/local/lib/python3.7/dist-packages/sklearn/model_selection/_search.py:926: DataConversionWarning: A column-vector y was passed when a 1d array was expected. Please change the shape of y to (n_samples,), for example using ravel().\n",
            "  self.best_estimator_.fit(X, y, **fit_params)\n"
          ]
        },
        {
          "output_type": "execute_result",
          "data": {
            "text/plain": [
              "RandomizedSearchCV(cv=3, estimator=RandomForestRegressor(), n_iter=100,\n",
              "                   n_jobs=-1,\n",
              "                   param_distributions={'bootstrap': [True, False],\n",
              "                                        'max_depth': [10, 20, 30, None],\n",
              "                                        'max_features': ['auto', 'sqrt'],\n",
              "                                        'min_samples_leaf': [1, 2, 4],\n",
              "                                        'min_samples_split': [2, 5, 10],\n",
              "                                        'n_estimators': [200, 400, 600, 800,\n",
              "                                                         1000]},\n",
              "                   random_state=42, scoring='neg_mean_squared_error',\n",
              "                   verbose=2)"
            ]
          },
          "metadata": {},
          "execution_count": 10
        }
      ]
    },
    {
      "cell_type": "code",
      "source": [
        "print(\" Results from Random Search \" )\n",
        "print(\"\\n The best estimator across ALL searched params:\\n\", rf_random_1.best_estimator_)\n",
        "print(\"\\n The best score across ALL searched params:\\n\", rf_random_1.best_score_)\n",
        "print(\"\\n The best parameters across ALL searched params:\\n\", rf_random_1.best_params_)"
      ],
      "metadata": {
        "colab": {
          "base_uri": "https://localhost:8080/"
        },
        "id": "QYWrqLIYszb5",
        "outputId": "e54839c1-fe5b-442d-f04f-72b4fd96b61e"
      },
      "execution_count": null,
      "outputs": [
        {
          "output_type": "stream",
          "name": "stdout",
          "text": [
            " Results from Random Search \n",
            "\n",
            " The best estimator across ALL searched params:\n",
            " RandomForestRegressor(max_depth=10, max_features='sqrt', min_samples_leaf=4,\n",
            "                      min_samples_split=10, n_estimators=400)\n",
            "\n",
            " The best score across ALL searched params:\n",
            " -95722874315.05272\n",
            "\n",
            " The best parameters across ALL searched params:\n",
            " {'n_estimators': 400, 'min_samples_split': 10, 'min_samples_leaf': 4, 'max_features': 'sqrt', 'max_depth': 10, 'bootstrap': True}\n"
          ]
        }
      ]
    },
    {
      "cell_type": "markdown",
      "source": [
        "## Binanry encoding Standar scaler"
      ],
      "metadata": {
        "id": "8-4VpI1jsyt2"
      }
    },
    {
      "cell_type": "code",
      "source": [
        "# Random search of parameters, using 3 fold cross validation, \n",
        "# search across 100 different combinations, and use all available cores\n",
        "rf_random_2 = RandomizedSearchCV(estimator = rf, param_distributions = random_grid,\n",
        "                               n_iter = 100, cv = 3, verbose=2, random_state=42,\n",
        "                               n_jobs = -1, scoring = \"neg_mean_squared_error\")\n",
        "# Fit the random search model\n",
        "rf_random_2.fit(X_train_binary_standar, Y_train_binary_standar)"
      ],
      "metadata": {
        "colab": {
          "base_uri": "https://localhost:8080/"
        },
        "id": "dzhA7TWSp51Y",
        "outputId": "de8d3690-1d17-49c8-c1c0-c3ef03338388"
      },
      "execution_count": null,
      "outputs": [
        {
          "output_type": "stream",
          "name": "stdout",
          "text": [
            "Fitting 3 folds for each of 100 candidates, totalling 300 fits\n"
          ]
        },
        {
          "output_type": "stream",
          "name": "stderr",
          "text": [
            "/usr/local/lib/python3.7/dist-packages/sklearn/model_selection/_search.py:926: DataConversionWarning: A column-vector y was passed when a 1d array was expected. Please change the shape of y to (n_samples,), for example using ravel().\n",
            "  self.best_estimator_.fit(X, y, **fit_params)\n"
          ]
        },
        {
          "output_type": "execute_result",
          "data": {
            "text/plain": [
              "RandomizedSearchCV(cv=3, estimator=RandomForestRegressor(), n_iter=100,\n",
              "                   n_jobs=-1,\n",
              "                   param_distributions={'bootstrap': [True, False],\n",
              "                                        'max_depth': [10, 20, 30, None],\n",
              "                                        'max_features': ['auto', 'sqrt'],\n",
              "                                        'min_samples_leaf': [1, 2, 4],\n",
              "                                        'min_samples_split': [2, 5, 10],\n",
              "                                        'n_estimators': [200, 400, 600, 800,\n",
              "                                                         1000]},\n",
              "                   random_state=42, scoring='neg_mean_squared_error',\n",
              "                   verbose=2)"
            ]
          },
          "metadata": {},
          "execution_count": 14
        }
      ]
    },
    {
      "cell_type": "code",
      "source": [
        "print(\" Results from Random Search \" )\n",
        "print(\"\\n The best estimator across ALL searched params:\\n\", rf_random_2.best_estimator_)\n",
        "print(\"\\n The best score across ALL searched params:\\n\", rf_random_2.best_score_)\n",
        "print(\"\\n The best parameters across ALL searched params:\\n\", rf_random_2.best_params_)"
      ],
      "metadata": {
        "colab": {
          "base_uri": "https://localhost:8080/"
        },
        "id": "qeXQ6pfOmYMF",
        "outputId": "110ece3e-8309-4030-e45e-a5f58ca0f9c1"
      },
      "execution_count": null,
      "outputs": [
        {
          "output_type": "stream",
          "name": "stdout",
          "text": [
            " Results from Random Search \n",
            "\n",
            " The best estimator across ALL searched params:\n",
            " RandomForestRegressor(max_depth=10, max_features='sqrt', min_samples_leaf=4,\n",
            "                      min_samples_split=5, n_estimators=1000)\n",
            "\n",
            " The best score across ALL searched params:\n",
            " -95348652800.70549\n",
            "\n",
            " The best parameters across ALL searched params:\n",
            " {'n_estimators': 1000, 'min_samples_split': 5, 'min_samples_leaf': 4, 'max_features': 'sqrt', 'max_depth': 10, 'bootstrap': True}\n"
          ]
        }
      ]
    },
    {
      "cell_type": "markdown",
      "source": [
        "## One hot encoding Min Max scaler"
      ],
      "metadata": {
        "id": "vNs_ZAugzDxb"
      }
    },
    {
      "cell_type": "code",
      "source": [
        "# Random search of parameters, using 3 fold cross validation, \n",
        "# search across 100 different combinations, and use all available cores\n",
        "rf_random_3 = RandomizedSearchCV(estimator = rf, param_distributions = random_grid,\n",
        "                               n_iter = 100, cv = 3, verbose=2, random_state=42,\n",
        "                               n_jobs = -1, scoring = \"neg_mean_squared_error\")\n",
        "# Fit the random search model\n",
        "rf_random_3.fit(X_train_onehot_min_max, Y_train_onehot_min_max)"
      ],
      "metadata": {
        "colab": {
          "base_uri": "https://localhost:8080/"
        },
        "id": "ZXARoR-JzG4o",
        "outputId": "7502dcdd-ba89-43c4-9d5e-e32fe16850dc"
      },
      "execution_count": null,
      "outputs": [
        {
          "output_type": "stream",
          "name": "stdout",
          "text": [
            "Fitting 3 folds for each of 100 candidates, totalling 300 fits\n"
          ]
        },
        {
          "output_type": "stream",
          "name": "stderr",
          "text": [
            "/usr/local/lib/python3.7/dist-packages/joblib/externals/loky/process_executor.py:703: UserWarning: A worker stopped while some jobs were given to the executor. This can be caused by a too short worker timeout or by a memory leak.\n",
            "  \"timeout or by a memory leak.\", UserWarning\n",
            "/usr/local/lib/python3.7/dist-packages/sklearn/model_selection/_search.py:926: DataConversionWarning: A column-vector y was passed when a 1d array was expected. Please change the shape of y to (n_samples,), for example using ravel().\n",
            "  self.best_estimator_.fit(X, y, **fit_params)\n"
          ]
        },
        {
          "output_type": "execute_result",
          "data": {
            "text/plain": [
              "RandomizedSearchCV(cv=3, estimator=RandomForestRegressor(), n_iter=100,\n",
              "                   n_jobs=-1,\n",
              "                   param_distributions={'bootstrap': [True, False],\n",
              "                                        'max_depth': [10, 20, 30, None],\n",
              "                                        'max_features': ['auto', 'sqrt'],\n",
              "                                        'min_samples_leaf': [1, 2, 4],\n",
              "                                        'min_samples_split': [2, 5, 10],\n",
              "                                        'n_estimators': [200, 400, 600, 800,\n",
              "                                                         1000]},\n",
              "                   random_state=42, scoring='neg_mean_squared_error',\n",
              "                   verbose=2)"
            ]
          },
          "metadata": {},
          "execution_count": 16
        }
      ]
    },
    {
      "cell_type": "code",
      "source": [
        "print(\" Results from Random Search \" )\n",
        "print(\"\\n The best estimator across ALL searched params:\\n\", rf_random_3.best_estimator_)\n",
        "print(\"\\n The best score across ALL searched params:\\n\", rf_random_3.best_score_)\n",
        "print(\"\\n The best parameters across ALL searched params:\\n\", rf_random_3.best_params_)"
      ],
      "metadata": {
        "id": "pO3Eb0-nzUdK",
        "colab": {
          "base_uri": "https://localhost:8080/"
        },
        "outputId": "2d158d5c-1d04-450c-a312-9340598ead54"
      },
      "execution_count": null,
      "outputs": [
        {
          "output_type": "stream",
          "name": "stdout",
          "text": [
            " Results from Random Search \n",
            "\n",
            " The best estimator across ALL searched params:\n",
            " RandomForestRegressor(max_depth=10, max_features='sqrt', min_samples_leaf=4,\n",
            "                      n_estimators=800)\n",
            "\n",
            " The best score across ALL searched params:\n",
            " -95681121117.6582\n",
            "\n",
            " The best parameters across ALL searched params:\n",
            " {'n_estimators': 800, 'min_samples_split': 2, 'min_samples_leaf': 4, 'max_features': 'sqrt', 'max_depth': 10, 'bootstrap': True}\n"
          ]
        }
      ]
    },
    {
      "cell_type": "markdown",
      "source": [
        "## One hot encoding Standar scaler"
      ],
      "metadata": {
        "id": "Ubh2Dj-qzBIZ"
      }
    },
    {
      "cell_type": "code",
      "source": [
        "# Random search of parameters, using 3 fold cross validation, \n",
        "# search across 100 different combinations, and use all available cores\n",
        "rf_random_4 = RandomizedSearchCV(estimator = rf, param_distributions = random_grid,\n",
        "                               n_iter = 100, cv = 3, verbose=2, random_state=42,\n",
        "                               n_jobs = -1, scoring = \"neg_mean_squared_error\")\n",
        "# Fit the random search model\n",
        "rf_random_4.fit(X_train_onehot_standar, Y_train_onehot_standar)"
      ],
      "metadata": {
        "id": "A32OoJJ6zlmL",
        "colab": {
          "base_uri": "https://localhost:8080/"
        },
        "outputId": "29405e5e-3d4c-46e1-a797-dac088913559"
      },
      "execution_count": 11,
      "outputs": [
        {
          "output_type": "stream",
          "name": "stdout",
          "text": [
            "Fitting 3 folds for each of 100 candidates, totalling 300 fits\n"
          ]
        },
        {
          "output_type": "stream",
          "name": "stderr",
          "text": [
            "/usr/local/lib/python3.7/dist-packages/joblib/externals/loky/process_executor.py:703: UserWarning: A worker stopped while some jobs were given to the executor. This can be caused by a too short worker timeout or by a memory leak.\n",
            "  \"timeout or by a memory leak.\", UserWarning\n",
            "/usr/local/lib/python3.7/dist-packages/sklearn/model_selection/_search.py:926: DataConversionWarning: A column-vector y was passed when a 1d array was expected. Please change the shape of y to (n_samples,), for example using ravel().\n",
            "  self.best_estimator_.fit(X, y, **fit_params)\n"
          ]
        },
        {
          "output_type": "execute_result",
          "data": {
            "text/plain": [
              "RandomizedSearchCV(cv=3, estimator=RandomForestRegressor(), n_iter=100,\n",
              "                   n_jobs=-1,\n",
              "                   param_distributions={'bootstrap': [True, False],\n",
              "                                        'max_depth': [10, 20, 30, None],\n",
              "                                        'max_features': ['auto', 'sqrt'],\n",
              "                                        'min_samples_leaf': [1, 2, 4],\n",
              "                                        'min_samples_split': [2, 5, 10],\n",
              "                                        'n_estimators': [200, 400, 600, 800,\n",
              "                                                         1000]},\n",
              "                   random_state=42, scoring='neg_mean_squared_error',\n",
              "                   verbose=2)"
            ]
          },
          "metadata": {},
          "execution_count": 11
        }
      ]
    },
    {
      "cell_type": "code",
      "source": [
        "print(\" Results from Random Search \" )\n",
        "print(\"\\n The best estimator across ALL searched params:\\n\", rf_random_4.best_estimator_)\n",
        "print(\"\\n The best score across ALL searched params:\\n\", rf_random_4.best_score_)\n",
        "print(\"\\n The best parameters across ALL searched params:\\n\", rf_random_4.best_params_)"
      ],
      "metadata": {
        "id": "-8iXqKXczugp",
        "colab": {
          "base_uri": "https://localhost:8080/"
        },
        "outputId": "5e9c9fcc-d667-40e2-c6bc-29b653dd5e95"
      },
      "execution_count": 12,
      "outputs": [
        {
          "output_type": "stream",
          "name": "stdout",
          "text": [
            " Results from Random Search \n",
            "\n",
            " The best estimator across ALL searched params:\n",
            " RandomForestRegressor(max_depth=30, min_samples_leaf=2, min_samples_split=10,\n",
            "                      n_estimators=1000)\n",
            "\n",
            " The best score across ALL searched params:\n",
            " -84653229.70503695\n",
            "\n",
            " The best parameters across ALL searched params:\n",
            " {'n_estimators': 1000, 'min_samples_split': 10, 'min_samples_leaf': 2, 'max_features': 'auto', 'max_depth': 30, 'bootstrap': True}\n"
          ]
        }
      ]
    },
    {
      "cell_type": "markdown",
      "source": [
        "# Volver a entrenar el mejor modelo"
      ],
      "metadata": {
        "id": "W0aTpjjqllfM"
      }
    },
    {
      "cell_type": "code",
      "source": [
        "# Number of trees in random forest\n",
        "n_estimators = [int(x) for x in np.linspace(start = 200, stop = 300, num = 5)]\n",
        "# Number of features to consider at every split\n",
        "max_features = ['auto']\n",
        "# Maximum number of levels in tree\n",
        "max_depth = [None]\n",
        "# Minimum number of samples required to split a node\n",
        "min_samples_split = [5,8]\n",
        "# Minimum number of samples required at each leaf node\n",
        "min_samples_leaf = [2]\n",
        "# Method of selecting samples for training each tree\n",
        "bootstrap = [True]\n",
        "# Create the random grid\n",
        "random_grid_2 = {'n_estimators': n_estimators,\n",
        "               'max_features': max_features,\n",
        "               'max_depth': max_depth,\n",
        "               'min_samples_split': min_samples_split,\n",
        "               'min_samples_leaf': min_samples_leaf,\n",
        "               'bootstrap': bootstrap}\n",
        "print(random_grid_2)"
      ],
      "metadata": {
        "colab": {
          "base_uri": "https://localhost:8080/"
        },
        "id": "fyuAN-ZGlkyk",
        "outputId": "c8ccfa31-2a3a-48bd-f6c9-0d8edbc04653"
      },
      "execution_count": 6,
      "outputs": [
        {
          "output_type": "stream",
          "name": "stdout",
          "text": [
            "{'n_estimators': [200, 225, 250, 275, 300], 'max_features': ['auto'], 'max_depth': [None], 'min_samples_split': [5, 8], 'min_samples_leaf': [2], 'bootstrap': [True]}\n"
          ]
        }
      ]
    },
    {
      "cell_type": "code",
      "source": [
        "# Use the random grid to search for best hyperparameters\n",
        "# First create the base model to tune\n",
        "rf = RandomForestRegressor()\n",
        "# Random search of parameters, using 3 fold cross validation, \n",
        "# search across 100 different combinations, and use all available cores\n",
        "rf_random_5 = RandomizedSearchCV(estimator = rf, param_distributions = random_grid_2,\n",
        "                               n_iter = 100, cv = 5, verbose=2, random_state=42,\n",
        "                               n_jobs = -1, scoring = \"neg_mean_squared_error\")\n",
        "# Fit the random search model\n",
        "rf_random_5.fit(X_train_onehot_standar, Y_train_onehot_standar.values.ravel())"
      ],
      "metadata": {
        "colab": {
          "base_uri": "https://localhost:8080/"
        },
        "id": "_1fdbYqIlgTI",
        "outputId": "8e444104-53b5-4f84-c856-632987ccb603"
      },
      "execution_count": 9,
      "outputs": [
        {
          "output_type": "stream",
          "name": "stderr",
          "text": [
            "/usr/local/lib/python3.7/dist-packages/sklearn/model_selection/_search.py:296: UserWarning: The total space of parameters 10 is smaller than n_iter=100. Running 10 iterations. For exhaustive searches, use GridSearchCV.\n",
            "  UserWarning,\n"
          ]
        },
        {
          "output_type": "stream",
          "name": "stdout",
          "text": [
            "Fitting 5 folds for each of 10 candidates, totalling 50 fits\n"
          ]
        },
        {
          "output_type": "execute_result",
          "data": {
            "text/plain": [
              "RandomizedSearchCV(cv=5, estimator=RandomForestRegressor(), n_iter=100,\n",
              "                   n_jobs=-1,\n",
              "                   param_distributions={'bootstrap': [True],\n",
              "                                        'max_depth': [None],\n",
              "                                        'max_features': ['auto'],\n",
              "                                        'min_samples_leaf': [2],\n",
              "                                        'min_samples_split': [5, 8],\n",
              "                                        'n_estimators': [200, 225, 250, 275,\n",
              "                                                         300]},\n",
              "                   random_state=42, scoring='neg_mean_squared_error',\n",
              "                   verbose=2)"
            ]
          },
          "metadata": {},
          "execution_count": 9
        }
      ]
    },
    {
      "cell_type": "code",
      "source": [
        "print(\" Results from Random Search \" )\n",
        "print(\"\\n The best estimator across ALL searched params:\\n\", rf_random_5.best_estimator_)\n",
        "print(\"\\n The best score across ALL searched params:\\n\", rf_random_5.best_score_)\n",
        "print(\"\\n The best parameters across ALL searched params:\\n\", rf_random_5.best_params_)"
      ],
      "metadata": {
        "colab": {
          "base_uri": "https://localhost:8080/"
        },
        "id": "ZFXUKMKHm53H",
        "outputId": "0ebb07b1-b4dc-43d8-e3a4-d384436f864c"
      },
      "execution_count": 13,
      "outputs": [
        {
          "output_type": "stream",
          "name": "stdout",
          "text": [
            " Results from Random Search \n",
            "\n",
            " The best estimator across ALL searched params:\n",
            " RandomForestRegressor(min_samples_leaf=2, min_samples_split=8, n_estimators=250)\n",
            "\n",
            " The best score across ALL searched params:\n",
            " -81574475.35904656\n",
            "\n",
            " The best parameters across ALL searched params:\n",
            " {'n_estimators': 250, 'min_samples_split': 8, 'min_samples_leaf': 2, 'max_features': 'auto', 'max_depth': None, 'bootstrap': True}\n"
          ]
        }
      ]
    },
    {
      "cell_type": "markdown",
      "source": [
        "# Probar el modelo con X Test"
      ],
      "metadata": {
        "id": "FTW-zvuK_YCH"
      }
    },
    {
      "cell_type": "code",
      "source": [
        "Y_pred_test=rf_random_5.predict(X_test_onehot_standar)\n",
        "Y_pred_train=rf_random_5.predict(X_train_onehot_standar)\n",
        "Y_pred_val=rf_random_5.predict(X_val_onehot_standar)"
      ],
      "metadata": {
        "id": "XUAccFgfxrd_"
      },
      "execution_count": 27,
      "outputs": []
    },
    {
      "cell_type": "markdown",
      "source": [
        "## Test"
      ],
      "metadata": {
        "id": "lxsKhDw3CUh_"
      }
    },
    {
      "cell_type": "code",
      "source": [
        "print('R2: ',r2_score(Y_train_onehot_standar,Y_pred_train))\n",
        "print('MAE: ',mean_absolute_error(Y_train_onehot_standar,Y_pred_train))\n",
        "print('MSE: ',mean_squared_error(Y_train_onehot_standar,Y_pred_train))\n",
        "print('RMSE: ',np.sqrt(mean_squared_error(Y_train_onehot_standar,Y_pred_train)))"
      ],
      "metadata": {
        "colab": {
          "base_uri": "https://localhost:8080/"
        },
        "id": "04K2rXveCJ9e",
        "outputId": "9cc0010a-395a-4d24-8179-c304528d5f8e"
      },
      "execution_count": 31,
      "outputs": [
        {
          "output_type": "stream",
          "name": "stdout",
          "text": [
            "R2:  0.8691586552202307\n",
            "MAE:  3070.976633213137\n",
            "MSE:  33718432.5276996\n",
            "RMSE:  5806.757488280322\n"
          ]
        }
      ]
    },
    {
      "cell_type": "markdown",
      "source": [
        "## Train\n"
      ],
      "metadata": {
        "id": "2K5vpZoZCV_a"
      }
    },
    {
      "cell_type": "code",
      "source": [
        "print('R2: ',r2_score(Y_train_onehot_standar,Y_pred_train))\n",
        "print('MAE: ',mean_absolute_error(Y_train_onehot_standar,Y_pred_train))\n",
        "print('MSE: ',mean_squared_error(Y_train_onehot_standar,Y_pred_train))\n",
        "print('RMSE: ',np.sqrt(mean_squared_error(Y_train_onehot_standar,Y_pred_train)))"
      ],
      "metadata": {
        "colab": {
          "base_uri": "https://localhost:8080/"
        },
        "id": "Te71buq5Agtb",
        "outputId": "edea28c3-f5bf-4479-e9e2-7166d88668cc"
      },
      "execution_count": 32,
      "outputs": [
        {
          "output_type": "stream",
          "name": "stdout",
          "text": [
            "R2:  -0.0011614706829388144\n",
            "MAE:  19205.18001175468\n",
            "MSE:  378961769387.9565\n",
            "RMSE:  615598.7080785311\n"
          ]
        }
      ]
    },
    {
      "cell_type": "markdown",
      "source": [
        "## Val"
      ],
      "metadata": {
        "id": "tWxlQaeiCXl7"
      }
    },
    {
      "cell_type": "code",
      "source": [
        "print('R2: ',r2_score(Y_val_onehot_standar,Y_pred_val))\n",
        "print('MAE: ',mean_absolute_error(Y_val_onehot_standar,Y_pred_val))\n",
        "print('MSE: ',mean_squared_error(Y_val_onehot_standar,Y_pred_val))\n",
        "print('RMSE: ',np.sqrt(mean_squared_error(Y_val_onehot_standar,Y_pred_val)))"
      ],
      "metadata": {
        "colab": {
          "base_uri": "https://localhost:8080/"
        },
        "id": "ypDClWPKAUeS",
        "outputId": "0b54dedf-d14c-4a3f-a167-e8f529e3c973"
      },
      "execution_count": 33,
      "outputs": [
        {
          "output_type": "stream",
          "name": "stdout",
          "text": [
            "R2:  0.47999514850997116\n",
            "MAE:  5123.272669235174\n",
            "MSE:  311339483.9283134\n",
            "RMSE:  17644.81464703762\n"
          ]
        }
      ]
    }
  ]
}