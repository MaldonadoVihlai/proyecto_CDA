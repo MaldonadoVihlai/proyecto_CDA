{
  "cells": [
    {
      "cell_type": "code",
      "execution_count": 31,
      "metadata": {
        "id": "GYRemkv8IsUU"
      },
      "outputs": [],
      "source": [
        "from glob import glob\n",
        "import pandas as pd\n",
        "import numpy as np\n",
        "from sklearn.svm import SVR\n",
        "\n",
        "import matplotlib.pyplot as plt\n",
        "%matplotlib inline\n",
        "plt.style.use('ggplot')\n",
        "import joblib\n",
        "import warnings\n",
        "warnings.filterwarnings(\"ignore\")\n",
        "from sklearn.model_selection import RandomizedSearchCV, GridSearchCV\n",
        "from sklearn.metrics import mean_squared_error, mean_absolute_error, r2_score"
      ]
    },
    {
      "cell_type": "markdown",
      "metadata": {
        "id": "FVeuix7fNyb9"
      },
      "source": [
        "# Reading data\n",
        "\n",
        "Reading data for training and validation"
      ]
    },
    {
      "cell_type": "code",
      "execution_count": 3,
      "metadata": {
        "id": "P6wuZKWKa8bz"
      },
      "outputs": [],
      "source": []
    },
    {
      "cell_type": "code",
      "execution_count": 4,
      "metadata": {
        "id": "vlvgcrj0Nehr"
      },
      "outputs": [],
      "source": [
        "path='/content/drive/MyDrive/data/binary_encoding/min_max/'\n",
        "X_train=pd.read_csv(path+'train/X_train_binary_encoding_min_max.csv')\n",
        "Y_train=pd.read_csv(path+'train/y_train_binary_encoding_min_max.csv')\n",
        "X_val=pd.read_csv(path+'val/X_val_binary_encoding_min_max.csv')\n",
        "Y_val=pd.read_csv(path+'val/y_val_binary_encoding_min_max.csv')\n",
        "X_test=pd.read_csv(path+'test/X_test_binary_encoding_min_max.csv')\n",
        "Y_test=pd.read_csv(path+'test/y_test_binary_encoding_min_max.csv')\n",
        "\n"
      ]
    },
    {
      "cell_type": "code",
      "execution_count": 5,
      "metadata": {
        "colab": {
          "base_uri": "https://localhost:8080/",
          "height": 505
        },
        "id": "Vn2VPUYsdvpI",
        "outputId": "9d6f7aa7-4d9d-41f1-b01b-b8f4044b05b2"
      },
      "outputs": [
        {
          "output_type": "execute_result",
          "data": {
            "text/plain": [
              "          Levy  Manufacturer_0  Manufacturer_1  Manufacturer_2  \\\n",
              "0     0.245467             0.0             0.0             0.0   \n",
              "1     0.388656             0.0             0.0             0.0   \n",
              "2     0.000000             0.0             0.0             0.0   \n",
              "3     0.000000             0.0             0.0             0.0   \n",
              "4     0.000000             0.0             0.0             0.0   \n",
              "...        ...             ...             ...             ...   \n",
              "7299  0.386332             0.0             0.0             0.0   \n",
              "7300  0.000000             0.0             0.0             1.0   \n",
              "7301  0.000000             0.0             0.0             1.0   \n",
              "7302  0.297536             0.0             0.0             0.0   \n",
              "7303  0.233380             0.0             0.0             1.0   \n",
              "\n",
              "      Manufacturer_3  Manufacturer_4  Manufacturer_5  Model_0  Model_1  \\\n",
              "0                1.0             0.0             0.0      0.0      0.0   \n",
              "1                1.0             0.0             0.0      0.0      0.0   \n",
              "2                0.0             1.0             1.0      0.0      0.0   \n",
              "3                0.0             1.0             0.0      0.0      0.0   \n",
              "4                0.0             1.0             1.0      0.0      0.0   \n",
              "...              ...             ...             ...      ...      ...   \n",
              "7299             0.0             1.0             1.0      0.0      1.0   \n",
              "7300             1.0             1.0             0.0      0.0      0.0   \n",
              "7301             0.0             1.0             1.0      0.0      0.0   \n",
              "7302             0.0             0.0             1.0      0.0      0.0   \n",
              "7303             0.0             0.0             0.0      0.0      0.0   \n",
              "\n",
              "      Model_2  ...  Drive wheels_1  Doors  Wheel_0  Wheel_1  Color_0  Color_1  \\\n",
              "0         0.0  ...             0.0    0.5      0.0      1.0      0.0      0.0   \n",
              "1         0.0  ...             0.0    0.5      0.0      1.0      0.0      0.0   \n",
              "2         0.0  ...             0.0    1.0      0.0      1.0      0.0      0.0   \n",
              "3         0.0  ...             0.0    0.5      0.0      1.0      0.0      0.0   \n",
              "4         0.0  ...             1.0    0.0      0.0      1.0      0.0      0.0   \n",
              "...       ...  ...             ...    ...      ...      ...      ...      ...   \n",
              "7299      0.0  ...             0.0    0.5      0.0      1.0      0.0      1.0   \n",
              "7300      0.0  ...             1.0    0.5      0.0      1.0      0.0      0.0   \n",
              "7301      0.0  ...             0.0    0.5      1.0      0.0      0.0      0.0   \n",
              "7302      0.0  ...             0.0    0.5      0.0      1.0      0.0      0.0   \n",
              "7303      0.0  ...             0.0    0.5      0.0      1.0      0.0      0.0   \n",
              "\n",
              "      Color_2  Color_3  Color_4   Airbags  \n",
              "0         1.0      1.0      0.0  0.363636  \n",
              "1         0.0      1.0      0.0  0.363636  \n",
              "2         1.0      0.0      0.0  0.181818  \n",
              "3         0.0      1.0      1.0  0.545455  \n",
              "4         0.0      0.0      1.0  0.727273  \n",
              "...       ...      ...      ...       ...  \n",
              "7299      1.0      1.0      0.0  0.727273  \n",
              "7300      0.0      0.0      1.0  0.181818  \n",
              "7301      0.0      1.0      0.0  0.363636  \n",
              "7302      0.0      1.0      0.0  0.363636  \n",
              "7303      0.0      1.0      0.0  0.363636  \n",
              "\n",
              "[7304 rows x 45 columns]"
            ],
            "text/html": [
              "\n",
              "  <div id=\"df-d67e431e-2825-4006-9d6d-d6b958e2ce63\">\n",
              "    <div class=\"colab-df-container\">\n",
              "      <div>\n",
              "<style scoped>\n",
              "    .dataframe tbody tr th:only-of-type {\n",
              "        vertical-align: middle;\n",
              "    }\n",
              "\n",
              "    .dataframe tbody tr th {\n",
              "        vertical-align: top;\n",
              "    }\n",
              "\n",
              "    .dataframe thead th {\n",
              "        text-align: right;\n",
              "    }\n",
              "</style>\n",
              "<table border=\"1\" class=\"dataframe\">\n",
              "  <thead>\n",
              "    <tr style=\"text-align: right;\">\n",
              "      <th></th>\n",
              "      <th>Levy</th>\n",
              "      <th>Manufacturer_0</th>\n",
              "      <th>Manufacturer_1</th>\n",
              "      <th>Manufacturer_2</th>\n",
              "      <th>Manufacturer_3</th>\n",
              "      <th>Manufacturer_4</th>\n",
              "      <th>Manufacturer_5</th>\n",
              "      <th>Model_0</th>\n",
              "      <th>Model_1</th>\n",
              "      <th>Model_2</th>\n",
              "      <th>...</th>\n",
              "      <th>Drive wheels_1</th>\n",
              "      <th>Doors</th>\n",
              "      <th>Wheel_0</th>\n",
              "      <th>Wheel_1</th>\n",
              "      <th>Color_0</th>\n",
              "      <th>Color_1</th>\n",
              "      <th>Color_2</th>\n",
              "      <th>Color_3</th>\n",
              "      <th>Color_4</th>\n",
              "      <th>Airbags</th>\n",
              "    </tr>\n",
              "  </thead>\n",
              "  <tbody>\n",
              "    <tr>\n",
              "      <th>0</th>\n",
              "      <td>0.245467</td>\n",
              "      <td>0.0</td>\n",
              "      <td>0.0</td>\n",
              "      <td>0.0</td>\n",
              "      <td>1.0</td>\n",
              "      <td>0.0</td>\n",
              "      <td>0.0</td>\n",
              "      <td>0.0</td>\n",
              "      <td>0.0</td>\n",
              "      <td>0.0</td>\n",
              "      <td>...</td>\n",
              "      <td>0.0</td>\n",
              "      <td>0.5</td>\n",
              "      <td>0.0</td>\n",
              "      <td>1.0</td>\n",
              "      <td>0.0</td>\n",
              "      <td>0.0</td>\n",
              "      <td>1.0</td>\n",
              "      <td>1.0</td>\n",
              "      <td>0.0</td>\n",
              "      <td>0.363636</td>\n",
              "    </tr>\n",
              "    <tr>\n",
              "      <th>1</th>\n",
              "      <td>0.388656</td>\n",
              "      <td>0.0</td>\n",
              "      <td>0.0</td>\n",
              "      <td>0.0</td>\n",
              "      <td>1.0</td>\n",
              "      <td>0.0</td>\n",
              "      <td>0.0</td>\n",
              "      <td>0.0</td>\n",
              "      <td>0.0</td>\n",
              "      <td>0.0</td>\n",
              "      <td>...</td>\n",
              "      <td>0.0</td>\n",
              "      <td>0.5</td>\n",
              "      <td>0.0</td>\n",
              "      <td>1.0</td>\n",
              "      <td>0.0</td>\n",
              "      <td>0.0</td>\n",
              "      <td>0.0</td>\n",
              "      <td>1.0</td>\n",
              "      <td>0.0</td>\n",
              "      <td>0.363636</td>\n",
              "    </tr>\n",
              "    <tr>\n",
              "      <th>2</th>\n",
              "      <td>0.000000</td>\n",
              "      <td>0.0</td>\n",
              "      <td>0.0</td>\n",
              "      <td>0.0</td>\n",
              "      <td>0.0</td>\n",
              "      <td>1.0</td>\n",
              "      <td>1.0</td>\n",
              "      <td>0.0</td>\n",
              "      <td>0.0</td>\n",
              "      <td>0.0</td>\n",
              "      <td>...</td>\n",
              "      <td>0.0</td>\n",
              "      <td>1.0</td>\n",
              "      <td>0.0</td>\n",
              "      <td>1.0</td>\n",
              "      <td>0.0</td>\n",
              "      <td>0.0</td>\n",
              "      <td>1.0</td>\n",
              "      <td>0.0</td>\n",
              "      <td>0.0</td>\n",
              "      <td>0.181818</td>\n",
              "    </tr>\n",
              "    <tr>\n",
              "      <th>3</th>\n",
              "      <td>0.000000</td>\n",
              "      <td>0.0</td>\n",
              "      <td>0.0</td>\n",
              "      <td>0.0</td>\n",
              "      <td>0.0</td>\n",
              "      <td>1.0</td>\n",
              "      <td>0.0</td>\n",
              "      <td>0.0</td>\n",
              "      <td>0.0</td>\n",
              "      <td>0.0</td>\n",
              "      <td>...</td>\n",
              "      <td>0.0</td>\n",
              "      <td>0.5</td>\n",
              "      <td>0.0</td>\n",
              "      <td>1.0</td>\n",
              "      <td>0.0</td>\n",
              "      <td>0.0</td>\n",
              "      <td>0.0</td>\n",
              "      <td>1.0</td>\n",
              "      <td>1.0</td>\n",
              "      <td>0.545455</td>\n",
              "    </tr>\n",
              "    <tr>\n",
              "      <th>4</th>\n",
              "      <td>0.000000</td>\n",
              "      <td>0.0</td>\n",
              "      <td>0.0</td>\n",
              "      <td>0.0</td>\n",
              "      <td>0.0</td>\n",
              "      <td>1.0</td>\n",
              "      <td>1.0</td>\n",
              "      <td>0.0</td>\n",
              "      <td>0.0</td>\n",
              "      <td>0.0</td>\n",
              "      <td>...</td>\n",
              "      <td>1.0</td>\n",
              "      <td>0.0</td>\n",
              "      <td>0.0</td>\n",
              "      <td>1.0</td>\n",
              "      <td>0.0</td>\n",
              "      <td>0.0</td>\n",
              "      <td>0.0</td>\n",
              "      <td>0.0</td>\n",
              "      <td>1.0</td>\n",
              "      <td>0.727273</td>\n",
              "    </tr>\n",
              "    <tr>\n",
              "      <th>...</th>\n",
              "      <td>...</td>\n",
              "      <td>...</td>\n",
              "      <td>...</td>\n",
              "      <td>...</td>\n",
              "      <td>...</td>\n",
              "      <td>...</td>\n",
              "      <td>...</td>\n",
              "      <td>...</td>\n",
              "      <td>...</td>\n",
              "      <td>...</td>\n",
              "      <td>...</td>\n",
              "      <td>...</td>\n",
              "      <td>...</td>\n",
              "      <td>...</td>\n",
              "      <td>...</td>\n",
              "      <td>...</td>\n",
              "      <td>...</td>\n",
              "      <td>...</td>\n",
              "      <td>...</td>\n",
              "      <td>...</td>\n",
              "      <td>...</td>\n",
              "    </tr>\n",
              "    <tr>\n",
              "      <th>7299</th>\n",
              "      <td>0.386332</td>\n",
              "      <td>0.0</td>\n",
              "      <td>0.0</td>\n",
              "      <td>0.0</td>\n",
              "      <td>0.0</td>\n",
              "      <td>1.0</td>\n",
              "      <td>1.0</td>\n",
              "      <td>0.0</td>\n",
              "      <td>1.0</td>\n",
              "      <td>0.0</td>\n",
              "      <td>...</td>\n",
              "      <td>0.0</td>\n",
              "      <td>0.5</td>\n",
              "      <td>0.0</td>\n",
              "      <td>1.0</td>\n",
              "      <td>0.0</td>\n",
              "      <td>1.0</td>\n",
              "      <td>1.0</td>\n",
              "      <td>1.0</td>\n",
              "      <td>0.0</td>\n",
              "      <td>0.727273</td>\n",
              "    </tr>\n",
              "    <tr>\n",
              "      <th>7300</th>\n",
              "      <td>0.000000</td>\n",
              "      <td>0.0</td>\n",
              "      <td>0.0</td>\n",
              "      <td>1.0</td>\n",
              "      <td>1.0</td>\n",
              "      <td>1.0</td>\n",
              "      <td>0.0</td>\n",
              "      <td>0.0</td>\n",
              "      <td>0.0</td>\n",
              "      <td>0.0</td>\n",
              "      <td>...</td>\n",
              "      <td>1.0</td>\n",
              "      <td>0.5</td>\n",
              "      <td>0.0</td>\n",
              "      <td>1.0</td>\n",
              "      <td>0.0</td>\n",
              "      <td>0.0</td>\n",
              "      <td>0.0</td>\n",
              "      <td>0.0</td>\n",
              "      <td>1.0</td>\n",
              "      <td>0.181818</td>\n",
              "    </tr>\n",
              "    <tr>\n",
              "      <th>7301</th>\n",
              "      <td>0.000000</td>\n",
              "      <td>0.0</td>\n",
              "      <td>0.0</td>\n",
              "      <td>1.0</td>\n",
              "      <td>0.0</td>\n",
              "      <td>1.0</td>\n",
              "      <td>1.0</td>\n",
              "      <td>0.0</td>\n",
              "      <td>0.0</td>\n",
              "      <td>0.0</td>\n",
              "      <td>...</td>\n",
              "      <td>0.0</td>\n",
              "      <td>0.5</td>\n",
              "      <td>1.0</td>\n",
              "      <td>0.0</td>\n",
              "      <td>0.0</td>\n",
              "      <td>0.0</td>\n",
              "      <td>0.0</td>\n",
              "      <td>1.0</td>\n",
              "      <td>0.0</td>\n",
              "      <td>0.363636</td>\n",
              "    </tr>\n",
              "    <tr>\n",
              "      <th>7302</th>\n",
              "      <td>0.297536</td>\n",
              "      <td>0.0</td>\n",
              "      <td>0.0</td>\n",
              "      <td>0.0</td>\n",
              "      <td>0.0</td>\n",
              "      <td>0.0</td>\n",
              "      <td>1.0</td>\n",
              "      <td>0.0</td>\n",
              "      <td>0.0</td>\n",
              "      <td>0.0</td>\n",
              "      <td>...</td>\n",
              "      <td>0.0</td>\n",
              "      <td>0.5</td>\n",
              "      <td>0.0</td>\n",
              "      <td>1.0</td>\n",
              "      <td>0.0</td>\n",
              "      <td>0.0</td>\n",
              "      <td>0.0</td>\n",
              "      <td>1.0</td>\n",
              "      <td>0.0</td>\n",
              "      <td>0.363636</td>\n",
              "    </tr>\n",
              "    <tr>\n",
              "      <th>7303</th>\n",
              "      <td>0.233380</td>\n",
              "      <td>0.0</td>\n",
              "      <td>0.0</td>\n",
              "      <td>1.0</td>\n",
              "      <td>0.0</td>\n",
              "      <td>0.0</td>\n",
              "      <td>0.0</td>\n",
              "      <td>0.0</td>\n",
              "      <td>0.0</td>\n",
              "      <td>0.0</td>\n",
              "      <td>...</td>\n",
              "      <td>0.0</td>\n",
              "      <td>0.5</td>\n",
              "      <td>0.0</td>\n",
              "      <td>1.0</td>\n",
              "      <td>0.0</td>\n",
              "      <td>0.0</td>\n",
              "      <td>0.0</td>\n",
              "      <td>1.0</td>\n",
              "      <td>0.0</td>\n",
              "      <td>0.363636</td>\n",
              "    </tr>\n",
              "  </tbody>\n",
              "</table>\n",
              "<p>7304 rows × 45 columns</p>\n",
              "</div>\n",
              "      <button class=\"colab-df-convert\" onclick=\"convertToInteractive('df-d67e431e-2825-4006-9d6d-d6b958e2ce63')\"\n",
              "              title=\"Convert this dataframe to an interactive table.\"\n",
              "              style=\"display:none;\">\n",
              "        \n",
              "  <svg xmlns=\"http://www.w3.org/2000/svg\" height=\"24px\"viewBox=\"0 0 24 24\"\n",
              "       width=\"24px\">\n",
              "    <path d=\"M0 0h24v24H0V0z\" fill=\"none\"/>\n",
              "    <path d=\"M18.56 5.44l.94 2.06.94-2.06 2.06-.94-2.06-.94-.94-2.06-.94 2.06-2.06.94zm-11 1L8.5 8.5l.94-2.06 2.06-.94-2.06-.94L8.5 2.5l-.94 2.06-2.06.94zm10 10l.94 2.06.94-2.06 2.06-.94-2.06-.94-.94-2.06-.94 2.06-2.06.94z\"/><path d=\"M17.41 7.96l-1.37-1.37c-.4-.4-.92-.59-1.43-.59-.52 0-1.04.2-1.43.59L10.3 9.45l-7.72 7.72c-.78.78-.78 2.05 0 2.83L4 21.41c.39.39.9.59 1.41.59.51 0 1.02-.2 1.41-.59l7.78-7.78 2.81-2.81c.8-.78.8-2.07 0-2.86zM5.41 20L4 18.59l7.72-7.72 1.47 1.35L5.41 20z\"/>\n",
              "  </svg>\n",
              "      </button>\n",
              "      \n",
              "  <style>\n",
              "    .colab-df-container {\n",
              "      display:flex;\n",
              "      flex-wrap:wrap;\n",
              "      gap: 12px;\n",
              "    }\n",
              "\n",
              "    .colab-df-convert {\n",
              "      background-color: #E8F0FE;\n",
              "      border: none;\n",
              "      border-radius: 50%;\n",
              "      cursor: pointer;\n",
              "      display: none;\n",
              "      fill: #1967D2;\n",
              "      height: 32px;\n",
              "      padding: 0 0 0 0;\n",
              "      width: 32px;\n",
              "    }\n",
              "\n",
              "    .colab-df-convert:hover {\n",
              "      background-color: #E2EBFA;\n",
              "      box-shadow: 0px 1px 2px rgba(60, 64, 67, 0.3), 0px 1px 3px 1px rgba(60, 64, 67, 0.15);\n",
              "      fill: #174EA6;\n",
              "    }\n",
              "\n",
              "    [theme=dark] .colab-df-convert {\n",
              "      background-color: #3B4455;\n",
              "      fill: #D2E3FC;\n",
              "    }\n",
              "\n",
              "    [theme=dark] .colab-df-convert:hover {\n",
              "      background-color: #434B5C;\n",
              "      box-shadow: 0px 1px 3px 1px rgba(0, 0, 0, 0.15);\n",
              "      filter: drop-shadow(0px 1px 2px rgba(0, 0, 0, 0.3));\n",
              "      fill: #FFFFFF;\n",
              "    }\n",
              "  </style>\n",
              "\n",
              "      <script>\n",
              "        const buttonEl =\n",
              "          document.querySelector('#df-d67e431e-2825-4006-9d6d-d6b958e2ce63 button.colab-df-convert');\n",
              "        buttonEl.style.display =\n",
              "          google.colab.kernel.accessAllowed ? 'block' : 'none';\n",
              "\n",
              "        async function convertToInteractive(key) {\n",
              "          const element = document.querySelector('#df-d67e431e-2825-4006-9d6d-d6b958e2ce63');\n",
              "          const dataTable =\n",
              "            await google.colab.kernel.invokeFunction('convertToInteractive',\n",
              "                                                     [key], {});\n",
              "          if (!dataTable) return;\n",
              "\n",
              "          const docLinkHtml = 'Like what you see? Visit the ' +\n",
              "            '<a target=\"_blank\" href=https://colab.research.google.com/notebooks/data_table.ipynb>data table notebook</a>'\n",
              "            + ' to learn more about interactive tables.';\n",
              "          element.innerHTML = '';\n",
              "          dataTable['output_type'] = 'display_data';\n",
              "          await google.colab.output.renderOutput(dataTable, element);\n",
              "          const docLink = document.createElement('div');\n",
              "          docLink.innerHTML = docLinkHtml;\n",
              "          element.appendChild(docLink);\n",
              "        }\n",
              "      </script>\n",
              "    </div>\n",
              "  </div>\n",
              "  "
            ]
          },
          "metadata": {},
          "execution_count": 5
        }
      ],
      "source": [
        "X_train"
      ]
    },
    {
      "cell_type": "code",
      "execution_count": 6,
      "metadata": {
        "colab": {
          "base_uri": "https://localhost:8080/"
        },
        "id": "hvjHRplXYzk1",
        "outputId": "2338c1be-68b8-4bfc-afd1-050d65d1a3aa"
      },
      "outputs": [
        {
          "output_type": "stream",
          "name": "stdout",
          "text": [
            "Fitting 5 folds for each of 25 candidates, totalling 125 fits\n"
          ]
        },
        {
          "output_type": "stream",
          "name": "stderr",
          "text": [
            "/usr/local/lib/python3.7/dist-packages/sklearn/utils/validation.py:993: DataConversionWarning: A column-vector y was passed when a 1d array was expected. Please change the shape of y to (n_samples, ), for example using ravel().\n",
            "  y = column_or_1d(y, warn=True)\n"
          ]
        },
        {
          "output_type": "stream",
          "name": "stdout",
          "text": [
            "[CV 1/5] END ...C=0.1, gamma=1, kernel=rbf;, score=-10132.848 total time=   4.3s\n"
          ]
        },
        {
          "output_type": "stream",
          "name": "stderr",
          "text": [
            "/usr/local/lib/python3.7/dist-packages/sklearn/utils/validation.py:993: DataConversionWarning: A column-vector y was passed when a 1d array was expected. Please change the shape of y to (n_samples, ), for example using ravel().\n",
            "  y = column_or_1d(y, warn=True)\n"
          ]
        },
        {
          "output_type": "stream",
          "name": "stdout",
          "text": [
            "[CV 2/5] END ...C=0.1, gamma=1, kernel=rbf;, score=-10634.013 total time=   4.1s\n"
          ]
        },
        {
          "output_type": "stream",
          "name": "stderr",
          "text": [
            "/usr/local/lib/python3.7/dist-packages/sklearn/utils/validation.py:993: DataConversionWarning: A column-vector y was passed when a 1d array was expected. Please change the shape of y to (n_samples, ), for example using ravel().\n",
            "  y = column_or_1d(y, warn=True)\n"
          ]
        },
        {
          "output_type": "stream",
          "name": "stdout",
          "text": [
            "[CV 3/5] END ...C=0.1, gamma=1, kernel=rbf;, score=-10231.149 total time=   4.1s\n"
          ]
        },
        {
          "output_type": "stream",
          "name": "stderr",
          "text": [
            "/usr/local/lib/python3.7/dist-packages/sklearn/utils/validation.py:993: DataConversionWarning: A column-vector y was passed when a 1d array was expected. Please change the shape of y to (n_samples, ), for example using ravel().\n",
            "  y = column_or_1d(y, warn=True)\n"
          ]
        },
        {
          "output_type": "stream",
          "name": "stdout",
          "text": [
            "[CV 4/5] END ...C=0.1, gamma=1, kernel=rbf;, score=-10219.709 total time=   4.1s\n"
          ]
        },
        {
          "output_type": "stream",
          "name": "stderr",
          "text": [
            "/usr/local/lib/python3.7/dist-packages/sklearn/utils/validation.py:993: DataConversionWarning: A column-vector y was passed when a 1d array was expected. Please change the shape of y to (n_samples, ), for example using ravel().\n",
            "  y = column_or_1d(y, warn=True)\n"
          ]
        },
        {
          "output_type": "stream",
          "name": "stdout",
          "text": [
            "[CV 5/5] END ...C=0.1, gamma=1, kernel=rbf;, score=-28071.653 total time=   4.1s\n"
          ]
        },
        {
          "output_type": "stream",
          "name": "stderr",
          "text": [
            "/usr/local/lib/python3.7/dist-packages/sklearn/utils/validation.py:993: DataConversionWarning: A column-vector y was passed when a 1d array was expected. Please change the shape of y to (n_samples, ), for example using ravel().\n",
            "  y = column_or_1d(y, warn=True)\n"
          ]
        },
        {
          "output_type": "stream",
          "name": "stdout",
          "text": [
            "[CV 1/5] END .C=0.1, gamma=0.1, kernel=rbf;, score=-10127.772 total time=   4.2s\n"
          ]
        },
        {
          "output_type": "stream",
          "name": "stderr",
          "text": [
            "/usr/local/lib/python3.7/dist-packages/sklearn/utils/validation.py:993: DataConversionWarning: A column-vector y was passed when a 1d array was expected. Please change the shape of y to (n_samples, ), for example using ravel().\n",
            "  y = column_or_1d(y, warn=True)\n"
          ]
        },
        {
          "output_type": "stream",
          "name": "stdout",
          "text": [
            "[CV 2/5] END .C=0.1, gamma=0.1, kernel=rbf;, score=-10629.159 total time=   4.1s\n"
          ]
        },
        {
          "output_type": "stream",
          "name": "stderr",
          "text": [
            "/usr/local/lib/python3.7/dist-packages/sklearn/utils/validation.py:993: DataConversionWarning: A column-vector y was passed when a 1d array was expected. Please change the shape of y to (n_samples, ), for example using ravel().\n",
            "  y = column_or_1d(y, warn=True)\n"
          ]
        },
        {
          "output_type": "stream",
          "name": "stdout",
          "text": [
            "[CV 3/5] END .C=0.1, gamma=0.1, kernel=rbf;, score=-10226.872 total time=   4.2s\n"
          ]
        },
        {
          "output_type": "stream",
          "name": "stderr",
          "text": [
            "/usr/local/lib/python3.7/dist-packages/sklearn/utils/validation.py:993: DataConversionWarning: A column-vector y was passed when a 1d array was expected. Please change the shape of y to (n_samples, ), for example using ravel().\n",
            "  y = column_or_1d(y, warn=True)\n"
          ]
        },
        {
          "output_type": "stream",
          "name": "stdout",
          "text": [
            "[CV 4/5] END .C=0.1, gamma=0.1, kernel=rbf;, score=-10215.094 total time=   5.0s\n"
          ]
        },
        {
          "output_type": "stream",
          "name": "stderr",
          "text": [
            "/usr/local/lib/python3.7/dist-packages/sklearn/utils/validation.py:993: DataConversionWarning: A column-vector y was passed when a 1d array was expected. Please change the shape of y to (n_samples, ), for example using ravel().\n",
            "  y = column_or_1d(y, warn=True)\n"
          ]
        },
        {
          "output_type": "stream",
          "name": "stdout",
          "text": [
            "[CV 5/5] END .C=0.1, gamma=0.1, kernel=rbf;, score=-28066.741 total time=   5.1s\n"
          ]
        },
        {
          "output_type": "stream",
          "name": "stderr",
          "text": [
            "/usr/local/lib/python3.7/dist-packages/sklearn/utils/validation.py:993: DataConversionWarning: A column-vector y was passed when a 1d array was expected. Please change the shape of y to (n_samples, ), for example using ravel().\n",
            "  y = column_or_1d(y, warn=True)\n"
          ]
        },
        {
          "output_type": "stream",
          "name": "stdout",
          "text": [
            "[CV 1/5] END C=0.1, gamma=0.01, kernel=rbf;, score=-10132.152 total time=   4.2s\n"
          ]
        },
        {
          "output_type": "stream",
          "name": "stderr",
          "text": [
            "/usr/local/lib/python3.7/dist-packages/sklearn/utils/validation.py:993: DataConversionWarning: A column-vector y was passed when a 1d array was expected. Please change the shape of y to (n_samples, ), for example using ravel().\n",
            "  y = column_or_1d(y, warn=True)\n"
          ]
        },
        {
          "output_type": "stream",
          "name": "stdout",
          "text": [
            "[CV 2/5] END C=0.1, gamma=0.01, kernel=rbf;, score=-10633.390 total time=   4.2s\n"
          ]
        },
        {
          "output_type": "stream",
          "name": "stderr",
          "text": [
            "/usr/local/lib/python3.7/dist-packages/sklearn/utils/validation.py:993: DataConversionWarning: A column-vector y was passed when a 1d array was expected. Please change the shape of y to (n_samples, ), for example using ravel().\n",
            "  y = column_or_1d(y, warn=True)\n"
          ]
        },
        {
          "output_type": "stream",
          "name": "stdout",
          "text": [
            "[CV 3/5] END C=0.1, gamma=0.01, kernel=rbf;, score=-10230.595 total time=   5.2s\n"
          ]
        },
        {
          "output_type": "stream",
          "name": "stderr",
          "text": [
            "/usr/local/lib/python3.7/dist-packages/sklearn/utils/validation.py:993: DataConversionWarning: A column-vector y was passed when a 1d array was expected. Please change the shape of y to (n_samples, ), for example using ravel().\n",
            "  y = column_or_1d(y, warn=True)\n"
          ]
        },
        {
          "output_type": "stream",
          "name": "stdout",
          "text": [
            "[CV 4/5] END C=0.1, gamma=0.01, kernel=rbf;, score=-10219.184 total time=   4.2s\n"
          ]
        },
        {
          "output_type": "stream",
          "name": "stderr",
          "text": [
            "/usr/local/lib/python3.7/dist-packages/sklearn/utils/validation.py:993: DataConversionWarning: A column-vector y was passed when a 1d array was expected. Please change the shape of y to (n_samples, ), for example using ravel().\n",
            "  y = column_or_1d(y, warn=True)\n"
          ]
        },
        {
          "output_type": "stream",
          "name": "stdout",
          "text": [
            "[CV 5/5] END C=0.1, gamma=0.01, kernel=rbf;, score=-28070.997 total time=   4.2s\n"
          ]
        },
        {
          "output_type": "stream",
          "name": "stderr",
          "text": [
            "/usr/local/lib/python3.7/dist-packages/sklearn/utils/validation.py:993: DataConversionWarning: A column-vector y was passed when a 1d array was expected. Please change the shape of y to (n_samples, ), for example using ravel().\n",
            "  y = column_or_1d(y, warn=True)\n"
          ]
        },
        {
          "output_type": "stream",
          "name": "stdout",
          "text": [
            "[CV 1/5] END C=0.1, gamma=0.001, kernel=rbf;, score=-10133.563 total time=   4.2s\n"
          ]
        },
        {
          "output_type": "stream",
          "name": "stderr",
          "text": [
            "/usr/local/lib/python3.7/dist-packages/sklearn/utils/validation.py:993: DataConversionWarning: A column-vector y was passed when a 1d array was expected. Please change the shape of y to (n_samples, ), for example using ravel().\n",
            "  y = column_or_1d(y, warn=True)\n"
          ]
        },
        {
          "output_type": "stream",
          "name": "stdout",
          "text": [
            "[CV 2/5] END C=0.1, gamma=0.001, kernel=rbf;, score=-10634.732 total time=   4.2s\n"
          ]
        },
        {
          "output_type": "stream",
          "name": "stderr",
          "text": [
            "/usr/local/lib/python3.7/dist-packages/sklearn/utils/validation.py:993: DataConversionWarning: A column-vector y was passed when a 1d array was expected. Please change the shape of y to (n_samples, ), for example using ravel().\n",
            "  y = column_or_1d(y, warn=True)\n"
          ]
        },
        {
          "output_type": "stream",
          "name": "stdout",
          "text": [
            "[CV 3/5] END C=0.1, gamma=0.001, kernel=rbf;, score=-10231.783 total time=   4.2s\n"
          ]
        },
        {
          "output_type": "stream",
          "name": "stderr",
          "text": [
            "/usr/local/lib/python3.7/dist-packages/sklearn/utils/validation.py:993: DataConversionWarning: A column-vector y was passed when a 1d array was expected. Please change the shape of y to (n_samples, ), for example using ravel().\n",
            "  y = column_or_1d(y, warn=True)\n"
          ]
        },
        {
          "output_type": "stream",
          "name": "stdout",
          "text": [
            "[CV 4/5] END C=0.1, gamma=0.001, kernel=rbf;, score=-10220.472 total time=   4.1s\n"
          ]
        },
        {
          "output_type": "stream",
          "name": "stderr",
          "text": [
            "/usr/local/lib/python3.7/dist-packages/sklearn/utils/validation.py:993: DataConversionWarning: A column-vector y was passed when a 1d array was expected. Please change the shape of y to (n_samples, ), for example using ravel().\n",
            "  y = column_or_1d(y, warn=True)\n"
          ]
        },
        {
          "output_type": "stream",
          "name": "stdout",
          "text": [
            "[CV 5/5] END C=0.1, gamma=0.001, kernel=rbf;, score=-28072.381 total time=   5.8s\n"
          ]
        },
        {
          "output_type": "stream",
          "name": "stderr",
          "text": [
            "/usr/local/lib/python3.7/dist-packages/sklearn/utils/validation.py:993: DataConversionWarning: A column-vector y was passed when a 1d array was expected. Please change the shape of y to (n_samples, ), for example using ravel().\n",
            "  y = column_or_1d(y, warn=True)\n"
          ]
        },
        {
          "output_type": "stream",
          "name": "stdout",
          "text": [
            "[CV 1/5] END C=0.1, gamma=0.0001, kernel=rbf;, score=-10133.720 total time=   4.2s\n"
          ]
        },
        {
          "output_type": "stream",
          "name": "stderr",
          "text": [
            "/usr/local/lib/python3.7/dist-packages/sklearn/utils/validation.py:993: DataConversionWarning: A column-vector y was passed when a 1d array was expected. Please change the shape of y to (n_samples, ), for example using ravel().\n",
            "  y = column_or_1d(y, warn=True)\n"
          ]
        },
        {
          "output_type": "stream",
          "name": "stdout",
          "text": [
            "[CV 2/5] END C=0.1, gamma=0.0001, kernel=rbf;, score=-10634.883 total time=   4.2s\n"
          ]
        },
        {
          "output_type": "stream",
          "name": "stderr",
          "text": [
            "/usr/local/lib/python3.7/dist-packages/sklearn/utils/validation.py:993: DataConversionWarning: A column-vector y was passed when a 1d array was expected. Please change the shape of y to (n_samples, ), for example using ravel().\n",
            "  y = column_or_1d(y, warn=True)\n"
          ]
        },
        {
          "output_type": "stream",
          "name": "stdout",
          "text": [
            "[CV 3/5] END C=0.1, gamma=0.0001, kernel=rbf;, score=-10231.926 total time=   4.2s\n"
          ]
        },
        {
          "output_type": "stream",
          "name": "stderr",
          "text": [
            "/usr/local/lib/python3.7/dist-packages/sklearn/utils/validation.py:993: DataConversionWarning: A column-vector y was passed when a 1d array was expected. Please change the shape of y to (n_samples, ), for example using ravel().\n",
            "  y = column_or_1d(y, warn=True)\n"
          ]
        },
        {
          "output_type": "stream",
          "name": "stdout",
          "text": [
            "[CV 4/5] END C=0.1, gamma=0.0001, kernel=rbf;, score=-10220.615 total time=   4.2s\n"
          ]
        },
        {
          "output_type": "stream",
          "name": "stderr",
          "text": [
            "/usr/local/lib/python3.7/dist-packages/sklearn/utils/validation.py:993: DataConversionWarning: A column-vector y was passed when a 1d array was expected. Please change the shape of y to (n_samples, ), for example using ravel().\n",
            "  y = column_or_1d(y, warn=True)\n"
          ]
        },
        {
          "output_type": "stream",
          "name": "stdout",
          "text": [
            "[CV 5/5] END C=0.1, gamma=0.0001, kernel=rbf;, score=-28072.534 total time=   4.2s\n"
          ]
        },
        {
          "output_type": "stream",
          "name": "stderr",
          "text": [
            "/usr/local/lib/python3.7/dist-packages/sklearn/utils/validation.py:993: DataConversionWarning: A column-vector y was passed when a 1d array was expected. Please change the shape of y to (n_samples, ), for example using ravel().\n",
            "  y = column_or_1d(y, warn=True)\n"
          ]
        },
        {
          "output_type": "stream",
          "name": "stdout",
          "text": [
            "[CV 1/5] END .....C=1, gamma=1, kernel=rbf;, score=-10124.857 total time=   4.1s\n"
          ]
        },
        {
          "output_type": "stream",
          "name": "stderr",
          "text": [
            "/usr/local/lib/python3.7/dist-packages/sklearn/utils/validation.py:993: DataConversionWarning: A column-vector y was passed when a 1d array was expected. Please change the shape of y to (n_samples, ), for example using ravel().\n",
            "  y = column_or_1d(y, warn=True)\n"
          ]
        },
        {
          "output_type": "stream",
          "name": "stdout",
          "text": [
            "[CV 2/5] END .....C=1, gamma=1, kernel=rbf;, score=-10626.032 total time=   4.1s\n"
          ]
        },
        {
          "output_type": "stream",
          "name": "stderr",
          "text": [
            "/usr/local/lib/python3.7/dist-packages/sklearn/utils/validation.py:993: DataConversionWarning: A column-vector y was passed when a 1d array was expected. Please change the shape of y to (n_samples, ), for example using ravel().\n",
            "  y = column_or_1d(y, warn=True)\n"
          ]
        },
        {
          "output_type": "stream",
          "name": "stdout",
          "text": [
            "[CV 3/5] END .....C=1, gamma=1, kernel=rbf;, score=-10224.007 total time=   4.1s\n"
          ]
        },
        {
          "output_type": "stream",
          "name": "stderr",
          "text": [
            "/usr/local/lib/python3.7/dist-packages/sklearn/utils/validation.py:993: DataConversionWarning: A column-vector y was passed when a 1d array was expected. Please change the shape of y to (n_samples, ), for example using ravel().\n",
            "  y = column_or_1d(y, warn=True)\n"
          ]
        },
        {
          "output_type": "stream",
          "name": "stdout",
          "text": [
            "[CV 4/5] END .....C=1, gamma=1, kernel=rbf;, score=-10211.437 total time=   4.1s\n"
          ]
        },
        {
          "output_type": "stream",
          "name": "stderr",
          "text": [
            "/usr/local/lib/python3.7/dist-packages/sklearn/utils/validation.py:993: DataConversionWarning: A column-vector y was passed when a 1d array was expected. Please change the shape of y to (n_samples, ), for example using ravel().\n",
            "  y = column_or_1d(y, warn=True)\n"
          ]
        },
        {
          "output_type": "stream",
          "name": "stdout",
          "text": [
            "[CV 5/5] END .....C=1, gamma=1, kernel=rbf;, score=-28063.598 total time=   4.2s\n"
          ]
        },
        {
          "output_type": "stream",
          "name": "stderr",
          "text": [
            "/usr/local/lib/python3.7/dist-packages/sklearn/utils/validation.py:993: DataConversionWarning: A column-vector y was passed when a 1d array was expected. Please change the shape of y to (n_samples, ), for example using ravel().\n",
            "  y = column_or_1d(y, warn=True)\n"
          ]
        },
        {
          "output_type": "stream",
          "name": "stdout",
          "text": [
            "[CV 1/5] END ...C=1, gamma=0.1, kernel=rbf;, score=-10074.808 total time=   5.9s\n"
          ]
        },
        {
          "output_type": "stream",
          "name": "stderr",
          "text": [
            "/usr/local/lib/python3.7/dist-packages/sklearn/utils/validation.py:993: DataConversionWarning: A column-vector y was passed when a 1d array was expected. Please change the shape of y to (n_samples, ), for example using ravel().\n",
            "  y = column_or_1d(y, warn=True)\n"
          ]
        },
        {
          "output_type": "stream",
          "name": "stdout",
          "text": [
            "[CV 2/5] END ...C=1, gamma=0.1, kernel=rbf;, score=-10580.317 total time=   4.2s\n"
          ]
        },
        {
          "output_type": "stream",
          "name": "stderr",
          "text": [
            "/usr/local/lib/python3.7/dist-packages/sklearn/utils/validation.py:993: DataConversionWarning: A column-vector y was passed when a 1d array was expected. Please change the shape of y to (n_samples, ), for example using ravel().\n",
            "  y = column_or_1d(y, warn=True)\n"
          ]
        },
        {
          "output_type": "stream",
          "name": "stdout",
          "text": [
            "[CV 3/5] END ...C=1, gamma=0.1, kernel=rbf;, score=-10177.645 total time=   4.1s\n"
          ]
        },
        {
          "output_type": "stream",
          "name": "stderr",
          "text": [
            "/usr/local/lib/python3.7/dist-packages/sklearn/utils/validation.py:993: DataConversionWarning: A column-vector y was passed when a 1d array was expected. Please change the shape of y to (n_samples, ), for example using ravel().\n",
            "  y = column_or_1d(y, warn=True)\n"
          ]
        },
        {
          "output_type": "stream",
          "name": "stdout",
          "text": [
            "[CV 4/5] END ...C=1, gamma=0.1, kernel=rbf;, score=-10166.092 total time=   4.2s\n"
          ]
        },
        {
          "output_type": "stream",
          "name": "stderr",
          "text": [
            "/usr/local/lib/python3.7/dist-packages/sklearn/utils/validation.py:993: DataConversionWarning: A column-vector y was passed when a 1d array was expected. Please change the shape of y to (n_samples, ), for example using ravel().\n",
            "  y = column_or_1d(y, warn=True)\n"
          ]
        },
        {
          "output_type": "stream",
          "name": "stdout",
          "text": [
            "[CV 5/5] END ...C=1, gamma=0.1, kernel=rbf;, score=-28015.572 total time=   4.2s\n"
          ]
        },
        {
          "output_type": "stream",
          "name": "stderr",
          "text": [
            "/usr/local/lib/python3.7/dist-packages/sklearn/utils/validation.py:993: DataConversionWarning: A column-vector y was passed when a 1d array was expected. Please change the shape of y to (n_samples, ), for example using ravel().\n",
            "  y = column_or_1d(y, warn=True)\n"
          ]
        },
        {
          "output_type": "stream",
          "name": "stdout",
          "text": [
            "[CV 1/5] END ..C=1, gamma=0.01, kernel=rbf;, score=-10117.942 total time=   7.6s\n"
          ]
        },
        {
          "output_type": "stream",
          "name": "stderr",
          "text": [
            "/usr/local/lib/python3.7/dist-packages/sklearn/utils/validation.py:993: DataConversionWarning: A column-vector y was passed when a 1d array was expected. Please change the shape of y to (n_samples, ), for example using ravel().\n",
            "  y = column_or_1d(y, warn=True)\n"
          ]
        },
        {
          "output_type": "stream",
          "name": "stdout",
          "text": [
            "[CV 2/5] END ..C=1, gamma=0.01, kernel=rbf;, score=-10619.814 total time=  10.4s\n"
          ]
        },
        {
          "output_type": "stream",
          "name": "stderr",
          "text": [
            "/usr/local/lib/python3.7/dist-packages/sklearn/utils/validation.py:993: DataConversionWarning: A column-vector y was passed when a 1d array was expected. Please change the shape of y to (n_samples, ), for example using ravel().\n",
            "  y = column_or_1d(y, warn=True)\n"
          ]
        },
        {
          "output_type": "stream",
          "name": "stdout",
          "text": [
            "[CV 3/5] END ..C=1, gamma=0.01, kernel=rbf;, score=-10218.318 total time=   4.1s\n"
          ]
        },
        {
          "output_type": "stream",
          "name": "stderr",
          "text": [
            "/usr/local/lib/python3.7/dist-packages/sklearn/utils/validation.py:993: DataConversionWarning: A column-vector y was passed when a 1d array was expected. Please change the shape of y to (n_samples, ), for example using ravel().\n",
            "  y = column_or_1d(y, warn=True)\n"
          ]
        },
        {
          "output_type": "stream",
          "name": "stdout",
          "text": [
            "[CV 4/5] END ..C=1, gamma=0.01, kernel=rbf;, score=-10206.312 total time=   6.5s\n"
          ]
        },
        {
          "output_type": "stream",
          "name": "stderr",
          "text": [
            "/usr/local/lib/python3.7/dist-packages/sklearn/utils/validation.py:993: DataConversionWarning: A column-vector y was passed when a 1d array was expected. Please change the shape of y to (n_samples, ), for example using ravel().\n",
            "  y = column_or_1d(y, warn=True)\n"
          ]
        },
        {
          "output_type": "stream",
          "name": "stdout",
          "text": [
            "[CV 5/5] END ..C=1, gamma=0.01, kernel=rbf;, score=-28057.063 total time=   4.2s\n"
          ]
        },
        {
          "output_type": "stream",
          "name": "stderr",
          "text": [
            "/usr/local/lib/python3.7/dist-packages/sklearn/utils/validation.py:993: DataConversionWarning: A column-vector y was passed when a 1d array was expected. Please change the shape of y to (n_samples, ), for example using ravel().\n",
            "  y = column_or_1d(y, warn=True)\n"
          ]
        },
        {
          "output_type": "stream",
          "name": "stdout",
          "text": [
            "[CV 1/5] END .C=1, gamma=0.001, kernel=rbf;, score=-10131.977 total time=   4.1s\n"
          ]
        },
        {
          "output_type": "stream",
          "name": "stderr",
          "text": [
            "/usr/local/lib/python3.7/dist-packages/sklearn/utils/validation.py:993: DataConversionWarning: A column-vector y was passed when a 1d array was expected. Please change the shape of y to (n_samples, ), for example using ravel().\n",
            "  y = column_or_1d(y, warn=True)\n"
          ]
        },
        {
          "output_type": "stream",
          "name": "stdout",
          "text": [
            "[CV 2/5] END .C=1, gamma=0.001, kernel=rbf;, score=-10633.226 total time=   4.2s\n"
          ]
        },
        {
          "output_type": "stream",
          "name": "stderr",
          "text": [
            "/usr/local/lib/python3.7/dist-packages/sklearn/utils/validation.py:993: DataConversionWarning: A column-vector y was passed when a 1d array was expected. Please change the shape of y to (n_samples, ), for example using ravel().\n",
            "  y = column_or_1d(y, warn=True)\n"
          ]
        },
        {
          "output_type": "stream",
          "name": "stdout",
          "text": [
            "[CV 3/5] END .C=1, gamma=0.001, kernel=rbf;, score=-10230.449 total time=   4.1s\n"
          ]
        },
        {
          "output_type": "stream",
          "name": "stderr",
          "text": [
            "/usr/local/lib/python3.7/dist-packages/sklearn/utils/validation.py:993: DataConversionWarning: A column-vector y was passed when a 1d array was expected. Please change the shape of y to (n_samples, ), for example using ravel().\n",
            "  y = column_or_1d(y, warn=True)\n"
          ]
        },
        {
          "output_type": "stream",
          "name": "stdout",
          "text": [
            "[CV 4/5] END .C=1, gamma=0.001, kernel=rbf;, score=-10219.029 total time=   4.2s\n"
          ]
        },
        {
          "output_type": "stream",
          "name": "stderr",
          "text": [
            "/usr/local/lib/python3.7/dist-packages/sklearn/utils/validation.py:993: DataConversionWarning: A column-vector y was passed when a 1d array was expected. Please change the shape of y to (n_samples, ), for example using ravel().\n",
            "  y = column_or_1d(y, warn=True)\n"
          ]
        },
        {
          "output_type": "stream",
          "name": "stdout",
          "text": [
            "[CV 5/5] END .C=1, gamma=0.001, kernel=rbf;, score=-28070.825 total time=   4.2s\n"
          ]
        },
        {
          "output_type": "stream",
          "name": "stderr",
          "text": [
            "/usr/local/lib/python3.7/dist-packages/sklearn/utils/validation.py:993: DataConversionWarning: A column-vector y was passed when a 1d array was expected. Please change the shape of y to (n_samples, ), for example using ravel().\n",
            "  y = column_or_1d(y, warn=True)\n"
          ]
        },
        {
          "output_type": "stream",
          "name": "stdout",
          "text": [
            "[CV 1/5] END C=1, gamma=0.0001, kernel=rbf;, score=-10133.562 total time=   4.2s\n"
          ]
        },
        {
          "output_type": "stream",
          "name": "stderr",
          "text": [
            "/usr/local/lib/python3.7/dist-packages/sklearn/utils/validation.py:993: DataConversionWarning: A column-vector y was passed when a 1d array was expected. Please change the shape of y to (n_samples, ), for example using ravel().\n",
            "  y = column_or_1d(y, warn=True)\n"
          ]
        },
        {
          "output_type": "stream",
          "name": "stdout",
          "text": [
            "[CV 2/5] END C=1, gamma=0.0001, kernel=rbf;, score=-10634.731 total time=   4.2s\n"
          ]
        },
        {
          "output_type": "stream",
          "name": "stderr",
          "text": [
            "/usr/local/lib/python3.7/dist-packages/sklearn/utils/validation.py:993: DataConversionWarning: A column-vector y was passed when a 1d array was expected. Please change the shape of y to (n_samples, ), for example using ravel().\n",
            "  y = column_or_1d(y, warn=True)\n"
          ]
        },
        {
          "output_type": "stream",
          "name": "stdout",
          "text": [
            "[CV 3/5] END C=1, gamma=0.0001, kernel=rbf;, score=-10231.781 total time=   4.1s\n"
          ]
        },
        {
          "output_type": "stream",
          "name": "stderr",
          "text": [
            "/usr/local/lib/python3.7/dist-packages/sklearn/utils/validation.py:993: DataConversionWarning: A column-vector y was passed when a 1d array was expected. Please change the shape of y to (n_samples, ), for example using ravel().\n",
            "  y = column_or_1d(y, warn=True)\n"
          ]
        },
        {
          "output_type": "stream",
          "name": "stdout",
          "text": [
            "[CV 4/5] END C=1, gamma=0.0001, kernel=rbf;, score=-10220.471 total time=   4.2s\n"
          ]
        },
        {
          "output_type": "stream",
          "name": "stderr",
          "text": [
            "/usr/local/lib/python3.7/dist-packages/sklearn/utils/validation.py:993: DataConversionWarning: A column-vector y was passed when a 1d array was expected. Please change the shape of y to (n_samples, ), for example using ravel().\n",
            "  y = column_or_1d(y, warn=True)\n"
          ]
        },
        {
          "output_type": "stream",
          "name": "stdout",
          "text": [
            "[CV 5/5] END C=1, gamma=0.0001, kernel=rbf;, score=-28072.379 total time=   5.7s\n"
          ]
        },
        {
          "output_type": "stream",
          "name": "stderr",
          "text": [
            "/usr/local/lib/python3.7/dist-packages/sklearn/utils/validation.py:993: DataConversionWarning: A column-vector y was passed when a 1d array was expected. Please change the shape of y to (n_samples, ), for example using ravel().\n",
            "  y = column_or_1d(y, warn=True)\n"
          ]
        },
        {
          "output_type": "stream",
          "name": "stdout",
          "text": [
            "[CV 1/5] END ....C=10, gamma=1, kernel=rbf;, score=-10047.749 total time=   4.1s\n"
          ]
        },
        {
          "output_type": "stream",
          "name": "stderr",
          "text": [
            "/usr/local/lib/python3.7/dist-packages/sklearn/utils/validation.py:993: DataConversionWarning: A column-vector y was passed when a 1d array was expected. Please change the shape of y to (n_samples, ), for example using ravel().\n",
            "  y = column_or_1d(y, warn=True)\n"
          ]
        },
        {
          "output_type": "stream",
          "name": "stdout",
          "text": [
            "[CV 2/5] END ....C=10, gamma=1, kernel=rbf;, score=-10549.836 total time=   4.1s\n"
          ]
        },
        {
          "output_type": "stream",
          "name": "stderr",
          "text": [
            "/usr/local/lib/python3.7/dist-packages/sklearn/utils/validation.py:993: DataConversionWarning: A column-vector y was passed when a 1d array was expected. Please change the shape of y to (n_samples, ), for example using ravel().\n",
            "  y = column_or_1d(y, warn=True)\n"
          ]
        },
        {
          "output_type": "stream",
          "name": "stdout",
          "text": [
            "[CV 3/5] END ....C=10, gamma=1, kernel=rbf;, score=-10149.279 total time=   4.1s\n"
          ]
        },
        {
          "output_type": "stream",
          "name": "stderr",
          "text": [
            "/usr/local/lib/python3.7/dist-packages/sklearn/utils/validation.py:993: DataConversionWarning: A column-vector y was passed when a 1d array was expected. Please change the shape of y to (n_samples, ), for example using ravel().\n",
            "  y = column_or_1d(y, warn=True)\n"
          ]
        },
        {
          "output_type": "stream",
          "name": "stdout",
          "text": [
            "[CV 4/5] END ....C=10, gamma=1, kernel=rbf;, score=-10130.913 total time=   4.1s\n"
          ]
        },
        {
          "output_type": "stream",
          "name": "stderr",
          "text": [
            "/usr/local/lib/python3.7/dist-packages/sklearn/utils/validation.py:993: DataConversionWarning: A column-vector y was passed when a 1d array was expected. Please change the shape of y to (n_samples, ), for example using ravel().\n",
            "  y = column_or_1d(y, warn=True)\n"
          ]
        },
        {
          "output_type": "stream",
          "name": "stdout",
          "text": [
            "[CV 5/5] END ....C=10, gamma=1, kernel=rbf;, score=-27985.204 total time=   4.1s\n"
          ]
        },
        {
          "output_type": "stream",
          "name": "stderr",
          "text": [
            "/usr/local/lib/python3.7/dist-packages/sklearn/utils/validation.py:993: DataConversionWarning: A column-vector y was passed when a 1d array was expected. Please change the shape of y to (n_samples, ), for example using ravel().\n",
            "  y = column_or_1d(y, warn=True)\n"
          ]
        },
        {
          "output_type": "stream",
          "name": "stdout",
          "text": [
            "[CV 1/5] END ...C=10, gamma=0.1, kernel=rbf;, score=-9635.540 total time=   4.2s\n"
          ]
        },
        {
          "output_type": "stream",
          "name": "stderr",
          "text": [
            "/usr/local/lib/python3.7/dist-packages/sklearn/utils/validation.py:993: DataConversionWarning: A column-vector y was passed when a 1d array was expected. Please change the shape of y to (n_samples, ), for example using ravel().\n",
            "  y = column_or_1d(y, warn=True)\n"
          ]
        },
        {
          "output_type": "stream",
          "name": "stdout",
          "text": [
            "[CV 2/5] END ..C=10, gamma=0.1, kernel=rbf;, score=-10163.512 total time=   4.2s\n"
          ]
        },
        {
          "output_type": "stream",
          "name": "stderr",
          "text": [
            "/usr/local/lib/python3.7/dist-packages/sklearn/utils/validation.py:993: DataConversionWarning: A column-vector y was passed when a 1d array was expected. Please change the shape of y to (n_samples, ), for example using ravel().\n",
            "  y = column_or_1d(y, warn=True)\n"
          ]
        },
        {
          "output_type": "stream",
          "name": "stdout",
          "text": [
            "[CV 3/5] END ...C=10, gamma=0.1, kernel=rbf;, score=-9725.411 total time=   4.1s\n"
          ]
        },
        {
          "output_type": "stream",
          "name": "stderr",
          "text": [
            "/usr/local/lib/python3.7/dist-packages/sklearn/utils/validation.py:993: DataConversionWarning: A column-vector y was passed when a 1d array was expected. Please change the shape of y to (n_samples, ), for example using ravel().\n",
            "  y = column_or_1d(y, warn=True)\n"
          ]
        },
        {
          "output_type": "stream",
          "name": "stdout",
          "text": [
            "[CV 4/5] END ...C=10, gamma=0.1, kernel=rbf;, score=-9756.944 total time=   4.4s\n"
          ]
        },
        {
          "output_type": "stream",
          "name": "stderr",
          "text": [
            "/usr/local/lib/python3.7/dist-packages/sklearn/utils/validation.py:993: DataConversionWarning: A column-vector y was passed when a 1d array was expected. Please change the shape of y to (n_samples, ), for example using ravel().\n",
            "  y = column_or_1d(y, warn=True)\n"
          ]
        },
        {
          "output_type": "stream",
          "name": "stdout",
          "text": [
            "[CV 5/5] END ..C=10, gamma=0.1, kernel=rbf;, score=-27586.612 total time=   5.0s\n"
          ]
        },
        {
          "output_type": "stream",
          "name": "stderr",
          "text": [
            "/usr/local/lib/python3.7/dist-packages/sklearn/utils/validation.py:993: DataConversionWarning: A column-vector y was passed when a 1d array was expected. Please change the shape of y to (n_samples, ), for example using ravel().\n",
            "  y = column_or_1d(y, warn=True)\n"
          ]
        },
        {
          "output_type": "stream",
          "name": "stdout",
          "text": [
            "[CV 1/5] END ..C=10, gamma=0.01, kernel=rbf;, score=-9982.504 total time=   5.6s\n"
          ]
        },
        {
          "output_type": "stream",
          "name": "stderr",
          "text": [
            "/usr/local/lib/python3.7/dist-packages/sklearn/utils/validation.py:993: DataConversionWarning: A column-vector y was passed when a 1d array was expected. Please change the shape of y to (n_samples, ), for example using ravel().\n",
            "  y = column_or_1d(y, warn=True)\n"
          ]
        },
        {
          "output_type": "stream",
          "name": "stdout",
          "text": [
            "[CV 2/5] END .C=10, gamma=0.01, kernel=rbf;, score=-10495.013 total time=   4.2s\n"
          ]
        },
        {
          "output_type": "stream",
          "name": "stderr",
          "text": [
            "/usr/local/lib/python3.7/dist-packages/sklearn/utils/validation.py:993: DataConversionWarning: A column-vector y was passed when a 1d array was expected. Please change the shape of y to (n_samples, ), for example using ravel().\n",
            "  y = column_or_1d(y, warn=True)\n"
          ]
        },
        {
          "output_type": "stream",
          "name": "stdout",
          "text": [
            "[CV 3/5] END .C=10, gamma=0.01, kernel=rbf;, score=-10081.405 total time=   4.2s\n"
          ]
        },
        {
          "output_type": "stream",
          "name": "stderr",
          "text": [
            "/usr/local/lib/python3.7/dist-packages/sklearn/utils/validation.py:993: DataConversionWarning: A column-vector y was passed when a 1d array was expected. Please change the shape of y to (n_samples, ), for example using ravel().\n",
            "  y = column_or_1d(y, warn=True)\n"
          ]
        },
        {
          "output_type": "stream",
          "name": "stdout",
          "text": [
            "[CV 4/5] END .C=10, gamma=0.01, kernel=rbf;, score=-10084.387 total time=   4.1s\n"
          ]
        },
        {
          "output_type": "stream",
          "name": "stderr",
          "text": [
            "/usr/local/lib/python3.7/dist-packages/sklearn/utils/validation.py:993: DataConversionWarning: A column-vector y was passed when a 1d array was expected. Please change the shape of y to (n_samples, ), for example using ravel().\n",
            "  y = column_or_1d(y, warn=True)\n"
          ]
        },
        {
          "output_type": "stream",
          "name": "stdout",
          "text": [
            "[CV 5/5] END .C=10, gamma=0.01, kernel=rbf;, score=-27924.201 total time=   4.1s\n"
          ]
        },
        {
          "output_type": "stream",
          "name": "stderr",
          "text": [
            "/usr/local/lib/python3.7/dist-packages/sklearn/utils/validation.py:993: DataConversionWarning: A column-vector y was passed when a 1d array was expected. Please change the shape of y to (n_samples, ), for example using ravel().\n",
            "  y = column_or_1d(y, warn=True)\n"
          ]
        },
        {
          "output_type": "stream",
          "name": "stdout",
          "text": [
            "[CV 1/5] END C=10, gamma=0.001, kernel=rbf;, score=-10116.190 total time=   4.2s\n"
          ]
        },
        {
          "output_type": "stream",
          "name": "stderr",
          "text": [
            "/usr/local/lib/python3.7/dist-packages/sklearn/utils/validation.py:993: DataConversionWarning: A column-vector y was passed when a 1d array was expected. Please change the shape of y to (n_samples, ), for example using ravel().\n",
            "  y = column_or_1d(y, warn=True)\n"
          ]
        },
        {
          "output_type": "stream",
          "name": "stdout",
          "text": [
            "[CV 2/5] END C=10, gamma=0.001, kernel=rbf;, score=-10618.257 total time=   4.2s\n"
          ]
        },
        {
          "output_type": "stream",
          "name": "stderr",
          "text": [
            "/usr/local/lib/python3.7/dist-packages/sklearn/utils/validation.py:993: DataConversionWarning: A column-vector y was passed when a 1d array was expected. Please change the shape of y to (n_samples, ), for example using ravel().\n",
            "  y = column_or_1d(y, warn=True)\n"
          ]
        },
        {
          "output_type": "stream",
          "name": "stdout",
          "text": [
            "[CV 3/5] END C=10, gamma=0.001, kernel=rbf;, score=-10216.418 total time=   4.2s\n"
          ]
        },
        {
          "output_type": "stream",
          "name": "stderr",
          "text": [
            "/usr/local/lib/python3.7/dist-packages/sklearn/utils/validation.py:993: DataConversionWarning: A column-vector y was passed when a 1d array was expected. Please change the shape of y to (n_samples, ), for example using ravel().\n",
            "  y = column_or_1d(y, warn=True)\n"
          ]
        },
        {
          "output_type": "stream",
          "name": "stdout",
          "text": [
            "[CV 4/5] END C=10, gamma=0.001, kernel=rbf;, score=-10204.773 total time=   4.1s\n"
          ]
        },
        {
          "output_type": "stream",
          "name": "stderr",
          "text": [
            "/usr/local/lib/python3.7/dist-packages/sklearn/utils/validation.py:993: DataConversionWarning: A column-vector y was passed when a 1d array was expected. Please change the shape of y to (n_samples, ), for example using ravel().\n",
            "  y = column_or_1d(y, warn=True)\n"
          ]
        },
        {
          "output_type": "stream",
          "name": "stdout",
          "text": [
            "[CV 5/5] END C=10, gamma=0.001, kernel=rbf;, score=-28055.342 total time=   4.2s\n"
          ]
        },
        {
          "output_type": "stream",
          "name": "stderr",
          "text": [
            "/usr/local/lib/python3.7/dist-packages/sklearn/utils/validation.py:993: DataConversionWarning: A column-vector y was passed when a 1d array was expected. Please change the shape of y to (n_samples, ), for example using ravel().\n",
            "  y = column_or_1d(y, warn=True)\n"
          ]
        },
        {
          "output_type": "stream",
          "name": "stdout",
          "text": [
            "[CV 1/5] END C=10, gamma=0.0001, kernel=rbf;, score=-10131.959 total time=   5.6s\n"
          ]
        },
        {
          "output_type": "stream",
          "name": "stderr",
          "text": [
            "/usr/local/lib/python3.7/dist-packages/sklearn/utils/validation.py:993: DataConversionWarning: A column-vector y was passed when a 1d array was expected. Please change the shape of y to (n_samples, ), for example using ravel().\n",
            "  y = column_or_1d(y, warn=True)\n"
          ]
        },
        {
          "output_type": "stream",
          "name": "stdout",
          "text": [
            "[CV 2/5] END C=10, gamma=0.0001, kernel=rbf;, score=-10633.208 total time=   4.4s\n"
          ]
        },
        {
          "output_type": "stream",
          "name": "stderr",
          "text": [
            "/usr/local/lib/python3.7/dist-packages/sklearn/utils/validation.py:993: DataConversionWarning: A column-vector y was passed when a 1d array was expected. Please change the shape of y to (n_samples, ), for example using ravel().\n",
            "  y = column_or_1d(y, warn=True)\n"
          ]
        },
        {
          "output_type": "stream",
          "name": "stdout",
          "text": [
            "[CV 3/5] END C=10, gamma=0.0001, kernel=rbf;, score=-10230.433 total time=   4.2s\n"
          ]
        },
        {
          "output_type": "stream",
          "name": "stderr",
          "text": [
            "/usr/local/lib/python3.7/dist-packages/sklearn/utils/validation.py:993: DataConversionWarning: A column-vector y was passed when a 1d array was expected. Please change the shape of y to (n_samples, ), for example using ravel().\n",
            "  y = column_or_1d(y, warn=True)\n"
          ]
        },
        {
          "output_type": "stream",
          "name": "stdout",
          "text": [
            "[CV 4/5] END C=10, gamma=0.0001, kernel=rbf;, score=-10219.012 total time=   4.1s\n"
          ]
        },
        {
          "output_type": "stream",
          "name": "stderr",
          "text": [
            "/usr/local/lib/python3.7/dist-packages/sklearn/utils/validation.py:993: DataConversionWarning: A column-vector y was passed when a 1d array was expected. Please change the shape of y to (n_samples, ), for example using ravel().\n",
            "  y = column_or_1d(y, warn=True)\n"
          ]
        },
        {
          "output_type": "stream",
          "name": "stdout",
          "text": [
            "[CV 5/5] END C=10, gamma=0.0001, kernel=rbf;, score=-28070.806 total time=   4.2s\n"
          ]
        },
        {
          "output_type": "stream",
          "name": "stderr",
          "text": [
            "/usr/local/lib/python3.7/dist-packages/sklearn/utils/validation.py:993: DataConversionWarning: A column-vector y was passed when a 1d array was expected. Please change the shape of y to (n_samples, ), for example using ravel().\n",
            "  y = column_or_1d(y, warn=True)\n"
          ]
        },
        {
          "output_type": "stream",
          "name": "stdout",
          "text": [
            "[CV 1/5] END ....C=100, gamma=1, kernel=rbf;, score=-9499.412 total time=   4.1s\n"
          ]
        },
        {
          "output_type": "stream",
          "name": "stderr",
          "text": [
            "/usr/local/lib/python3.7/dist-packages/sklearn/utils/validation.py:993: DataConversionWarning: A column-vector y was passed when a 1d array was expected. Please change the shape of y to (n_samples, ), for example using ravel().\n",
            "  y = column_or_1d(y, warn=True)\n"
          ]
        },
        {
          "output_type": "stream",
          "name": "stdout",
          "text": [
            "[CV 2/5] END ....C=100, gamma=1, kernel=rbf;, score=-9978.751 total time=   4.1s\n"
          ]
        },
        {
          "output_type": "stream",
          "name": "stderr",
          "text": [
            "/usr/local/lib/python3.7/dist-packages/sklearn/utils/validation.py:993: DataConversionWarning: A column-vector y was passed when a 1d array was expected. Please change the shape of y to (n_samples, ), for example using ravel().\n",
            "  y = column_or_1d(y, warn=True)\n"
          ]
        },
        {
          "output_type": "stream",
          "name": "stdout",
          "text": [
            "[CV 3/5] END ....C=100, gamma=1, kernel=rbf;, score=-9586.495 total time=   4.1s\n"
          ]
        },
        {
          "output_type": "stream",
          "name": "stderr",
          "text": [
            "/usr/local/lib/python3.7/dist-packages/sklearn/utils/validation.py:993: DataConversionWarning: A column-vector y was passed when a 1d array was expected. Please change the shape of y to (n_samples, ), for example using ravel().\n",
            "  y = column_or_1d(y, warn=True)\n"
          ]
        },
        {
          "output_type": "stream",
          "name": "stdout",
          "text": [
            "[CV 4/5] END ....C=100, gamma=1, kernel=rbf;, score=-9535.864 total time=   4.1s\n"
          ]
        },
        {
          "output_type": "stream",
          "name": "stderr",
          "text": [
            "/usr/local/lib/python3.7/dist-packages/sklearn/utils/validation.py:993: DataConversionWarning: A column-vector y was passed when a 1d array was expected. Please change the shape of y to (n_samples, ), for example using ravel().\n",
            "  y = column_or_1d(y, warn=True)\n"
          ]
        },
        {
          "output_type": "stream",
          "name": "stdout",
          "text": [
            "[CV 5/5] END ...C=100, gamma=1, kernel=rbf;, score=-27425.436 total time=   4.1s\n"
          ]
        },
        {
          "output_type": "stream",
          "name": "stderr",
          "text": [
            "/usr/local/lib/python3.7/dist-packages/sklearn/utils/validation.py:993: DataConversionWarning: A column-vector y was passed when a 1d array was expected. Please change the shape of y to (n_samples, ), for example using ravel().\n",
            "  y = column_or_1d(y, warn=True)\n"
          ]
        },
        {
          "output_type": "stream",
          "name": "stdout",
          "text": [
            "[CV 1/5] END ..C=100, gamma=0.1, kernel=rbf;, score=-8174.830 total time=   4.1s\n"
          ]
        },
        {
          "output_type": "stream",
          "name": "stderr",
          "text": [
            "/usr/local/lib/python3.7/dist-packages/sklearn/utils/validation.py:993: DataConversionWarning: A column-vector y was passed when a 1d array was expected. Please change the shape of y to (n_samples, ), for example using ravel().\n",
            "  y = column_or_1d(y, warn=True)\n"
          ]
        },
        {
          "output_type": "stream",
          "name": "stdout",
          "text": [
            "[CV 2/5] END ..C=100, gamma=0.1, kernel=rbf;, score=-8670.406 total time=   5.6s\n"
          ]
        },
        {
          "output_type": "stream",
          "name": "stderr",
          "text": [
            "/usr/local/lib/python3.7/dist-packages/sklearn/utils/validation.py:993: DataConversionWarning: A column-vector y was passed when a 1d array was expected. Please change the shape of y to (n_samples, ), for example using ravel().\n",
            "  y = column_or_1d(y, warn=True)\n"
          ]
        },
        {
          "output_type": "stream",
          "name": "stdout",
          "text": [
            "[CV 3/5] END ..C=100, gamma=0.1, kernel=rbf;, score=-8147.471 total time=   4.3s\n"
          ]
        },
        {
          "output_type": "stream",
          "name": "stderr",
          "text": [
            "/usr/local/lib/python3.7/dist-packages/sklearn/utils/validation.py:993: DataConversionWarning: A column-vector y was passed when a 1d array was expected. Please change the shape of y to (n_samples, ), for example using ravel().\n",
            "  y = column_or_1d(y, warn=True)\n"
          ]
        },
        {
          "output_type": "stream",
          "name": "stdout",
          "text": [
            "[CV 4/5] END ..C=100, gamma=0.1, kernel=rbf;, score=-8372.956 total time=   4.1s\n"
          ]
        },
        {
          "output_type": "stream",
          "name": "stderr",
          "text": [
            "/usr/local/lib/python3.7/dist-packages/sklearn/utils/validation.py:993: DataConversionWarning: A column-vector y was passed when a 1d array was expected. Please change the shape of y to (n_samples, ), for example using ravel().\n",
            "  y = column_or_1d(y, warn=True)\n"
          ]
        },
        {
          "output_type": "stream",
          "name": "stdout",
          "text": [
            "[CV 5/5] END .C=100, gamma=0.1, kernel=rbf;, score=-26071.030 total time=   4.1s\n"
          ]
        },
        {
          "output_type": "stream",
          "name": "stderr",
          "text": [
            "/usr/local/lib/python3.7/dist-packages/sklearn/utils/validation.py:993: DataConversionWarning: A column-vector y was passed when a 1d array was expected. Please change the shape of y to (n_samples, ), for example using ravel().\n",
            "  y = column_or_1d(y, warn=True)\n"
          ]
        },
        {
          "output_type": "stream",
          "name": "stdout",
          "text": [
            "[CV 1/5] END .C=100, gamma=0.01, kernel=rbf;, score=-9129.216 total time=   4.1s\n"
          ]
        },
        {
          "output_type": "stream",
          "name": "stderr",
          "text": [
            "/usr/local/lib/python3.7/dist-packages/sklearn/utils/validation.py:993: DataConversionWarning: A column-vector y was passed when a 1d array was expected. Please change the shape of y to (n_samples, ), for example using ravel().\n",
            "  y = column_or_1d(y, warn=True)\n"
          ]
        },
        {
          "output_type": "stream",
          "name": "stdout",
          "text": [
            "[CV 2/5] END .C=100, gamma=0.01, kernel=rbf;, score=-9668.693 total time=   4.1s\n"
          ]
        },
        {
          "output_type": "stream",
          "name": "stderr",
          "text": [
            "/usr/local/lib/python3.7/dist-packages/sklearn/utils/validation.py:993: DataConversionWarning: A column-vector y was passed when a 1d array was expected. Please change the shape of y to (n_samples, ), for example using ravel().\n",
            "  y = column_or_1d(y, warn=True)\n"
          ]
        },
        {
          "output_type": "stream",
          "name": "stdout",
          "text": [
            "[CV 3/5] END .C=100, gamma=0.01, kernel=rbf;, score=-9167.877 total time=   4.1s\n"
          ]
        },
        {
          "output_type": "stream",
          "name": "stderr",
          "text": [
            "/usr/local/lib/python3.7/dist-packages/sklearn/utils/validation.py:993: DataConversionWarning: A column-vector y was passed when a 1d array was expected. Please change the shape of y to (n_samples, ), for example using ravel().\n",
            "  y = column_or_1d(y, warn=True)\n"
          ]
        },
        {
          "output_type": "stream",
          "name": "stdout",
          "text": [
            "[CV 4/5] END .C=100, gamma=0.01, kernel=rbf;, score=-9287.478 total time=   4.1s\n"
          ]
        },
        {
          "output_type": "stream",
          "name": "stderr",
          "text": [
            "/usr/local/lib/python3.7/dist-packages/sklearn/utils/validation.py:993: DataConversionWarning: A column-vector y was passed when a 1d array was expected. Please change the shape of y to (n_samples, ), for example using ravel().\n",
            "  y = column_or_1d(y, warn=True)\n"
          ]
        },
        {
          "output_type": "stream",
          "name": "stdout",
          "text": [
            "[CV 5/5] END C=100, gamma=0.01, kernel=rbf;, score=-27068.352 total time=   4.1s\n"
          ]
        },
        {
          "output_type": "stream",
          "name": "stderr",
          "text": [
            "/usr/local/lib/python3.7/dist-packages/sklearn/utils/validation.py:993: DataConversionWarning: A column-vector y was passed when a 1d array was expected. Please change the shape of y to (n_samples, ), for example using ravel().\n",
            "  y = column_or_1d(y, warn=True)\n"
          ]
        },
        {
          "output_type": "stream",
          "name": "stdout",
          "text": [
            "[CV 1/5] END C=100, gamma=0.001, kernel=rbf;, score=-9966.993 total time=   4.1s\n"
          ]
        },
        {
          "output_type": "stream",
          "name": "stderr",
          "text": [
            "/usr/local/lib/python3.7/dist-packages/sklearn/utils/validation.py:993: DataConversionWarning: A column-vector y was passed when a 1d array was expected. Please change the shape of y to (n_samples, ), for example using ravel().\n",
            "  y = column_or_1d(y, warn=True)\n"
          ]
        },
        {
          "output_type": "stream",
          "name": "stdout",
          "text": [
            "[CV 2/5] END C=100, gamma=0.001, kernel=rbf;, score=-10480.128 total time=   4.2s\n"
          ]
        },
        {
          "output_type": "stream",
          "name": "stderr",
          "text": [
            "/usr/local/lib/python3.7/dist-packages/sklearn/utils/validation.py:993: DataConversionWarning: A column-vector y was passed when a 1d array was expected. Please change the shape of y to (n_samples, ), for example using ravel().\n",
            "  y = column_or_1d(y, warn=True)\n"
          ]
        },
        {
          "output_type": "stream",
          "name": "stdout",
          "text": [
            "[CV 3/5] END C=100, gamma=0.001, kernel=rbf;, score=-10065.426 total time=   5.7s\n"
          ]
        },
        {
          "output_type": "stream",
          "name": "stderr",
          "text": [
            "/usr/local/lib/python3.7/dist-packages/sklearn/utils/validation.py:993: DataConversionWarning: A column-vector y was passed when a 1d array was expected. Please change the shape of y to (n_samples, ), for example using ravel().\n",
            "  y = column_or_1d(y, warn=True)\n"
          ]
        },
        {
          "output_type": "stream",
          "name": "stdout",
          "text": [
            "[CV 4/5] END C=100, gamma=0.001, kernel=rbf;, score=-10070.923 total time=   5.3s\n"
          ]
        },
        {
          "output_type": "stream",
          "name": "stderr",
          "text": [
            "/usr/local/lib/python3.7/dist-packages/sklearn/utils/validation.py:993: DataConversionWarning: A column-vector y was passed when a 1d array was expected. Please change the shape of y to (n_samples, ), for example using ravel().\n",
            "  y = column_or_1d(y, warn=True)\n"
          ]
        },
        {
          "output_type": "stream",
          "name": "stdout",
          "text": [
            "[CV 5/5] END C=100, gamma=0.001, kernel=rbf;, score=-27909.446 total time=   6.5s\n"
          ]
        },
        {
          "output_type": "stream",
          "name": "stderr",
          "text": [
            "/usr/local/lib/python3.7/dist-packages/sklearn/utils/validation.py:993: DataConversionWarning: A column-vector y was passed when a 1d array was expected. Please change the shape of y to (n_samples, ), for example using ravel().\n",
            "  y = column_or_1d(y, warn=True)\n"
          ]
        },
        {
          "output_type": "stream",
          "name": "stdout",
          "text": [
            "[CV 1/5] END C=100, gamma=0.0001, kernel=rbf;, score=-10116.004 total time=   4.1s\n"
          ]
        },
        {
          "output_type": "stream",
          "name": "stderr",
          "text": [
            "/usr/local/lib/python3.7/dist-packages/sklearn/utils/validation.py:993: DataConversionWarning: A column-vector y was passed when a 1d array was expected. Please change the shape of y to (n_samples, ), for example using ravel().\n",
            "  y = column_or_1d(y, warn=True)\n"
          ]
        },
        {
          "output_type": "stream",
          "name": "stdout",
          "text": [
            "[CV 2/5] END C=100, gamma=0.0001, kernel=rbf;, score=-10618.092 total time=   4.1s\n"
          ]
        },
        {
          "output_type": "stream",
          "name": "stderr",
          "text": [
            "/usr/local/lib/python3.7/dist-packages/sklearn/utils/validation.py:993: DataConversionWarning: A column-vector y was passed when a 1d array was expected. Please change the shape of y to (n_samples, ), for example using ravel().\n",
            "  y = column_or_1d(y, warn=True)\n"
          ]
        },
        {
          "output_type": "stream",
          "name": "stdout",
          "text": [
            "[CV 3/5] END C=100, gamma=0.0001, kernel=rbf;, score=-10216.216 total time=   4.2s\n"
          ]
        },
        {
          "output_type": "stream",
          "name": "stderr",
          "text": [
            "/usr/local/lib/python3.7/dist-packages/sklearn/utils/validation.py:993: DataConversionWarning: A column-vector y was passed when a 1d array was expected. Please change the shape of y to (n_samples, ), for example using ravel().\n",
            "  y = column_or_1d(y, warn=True)\n"
          ]
        },
        {
          "output_type": "stream",
          "name": "stdout",
          "text": [
            "[CV 4/5] END C=100, gamma=0.0001, kernel=rbf;, score=-10204.610 total time=   4.1s\n"
          ]
        },
        {
          "output_type": "stream",
          "name": "stderr",
          "text": [
            "/usr/local/lib/python3.7/dist-packages/sklearn/utils/validation.py:993: DataConversionWarning: A column-vector y was passed when a 1d array was expected. Please change the shape of y to (n_samples, ), for example using ravel().\n",
            "  y = column_or_1d(y, warn=True)\n"
          ]
        },
        {
          "output_type": "stream",
          "name": "stdout",
          "text": [
            "[CV 5/5] END C=100, gamma=0.0001, kernel=rbf;, score=-28055.159 total time=   4.2s\n"
          ]
        },
        {
          "output_type": "stream",
          "name": "stderr",
          "text": [
            "/usr/local/lib/python3.7/dist-packages/sklearn/utils/validation.py:993: DataConversionWarning: A column-vector y was passed when a 1d array was expected. Please change the shape of y to (n_samples, ), for example using ravel().\n",
            "  y = column_or_1d(y, warn=True)\n"
          ]
        },
        {
          "output_type": "stream",
          "name": "stdout",
          "text": [
            "[CV 1/5] END ...C=1000, gamma=1, kernel=rbf;, score=-8146.838 total time=   4.2s\n"
          ]
        },
        {
          "output_type": "stream",
          "name": "stderr",
          "text": [
            "/usr/local/lib/python3.7/dist-packages/sklearn/utils/validation.py:993: DataConversionWarning: A column-vector y was passed when a 1d array was expected. Please change the shape of y to (n_samples, ), for example using ravel().\n",
            "  y = column_or_1d(y, warn=True)\n"
          ]
        },
        {
          "output_type": "stream",
          "name": "stdout",
          "text": [
            "[CV 2/5] END ...C=1000, gamma=1, kernel=rbf;, score=-8489.560 total time=   4.2s\n"
          ]
        },
        {
          "output_type": "stream",
          "name": "stderr",
          "text": [
            "/usr/local/lib/python3.7/dist-packages/sklearn/utils/validation.py:993: DataConversionWarning: A column-vector y was passed when a 1d array was expected. Please change the shape of y to (n_samples, ), for example using ravel().\n",
            "  y = column_or_1d(y, warn=True)\n"
          ]
        },
        {
          "output_type": "stream",
          "name": "stdout",
          "text": [
            "[CV 3/5] END ...C=1000, gamma=1, kernel=rbf;, score=-8155.962 total time=   5.8s\n"
          ]
        },
        {
          "output_type": "stream",
          "name": "stderr",
          "text": [
            "/usr/local/lib/python3.7/dist-packages/sklearn/utils/validation.py:993: DataConversionWarning: A column-vector y was passed when a 1d array was expected. Please change the shape of y to (n_samples, ), for example using ravel().\n",
            "  y = column_or_1d(y, warn=True)\n"
          ]
        },
        {
          "output_type": "stream",
          "name": "stdout",
          "text": [
            "[CV 4/5] END ...C=1000, gamma=1, kernel=rbf;, score=-8091.436 total time=   4.2s\n"
          ]
        },
        {
          "output_type": "stream",
          "name": "stderr",
          "text": [
            "/usr/local/lib/python3.7/dist-packages/sklearn/utils/validation.py:993: DataConversionWarning: A column-vector y was passed when a 1d array was expected. Please change the shape of y to (n_samples, ), for example using ravel().\n",
            "  y = column_or_1d(y, warn=True)\n"
          ]
        },
        {
          "output_type": "stream",
          "name": "stdout",
          "text": [
            "[CV 5/5] END ..C=1000, gamma=1, kernel=rbf;, score=-26113.985 total time=   4.1s\n"
          ]
        },
        {
          "output_type": "stream",
          "name": "stderr",
          "text": [
            "/usr/local/lib/python3.7/dist-packages/sklearn/utils/validation.py:993: DataConversionWarning: A column-vector y was passed when a 1d array was expected. Please change the shape of y to (n_samples, ), for example using ravel().\n",
            "  y = column_or_1d(y, warn=True)\n"
          ]
        },
        {
          "output_type": "stream",
          "name": "stdout",
          "text": [
            "[CV 1/5] END .C=1000, gamma=0.1, kernel=rbf;, score=-6636.020 total time=   4.1s\n"
          ]
        },
        {
          "output_type": "stream",
          "name": "stderr",
          "text": [
            "/usr/local/lib/python3.7/dist-packages/sklearn/utils/validation.py:993: DataConversionWarning: A column-vector y was passed when a 1d array was expected. Please change the shape of y to (n_samples, ), for example using ravel().\n",
            "  y = column_or_1d(y, warn=True)\n"
          ]
        },
        {
          "output_type": "stream",
          "name": "stdout",
          "text": [
            "[CV 2/5] END .C=1000, gamma=0.1, kernel=rbf;, score=-7066.956 total time=   4.1s\n"
          ]
        },
        {
          "output_type": "stream",
          "name": "stderr",
          "text": [
            "/usr/local/lib/python3.7/dist-packages/sklearn/utils/validation.py:993: DataConversionWarning: A column-vector y was passed when a 1d array was expected. Please change the shape of y to (n_samples, ), for example using ravel().\n",
            "  y = column_or_1d(y, warn=True)\n"
          ]
        },
        {
          "output_type": "stream",
          "name": "stdout",
          "text": [
            "[CV 3/5] END .C=1000, gamma=0.1, kernel=rbf;, score=-6529.150 total time=   4.1s\n"
          ]
        },
        {
          "output_type": "stream",
          "name": "stderr",
          "text": [
            "/usr/local/lib/python3.7/dist-packages/sklearn/utils/validation.py:993: DataConversionWarning: A column-vector y was passed when a 1d array was expected. Please change the shape of y to (n_samples, ), for example using ravel().\n",
            "  y = column_or_1d(y, warn=True)\n"
          ]
        },
        {
          "output_type": "stream",
          "name": "stdout",
          "text": [
            "[CV 4/5] END .C=1000, gamma=0.1, kernel=rbf;, score=-6901.721 total time=   4.1s\n"
          ]
        },
        {
          "output_type": "stream",
          "name": "stderr",
          "text": [
            "/usr/local/lib/python3.7/dist-packages/sklearn/utils/validation.py:993: DataConversionWarning: A column-vector y was passed when a 1d array was expected. Please change the shape of y to (n_samples, ), for example using ravel().\n",
            "  y = column_or_1d(y, warn=True)\n"
          ]
        },
        {
          "output_type": "stream",
          "name": "stdout",
          "text": [
            "[CV 5/5] END C=1000, gamma=0.1, kernel=rbf;, score=-24503.371 total time=   4.1s\n"
          ]
        },
        {
          "output_type": "stream",
          "name": "stderr",
          "text": [
            "/usr/local/lib/python3.7/dist-packages/sklearn/utils/validation.py:993: DataConversionWarning: A column-vector y was passed when a 1d array was expected. Please change the shape of y to (n_samples, ), for example using ravel().\n",
            "  y = column_or_1d(y, warn=True)\n"
          ]
        },
        {
          "output_type": "stream",
          "name": "stdout",
          "text": [
            "[CV 1/5] END C=1000, gamma=0.01, kernel=rbf;, score=-7841.933 total time=   4.1s\n"
          ]
        },
        {
          "output_type": "stream",
          "name": "stderr",
          "text": [
            "/usr/local/lib/python3.7/dist-packages/sklearn/utils/validation.py:993: DataConversionWarning: A column-vector y was passed when a 1d array was expected. Please change the shape of y to (n_samples, ), for example using ravel().\n",
            "  y = column_or_1d(y, warn=True)\n"
          ]
        },
        {
          "output_type": "stream",
          "name": "stdout",
          "text": [
            "[CV 2/5] END C=1000, gamma=0.01, kernel=rbf;, score=-8382.790 total time=   4.1s\n"
          ]
        },
        {
          "output_type": "stream",
          "name": "stderr",
          "text": [
            "/usr/local/lib/python3.7/dist-packages/sklearn/utils/validation.py:993: DataConversionWarning: A column-vector y was passed when a 1d array was expected. Please change the shape of y to (n_samples, ), for example using ravel().\n",
            "  y = column_or_1d(y, warn=True)\n"
          ]
        },
        {
          "output_type": "stream",
          "name": "stdout",
          "text": [
            "[CV 3/5] END C=1000, gamma=0.01, kernel=rbf;, score=-7808.818 total time=   4.1s\n"
          ]
        },
        {
          "output_type": "stream",
          "name": "stderr",
          "text": [
            "/usr/local/lib/python3.7/dist-packages/sklearn/utils/validation.py:993: DataConversionWarning: A column-vector y was passed when a 1d array was expected. Please change the shape of y to (n_samples, ), for example using ravel().\n",
            "  y = column_or_1d(y, warn=True)\n"
          ]
        },
        {
          "output_type": "stream",
          "name": "stdout",
          "text": [
            "[CV 4/5] END C=1000, gamma=0.01, kernel=rbf;, score=-8137.589 total time=   5.7s\n"
          ]
        },
        {
          "output_type": "stream",
          "name": "stderr",
          "text": [
            "/usr/local/lib/python3.7/dist-packages/sklearn/utils/validation.py:993: DataConversionWarning: A column-vector y was passed when a 1d array was expected. Please change the shape of y to (n_samples, ), for example using ravel().\n",
            "  y = column_or_1d(y, warn=True)\n"
          ]
        },
        {
          "output_type": "stream",
          "name": "stdout",
          "text": [
            "[CV 5/5] END C=1000, gamma=0.01, kernel=rbf;, score=-25741.173 total time=   4.1s\n"
          ]
        },
        {
          "output_type": "stream",
          "name": "stderr",
          "text": [
            "/usr/local/lib/python3.7/dist-packages/sklearn/utils/validation.py:993: DataConversionWarning: A column-vector y was passed when a 1d array was expected. Please change the shape of y to (n_samples, ), for example using ravel().\n",
            "  y = column_or_1d(y, warn=True)\n"
          ]
        },
        {
          "output_type": "stream",
          "name": "stdout",
          "text": [
            "[CV 1/5] END C=1000, gamma=0.001, kernel=rbf;, score=-9070.061 total time=   4.1s\n"
          ]
        },
        {
          "output_type": "stream",
          "name": "stderr",
          "text": [
            "/usr/local/lib/python3.7/dist-packages/sklearn/utils/validation.py:993: DataConversionWarning: A column-vector y was passed when a 1d array was expected. Please change the shape of y to (n_samples, ), for example using ravel().\n",
            "  y = column_or_1d(y, warn=True)\n"
          ]
        },
        {
          "output_type": "stream",
          "name": "stdout",
          "text": [
            "[CV 2/5] END C=1000, gamma=0.001, kernel=rbf;, score=-9608.044 total time=   4.1s\n"
          ]
        },
        {
          "output_type": "stream",
          "name": "stderr",
          "text": [
            "/usr/local/lib/python3.7/dist-packages/sklearn/utils/validation.py:993: DataConversionWarning: A column-vector y was passed when a 1d array was expected. Please change the shape of y to (n_samples, ), for example using ravel().\n",
            "  y = column_or_1d(y, warn=True)\n"
          ]
        },
        {
          "output_type": "stream",
          "name": "stdout",
          "text": [
            "[CV 3/5] END C=1000, gamma=0.001, kernel=rbf;, score=-9091.987 total time=   4.1s\n"
          ]
        },
        {
          "output_type": "stream",
          "name": "stderr",
          "text": [
            "/usr/local/lib/python3.7/dist-packages/sklearn/utils/validation.py:993: DataConversionWarning: A column-vector y was passed when a 1d array was expected. Please change the shape of y to (n_samples, ), for example using ravel().\n",
            "  y = column_or_1d(y, warn=True)\n"
          ]
        },
        {
          "output_type": "stream",
          "name": "stdout",
          "text": [
            "[CV 4/5] END C=1000, gamma=0.001, kernel=rbf;, score=-9226.669 total time=   4.1s\n"
          ]
        },
        {
          "output_type": "stream",
          "name": "stderr",
          "text": [
            "/usr/local/lib/python3.7/dist-packages/sklearn/utils/validation.py:993: DataConversionWarning: A column-vector y was passed when a 1d array was expected. Please change the shape of y to (n_samples, ), for example using ravel().\n",
            "  y = column_or_1d(y, warn=True)\n"
          ]
        },
        {
          "output_type": "stream",
          "name": "stdout",
          "text": [
            "[CV 5/5] END C=1000, gamma=0.001, kernel=rbf;, score=-26999.218 total time=   4.1s\n"
          ]
        },
        {
          "output_type": "stream",
          "name": "stderr",
          "text": [
            "/usr/local/lib/python3.7/dist-packages/sklearn/utils/validation.py:993: DataConversionWarning: A column-vector y was passed when a 1d array was expected. Please change the shape of y to (n_samples, ), for example using ravel().\n",
            "  y = column_or_1d(y, warn=True)\n"
          ]
        },
        {
          "output_type": "stream",
          "name": "stdout",
          "text": [
            "[CV 1/5] END C=1000, gamma=0.0001, kernel=rbf;, score=-9965.366 total time=   4.1s\n"
          ]
        },
        {
          "output_type": "stream",
          "name": "stderr",
          "text": [
            "/usr/local/lib/python3.7/dist-packages/sklearn/utils/validation.py:993: DataConversionWarning: A column-vector y was passed when a 1d array was expected. Please change the shape of y to (n_samples, ), for example using ravel().\n",
            "  y = column_or_1d(y, warn=True)\n"
          ]
        },
        {
          "output_type": "stream",
          "name": "stdout",
          "text": [
            "[CV 2/5] END C=1000, gamma=0.0001, kernel=rbf;, score=-10478.621 total time=   4.2s\n"
          ]
        },
        {
          "output_type": "stream",
          "name": "stderr",
          "text": [
            "/usr/local/lib/python3.7/dist-packages/sklearn/utils/validation.py:993: DataConversionWarning: A column-vector y was passed when a 1d array was expected. Please change the shape of y to (n_samples, ), for example using ravel().\n",
            "  y = column_or_1d(y, warn=True)\n"
          ]
        },
        {
          "output_type": "stream",
          "name": "stdout",
          "text": [
            "[CV 3/5] END C=1000, gamma=0.0001, kernel=rbf;, score=-10063.954 total time=   4.1s\n"
          ]
        },
        {
          "output_type": "stream",
          "name": "stderr",
          "text": [
            "/usr/local/lib/python3.7/dist-packages/sklearn/utils/validation.py:993: DataConversionWarning: A column-vector y was passed when a 1d array was expected. Please change the shape of y to (n_samples, ), for example using ravel().\n",
            "  y = column_or_1d(y, warn=True)\n"
          ]
        },
        {
          "output_type": "stream",
          "name": "stdout",
          "text": [
            "[CV 4/5] END C=1000, gamma=0.0001, kernel=rbf;, score=-10069.471 total time=   4.1s\n"
          ]
        },
        {
          "output_type": "stream",
          "name": "stderr",
          "text": [
            "/usr/local/lib/python3.7/dist-packages/sklearn/utils/validation.py:993: DataConversionWarning: A column-vector y was passed when a 1d array was expected. Please change the shape of y to (n_samples, ), for example using ravel().\n",
            "  y = column_or_1d(y, warn=True)\n"
          ]
        },
        {
          "output_type": "stream",
          "name": "stdout",
          "text": [
            "[CV 5/5] END C=1000, gamma=0.0001, kernel=rbf;, score=-27907.847 total time=   5.5s\n"
          ]
        },
        {
          "output_type": "stream",
          "name": "stderr",
          "text": [
            "/usr/local/lib/python3.7/dist-packages/sklearn/utils/validation.py:993: DataConversionWarning: A column-vector y was passed when a 1d array was expected. Please change the shape of y to (n_samples, ), for example using ravel().\n",
            "  y = column_or_1d(y, warn=True)\n"
          ]
        },
        {
          "output_type": "execute_result",
          "data": {
            "text/plain": [
              "GridSearchCV(estimator=SVR(),\n",
              "             param_grid={'C': [0.1, 1, 10, 100, 1000],\n",
              "                         'gamma': [1, 0.1, 0.01, 0.001, 0.0001],\n",
              "                         'kernel': ['rbf']},\n",
              "             scoring='neg_mean_absolute_error', verbose=3)"
            ]
          },
          "metadata": {},
          "execution_count": 6
        }
      ],
      "source": [
        "\n",
        "param_grid = {'C': [0.1, 1, 10, 100, 1000], \n",
        "              'gamma': [1, 0.1, 0.01, 0.001, 0.0001],\n",
        "              'kernel': ['rbf']} \n",
        "  \n",
        "grid = GridSearchCV(SVR(), param_grid, refit = True, verbose = 3,scoring='neg_mean_absolute_error')\n",
        "  \n",
        "# fitting the model for grid search\n",
        "grid.fit(X_train, Y_train)"
      ]
    },
    {
      "cell_type": "code",
      "execution_count": 7,
      "metadata": {
        "colab": {
          "base_uri": "https://localhost:8080/"
        },
        "id": "_jc435UabDxQ",
        "outputId": "dd8654cf-07b2-4788-fbab-133e298f34ba"
      },
      "outputs": [
        {
          "output_type": "stream",
          "name": "stdout",
          "text": [
            "{'C': 1000, 'gamma': 0.1, 'kernel': 'rbf'}\n",
            "SVR(C=1000, gamma=0.1)\n"
          ]
        }
      ],
      "source": [
        "# print best parameter after tuning\n",
        "print(grid.best_params_)\n",
        "  \n",
        "# print how our model looks after hyper-parameter tuning\n",
        "print(grid.best_estimator_)"
      ]
    },
    {
      "cell_type": "code",
      "execution_count": 8,
      "metadata": {
        "id": "XQaPDekLkMlP"
      },
      "outputs": [],
      "source": [
        "y_predict_test_g=grid.predict(X_val)\n",
        "y_predict_train_g=grid.predict(X_train)\n",
        "\n"
      ]
    },
    {
      "cell_type": "code",
      "execution_count": 9,
      "metadata": {
        "colab": {
          "base_uri": "https://localhost:8080/"
        },
        "id": "KLjnGg4agMy5",
        "outputId": "ac607def-5132-4e53-9a50-b581b358715e"
      },
      "outputs": [
        {
          "output_type": "execute_result",
          "data": {
            "text/plain": [
              "(1826,)"
            ]
          },
          "metadata": {},
          "execution_count": 9
        }
      ],
      "source": [
        "y_predict_test_g.shape"
      ]
    },
    {
      "cell_type": "code",
      "execution_count": 10,
      "metadata": {
        "id": "2Ejo_n9jkagW"
      },
      "outputs": [],
      "source": [
        "mae_train=mean_absolute_error(Y_train, y_predict_train_g)\n",
        "rmse_train=np.sqrt(mean_squared_error(Y_train,y_predict_train_g))\n",
        "mae_test=mean_absolute_error(Y_val, y_predict_test_g)\n",
        "rmse_test=np.sqrt(mean_squared_error(Y_val,y_predict_test_g))"
      ]
    },
    {
      "cell_type": "code",
      "execution_count": 11,
      "metadata": {
        "colab": {
          "base_uri": "https://localhost:8080/"
        },
        "id": "BFRVciB5kCJs",
        "outputId": "77348fe5-b5ba-48cf-e938-800c81fdbaca"
      },
      "outputs": [
        {
          "output_type": "stream",
          "name": "stdout",
          "text": [
            "El MAE para entrenamiento es 9957.878537075443, en test es 6973.001829293976 \n",
            "El RMS para entrenamiento es 307989.55813502125, en test es 14152.950199588302 \n",
            "Valor R2 de este modelo en train es -9957.878537075443  \n",
            "Valor R2 de este modelo en test es -6973.001829293976  \n"
          ]
        }
      ],
      "source": [
        "print('El MAE para entrenamiento es {}, en test es {} '.format(mae_train,mae_test))\n",
        "\n",
        "print('El RMS para entrenamiento es {}, en test es {} '.format(rmse_train,rmse_test))\n",
        "r_score_train=grid.score(X_train,Y_train)\n",
        "print('Valor R2 de este modelo en train es {}  '.format(r_score_train))\n",
        "r_score=grid.score(X_val,Y_val)\n",
        "print('Valor R2 de este modelo en test es {}  '.format(r_score))"
      ]
    },
    {
      "cell_type": "markdown",
      "metadata": {
        "id": "iNQhBxagB0RB"
      },
      "source": [
        "Cambiando el kernel del modelo "
      ]
    },
    {
      "cell_type": "code",
      "execution_count": 12,
      "metadata": {
        "colab": {
          "base_uri": "https://localhost:8080/"
        },
        "id": "1OINvj2_koxr",
        "outputId": "dd7c9f01-f754-45b3-d340-8883d4bdb545"
      },
      "outputs": [
        {
          "output_type": "stream",
          "name": "stdout",
          "text": [
            "Fitting 5 folds for each of 25 candidates, totalling 125 fits\n"
          ]
        },
        {
          "output_type": "stream",
          "name": "stderr",
          "text": [
            "/usr/local/lib/python3.7/dist-packages/sklearn/utils/validation.py:993: DataConversionWarning: A column-vector y was passed when a 1d array was expected. Please change the shape of y to (n_samples, ), for example using ravel().\n",
            "  y = column_or_1d(y, warn=True)\n"
          ]
        },
        {
          "output_type": "stream",
          "name": "stdout",
          "text": [
            "[CV 1/5] END C=0.1, gamma=1, kernel=linear;, score=-10047.157 total time=   2.5s\n"
          ]
        },
        {
          "output_type": "stream",
          "name": "stderr",
          "text": [
            "/usr/local/lib/python3.7/dist-packages/sklearn/utils/validation.py:993: DataConversionWarning: A column-vector y was passed when a 1d array was expected. Please change the shape of y to (n_samples, ), for example using ravel().\n",
            "  y = column_or_1d(y, warn=True)\n"
          ]
        },
        {
          "output_type": "stream",
          "name": "stdout",
          "text": [
            "[CV 2/5] END C=0.1, gamma=1, kernel=linear;, score=-10554.875 total time=   2.4s\n"
          ]
        },
        {
          "output_type": "stream",
          "name": "stderr",
          "text": [
            "/usr/local/lib/python3.7/dist-packages/sklearn/utils/validation.py:993: DataConversionWarning: A column-vector y was passed when a 1d array was expected. Please change the shape of y to (n_samples, ), for example using ravel().\n",
            "  y = column_or_1d(y, warn=True)\n"
          ]
        },
        {
          "output_type": "stream",
          "name": "stdout",
          "text": [
            "[CV 3/5] END C=0.1, gamma=1, kernel=linear;, score=-10148.145 total time=   2.5s\n"
          ]
        },
        {
          "output_type": "stream",
          "name": "stderr",
          "text": [
            "/usr/local/lib/python3.7/dist-packages/sklearn/utils/validation.py:993: DataConversionWarning: A column-vector y was passed when a 1d array was expected. Please change the shape of y to (n_samples, ), for example using ravel().\n",
            "  y = column_or_1d(y, warn=True)\n"
          ]
        },
        {
          "output_type": "stream",
          "name": "stdout",
          "text": [
            "[CV 4/5] END C=0.1, gamma=1, kernel=linear;, score=-10141.573 total time=   2.5s\n"
          ]
        },
        {
          "output_type": "stream",
          "name": "stderr",
          "text": [
            "/usr/local/lib/python3.7/dist-packages/sklearn/utils/validation.py:993: DataConversionWarning: A column-vector y was passed when a 1d array was expected. Please change the shape of y to (n_samples, ), for example using ravel().\n",
            "  y = column_or_1d(y, warn=True)\n"
          ]
        },
        {
          "output_type": "stream",
          "name": "stdout",
          "text": [
            "[CV 5/5] END C=0.1, gamma=1, kernel=linear;, score=-27987.037 total time=   2.4s\n"
          ]
        },
        {
          "output_type": "stream",
          "name": "stderr",
          "text": [
            "/usr/local/lib/python3.7/dist-packages/sklearn/utils/validation.py:993: DataConversionWarning: A column-vector y was passed when a 1d array was expected. Please change the shape of y to (n_samples, ), for example using ravel().\n",
            "  y = column_or_1d(y, warn=True)\n"
          ]
        },
        {
          "output_type": "stream",
          "name": "stdout",
          "text": [
            "[CV 1/5] END C=0.1, gamma=0.1, kernel=linear;, score=-10047.157 total time=   2.4s\n"
          ]
        },
        {
          "output_type": "stream",
          "name": "stderr",
          "text": [
            "/usr/local/lib/python3.7/dist-packages/sklearn/utils/validation.py:993: DataConversionWarning: A column-vector y was passed when a 1d array was expected. Please change the shape of y to (n_samples, ), for example using ravel().\n",
            "  y = column_or_1d(y, warn=True)\n"
          ]
        },
        {
          "output_type": "stream",
          "name": "stdout",
          "text": [
            "[CV 2/5] END C=0.1, gamma=0.1, kernel=linear;, score=-10554.875 total time=   2.4s\n"
          ]
        },
        {
          "output_type": "stream",
          "name": "stderr",
          "text": [
            "/usr/local/lib/python3.7/dist-packages/sklearn/utils/validation.py:993: DataConversionWarning: A column-vector y was passed when a 1d array was expected. Please change the shape of y to (n_samples, ), for example using ravel().\n",
            "  y = column_or_1d(y, warn=True)\n"
          ]
        },
        {
          "output_type": "stream",
          "name": "stdout",
          "text": [
            "[CV 3/5] END C=0.1, gamma=0.1, kernel=linear;, score=-10148.145 total time=   2.5s\n"
          ]
        },
        {
          "output_type": "stream",
          "name": "stderr",
          "text": [
            "/usr/local/lib/python3.7/dist-packages/sklearn/utils/validation.py:993: DataConversionWarning: A column-vector y was passed when a 1d array was expected. Please change the shape of y to (n_samples, ), for example using ravel().\n",
            "  y = column_or_1d(y, warn=True)\n"
          ]
        },
        {
          "output_type": "stream",
          "name": "stdout",
          "text": [
            "[CV 4/5] END C=0.1, gamma=0.1, kernel=linear;, score=-10141.573 total time=   2.5s\n"
          ]
        },
        {
          "output_type": "stream",
          "name": "stderr",
          "text": [
            "/usr/local/lib/python3.7/dist-packages/sklearn/utils/validation.py:993: DataConversionWarning: A column-vector y was passed when a 1d array was expected. Please change the shape of y to (n_samples, ), for example using ravel().\n",
            "  y = column_or_1d(y, warn=True)\n"
          ]
        },
        {
          "output_type": "stream",
          "name": "stdout",
          "text": [
            "[CV 5/5] END C=0.1, gamma=0.1, kernel=linear;, score=-27987.037 total time=   4.2s\n"
          ]
        },
        {
          "output_type": "stream",
          "name": "stderr",
          "text": [
            "/usr/local/lib/python3.7/dist-packages/sklearn/utils/validation.py:993: DataConversionWarning: A column-vector y was passed when a 1d array was expected. Please change the shape of y to (n_samples, ), for example using ravel().\n",
            "  y = column_or_1d(y, warn=True)\n"
          ]
        },
        {
          "output_type": "stream",
          "name": "stdout",
          "text": [
            "[CV 1/5] END C=0.1, gamma=0.01, kernel=linear;, score=-10047.157 total time=   2.8s\n"
          ]
        },
        {
          "output_type": "stream",
          "name": "stderr",
          "text": [
            "/usr/local/lib/python3.7/dist-packages/sklearn/utils/validation.py:993: DataConversionWarning: A column-vector y was passed when a 1d array was expected. Please change the shape of y to (n_samples, ), for example using ravel().\n",
            "  y = column_or_1d(y, warn=True)\n"
          ]
        },
        {
          "output_type": "stream",
          "name": "stdout",
          "text": [
            "[CV 2/5] END C=0.1, gamma=0.01, kernel=linear;, score=-10554.875 total time=   2.5s\n"
          ]
        },
        {
          "output_type": "stream",
          "name": "stderr",
          "text": [
            "/usr/local/lib/python3.7/dist-packages/sklearn/utils/validation.py:993: DataConversionWarning: A column-vector y was passed when a 1d array was expected. Please change the shape of y to (n_samples, ), for example using ravel().\n",
            "  y = column_or_1d(y, warn=True)\n"
          ]
        },
        {
          "output_type": "stream",
          "name": "stdout",
          "text": [
            "[CV 3/5] END C=0.1, gamma=0.01, kernel=linear;, score=-10148.145 total time=   2.4s\n"
          ]
        },
        {
          "output_type": "stream",
          "name": "stderr",
          "text": [
            "/usr/local/lib/python3.7/dist-packages/sklearn/utils/validation.py:993: DataConversionWarning: A column-vector y was passed when a 1d array was expected. Please change the shape of y to (n_samples, ), for example using ravel().\n",
            "  y = column_or_1d(y, warn=True)\n"
          ]
        },
        {
          "output_type": "stream",
          "name": "stdout",
          "text": [
            "[CV 4/5] END C=0.1, gamma=0.01, kernel=linear;, score=-10141.573 total time=   2.5s\n"
          ]
        },
        {
          "output_type": "stream",
          "name": "stderr",
          "text": [
            "/usr/local/lib/python3.7/dist-packages/sklearn/utils/validation.py:993: DataConversionWarning: A column-vector y was passed when a 1d array was expected. Please change the shape of y to (n_samples, ), for example using ravel().\n",
            "  y = column_or_1d(y, warn=True)\n"
          ]
        },
        {
          "output_type": "stream",
          "name": "stdout",
          "text": [
            "[CV 5/5] END C=0.1, gamma=0.01, kernel=linear;, score=-27987.037 total time=   2.5s\n"
          ]
        },
        {
          "output_type": "stream",
          "name": "stderr",
          "text": [
            "/usr/local/lib/python3.7/dist-packages/sklearn/utils/validation.py:993: DataConversionWarning: A column-vector y was passed when a 1d array was expected. Please change the shape of y to (n_samples, ), for example using ravel().\n",
            "  y = column_or_1d(y, warn=True)\n"
          ]
        },
        {
          "output_type": "stream",
          "name": "stdout",
          "text": [
            "[CV 1/5] END C=0.1, gamma=0.001, kernel=linear;, score=-10047.157 total time=   2.4s\n"
          ]
        },
        {
          "output_type": "stream",
          "name": "stderr",
          "text": [
            "/usr/local/lib/python3.7/dist-packages/sklearn/utils/validation.py:993: DataConversionWarning: A column-vector y was passed when a 1d array was expected. Please change the shape of y to (n_samples, ), for example using ravel().\n",
            "  y = column_or_1d(y, warn=True)\n"
          ]
        },
        {
          "output_type": "stream",
          "name": "stdout",
          "text": [
            "[CV 2/5] END C=0.1, gamma=0.001, kernel=linear;, score=-10554.875 total time=   2.4s\n"
          ]
        },
        {
          "output_type": "stream",
          "name": "stderr",
          "text": [
            "/usr/local/lib/python3.7/dist-packages/sklearn/utils/validation.py:993: DataConversionWarning: A column-vector y was passed when a 1d array was expected. Please change the shape of y to (n_samples, ), for example using ravel().\n",
            "  y = column_or_1d(y, warn=True)\n"
          ]
        },
        {
          "output_type": "stream",
          "name": "stdout",
          "text": [
            "[CV 3/5] END C=0.1, gamma=0.001, kernel=linear;, score=-10148.145 total time=   2.4s\n"
          ]
        },
        {
          "output_type": "stream",
          "name": "stderr",
          "text": [
            "/usr/local/lib/python3.7/dist-packages/sklearn/utils/validation.py:993: DataConversionWarning: A column-vector y was passed when a 1d array was expected. Please change the shape of y to (n_samples, ), for example using ravel().\n",
            "  y = column_or_1d(y, warn=True)\n"
          ]
        },
        {
          "output_type": "stream",
          "name": "stdout",
          "text": [
            "[CV 4/5] END C=0.1, gamma=0.001, kernel=linear;, score=-10141.573 total time=   2.5s\n"
          ]
        },
        {
          "output_type": "stream",
          "name": "stderr",
          "text": [
            "/usr/local/lib/python3.7/dist-packages/sklearn/utils/validation.py:993: DataConversionWarning: A column-vector y was passed when a 1d array was expected. Please change the shape of y to (n_samples, ), for example using ravel().\n",
            "  y = column_or_1d(y, warn=True)\n"
          ]
        },
        {
          "output_type": "stream",
          "name": "stdout",
          "text": [
            "[CV 5/5] END C=0.1, gamma=0.001, kernel=linear;, score=-27987.037 total time=   2.4s\n"
          ]
        },
        {
          "output_type": "stream",
          "name": "stderr",
          "text": [
            "/usr/local/lib/python3.7/dist-packages/sklearn/utils/validation.py:993: DataConversionWarning: A column-vector y was passed when a 1d array was expected. Please change the shape of y to (n_samples, ), for example using ravel().\n",
            "  y = column_or_1d(y, warn=True)\n"
          ]
        },
        {
          "output_type": "stream",
          "name": "stdout",
          "text": [
            "[CV 1/5] END C=0.1, gamma=0.0001, kernel=linear;, score=-10047.157 total time=   2.4s\n"
          ]
        },
        {
          "output_type": "stream",
          "name": "stderr",
          "text": [
            "/usr/local/lib/python3.7/dist-packages/sklearn/utils/validation.py:993: DataConversionWarning: A column-vector y was passed when a 1d array was expected. Please change the shape of y to (n_samples, ), for example using ravel().\n",
            "  y = column_or_1d(y, warn=True)\n"
          ]
        },
        {
          "output_type": "stream",
          "name": "stdout",
          "text": [
            "[CV 2/5] END C=0.1, gamma=0.0001, kernel=linear;, score=-10554.875 total time=   2.4s\n"
          ]
        },
        {
          "output_type": "stream",
          "name": "stderr",
          "text": [
            "/usr/local/lib/python3.7/dist-packages/sklearn/utils/validation.py:993: DataConversionWarning: A column-vector y was passed when a 1d array was expected. Please change the shape of y to (n_samples, ), for example using ravel().\n",
            "  y = column_or_1d(y, warn=True)\n"
          ]
        },
        {
          "output_type": "stream",
          "name": "stdout",
          "text": [
            "[CV 3/5] END C=0.1, gamma=0.0001, kernel=linear;, score=-10148.145 total time=   2.4s\n"
          ]
        },
        {
          "output_type": "stream",
          "name": "stderr",
          "text": [
            "/usr/local/lib/python3.7/dist-packages/sklearn/utils/validation.py:993: DataConversionWarning: A column-vector y was passed when a 1d array was expected. Please change the shape of y to (n_samples, ), for example using ravel().\n",
            "  y = column_or_1d(y, warn=True)\n"
          ]
        },
        {
          "output_type": "stream",
          "name": "stdout",
          "text": [
            "[CV 4/5] END C=0.1, gamma=0.0001, kernel=linear;, score=-10141.573 total time=   2.4s\n"
          ]
        },
        {
          "output_type": "stream",
          "name": "stderr",
          "text": [
            "/usr/local/lib/python3.7/dist-packages/sklearn/utils/validation.py:993: DataConversionWarning: A column-vector y was passed when a 1d array was expected. Please change the shape of y to (n_samples, ), for example using ravel().\n",
            "  y = column_or_1d(y, warn=True)\n"
          ]
        },
        {
          "output_type": "stream",
          "name": "stdout",
          "text": [
            "[CV 5/5] END C=0.1, gamma=0.0001, kernel=linear;, score=-27987.037 total time=   2.4s\n"
          ]
        },
        {
          "output_type": "stream",
          "name": "stderr",
          "text": [
            "/usr/local/lib/python3.7/dist-packages/sklearn/utils/validation.py:993: DataConversionWarning: A column-vector y was passed when a 1d array was expected. Please change the shape of y to (n_samples, ), for example using ravel().\n",
            "  y = column_or_1d(y, warn=True)\n"
          ]
        },
        {
          "output_type": "stream",
          "name": "stdout",
          "text": [
            "[CV 1/5] END ...C=1, gamma=1, kernel=linear;, score=-9463.200 total time=   2.4s\n"
          ]
        },
        {
          "output_type": "stream",
          "name": "stderr",
          "text": [
            "/usr/local/lib/python3.7/dist-packages/sklearn/utils/validation.py:993: DataConversionWarning: A column-vector y was passed when a 1d array was expected. Please change the shape of y to (n_samples, ), for example using ravel().\n",
            "  y = column_or_1d(y, warn=True)\n"
          ]
        },
        {
          "output_type": "stream",
          "name": "stdout",
          "text": [
            "[CV 2/5] END ..C=1, gamma=1, kernel=linear;, score=-10000.608 total time=   2.4s\n"
          ]
        },
        {
          "output_type": "stream",
          "name": "stderr",
          "text": [
            "/usr/local/lib/python3.7/dist-packages/sklearn/utils/validation.py:993: DataConversionWarning: A column-vector y was passed when a 1d array was expected. Please change the shape of y to (n_samples, ), for example using ravel().\n",
            "  y = column_or_1d(y, warn=True)\n"
          ]
        },
        {
          "output_type": "stream",
          "name": "stdout",
          "text": [
            "[CV 3/5] END ...C=1, gamma=1, kernel=linear;, score=-9537.022 total time=   3.7s\n"
          ]
        },
        {
          "output_type": "stream",
          "name": "stderr",
          "text": [
            "/usr/local/lib/python3.7/dist-packages/sklearn/utils/validation.py:993: DataConversionWarning: A column-vector y was passed when a 1d array was expected. Please change the shape of y to (n_samples, ), for example using ravel().\n",
            "  y = column_or_1d(y, warn=True)\n"
          ]
        },
        {
          "output_type": "stream",
          "name": "stdout",
          "text": [
            "[CV 4/5] END ...C=1, gamma=1, kernel=linear;, score=-9606.118 total time=   3.5s\n"
          ]
        },
        {
          "output_type": "stream",
          "name": "stderr",
          "text": [
            "/usr/local/lib/python3.7/dist-packages/sklearn/utils/validation.py:993: DataConversionWarning: A column-vector y was passed when a 1d array was expected. Please change the shape of y to (n_samples, ), for example using ravel().\n",
            "  y = column_or_1d(y, warn=True)\n"
          ]
        },
        {
          "output_type": "stream",
          "name": "stdout",
          "text": [
            "[CV 5/5] END ..C=1, gamma=1, kernel=linear;, score=-27407.360 total time=   2.4s\n"
          ]
        },
        {
          "output_type": "stream",
          "name": "stderr",
          "text": [
            "/usr/local/lib/python3.7/dist-packages/sklearn/utils/validation.py:993: DataConversionWarning: A column-vector y was passed when a 1d array was expected. Please change the shape of y to (n_samples, ), for example using ravel().\n",
            "  y = column_or_1d(y, warn=True)\n"
          ]
        },
        {
          "output_type": "stream",
          "name": "stdout",
          "text": [
            "[CV 1/5] END .C=1, gamma=0.1, kernel=linear;, score=-9463.200 total time=   2.4s\n"
          ]
        },
        {
          "output_type": "stream",
          "name": "stderr",
          "text": [
            "/usr/local/lib/python3.7/dist-packages/sklearn/utils/validation.py:993: DataConversionWarning: A column-vector y was passed when a 1d array was expected. Please change the shape of y to (n_samples, ), for example using ravel().\n",
            "  y = column_or_1d(y, warn=True)\n"
          ]
        },
        {
          "output_type": "stream",
          "name": "stdout",
          "text": [
            "[CV 2/5] END C=1, gamma=0.1, kernel=linear;, score=-10000.608 total time=   2.4s\n"
          ]
        },
        {
          "output_type": "stream",
          "name": "stderr",
          "text": [
            "/usr/local/lib/python3.7/dist-packages/sklearn/utils/validation.py:993: DataConversionWarning: A column-vector y was passed when a 1d array was expected. Please change the shape of y to (n_samples, ), for example using ravel().\n",
            "  y = column_or_1d(y, warn=True)\n"
          ]
        },
        {
          "output_type": "stream",
          "name": "stdout",
          "text": [
            "[CV 3/5] END .C=1, gamma=0.1, kernel=linear;, score=-9537.022 total time=   2.4s\n"
          ]
        },
        {
          "output_type": "stream",
          "name": "stderr",
          "text": [
            "/usr/local/lib/python3.7/dist-packages/sklearn/utils/validation.py:993: DataConversionWarning: A column-vector y was passed when a 1d array was expected. Please change the shape of y to (n_samples, ), for example using ravel().\n",
            "  y = column_or_1d(y, warn=True)\n"
          ]
        },
        {
          "output_type": "stream",
          "name": "stdout",
          "text": [
            "[CV 4/5] END .C=1, gamma=0.1, kernel=linear;, score=-9606.118 total time=   4.4s\n"
          ]
        },
        {
          "output_type": "stream",
          "name": "stderr",
          "text": [
            "/usr/local/lib/python3.7/dist-packages/sklearn/utils/validation.py:993: DataConversionWarning: A column-vector y was passed when a 1d array was expected. Please change the shape of y to (n_samples, ), for example using ravel().\n",
            "  y = column_or_1d(y, warn=True)\n"
          ]
        },
        {
          "output_type": "stream",
          "name": "stdout",
          "text": [
            "[CV 5/5] END C=1, gamma=0.1, kernel=linear;, score=-27407.360 total time=   4.8s\n"
          ]
        },
        {
          "output_type": "stream",
          "name": "stderr",
          "text": [
            "/usr/local/lib/python3.7/dist-packages/sklearn/utils/validation.py:993: DataConversionWarning: A column-vector y was passed when a 1d array was expected. Please change the shape of y to (n_samples, ), for example using ravel().\n",
            "  y = column_or_1d(y, warn=True)\n"
          ]
        },
        {
          "output_type": "stream",
          "name": "stdout",
          "text": [
            "[CV 1/5] END C=1, gamma=0.01, kernel=linear;, score=-9463.200 total time=   2.4s\n"
          ]
        },
        {
          "output_type": "stream",
          "name": "stderr",
          "text": [
            "/usr/local/lib/python3.7/dist-packages/sklearn/utils/validation.py:993: DataConversionWarning: A column-vector y was passed when a 1d array was expected. Please change the shape of y to (n_samples, ), for example using ravel().\n",
            "  y = column_or_1d(y, warn=True)\n"
          ]
        },
        {
          "output_type": "stream",
          "name": "stdout",
          "text": [
            "[CV 2/5] END C=1, gamma=0.01, kernel=linear;, score=-10000.608 total time=   2.4s\n"
          ]
        },
        {
          "output_type": "stream",
          "name": "stderr",
          "text": [
            "/usr/local/lib/python3.7/dist-packages/sklearn/utils/validation.py:993: DataConversionWarning: A column-vector y was passed when a 1d array was expected. Please change the shape of y to (n_samples, ), for example using ravel().\n",
            "  y = column_or_1d(y, warn=True)\n"
          ]
        },
        {
          "output_type": "stream",
          "name": "stdout",
          "text": [
            "[CV 3/5] END C=1, gamma=0.01, kernel=linear;, score=-9537.022 total time=   2.5s\n"
          ]
        },
        {
          "output_type": "stream",
          "name": "stderr",
          "text": [
            "/usr/local/lib/python3.7/dist-packages/sklearn/utils/validation.py:993: DataConversionWarning: A column-vector y was passed when a 1d array was expected. Please change the shape of y to (n_samples, ), for example using ravel().\n",
            "  y = column_or_1d(y, warn=True)\n"
          ]
        },
        {
          "output_type": "stream",
          "name": "stdout",
          "text": [
            "[CV 4/5] END C=1, gamma=0.01, kernel=linear;, score=-9606.118 total time=   2.4s\n"
          ]
        },
        {
          "output_type": "stream",
          "name": "stderr",
          "text": [
            "/usr/local/lib/python3.7/dist-packages/sklearn/utils/validation.py:993: DataConversionWarning: A column-vector y was passed when a 1d array was expected. Please change the shape of y to (n_samples, ), for example using ravel().\n",
            "  y = column_or_1d(y, warn=True)\n"
          ]
        },
        {
          "output_type": "stream",
          "name": "stdout",
          "text": [
            "[CV 5/5] END C=1, gamma=0.01, kernel=linear;, score=-27407.360 total time=   2.5s\n"
          ]
        },
        {
          "output_type": "stream",
          "name": "stderr",
          "text": [
            "/usr/local/lib/python3.7/dist-packages/sklearn/utils/validation.py:993: DataConversionWarning: A column-vector y was passed when a 1d array was expected. Please change the shape of y to (n_samples, ), for example using ravel().\n",
            "  y = column_or_1d(y, warn=True)\n"
          ]
        },
        {
          "output_type": "stream",
          "name": "stdout",
          "text": [
            "[CV 1/5] END C=1, gamma=0.001, kernel=linear;, score=-9463.200 total time=   2.4s\n"
          ]
        },
        {
          "output_type": "stream",
          "name": "stderr",
          "text": [
            "/usr/local/lib/python3.7/dist-packages/sklearn/utils/validation.py:993: DataConversionWarning: A column-vector y was passed when a 1d array was expected. Please change the shape of y to (n_samples, ), for example using ravel().\n",
            "  y = column_or_1d(y, warn=True)\n"
          ]
        },
        {
          "output_type": "stream",
          "name": "stdout",
          "text": [
            "[CV 2/5] END C=1, gamma=0.001, kernel=linear;, score=-10000.608 total time=   2.5s\n"
          ]
        },
        {
          "output_type": "stream",
          "name": "stderr",
          "text": [
            "/usr/local/lib/python3.7/dist-packages/sklearn/utils/validation.py:993: DataConversionWarning: A column-vector y was passed when a 1d array was expected. Please change the shape of y to (n_samples, ), for example using ravel().\n",
            "  y = column_or_1d(y, warn=True)\n"
          ]
        },
        {
          "output_type": "stream",
          "name": "stdout",
          "text": [
            "[CV 3/5] END C=1, gamma=0.001, kernel=linear;, score=-9537.022 total time=   2.4s\n"
          ]
        },
        {
          "output_type": "stream",
          "name": "stderr",
          "text": [
            "/usr/local/lib/python3.7/dist-packages/sklearn/utils/validation.py:993: DataConversionWarning: A column-vector y was passed when a 1d array was expected. Please change the shape of y to (n_samples, ), for example using ravel().\n",
            "  y = column_or_1d(y, warn=True)\n"
          ]
        },
        {
          "output_type": "stream",
          "name": "stdout",
          "text": [
            "[CV 4/5] END C=1, gamma=0.001, kernel=linear;, score=-9606.118 total time=   3.4s\n"
          ]
        },
        {
          "output_type": "stream",
          "name": "stderr",
          "text": [
            "/usr/local/lib/python3.7/dist-packages/sklearn/utils/validation.py:993: DataConversionWarning: A column-vector y was passed when a 1d array was expected. Please change the shape of y to (n_samples, ), for example using ravel().\n",
            "  y = column_or_1d(y, warn=True)\n"
          ]
        },
        {
          "output_type": "stream",
          "name": "stdout",
          "text": [
            "[CV 5/5] END C=1, gamma=0.001, kernel=linear;, score=-27407.360 total time=   3.6s\n"
          ]
        },
        {
          "output_type": "stream",
          "name": "stderr",
          "text": [
            "/usr/local/lib/python3.7/dist-packages/sklearn/utils/validation.py:993: DataConversionWarning: A column-vector y was passed when a 1d array was expected. Please change the shape of y to (n_samples, ), for example using ravel().\n",
            "  y = column_or_1d(y, warn=True)\n"
          ]
        },
        {
          "output_type": "stream",
          "name": "stdout",
          "text": [
            "[CV 1/5] END C=1, gamma=0.0001, kernel=linear;, score=-9463.200 total time=   2.4s\n"
          ]
        },
        {
          "output_type": "stream",
          "name": "stderr",
          "text": [
            "/usr/local/lib/python3.7/dist-packages/sklearn/utils/validation.py:993: DataConversionWarning: A column-vector y was passed when a 1d array was expected. Please change the shape of y to (n_samples, ), for example using ravel().\n",
            "  y = column_or_1d(y, warn=True)\n"
          ]
        },
        {
          "output_type": "stream",
          "name": "stdout",
          "text": [
            "[CV 2/5] END C=1, gamma=0.0001, kernel=linear;, score=-10000.608 total time=   2.4s\n"
          ]
        },
        {
          "output_type": "stream",
          "name": "stderr",
          "text": [
            "/usr/local/lib/python3.7/dist-packages/sklearn/utils/validation.py:993: DataConversionWarning: A column-vector y was passed when a 1d array was expected. Please change the shape of y to (n_samples, ), for example using ravel().\n",
            "  y = column_or_1d(y, warn=True)\n"
          ]
        },
        {
          "output_type": "stream",
          "name": "stdout",
          "text": [
            "[CV 3/5] END C=1, gamma=0.0001, kernel=linear;, score=-9537.022 total time=   2.4s\n"
          ]
        },
        {
          "output_type": "stream",
          "name": "stderr",
          "text": [
            "/usr/local/lib/python3.7/dist-packages/sklearn/utils/validation.py:993: DataConversionWarning: A column-vector y was passed when a 1d array was expected. Please change the shape of y to (n_samples, ), for example using ravel().\n",
            "  y = column_or_1d(y, warn=True)\n"
          ]
        },
        {
          "output_type": "stream",
          "name": "stdout",
          "text": [
            "[CV 4/5] END C=1, gamma=0.0001, kernel=linear;, score=-9606.118 total time=   2.4s\n"
          ]
        },
        {
          "output_type": "stream",
          "name": "stderr",
          "text": [
            "/usr/local/lib/python3.7/dist-packages/sklearn/utils/validation.py:993: DataConversionWarning: A column-vector y was passed when a 1d array was expected. Please change the shape of y to (n_samples, ), for example using ravel().\n",
            "  y = column_or_1d(y, warn=True)\n"
          ]
        },
        {
          "output_type": "stream",
          "name": "stdout",
          "text": [
            "[CV 5/5] END C=1, gamma=0.0001, kernel=linear;, score=-27407.360 total time=   2.4s\n"
          ]
        },
        {
          "output_type": "stream",
          "name": "stderr",
          "text": [
            "/usr/local/lib/python3.7/dist-packages/sklearn/utils/validation.py:993: DataConversionWarning: A column-vector y was passed when a 1d array was expected. Please change the shape of y to (n_samples, ), for example using ravel().\n",
            "  y = column_or_1d(y, warn=True)\n"
          ]
        },
        {
          "output_type": "stream",
          "name": "stdout",
          "text": [
            "[CV 1/5] END ..C=10, gamma=1, kernel=linear;, score=-8164.014 total time=   2.4s\n"
          ]
        },
        {
          "output_type": "stream",
          "name": "stderr",
          "text": [
            "/usr/local/lib/python3.7/dist-packages/sklearn/utils/validation.py:993: DataConversionWarning: A column-vector y was passed when a 1d array was expected. Please change the shape of y to (n_samples, ), for example using ravel().\n",
            "  y = column_or_1d(y, warn=True)\n"
          ]
        },
        {
          "output_type": "stream",
          "name": "stdout",
          "text": [
            "[CV 2/5] END ..C=10, gamma=1, kernel=linear;, score=-8704.576 total time=   2.4s\n"
          ]
        },
        {
          "output_type": "stream",
          "name": "stderr",
          "text": [
            "/usr/local/lib/python3.7/dist-packages/sklearn/utils/validation.py:993: DataConversionWarning: A column-vector y was passed when a 1d array was expected. Please change the shape of y to (n_samples, ), for example using ravel().\n",
            "  y = column_or_1d(y, warn=True)\n"
          ]
        },
        {
          "output_type": "stream",
          "name": "stdout",
          "text": [
            "[CV 3/5] END ..C=10, gamma=1, kernel=linear;, score=-8127.438 total time=   2.4s\n"
          ]
        },
        {
          "output_type": "stream",
          "name": "stderr",
          "text": [
            "/usr/local/lib/python3.7/dist-packages/sklearn/utils/validation.py:993: DataConversionWarning: A column-vector y was passed when a 1d array was expected. Please change the shape of y to (n_samples, ), for example using ravel().\n",
            "  y = column_or_1d(y, warn=True)\n"
          ]
        },
        {
          "output_type": "stream",
          "name": "stdout",
          "text": [
            "[CV 4/5] END ..C=10, gamma=1, kernel=linear;, score=-8420.362 total time=   2.4s\n"
          ]
        },
        {
          "output_type": "stream",
          "name": "stderr",
          "text": [
            "/usr/local/lib/python3.7/dist-packages/sklearn/utils/validation.py:993: DataConversionWarning: A column-vector y was passed when a 1d array was expected. Please change the shape of y to (n_samples, ), for example using ravel().\n",
            "  y = column_or_1d(y, warn=True)\n"
          ]
        },
        {
          "output_type": "stream",
          "name": "stdout",
          "text": [
            "[CV 5/5] END .C=10, gamma=1, kernel=linear;, score=-26040.880 total time=   2.4s\n"
          ]
        },
        {
          "output_type": "stream",
          "name": "stderr",
          "text": [
            "/usr/local/lib/python3.7/dist-packages/sklearn/utils/validation.py:993: DataConversionWarning: A column-vector y was passed when a 1d array was expected. Please change the shape of y to (n_samples, ), for example using ravel().\n",
            "  y = column_or_1d(y, warn=True)\n"
          ]
        },
        {
          "output_type": "stream",
          "name": "stdout",
          "text": [
            "[CV 1/5] END C=10, gamma=0.1, kernel=linear;, score=-8164.014 total time=   2.4s\n"
          ]
        },
        {
          "output_type": "stream",
          "name": "stderr",
          "text": [
            "/usr/local/lib/python3.7/dist-packages/sklearn/utils/validation.py:993: DataConversionWarning: A column-vector y was passed when a 1d array was expected. Please change the shape of y to (n_samples, ), for example using ravel().\n",
            "  y = column_or_1d(y, warn=True)\n"
          ]
        },
        {
          "output_type": "stream",
          "name": "stdout",
          "text": [
            "[CV 2/5] END C=10, gamma=0.1, kernel=linear;, score=-8704.576 total time=   2.4s\n"
          ]
        },
        {
          "output_type": "stream",
          "name": "stderr",
          "text": [
            "/usr/local/lib/python3.7/dist-packages/sklearn/utils/validation.py:993: DataConversionWarning: A column-vector y was passed when a 1d array was expected. Please change the shape of y to (n_samples, ), for example using ravel().\n",
            "  y = column_or_1d(y, warn=True)\n"
          ]
        },
        {
          "output_type": "stream",
          "name": "stdout",
          "text": [
            "[CV 3/5] END C=10, gamma=0.1, kernel=linear;, score=-8127.438 total time=   2.4s\n"
          ]
        },
        {
          "output_type": "stream",
          "name": "stderr",
          "text": [
            "/usr/local/lib/python3.7/dist-packages/sklearn/utils/validation.py:993: DataConversionWarning: A column-vector y was passed when a 1d array was expected. Please change the shape of y to (n_samples, ), for example using ravel().\n",
            "  y = column_or_1d(y, warn=True)\n"
          ]
        },
        {
          "output_type": "stream",
          "name": "stdout",
          "text": [
            "[CV 4/5] END C=10, gamma=0.1, kernel=linear;, score=-8420.362 total time=   2.4s\n"
          ]
        },
        {
          "output_type": "stream",
          "name": "stderr",
          "text": [
            "/usr/local/lib/python3.7/dist-packages/sklearn/utils/validation.py:993: DataConversionWarning: A column-vector y was passed when a 1d array was expected. Please change the shape of y to (n_samples, ), for example using ravel().\n",
            "  y = column_or_1d(y, warn=True)\n"
          ]
        },
        {
          "output_type": "stream",
          "name": "stdout",
          "text": [
            "[CV 5/5] END C=10, gamma=0.1, kernel=linear;, score=-26040.880 total time=   2.4s\n"
          ]
        },
        {
          "output_type": "stream",
          "name": "stderr",
          "text": [
            "/usr/local/lib/python3.7/dist-packages/sklearn/utils/validation.py:993: DataConversionWarning: A column-vector y was passed when a 1d array was expected. Please change the shape of y to (n_samples, ), for example using ravel().\n",
            "  y = column_or_1d(y, warn=True)\n"
          ]
        },
        {
          "output_type": "stream",
          "name": "stdout",
          "text": [
            "[CV 1/5] END C=10, gamma=0.01, kernel=linear;, score=-8164.014 total time=   2.4s\n"
          ]
        },
        {
          "output_type": "stream",
          "name": "stderr",
          "text": [
            "/usr/local/lib/python3.7/dist-packages/sklearn/utils/validation.py:993: DataConversionWarning: A column-vector y was passed when a 1d array was expected. Please change the shape of y to (n_samples, ), for example using ravel().\n",
            "  y = column_or_1d(y, warn=True)\n"
          ]
        },
        {
          "output_type": "stream",
          "name": "stdout",
          "text": [
            "[CV 2/5] END C=10, gamma=0.01, kernel=linear;, score=-8704.576 total time=   2.4s\n"
          ]
        },
        {
          "output_type": "stream",
          "name": "stderr",
          "text": [
            "/usr/local/lib/python3.7/dist-packages/sklearn/utils/validation.py:993: DataConversionWarning: A column-vector y was passed when a 1d array was expected. Please change the shape of y to (n_samples, ), for example using ravel().\n",
            "  y = column_or_1d(y, warn=True)\n"
          ]
        },
        {
          "output_type": "stream",
          "name": "stdout",
          "text": [
            "[CV 3/5] END C=10, gamma=0.01, kernel=linear;, score=-8127.438 total time=   4.2s\n"
          ]
        },
        {
          "output_type": "stream",
          "name": "stderr",
          "text": [
            "/usr/local/lib/python3.7/dist-packages/sklearn/utils/validation.py:993: DataConversionWarning: A column-vector y was passed when a 1d array was expected. Please change the shape of y to (n_samples, ), for example using ravel().\n",
            "  y = column_or_1d(y, warn=True)\n"
          ]
        },
        {
          "output_type": "stream",
          "name": "stdout",
          "text": [
            "[CV 4/5] END C=10, gamma=0.01, kernel=linear;, score=-8420.362 total time=   2.8s\n"
          ]
        },
        {
          "output_type": "stream",
          "name": "stderr",
          "text": [
            "/usr/local/lib/python3.7/dist-packages/sklearn/utils/validation.py:993: DataConversionWarning: A column-vector y was passed when a 1d array was expected. Please change the shape of y to (n_samples, ), for example using ravel().\n",
            "  y = column_or_1d(y, warn=True)\n"
          ]
        },
        {
          "output_type": "stream",
          "name": "stdout",
          "text": [
            "[CV 5/5] END C=10, gamma=0.01, kernel=linear;, score=-26040.880 total time=   2.4s\n"
          ]
        },
        {
          "output_type": "stream",
          "name": "stderr",
          "text": [
            "/usr/local/lib/python3.7/dist-packages/sklearn/utils/validation.py:993: DataConversionWarning: A column-vector y was passed when a 1d array was expected. Please change the shape of y to (n_samples, ), for example using ravel().\n",
            "  y = column_or_1d(y, warn=True)\n"
          ]
        },
        {
          "output_type": "stream",
          "name": "stdout",
          "text": [
            "[CV 1/5] END C=10, gamma=0.001, kernel=linear;, score=-8164.014 total time=   2.4s\n"
          ]
        },
        {
          "output_type": "stream",
          "name": "stderr",
          "text": [
            "/usr/local/lib/python3.7/dist-packages/sklearn/utils/validation.py:993: DataConversionWarning: A column-vector y was passed when a 1d array was expected. Please change the shape of y to (n_samples, ), for example using ravel().\n",
            "  y = column_or_1d(y, warn=True)\n"
          ]
        },
        {
          "output_type": "stream",
          "name": "stdout",
          "text": [
            "[CV 2/5] END C=10, gamma=0.001, kernel=linear;, score=-8704.576 total time=   2.4s\n"
          ]
        },
        {
          "output_type": "stream",
          "name": "stderr",
          "text": [
            "/usr/local/lib/python3.7/dist-packages/sklearn/utils/validation.py:993: DataConversionWarning: A column-vector y was passed when a 1d array was expected. Please change the shape of y to (n_samples, ), for example using ravel().\n",
            "  y = column_or_1d(y, warn=True)\n"
          ]
        },
        {
          "output_type": "stream",
          "name": "stdout",
          "text": [
            "[CV 3/5] END C=10, gamma=0.001, kernel=linear;, score=-8127.438 total time=   2.4s\n"
          ]
        },
        {
          "output_type": "stream",
          "name": "stderr",
          "text": [
            "/usr/local/lib/python3.7/dist-packages/sklearn/utils/validation.py:993: DataConversionWarning: A column-vector y was passed when a 1d array was expected. Please change the shape of y to (n_samples, ), for example using ravel().\n",
            "  y = column_or_1d(y, warn=True)\n"
          ]
        },
        {
          "output_type": "stream",
          "name": "stdout",
          "text": [
            "[CV 4/5] END C=10, gamma=0.001, kernel=linear;, score=-8420.362 total time=   2.4s\n"
          ]
        },
        {
          "output_type": "stream",
          "name": "stderr",
          "text": [
            "/usr/local/lib/python3.7/dist-packages/sklearn/utils/validation.py:993: DataConversionWarning: A column-vector y was passed when a 1d array was expected. Please change the shape of y to (n_samples, ), for example using ravel().\n",
            "  y = column_or_1d(y, warn=True)\n"
          ]
        },
        {
          "output_type": "stream",
          "name": "stdout",
          "text": [
            "[CV 5/5] END C=10, gamma=0.001, kernel=linear;, score=-26040.880 total time=   2.4s\n"
          ]
        },
        {
          "output_type": "stream",
          "name": "stderr",
          "text": [
            "/usr/local/lib/python3.7/dist-packages/sklearn/utils/validation.py:993: DataConversionWarning: A column-vector y was passed when a 1d array was expected. Please change the shape of y to (n_samples, ), for example using ravel().\n",
            "  y = column_or_1d(y, warn=True)\n"
          ]
        },
        {
          "output_type": "stream",
          "name": "stdout",
          "text": [
            "[CV 1/5] END C=10, gamma=0.0001, kernel=linear;, score=-8164.014 total time=   2.4s\n"
          ]
        },
        {
          "output_type": "stream",
          "name": "stderr",
          "text": [
            "/usr/local/lib/python3.7/dist-packages/sklearn/utils/validation.py:993: DataConversionWarning: A column-vector y was passed when a 1d array was expected. Please change the shape of y to (n_samples, ), for example using ravel().\n",
            "  y = column_or_1d(y, warn=True)\n"
          ]
        },
        {
          "output_type": "stream",
          "name": "stdout",
          "text": [
            "[CV 2/5] END C=10, gamma=0.0001, kernel=linear;, score=-8704.576 total time=   2.4s\n"
          ]
        },
        {
          "output_type": "stream",
          "name": "stderr",
          "text": [
            "/usr/local/lib/python3.7/dist-packages/sklearn/utils/validation.py:993: DataConversionWarning: A column-vector y was passed when a 1d array was expected. Please change the shape of y to (n_samples, ), for example using ravel().\n",
            "  y = column_or_1d(y, warn=True)\n"
          ]
        },
        {
          "output_type": "stream",
          "name": "stdout",
          "text": [
            "[CV 3/5] END C=10, gamma=0.0001, kernel=linear;, score=-8127.438 total time=   2.4s\n"
          ]
        },
        {
          "output_type": "stream",
          "name": "stderr",
          "text": [
            "/usr/local/lib/python3.7/dist-packages/sklearn/utils/validation.py:993: DataConversionWarning: A column-vector y was passed when a 1d array was expected. Please change the shape of y to (n_samples, ), for example using ravel().\n",
            "  y = column_or_1d(y, warn=True)\n"
          ]
        },
        {
          "output_type": "stream",
          "name": "stdout",
          "text": [
            "[CV 4/5] END C=10, gamma=0.0001, kernel=linear;, score=-8420.362 total time=   2.4s\n"
          ]
        },
        {
          "output_type": "stream",
          "name": "stderr",
          "text": [
            "/usr/local/lib/python3.7/dist-packages/sklearn/utils/validation.py:993: DataConversionWarning: A column-vector y was passed when a 1d array was expected. Please change the shape of y to (n_samples, ), for example using ravel().\n",
            "  y = column_or_1d(y, warn=True)\n"
          ]
        },
        {
          "output_type": "stream",
          "name": "stdout",
          "text": [
            "[CV 5/5] END C=10, gamma=0.0001, kernel=linear;, score=-26040.880 total time=   2.4s\n"
          ]
        },
        {
          "output_type": "stream",
          "name": "stderr",
          "text": [
            "/usr/local/lib/python3.7/dist-packages/sklearn/utils/validation.py:993: DataConversionWarning: A column-vector y was passed when a 1d array was expected. Please change the shape of y to (n_samples, ), for example using ravel().\n",
            "  y = column_or_1d(y, warn=True)\n"
          ]
        },
        {
          "output_type": "stream",
          "name": "stdout",
          "text": [
            "[CV 1/5] END .C=100, gamma=1, kernel=linear;, score=-7366.889 total time=   2.5s\n"
          ]
        },
        {
          "output_type": "stream",
          "name": "stderr",
          "text": [
            "/usr/local/lib/python3.7/dist-packages/sklearn/utils/validation.py:993: DataConversionWarning: A column-vector y was passed when a 1d array was expected. Please change the shape of y to (n_samples, ), for example using ravel().\n",
            "  y = column_or_1d(y, warn=True)\n"
          ]
        },
        {
          "output_type": "stream",
          "name": "stdout",
          "text": [
            "[CV 2/5] END .C=100, gamma=1, kernel=linear;, score=-7982.762 total time=   2.4s\n"
          ]
        },
        {
          "output_type": "stream",
          "name": "stderr",
          "text": [
            "/usr/local/lib/python3.7/dist-packages/sklearn/utils/validation.py:993: DataConversionWarning: A column-vector y was passed when a 1d array was expected. Please change the shape of y to (n_samples, ), for example using ravel().\n",
            "  y = column_or_1d(y, warn=True)\n"
          ]
        },
        {
          "output_type": "stream",
          "name": "stdout",
          "text": [
            "[CV 3/5] END .C=100, gamma=1, kernel=linear;, score=-7394.361 total time=   2.4s\n"
          ]
        },
        {
          "output_type": "stream",
          "name": "stderr",
          "text": [
            "/usr/local/lib/python3.7/dist-packages/sklearn/utils/validation.py:993: DataConversionWarning: A column-vector y was passed when a 1d array was expected. Please change the shape of y to (n_samples, ), for example using ravel().\n",
            "  y = column_or_1d(y, warn=True)\n"
          ]
        },
        {
          "output_type": "stream",
          "name": "stdout",
          "text": [
            "[CV 4/5] END .C=100, gamma=1, kernel=linear;, score=-7733.438 total time=   2.4s\n"
          ]
        },
        {
          "output_type": "stream",
          "name": "stderr",
          "text": [
            "/usr/local/lib/python3.7/dist-packages/sklearn/utils/validation.py:993: DataConversionWarning: A column-vector y was passed when a 1d array was expected. Please change the shape of y to (n_samples, ), for example using ravel().\n",
            "  y = column_or_1d(y, warn=True)\n"
          ]
        },
        {
          "output_type": "stream",
          "name": "stdout",
          "text": [
            "[CV 5/5] END C=100, gamma=1, kernel=linear;, score=-25325.104 total time=   2.5s\n"
          ]
        },
        {
          "output_type": "stream",
          "name": "stderr",
          "text": [
            "/usr/local/lib/python3.7/dist-packages/sklearn/utils/validation.py:993: DataConversionWarning: A column-vector y was passed when a 1d array was expected. Please change the shape of y to (n_samples, ), for example using ravel().\n",
            "  y = column_or_1d(y, warn=True)\n"
          ]
        },
        {
          "output_type": "stream",
          "name": "stdout",
          "text": [
            "[CV 1/5] END C=100, gamma=0.1, kernel=linear;, score=-7366.889 total time=   2.5s\n"
          ]
        },
        {
          "output_type": "stream",
          "name": "stderr",
          "text": [
            "/usr/local/lib/python3.7/dist-packages/sklearn/utils/validation.py:993: DataConversionWarning: A column-vector y was passed when a 1d array was expected. Please change the shape of y to (n_samples, ), for example using ravel().\n",
            "  y = column_or_1d(y, warn=True)\n"
          ]
        },
        {
          "output_type": "stream",
          "name": "stdout",
          "text": [
            "[CV 2/5] END C=100, gamma=0.1, kernel=linear;, score=-7982.762 total time=   4.3s\n"
          ]
        },
        {
          "output_type": "stream",
          "name": "stderr",
          "text": [
            "/usr/local/lib/python3.7/dist-packages/sklearn/utils/validation.py:993: DataConversionWarning: A column-vector y was passed when a 1d array was expected. Please change the shape of y to (n_samples, ), for example using ravel().\n",
            "  y = column_or_1d(y, warn=True)\n"
          ]
        },
        {
          "output_type": "stream",
          "name": "stdout",
          "text": [
            "[CV 3/5] END C=100, gamma=0.1, kernel=linear;, score=-7394.361 total time=   2.6s\n"
          ]
        },
        {
          "output_type": "stream",
          "name": "stderr",
          "text": [
            "/usr/local/lib/python3.7/dist-packages/sklearn/utils/validation.py:993: DataConversionWarning: A column-vector y was passed when a 1d array was expected. Please change the shape of y to (n_samples, ), for example using ravel().\n",
            "  y = column_or_1d(y, warn=True)\n"
          ]
        },
        {
          "output_type": "stream",
          "name": "stdout",
          "text": [
            "[CV 4/5] END C=100, gamma=0.1, kernel=linear;, score=-7733.438 total time=   2.4s\n"
          ]
        },
        {
          "output_type": "stream",
          "name": "stderr",
          "text": [
            "/usr/local/lib/python3.7/dist-packages/sklearn/utils/validation.py:993: DataConversionWarning: A column-vector y was passed when a 1d array was expected. Please change the shape of y to (n_samples, ), for example using ravel().\n",
            "  y = column_or_1d(y, warn=True)\n"
          ]
        },
        {
          "output_type": "stream",
          "name": "stdout",
          "text": [
            "[CV 5/5] END C=100, gamma=0.1, kernel=linear;, score=-25325.104 total time=   2.4s\n"
          ]
        },
        {
          "output_type": "stream",
          "name": "stderr",
          "text": [
            "/usr/local/lib/python3.7/dist-packages/sklearn/utils/validation.py:993: DataConversionWarning: A column-vector y was passed when a 1d array was expected. Please change the shape of y to (n_samples, ), for example using ravel().\n",
            "  y = column_or_1d(y, warn=True)\n"
          ]
        },
        {
          "output_type": "stream",
          "name": "stdout",
          "text": [
            "[CV 1/5] END C=100, gamma=0.01, kernel=linear;, score=-7366.889 total time=   2.4s\n"
          ]
        },
        {
          "output_type": "stream",
          "name": "stderr",
          "text": [
            "/usr/local/lib/python3.7/dist-packages/sklearn/utils/validation.py:993: DataConversionWarning: A column-vector y was passed when a 1d array was expected. Please change the shape of y to (n_samples, ), for example using ravel().\n",
            "  y = column_or_1d(y, warn=True)\n"
          ]
        },
        {
          "output_type": "stream",
          "name": "stdout",
          "text": [
            "[CV 2/5] END C=100, gamma=0.01, kernel=linear;, score=-7982.762 total time=   2.4s\n"
          ]
        },
        {
          "output_type": "stream",
          "name": "stderr",
          "text": [
            "/usr/local/lib/python3.7/dist-packages/sklearn/utils/validation.py:993: DataConversionWarning: A column-vector y was passed when a 1d array was expected. Please change the shape of y to (n_samples, ), for example using ravel().\n",
            "  y = column_or_1d(y, warn=True)\n"
          ]
        },
        {
          "output_type": "stream",
          "name": "stdout",
          "text": [
            "[CV 3/5] END C=100, gamma=0.01, kernel=linear;, score=-7394.361 total time=   2.4s\n"
          ]
        },
        {
          "output_type": "stream",
          "name": "stderr",
          "text": [
            "/usr/local/lib/python3.7/dist-packages/sklearn/utils/validation.py:993: DataConversionWarning: A column-vector y was passed when a 1d array was expected. Please change the shape of y to (n_samples, ), for example using ravel().\n",
            "  y = column_or_1d(y, warn=True)\n"
          ]
        },
        {
          "output_type": "stream",
          "name": "stdout",
          "text": [
            "[CV 4/5] END C=100, gamma=0.01, kernel=linear;, score=-7733.438 total time=   2.4s\n"
          ]
        },
        {
          "output_type": "stream",
          "name": "stderr",
          "text": [
            "/usr/local/lib/python3.7/dist-packages/sklearn/utils/validation.py:993: DataConversionWarning: A column-vector y was passed when a 1d array was expected. Please change the shape of y to (n_samples, ), for example using ravel().\n",
            "  y = column_or_1d(y, warn=True)\n"
          ]
        },
        {
          "output_type": "stream",
          "name": "stdout",
          "text": [
            "[CV 5/5] END C=100, gamma=0.01, kernel=linear;, score=-25325.104 total time=   2.4s\n"
          ]
        },
        {
          "output_type": "stream",
          "name": "stderr",
          "text": [
            "/usr/local/lib/python3.7/dist-packages/sklearn/utils/validation.py:993: DataConversionWarning: A column-vector y was passed when a 1d array was expected. Please change the shape of y to (n_samples, ), for example using ravel().\n",
            "  y = column_or_1d(y, warn=True)\n"
          ]
        },
        {
          "output_type": "stream",
          "name": "stdout",
          "text": [
            "[CV 1/5] END C=100, gamma=0.001, kernel=linear;, score=-7366.889 total time=   2.4s\n"
          ]
        },
        {
          "output_type": "stream",
          "name": "stderr",
          "text": [
            "/usr/local/lib/python3.7/dist-packages/sklearn/utils/validation.py:993: DataConversionWarning: A column-vector y was passed when a 1d array was expected. Please change the shape of y to (n_samples, ), for example using ravel().\n",
            "  y = column_or_1d(y, warn=True)\n"
          ]
        },
        {
          "output_type": "stream",
          "name": "stdout",
          "text": [
            "[CV 2/5] END C=100, gamma=0.001, kernel=linear;, score=-7982.762 total time=   2.5s\n"
          ]
        },
        {
          "output_type": "stream",
          "name": "stderr",
          "text": [
            "/usr/local/lib/python3.7/dist-packages/sklearn/utils/validation.py:993: DataConversionWarning: A column-vector y was passed when a 1d array was expected. Please change the shape of y to (n_samples, ), for example using ravel().\n",
            "  y = column_or_1d(y, warn=True)\n"
          ]
        },
        {
          "output_type": "stream",
          "name": "stdout",
          "text": [
            "[CV 3/5] END C=100, gamma=0.001, kernel=linear;, score=-7394.361 total time=   2.4s\n"
          ]
        },
        {
          "output_type": "stream",
          "name": "stderr",
          "text": [
            "/usr/local/lib/python3.7/dist-packages/sklearn/utils/validation.py:993: DataConversionWarning: A column-vector y was passed when a 1d array was expected. Please change the shape of y to (n_samples, ), for example using ravel().\n",
            "  y = column_or_1d(y, warn=True)\n"
          ]
        },
        {
          "output_type": "stream",
          "name": "stdout",
          "text": [
            "[CV 4/5] END C=100, gamma=0.001, kernel=linear;, score=-7733.438 total time=   2.4s\n"
          ]
        },
        {
          "output_type": "stream",
          "name": "stderr",
          "text": [
            "/usr/local/lib/python3.7/dist-packages/sklearn/utils/validation.py:993: DataConversionWarning: A column-vector y was passed when a 1d array was expected. Please change the shape of y to (n_samples, ), for example using ravel().\n",
            "  y = column_or_1d(y, warn=True)\n"
          ]
        },
        {
          "output_type": "stream",
          "name": "stdout",
          "text": [
            "[CV 5/5] END C=100, gamma=0.001, kernel=linear;, score=-25325.104 total time=   2.4s\n"
          ]
        },
        {
          "output_type": "stream",
          "name": "stderr",
          "text": [
            "/usr/local/lib/python3.7/dist-packages/sklearn/utils/validation.py:993: DataConversionWarning: A column-vector y was passed when a 1d array was expected. Please change the shape of y to (n_samples, ), for example using ravel().\n",
            "  y = column_or_1d(y, warn=True)\n"
          ]
        },
        {
          "output_type": "stream",
          "name": "stdout",
          "text": [
            "[CV 1/5] END C=100, gamma=0.0001, kernel=linear;, score=-7366.889 total time=   2.4s\n"
          ]
        },
        {
          "output_type": "stream",
          "name": "stderr",
          "text": [
            "/usr/local/lib/python3.7/dist-packages/sklearn/utils/validation.py:993: DataConversionWarning: A column-vector y was passed when a 1d array was expected. Please change the shape of y to (n_samples, ), for example using ravel().\n",
            "  y = column_or_1d(y, warn=True)\n"
          ]
        },
        {
          "output_type": "stream",
          "name": "stdout",
          "text": [
            "[CV 2/5] END C=100, gamma=0.0001, kernel=linear;, score=-7982.762 total time=   2.4s\n"
          ]
        },
        {
          "output_type": "stream",
          "name": "stderr",
          "text": [
            "/usr/local/lib/python3.7/dist-packages/sklearn/utils/validation.py:993: DataConversionWarning: A column-vector y was passed when a 1d array was expected. Please change the shape of y to (n_samples, ), for example using ravel().\n",
            "  y = column_or_1d(y, warn=True)\n"
          ]
        },
        {
          "output_type": "stream",
          "name": "stdout",
          "text": [
            "[CV 3/5] END C=100, gamma=0.0001, kernel=linear;, score=-7394.361 total time=   2.4s\n"
          ]
        },
        {
          "output_type": "stream",
          "name": "stderr",
          "text": [
            "/usr/local/lib/python3.7/dist-packages/sklearn/utils/validation.py:993: DataConversionWarning: A column-vector y was passed when a 1d array was expected. Please change the shape of y to (n_samples, ), for example using ravel().\n",
            "  y = column_or_1d(y, warn=True)\n"
          ]
        },
        {
          "output_type": "stream",
          "name": "stdout",
          "text": [
            "[CV 4/5] END C=100, gamma=0.0001, kernel=linear;, score=-7733.438 total time=   2.4s\n"
          ]
        },
        {
          "output_type": "stream",
          "name": "stderr",
          "text": [
            "/usr/local/lib/python3.7/dist-packages/sklearn/utils/validation.py:993: DataConversionWarning: A column-vector y was passed when a 1d array was expected. Please change the shape of y to (n_samples, ), for example using ravel().\n",
            "  y = column_or_1d(y, warn=True)\n"
          ]
        },
        {
          "output_type": "stream",
          "name": "stdout",
          "text": [
            "[CV 5/5] END C=100, gamma=0.0001, kernel=linear;, score=-25325.104 total time=   3.9s\n"
          ]
        },
        {
          "output_type": "stream",
          "name": "stderr",
          "text": [
            "/usr/local/lib/python3.7/dist-packages/sklearn/utils/validation.py:993: DataConversionWarning: A column-vector y was passed when a 1d array was expected. Please change the shape of y to (n_samples, ), for example using ravel().\n",
            "  y = column_or_1d(y, warn=True)\n"
          ]
        },
        {
          "output_type": "stream",
          "name": "stdout",
          "text": [
            "[CV 1/5] END C=1000, gamma=1, kernel=linear;, score=-7174.619 total time=   3.3s\n"
          ]
        },
        {
          "output_type": "stream",
          "name": "stderr",
          "text": [
            "/usr/local/lib/python3.7/dist-packages/sklearn/utils/validation.py:993: DataConversionWarning: A column-vector y was passed when a 1d array was expected. Please change the shape of y to (n_samples, ), for example using ravel().\n",
            "  y = column_or_1d(y, warn=True)\n"
          ]
        },
        {
          "output_type": "stream",
          "name": "stdout",
          "text": [
            "[CV 2/5] END C=1000, gamma=1, kernel=linear;, score=-7828.852 total time=   2.9s\n"
          ]
        },
        {
          "output_type": "stream",
          "name": "stderr",
          "text": [
            "/usr/local/lib/python3.7/dist-packages/sklearn/utils/validation.py:993: DataConversionWarning: A column-vector y was passed when a 1d array was expected. Please change the shape of y to (n_samples, ), for example using ravel().\n",
            "  y = column_or_1d(y, warn=True)\n"
          ]
        },
        {
          "output_type": "stream",
          "name": "stdout",
          "text": [
            "[CV 3/5] END C=1000, gamma=1, kernel=linear;, score=-7251.042 total time=   2.8s\n"
          ]
        },
        {
          "output_type": "stream",
          "name": "stderr",
          "text": [
            "/usr/local/lib/python3.7/dist-packages/sklearn/utils/validation.py:993: DataConversionWarning: A column-vector y was passed when a 1d array was expected. Please change the shape of y to (n_samples, ), for example using ravel().\n",
            "  y = column_or_1d(y, warn=True)\n"
          ]
        },
        {
          "output_type": "stream",
          "name": "stdout",
          "text": [
            "[CV 4/5] END C=1000, gamma=1, kernel=linear;, score=-7541.937 total time=   2.8s\n"
          ]
        },
        {
          "output_type": "stream",
          "name": "stderr",
          "text": [
            "/usr/local/lib/python3.7/dist-packages/sklearn/utils/validation.py:993: DataConversionWarning: A column-vector y was passed when a 1d array was expected. Please change the shape of y to (n_samples, ), for example using ravel().\n",
            "  y = column_or_1d(y, warn=True)\n"
          ]
        },
        {
          "output_type": "stream",
          "name": "stdout",
          "text": [
            "[CV 5/5] END C=1000, gamma=1, kernel=linear;, score=-25127.272 total time=   2.7s\n"
          ]
        },
        {
          "output_type": "stream",
          "name": "stderr",
          "text": [
            "/usr/local/lib/python3.7/dist-packages/sklearn/utils/validation.py:993: DataConversionWarning: A column-vector y was passed when a 1d array was expected. Please change the shape of y to (n_samples, ), for example using ravel().\n",
            "  y = column_or_1d(y, warn=True)\n"
          ]
        },
        {
          "output_type": "stream",
          "name": "stdout",
          "text": [
            "[CV 1/5] END C=1000, gamma=0.1, kernel=linear;, score=-7174.619 total time=   2.7s\n"
          ]
        },
        {
          "output_type": "stream",
          "name": "stderr",
          "text": [
            "/usr/local/lib/python3.7/dist-packages/sklearn/utils/validation.py:993: DataConversionWarning: A column-vector y was passed when a 1d array was expected. Please change the shape of y to (n_samples, ), for example using ravel().\n",
            "  y = column_or_1d(y, warn=True)\n"
          ]
        },
        {
          "output_type": "stream",
          "name": "stdout",
          "text": [
            "[CV 2/5] END C=1000, gamma=0.1, kernel=linear;, score=-7828.852 total time=   2.9s\n"
          ]
        },
        {
          "output_type": "stream",
          "name": "stderr",
          "text": [
            "/usr/local/lib/python3.7/dist-packages/sklearn/utils/validation.py:993: DataConversionWarning: A column-vector y was passed when a 1d array was expected. Please change the shape of y to (n_samples, ), for example using ravel().\n",
            "  y = column_or_1d(y, warn=True)\n"
          ]
        },
        {
          "output_type": "stream",
          "name": "stdout",
          "text": [
            "[CV 3/5] END C=1000, gamma=0.1, kernel=linear;, score=-7251.042 total time=   2.8s\n"
          ]
        },
        {
          "output_type": "stream",
          "name": "stderr",
          "text": [
            "/usr/local/lib/python3.7/dist-packages/sklearn/utils/validation.py:993: DataConversionWarning: A column-vector y was passed when a 1d array was expected. Please change the shape of y to (n_samples, ), for example using ravel().\n",
            "  y = column_or_1d(y, warn=True)\n"
          ]
        },
        {
          "output_type": "stream",
          "name": "stdout",
          "text": [
            "[CV 4/5] END C=1000, gamma=0.1, kernel=linear;, score=-7541.937 total time=   2.7s\n"
          ]
        },
        {
          "output_type": "stream",
          "name": "stderr",
          "text": [
            "/usr/local/lib/python3.7/dist-packages/sklearn/utils/validation.py:993: DataConversionWarning: A column-vector y was passed when a 1d array was expected. Please change the shape of y to (n_samples, ), for example using ravel().\n",
            "  y = column_or_1d(y, warn=True)\n"
          ]
        },
        {
          "output_type": "stream",
          "name": "stdout",
          "text": [
            "[CV 5/5] END C=1000, gamma=0.1, kernel=linear;, score=-25127.272 total time=   2.7s\n"
          ]
        },
        {
          "output_type": "stream",
          "name": "stderr",
          "text": [
            "/usr/local/lib/python3.7/dist-packages/sklearn/utils/validation.py:993: DataConversionWarning: A column-vector y was passed when a 1d array was expected. Please change the shape of y to (n_samples, ), for example using ravel().\n",
            "  y = column_or_1d(y, warn=True)\n"
          ]
        },
        {
          "output_type": "stream",
          "name": "stdout",
          "text": [
            "[CV 1/5] END C=1000, gamma=0.01, kernel=linear;, score=-7174.619 total time=   2.7s\n"
          ]
        },
        {
          "output_type": "stream",
          "name": "stderr",
          "text": [
            "/usr/local/lib/python3.7/dist-packages/sklearn/utils/validation.py:993: DataConversionWarning: A column-vector y was passed when a 1d array was expected. Please change the shape of y to (n_samples, ), for example using ravel().\n",
            "  y = column_or_1d(y, warn=True)\n"
          ]
        },
        {
          "output_type": "stream",
          "name": "stdout",
          "text": [
            "[CV 2/5] END C=1000, gamma=0.01, kernel=linear;, score=-7828.852 total time=   2.9s\n"
          ]
        },
        {
          "output_type": "stream",
          "name": "stderr",
          "text": [
            "/usr/local/lib/python3.7/dist-packages/sklearn/utils/validation.py:993: DataConversionWarning: A column-vector y was passed when a 1d array was expected. Please change the shape of y to (n_samples, ), for example using ravel().\n",
            "  y = column_or_1d(y, warn=True)\n"
          ]
        },
        {
          "output_type": "stream",
          "name": "stdout",
          "text": [
            "[CV 3/5] END C=1000, gamma=0.01, kernel=linear;, score=-7251.042 total time=   2.8s\n"
          ]
        },
        {
          "output_type": "stream",
          "name": "stderr",
          "text": [
            "/usr/local/lib/python3.7/dist-packages/sklearn/utils/validation.py:993: DataConversionWarning: A column-vector y was passed when a 1d array was expected. Please change the shape of y to (n_samples, ), for example using ravel().\n",
            "  y = column_or_1d(y, warn=True)\n"
          ]
        },
        {
          "output_type": "stream",
          "name": "stdout",
          "text": [
            "[CV 4/5] END C=1000, gamma=0.01, kernel=linear;, score=-7541.937 total time=   2.8s\n"
          ]
        },
        {
          "output_type": "stream",
          "name": "stderr",
          "text": [
            "/usr/local/lib/python3.7/dist-packages/sklearn/utils/validation.py:993: DataConversionWarning: A column-vector y was passed when a 1d array was expected. Please change the shape of y to (n_samples, ), for example using ravel().\n",
            "  y = column_or_1d(y, warn=True)\n"
          ]
        },
        {
          "output_type": "stream",
          "name": "stdout",
          "text": [
            "[CV 5/5] END C=1000, gamma=0.01, kernel=linear;, score=-25127.272 total time=   2.7s\n"
          ]
        },
        {
          "output_type": "stream",
          "name": "stderr",
          "text": [
            "/usr/local/lib/python3.7/dist-packages/sklearn/utils/validation.py:993: DataConversionWarning: A column-vector y was passed when a 1d array was expected. Please change the shape of y to (n_samples, ), for example using ravel().\n",
            "  y = column_or_1d(y, warn=True)\n"
          ]
        },
        {
          "output_type": "stream",
          "name": "stdout",
          "text": [
            "[CV 1/5] END C=1000, gamma=0.001, kernel=linear;, score=-7174.619 total time=   3.6s\n"
          ]
        },
        {
          "output_type": "stream",
          "name": "stderr",
          "text": [
            "/usr/local/lib/python3.7/dist-packages/sklearn/utils/validation.py:993: DataConversionWarning: A column-vector y was passed when a 1d array was expected. Please change the shape of y to (n_samples, ), for example using ravel().\n",
            "  y = column_or_1d(y, warn=True)\n"
          ]
        },
        {
          "output_type": "stream",
          "name": "stdout",
          "text": [
            "[CV 2/5] END C=1000, gamma=0.001, kernel=linear;, score=-7828.852 total time=   4.0s\n"
          ]
        },
        {
          "output_type": "stream",
          "name": "stderr",
          "text": [
            "/usr/local/lib/python3.7/dist-packages/sklearn/utils/validation.py:993: DataConversionWarning: A column-vector y was passed when a 1d array was expected. Please change the shape of y to (n_samples, ), for example using ravel().\n",
            "  y = column_or_1d(y, warn=True)\n"
          ]
        },
        {
          "output_type": "stream",
          "name": "stdout",
          "text": [
            "[CV 3/5] END C=1000, gamma=0.001, kernel=linear;, score=-7251.042 total time=   2.8s\n"
          ]
        },
        {
          "output_type": "stream",
          "name": "stderr",
          "text": [
            "/usr/local/lib/python3.7/dist-packages/sklearn/utils/validation.py:993: DataConversionWarning: A column-vector y was passed when a 1d array was expected. Please change the shape of y to (n_samples, ), for example using ravel().\n",
            "  y = column_or_1d(y, warn=True)\n"
          ]
        },
        {
          "output_type": "stream",
          "name": "stdout",
          "text": [
            "[CV 4/5] END C=1000, gamma=0.001, kernel=linear;, score=-7541.937 total time=   2.8s\n"
          ]
        },
        {
          "output_type": "stream",
          "name": "stderr",
          "text": [
            "/usr/local/lib/python3.7/dist-packages/sklearn/utils/validation.py:993: DataConversionWarning: A column-vector y was passed when a 1d array was expected. Please change the shape of y to (n_samples, ), for example using ravel().\n",
            "  y = column_or_1d(y, warn=True)\n"
          ]
        },
        {
          "output_type": "stream",
          "name": "stdout",
          "text": [
            "[CV 5/5] END C=1000, gamma=0.001, kernel=linear;, score=-25127.272 total time=   2.7s\n"
          ]
        },
        {
          "output_type": "stream",
          "name": "stderr",
          "text": [
            "/usr/local/lib/python3.7/dist-packages/sklearn/utils/validation.py:993: DataConversionWarning: A column-vector y was passed when a 1d array was expected. Please change the shape of y to (n_samples, ), for example using ravel().\n",
            "  y = column_or_1d(y, warn=True)\n"
          ]
        },
        {
          "output_type": "stream",
          "name": "stdout",
          "text": [
            "[CV 1/5] END C=1000, gamma=0.0001, kernel=linear;, score=-7174.619 total time=   2.7s\n"
          ]
        },
        {
          "output_type": "stream",
          "name": "stderr",
          "text": [
            "/usr/local/lib/python3.7/dist-packages/sklearn/utils/validation.py:993: DataConversionWarning: A column-vector y was passed when a 1d array was expected. Please change the shape of y to (n_samples, ), for example using ravel().\n",
            "  y = column_or_1d(y, warn=True)\n"
          ]
        },
        {
          "output_type": "stream",
          "name": "stdout",
          "text": [
            "[CV 2/5] END C=1000, gamma=0.0001, kernel=linear;, score=-7828.852 total time=   2.8s\n"
          ]
        },
        {
          "output_type": "stream",
          "name": "stderr",
          "text": [
            "/usr/local/lib/python3.7/dist-packages/sklearn/utils/validation.py:993: DataConversionWarning: A column-vector y was passed when a 1d array was expected. Please change the shape of y to (n_samples, ), for example using ravel().\n",
            "  y = column_or_1d(y, warn=True)\n"
          ]
        },
        {
          "output_type": "stream",
          "name": "stdout",
          "text": [
            "[CV 3/5] END C=1000, gamma=0.0001, kernel=linear;, score=-7251.042 total time=   2.8s\n"
          ]
        },
        {
          "output_type": "stream",
          "name": "stderr",
          "text": [
            "/usr/local/lib/python3.7/dist-packages/sklearn/utils/validation.py:993: DataConversionWarning: A column-vector y was passed when a 1d array was expected. Please change the shape of y to (n_samples, ), for example using ravel().\n",
            "  y = column_or_1d(y, warn=True)\n"
          ]
        },
        {
          "output_type": "stream",
          "name": "stdout",
          "text": [
            "[CV 4/5] END C=1000, gamma=0.0001, kernel=linear;, score=-7541.937 total time=   2.8s\n"
          ]
        },
        {
          "output_type": "stream",
          "name": "stderr",
          "text": [
            "/usr/local/lib/python3.7/dist-packages/sklearn/utils/validation.py:993: DataConversionWarning: A column-vector y was passed when a 1d array was expected. Please change the shape of y to (n_samples, ), for example using ravel().\n",
            "  y = column_or_1d(y, warn=True)\n"
          ]
        },
        {
          "output_type": "stream",
          "name": "stdout",
          "text": [
            "[CV 5/5] END C=1000, gamma=0.0001, kernel=linear;, score=-25127.272 total time=   2.7s\n"
          ]
        },
        {
          "output_type": "stream",
          "name": "stderr",
          "text": [
            "/usr/local/lib/python3.7/dist-packages/sklearn/utils/validation.py:993: DataConversionWarning: A column-vector y was passed when a 1d array was expected. Please change the shape of y to (n_samples, ), for example using ravel().\n",
            "  y = column_or_1d(y, warn=True)\n"
          ]
        },
        {
          "output_type": "execute_result",
          "data": {
            "text/plain": [
              "GridSearchCV(estimator=SVR(),\n",
              "             param_grid={'C': [0.1, 1, 10, 100, 1000],\n",
              "                         'gamma': [1, 0.1, 0.01, 0.001, 0.0001],\n",
              "                         'kernel': ['linear']},\n",
              "             scoring='neg_mean_absolute_error', verbose=3)"
            ]
          },
          "metadata": {},
          "execution_count": 12
        }
      ],
      "source": [
        "param_grid2 = {'C': [0.1, 1, 10, 100, 1000], \n",
        "              'gamma': [1, 0.1, 0.01, 0.001, 0.0001],\n",
        "              'kernel': ['linear']} \n",
        "  \n",
        "grid2 = GridSearchCV(SVR(), param_grid2, refit = True, verbose = 3,scoring='neg_mean_absolute_error')\n",
        "  \n",
        "# fitting the model for grid search\n",
        "grid2.fit(X_train, Y_train)"
      ]
    },
    {
      "cell_type": "code",
      "execution_count": 13,
      "metadata": {
        "colab": {
          "base_uri": "https://localhost:8080/"
        },
        "id": "GVm65i7JCEdF",
        "outputId": "0e5ff165-e500-4e49-ce8f-4fee731d2ee6"
      },
      "outputs": [
        {
          "output_type": "stream",
          "name": "stdout",
          "text": [
            "{'C': 1000, 'gamma': 1, 'kernel': 'linear'}\n",
            "SVR(C=1000, gamma=1, kernel='linear')\n"
          ]
        }
      ],
      "source": [
        "# print best parameter after tuning\n",
        "print(grid2.best_params_)\n",
        "  \n",
        "# print how our model looks after hyper-parameter tuning\n",
        "print(grid2.best_estimator_)"
      ]
    },
    {
      "cell_type": "code",
      "execution_count": 14,
      "metadata": {
        "id": "-GRbi9VPCfqK"
      },
      "outputs": [],
      "source": [
        "y_predict_test_g2=grid2.predict(X_val)\n",
        "y_predict_train_g2=grid2.predict(X_train)"
      ]
    },
    {
      "cell_type": "code",
      "execution_count": 15,
      "metadata": {
        "id": "hlkbsFdLCmdF"
      },
      "outputs": [],
      "source": [
        "mae_train=mean_absolute_error(Y_train, y_predict_train_g2)\n",
        "rmse_train=np.sqrt(mean_squared_error(Y_train,y_predict_train_g2))\n",
        "mae_test=mean_absolute_error(Y_val, y_predict_test_g2)\n",
        "rmse_test=np.sqrt(mean_squared_error(Y_val,y_predict_test_g2))"
      ]
    },
    {
      "cell_type": "code",
      "execution_count": 16,
      "metadata": {
        "colab": {
          "base_uri": "https://localhost:8080/"
        },
        "id": "Brf3b_HnCygW",
        "outputId": "0f49a8bf-13b2-44d0-a2e9-05bfce1efcdd"
      },
      "outputs": [
        {
          "output_type": "stream",
          "name": "stdout",
          "text": [
            "El MAE para entrenamiento es 10931.643151739441, en test es 7718.250686487983 \n",
            "El RMS para entrenamiento es 308035.9282955543, en test es 14625.268735906831 \n"
          ]
        }
      ],
      "source": [
        "print('El MAE para entrenamiento es {}, en test es {} '.format(mae_train,mae_test))\n",
        "\n",
        "print('El RMS para entrenamiento es {}, en test es {} '.format(rmse_train,rmse_test))\n",
        "r_score_train=grid.score(X_train,Y_train)"
      ]
    },
    {
      "cell_type": "code",
      "execution_count": 17,
      "metadata": {
        "colab": {
          "base_uri": "https://localhost:8080/"
        },
        "id": "lUjQkTa6Fbep",
        "outputId": "ff6bbd7b-19da-4407-d573-d0ec6c948b4b"
      },
      "outputs": [
        {
          "output_type": "stream",
          "name": "stdout",
          "text": [
            "Fitting 5 folds for each of 10 candidates, totalling 50 fits\n"
          ]
        },
        {
          "output_type": "stream",
          "name": "stderr",
          "text": [
            "/usr/local/lib/python3.7/dist-packages/sklearn/utils/validation.py:993: DataConversionWarning: A column-vector y was passed when a 1d array was expected. Please change the shape of y to (n_samples, ), for example using ravel().\n",
            "  y = column_or_1d(y, warn=True)\n"
          ]
        },
        {
          "output_type": "stream",
          "name": "stdout",
          "text": [
            "[CV 1/5] END C=1, degree=2, gamma=1, kernel=poly;, score=-7630.927 total time=   5.3s\n"
          ]
        },
        {
          "output_type": "stream",
          "name": "stderr",
          "text": [
            "/usr/local/lib/python3.7/dist-packages/sklearn/utils/validation.py:993: DataConversionWarning: A column-vector y was passed when a 1d array was expected. Please change the shape of y to (n_samples, ), for example using ravel().\n",
            "  y = column_or_1d(y, warn=True)\n"
          ]
        },
        {
          "output_type": "stream",
          "name": "stdout",
          "text": [
            "[CV 2/5] END C=1, degree=2, gamma=1, kernel=poly;, score=-8147.886 total time=   4.9s\n"
          ]
        },
        {
          "output_type": "stream",
          "name": "stderr",
          "text": [
            "/usr/local/lib/python3.7/dist-packages/sklearn/utils/validation.py:993: DataConversionWarning: A column-vector y was passed when a 1d array was expected. Please change the shape of y to (n_samples, ), for example using ravel().\n",
            "  y = column_or_1d(y, warn=True)\n"
          ]
        },
        {
          "output_type": "stream",
          "name": "stdout",
          "text": [
            "[CV 3/5] END C=1, degree=2, gamma=1, kernel=poly;, score=-7576.043 total time=   3.1s\n"
          ]
        },
        {
          "output_type": "stream",
          "name": "stderr",
          "text": [
            "/usr/local/lib/python3.7/dist-packages/sklearn/utils/validation.py:993: DataConversionWarning: A column-vector y was passed when a 1d array was expected. Please change the shape of y to (n_samples, ), for example using ravel().\n",
            "  y = column_or_1d(y, warn=True)\n"
          ]
        },
        {
          "output_type": "stream",
          "name": "stdout",
          "text": [
            "[CV 4/5] END C=1, degree=2, gamma=1, kernel=poly;, score=-7930.037 total time=   2.7s\n"
          ]
        },
        {
          "output_type": "stream",
          "name": "stderr",
          "text": [
            "/usr/local/lib/python3.7/dist-packages/sklearn/utils/validation.py:993: DataConversionWarning: A column-vector y was passed when a 1d array was expected. Please change the shape of y to (n_samples, ), for example using ravel().\n",
            "  y = column_or_1d(y, warn=True)\n"
          ]
        },
        {
          "output_type": "stream",
          "name": "stdout",
          "text": [
            "[CV 5/5] END C=1, degree=2, gamma=1, kernel=poly;, score=-25500.075 total time=   2.6s\n"
          ]
        },
        {
          "output_type": "stream",
          "name": "stderr",
          "text": [
            "/usr/local/lib/python3.7/dist-packages/sklearn/utils/validation.py:993: DataConversionWarning: A column-vector y was passed when a 1d array was expected. Please change the shape of y to (n_samples, ), for example using ravel().\n",
            "  y = column_or_1d(y, warn=True)\n"
          ]
        },
        {
          "output_type": "stream",
          "name": "stdout",
          "text": [
            "[CV 1/5] END C=0.1, degree=2, gamma=0.01, kernel=poly;, score=-10133.571 total time=   2.7s\n"
          ]
        },
        {
          "output_type": "stream",
          "name": "stderr",
          "text": [
            "/usr/local/lib/python3.7/dist-packages/sklearn/utils/validation.py:993: DataConversionWarning: A column-vector y was passed when a 1d array was expected. Please change the shape of y to (n_samples, ), for example using ravel().\n",
            "  y = column_or_1d(y, warn=True)\n"
          ]
        },
        {
          "output_type": "stream",
          "name": "stdout",
          "text": [
            "[CV 2/5] END C=0.1, degree=2, gamma=0.01, kernel=poly;, score=-10634.742 total time=   2.7s\n"
          ]
        },
        {
          "output_type": "stream",
          "name": "stderr",
          "text": [
            "/usr/local/lib/python3.7/dist-packages/sklearn/utils/validation.py:993: DataConversionWarning: A column-vector y was passed when a 1d array was expected. Please change the shape of y to (n_samples, ), for example using ravel().\n",
            "  y = column_or_1d(y, warn=True)\n"
          ]
        },
        {
          "output_type": "stream",
          "name": "stdout",
          "text": [
            "[CV 3/5] END C=0.1, degree=2, gamma=0.01, kernel=poly;, score=-10231.795 total time=   2.7s\n"
          ]
        },
        {
          "output_type": "stream",
          "name": "stderr",
          "text": [
            "/usr/local/lib/python3.7/dist-packages/sklearn/utils/validation.py:993: DataConversionWarning: A column-vector y was passed when a 1d array was expected. Please change the shape of y to (n_samples, ), for example using ravel().\n",
            "  y = column_or_1d(y, warn=True)\n"
          ]
        },
        {
          "output_type": "stream",
          "name": "stdout",
          "text": [
            "[CV 4/5] END C=0.1, degree=2, gamma=0.01, kernel=poly;, score=-10220.481 total time=   2.7s\n"
          ]
        },
        {
          "output_type": "stream",
          "name": "stderr",
          "text": [
            "/usr/local/lib/python3.7/dist-packages/sklearn/utils/validation.py:993: DataConversionWarning: A column-vector y was passed when a 1d array was expected. Please change the shape of y to (n_samples, ), for example using ravel().\n",
            "  y = column_or_1d(y, warn=True)\n"
          ]
        },
        {
          "output_type": "stream",
          "name": "stdout",
          "text": [
            "[CV 5/5] END C=0.1, degree=2, gamma=0.01, kernel=poly;, score=-28072.389 total time=   2.7s\n"
          ]
        },
        {
          "output_type": "stream",
          "name": "stderr",
          "text": [
            "/usr/local/lib/python3.7/dist-packages/sklearn/utils/validation.py:993: DataConversionWarning: A column-vector y was passed when a 1d array was expected. Please change the shape of y to (n_samples, ), for example using ravel().\n",
            "  y = column_or_1d(y, warn=True)\n"
          ]
        },
        {
          "output_type": "stream",
          "name": "stdout",
          "text": [
            "[CV 1/5] END C=100, degree=2, gamma=0.0001, kernel=poly;, score=-10133.721 total time=   2.7s\n"
          ]
        },
        {
          "output_type": "stream",
          "name": "stderr",
          "text": [
            "/usr/local/lib/python3.7/dist-packages/sklearn/utils/validation.py:993: DataConversionWarning: A column-vector y was passed when a 1d array was expected. Please change the shape of y to (n_samples, ), for example using ravel().\n",
            "  y = column_or_1d(y, warn=True)\n"
          ]
        },
        {
          "output_type": "stream",
          "name": "stdout",
          "text": [
            "[CV 2/5] END C=100, degree=2, gamma=0.0001, kernel=poly;, score=-10634.884 total time=   2.7s\n"
          ]
        },
        {
          "output_type": "stream",
          "name": "stderr",
          "text": [
            "/usr/local/lib/python3.7/dist-packages/sklearn/utils/validation.py:993: DataConversionWarning: A column-vector y was passed when a 1d array was expected. Please change the shape of y to (n_samples, ), for example using ravel().\n",
            "  y = column_or_1d(y, warn=True)\n"
          ]
        },
        {
          "output_type": "stream",
          "name": "stdout",
          "text": [
            "[CV 3/5] END C=100, degree=2, gamma=0.0001, kernel=poly;, score=-10231.928 total time=   2.7s\n"
          ]
        },
        {
          "output_type": "stream",
          "name": "stderr",
          "text": [
            "/usr/local/lib/python3.7/dist-packages/sklearn/utils/validation.py:993: DataConversionWarning: A column-vector y was passed when a 1d array was expected. Please change the shape of y to (n_samples, ), for example using ravel().\n",
            "  y = column_or_1d(y, warn=True)\n"
          ]
        },
        {
          "output_type": "stream",
          "name": "stdout",
          "text": [
            "[CV 4/5] END C=100, degree=2, gamma=0.0001, kernel=poly;, score=-10220.616 total time=   2.7s\n"
          ]
        },
        {
          "output_type": "stream",
          "name": "stderr",
          "text": [
            "/usr/local/lib/python3.7/dist-packages/sklearn/utils/validation.py:993: DataConversionWarning: A column-vector y was passed when a 1d array was expected. Please change the shape of y to (n_samples, ), for example using ravel().\n",
            "  y = column_or_1d(y, warn=True)\n"
          ]
        },
        {
          "output_type": "stream",
          "name": "stdout",
          "text": [
            "[CV 5/5] END C=100, degree=2, gamma=0.0001, kernel=poly;, score=-28072.535 total time=   2.7s\n"
          ]
        },
        {
          "output_type": "stream",
          "name": "stderr",
          "text": [
            "/usr/local/lib/python3.7/dist-packages/sklearn/utils/validation.py:993: DataConversionWarning: A column-vector y was passed when a 1d array was expected. Please change the shape of y to (n_samples, ), for example using ravel().\n",
            "  y = column_or_1d(y, warn=True)\n"
          ]
        },
        {
          "output_type": "stream",
          "name": "stdout",
          "text": [
            "[CV 1/5] END C=100, degree=2, gamma=0.1, kernel=poly;, score=-7630.927 total time=   2.6s\n"
          ]
        },
        {
          "output_type": "stream",
          "name": "stderr",
          "text": [
            "/usr/local/lib/python3.7/dist-packages/sklearn/utils/validation.py:993: DataConversionWarning: A column-vector y was passed when a 1d array was expected. Please change the shape of y to (n_samples, ), for example using ravel().\n",
            "  y = column_or_1d(y, warn=True)\n"
          ]
        },
        {
          "output_type": "stream",
          "name": "stdout",
          "text": [
            "[CV 2/5] END C=100, degree=2, gamma=0.1, kernel=poly;, score=-8147.886 total time=   3.5s\n"
          ]
        },
        {
          "output_type": "stream",
          "name": "stderr",
          "text": [
            "/usr/local/lib/python3.7/dist-packages/sklearn/utils/validation.py:993: DataConversionWarning: A column-vector y was passed when a 1d array was expected. Please change the shape of y to (n_samples, ), for example using ravel().\n",
            "  y = column_or_1d(y, warn=True)\n"
          ]
        },
        {
          "output_type": "stream",
          "name": "stdout",
          "text": [
            "[CV 3/5] END C=100, degree=2, gamma=0.1, kernel=poly;, score=-7576.043 total time=   3.8s\n"
          ]
        },
        {
          "output_type": "stream",
          "name": "stderr",
          "text": [
            "/usr/local/lib/python3.7/dist-packages/sklearn/utils/validation.py:993: DataConversionWarning: A column-vector y was passed when a 1d array was expected. Please change the shape of y to (n_samples, ), for example using ravel().\n",
            "  y = column_or_1d(y, warn=True)\n"
          ]
        },
        {
          "output_type": "stream",
          "name": "stdout",
          "text": [
            "[CV 4/5] END C=100, degree=2, gamma=0.1, kernel=poly;, score=-7930.037 total time=   2.7s\n"
          ]
        },
        {
          "output_type": "stream",
          "name": "stderr",
          "text": [
            "/usr/local/lib/python3.7/dist-packages/sklearn/utils/validation.py:993: DataConversionWarning: A column-vector y was passed when a 1d array was expected. Please change the shape of y to (n_samples, ), for example using ravel().\n",
            "  y = column_or_1d(y, warn=True)\n"
          ]
        },
        {
          "output_type": "stream",
          "name": "stdout",
          "text": [
            "[CV 5/5] END C=100, degree=2, gamma=0.1, kernel=poly;, score=-25500.075 total time=   2.6s\n"
          ]
        },
        {
          "output_type": "stream",
          "name": "stderr",
          "text": [
            "/usr/local/lib/python3.7/dist-packages/sklearn/utils/validation.py:993: DataConversionWarning: A column-vector y was passed when a 1d array was expected. Please change the shape of y to (n_samples, ), for example using ravel().\n",
            "  y = column_or_1d(y, warn=True)\n"
          ]
        },
        {
          "output_type": "stream",
          "name": "stdout",
          "text": [
            "[CV 1/5] END C=10, degree=2, gamma=0.1, kernel=poly;, score=-9101.102 total time=   2.7s\n"
          ]
        },
        {
          "output_type": "stream",
          "name": "stderr",
          "text": [
            "/usr/local/lib/python3.7/dist-packages/sklearn/utils/validation.py:993: DataConversionWarning: A column-vector y was passed when a 1d array was expected. Please change the shape of y to (n_samples, ), for example using ravel().\n",
            "  y = column_or_1d(y, warn=True)\n"
          ]
        },
        {
          "output_type": "stream",
          "name": "stdout",
          "text": [
            "[CV 2/5] END C=10, degree=2, gamma=0.1, kernel=poly;, score=-9644.540 total time=   2.7s\n"
          ]
        },
        {
          "output_type": "stream",
          "name": "stderr",
          "text": [
            "/usr/local/lib/python3.7/dist-packages/sklearn/utils/validation.py:993: DataConversionWarning: A column-vector y was passed when a 1d array was expected. Please change the shape of y to (n_samples, ), for example using ravel().\n",
            "  y = column_or_1d(y, warn=True)\n"
          ]
        },
        {
          "output_type": "stream",
          "name": "stdout",
          "text": [
            "[CV 3/5] END C=10, degree=2, gamma=0.1, kernel=poly;, score=-9136.080 total time=   2.7s\n"
          ]
        },
        {
          "output_type": "stream",
          "name": "stderr",
          "text": [
            "/usr/local/lib/python3.7/dist-packages/sklearn/utils/validation.py:993: DataConversionWarning: A column-vector y was passed when a 1d array was expected. Please change the shape of y to (n_samples, ), for example using ravel().\n",
            "  y = column_or_1d(y, warn=True)\n"
          ]
        },
        {
          "output_type": "stream",
          "name": "stdout",
          "text": [
            "[CV 4/5] END C=10, degree=2, gamma=0.1, kernel=poly;, score=-9255.891 total time=   2.7s\n"
          ]
        },
        {
          "output_type": "stream",
          "name": "stderr",
          "text": [
            "/usr/local/lib/python3.7/dist-packages/sklearn/utils/validation.py:993: DataConversionWarning: A column-vector y was passed when a 1d array was expected. Please change the shape of y to (n_samples, ), for example using ravel().\n",
            "  y = column_or_1d(y, warn=True)\n"
          ]
        },
        {
          "output_type": "stream",
          "name": "stdout",
          "text": [
            "[CV 5/5] END C=10, degree=2, gamma=0.1, kernel=poly;, score=-27030.908 total time=   2.7s\n"
          ]
        },
        {
          "output_type": "stream",
          "name": "stderr",
          "text": [
            "/usr/local/lib/python3.7/dist-packages/sklearn/utils/validation.py:993: DataConversionWarning: A column-vector y was passed when a 1d array was expected. Please change the shape of y to (n_samples, ), for example using ravel().\n",
            "  y = column_or_1d(y, warn=True)\n"
          ]
        },
        {
          "output_type": "stream",
          "name": "stdout",
          "text": [
            "[CV 1/5] END C=1000, degree=2, gamma=0.01, kernel=poly;, score=-9101.102 total time=   2.7s\n"
          ]
        },
        {
          "output_type": "stream",
          "name": "stderr",
          "text": [
            "/usr/local/lib/python3.7/dist-packages/sklearn/utils/validation.py:993: DataConversionWarning: A column-vector y was passed when a 1d array was expected. Please change the shape of y to (n_samples, ), for example using ravel().\n",
            "  y = column_or_1d(y, warn=True)\n"
          ]
        },
        {
          "output_type": "stream",
          "name": "stdout",
          "text": [
            "[CV 2/5] END C=1000, degree=2, gamma=0.01, kernel=poly;, score=-9644.540 total time=   2.7s\n"
          ]
        },
        {
          "output_type": "stream",
          "name": "stderr",
          "text": [
            "/usr/local/lib/python3.7/dist-packages/sklearn/utils/validation.py:993: DataConversionWarning: A column-vector y was passed when a 1d array was expected. Please change the shape of y to (n_samples, ), for example using ravel().\n",
            "  y = column_or_1d(y, warn=True)\n"
          ]
        },
        {
          "output_type": "stream",
          "name": "stdout",
          "text": [
            "[CV 3/5] END C=1000, degree=2, gamma=0.01, kernel=poly;, score=-9136.080 total time=   2.7s\n"
          ]
        },
        {
          "output_type": "stream",
          "name": "stderr",
          "text": [
            "/usr/local/lib/python3.7/dist-packages/sklearn/utils/validation.py:993: DataConversionWarning: A column-vector y was passed when a 1d array was expected. Please change the shape of y to (n_samples, ), for example using ravel().\n",
            "  y = column_or_1d(y, warn=True)\n"
          ]
        },
        {
          "output_type": "stream",
          "name": "stdout",
          "text": [
            "[CV 4/5] END C=1000, degree=2, gamma=0.01, kernel=poly;, score=-9255.891 total time=   2.7s\n"
          ]
        },
        {
          "output_type": "stream",
          "name": "stderr",
          "text": [
            "/usr/local/lib/python3.7/dist-packages/sklearn/utils/validation.py:993: DataConversionWarning: A column-vector y was passed when a 1d array was expected. Please change the shape of y to (n_samples, ), for example using ravel().\n",
            "  y = column_or_1d(y, warn=True)\n"
          ]
        },
        {
          "output_type": "stream",
          "name": "stdout",
          "text": [
            "[CV 5/5] END C=1000, degree=2, gamma=0.01, kernel=poly;, score=-27030.908 total time=   2.6s\n"
          ]
        },
        {
          "output_type": "stream",
          "name": "stderr",
          "text": [
            "/usr/local/lib/python3.7/dist-packages/sklearn/utils/validation.py:993: DataConversionWarning: A column-vector y was passed when a 1d array was expected. Please change the shape of y to (n_samples, ), for example using ravel().\n",
            "  y = column_or_1d(y, warn=True)\n"
          ]
        },
        {
          "output_type": "stream",
          "name": "stdout",
          "text": [
            "[CV 1/5] END C=100, degree=2, gamma=0.01, kernel=poly;, score=-9975.446 total time=   2.7s\n"
          ]
        },
        {
          "output_type": "stream",
          "name": "stderr",
          "text": [
            "/usr/local/lib/python3.7/dist-packages/sklearn/utils/validation.py:993: DataConversionWarning: A column-vector y was passed when a 1d array was expected. Please change the shape of y to (n_samples, ), for example using ravel().\n",
            "  y = column_or_1d(y, warn=True)\n"
          ]
        },
        {
          "output_type": "stream",
          "name": "stdout",
          "text": [
            "[CV 2/5] END C=100, degree=2, gamma=0.01, kernel=poly;, score=-10490.416 total time=   2.7s\n"
          ]
        },
        {
          "output_type": "stream",
          "name": "stderr",
          "text": [
            "/usr/local/lib/python3.7/dist-packages/sklearn/utils/validation.py:993: DataConversionWarning: A column-vector y was passed when a 1d array was expected. Please change the shape of y to (n_samples, ), for example using ravel().\n",
            "  y = column_or_1d(y, warn=True)\n"
          ]
        },
        {
          "output_type": "stream",
          "name": "stdout",
          "text": [
            "[CV 3/5] END C=100, degree=2, gamma=0.01, kernel=poly;, score=-10073.826 total time=   2.6s\n"
          ]
        },
        {
          "output_type": "stream",
          "name": "stderr",
          "text": [
            "/usr/local/lib/python3.7/dist-packages/sklearn/utils/validation.py:993: DataConversionWarning: A column-vector y was passed when a 1d array was expected. Please change the shape of y to (n_samples, ), for example using ravel().\n",
            "  y = column_or_1d(y, warn=True)\n"
          ]
        },
        {
          "output_type": "stream",
          "name": "stdout",
          "text": [
            "[CV 4/5] END C=100, degree=2, gamma=0.01, kernel=poly;, score=-10080.724 total time=   4.1s\n"
          ]
        },
        {
          "output_type": "stream",
          "name": "stderr",
          "text": [
            "/usr/local/lib/python3.7/dist-packages/sklearn/utils/validation.py:993: DataConversionWarning: A column-vector y was passed when a 1d array was expected. Please change the shape of y to (n_samples, ), for example using ravel().\n",
            "  y = column_or_1d(y, warn=True)\n"
          ]
        },
        {
          "output_type": "stream",
          "name": "stdout",
          "text": [
            "[CV 5/5] END C=100, degree=2, gamma=0.01, kernel=poly;, score=-27917.609 total time=   3.3s\n"
          ]
        },
        {
          "output_type": "stream",
          "name": "stderr",
          "text": [
            "/usr/local/lib/python3.7/dist-packages/sklearn/utils/validation.py:993: DataConversionWarning: A column-vector y was passed when a 1d array was expected. Please change the shape of y to (n_samples, ), for example using ravel().\n",
            "  y = column_or_1d(y, warn=True)\n"
          ]
        },
        {
          "output_type": "stream",
          "name": "stdout",
          "text": [
            "[CV 1/5] END C=1000, degree=2, gamma=0.0001, kernel=poly;, score=-10133.571 total time=   2.7s\n"
          ]
        },
        {
          "output_type": "stream",
          "name": "stderr",
          "text": [
            "/usr/local/lib/python3.7/dist-packages/sklearn/utils/validation.py:993: DataConversionWarning: A column-vector y was passed when a 1d array was expected. Please change the shape of y to (n_samples, ), for example using ravel().\n",
            "  y = column_or_1d(y, warn=True)\n"
          ]
        },
        {
          "output_type": "stream",
          "name": "stdout",
          "text": [
            "[CV 2/5] END C=1000, degree=2, gamma=0.0001, kernel=poly;, score=-10634.742 total time=   2.7s\n"
          ]
        },
        {
          "output_type": "stream",
          "name": "stderr",
          "text": [
            "/usr/local/lib/python3.7/dist-packages/sklearn/utils/validation.py:993: DataConversionWarning: A column-vector y was passed when a 1d array was expected. Please change the shape of y to (n_samples, ), for example using ravel().\n",
            "  y = column_or_1d(y, warn=True)\n"
          ]
        },
        {
          "output_type": "stream",
          "name": "stdout",
          "text": [
            "[CV 3/5] END C=1000, degree=2, gamma=0.0001, kernel=poly;, score=-10231.795 total time=   2.7s\n"
          ]
        },
        {
          "output_type": "stream",
          "name": "stderr",
          "text": [
            "/usr/local/lib/python3.7/dist-packages/sklearn/utils/validation.py:993: DataConversionWarning: A column-vector y was passed when a 1d array was expected. Please change the shape of y to (n_samples, ), for example using ravel().\n",
            "  y = column_or_1d(y, warn=True)\n"
          ]
        },
        {
          "output_type": "stream",
          "name": "stdout",
          "text": [
            "[CV 4/5] END C=1000, degree=2, gamma=0.0001, kernel=poly;, score=-10220.481 total time=   2.7s\n"
          ]
        },
        {
          "output_type": "stream",
          "name": "stderr",
          "text": [
            "/usr/local/lib/python3.7/dist-packages/sklearn/utils/validation.py:993: DataConversionWarning: A column-vector y was passed when a 1d array was expected. Please change the shape of y to (n_samples, ), for example using ravel().\n",
            "  y = column_or_1d(y, warn=True)\n"
          ]
        },
        {
          "output_type": "stream",
          "name": "stdout",
          "text": [
            "[CV 5/5] END C=1000, degree=2, gamma=0.0001, kernel=poly;, score=-28072.389 total time=   2.7s\n"
          ]
        },
        {
          "output_type": "stream",
          "name": "stderr",
          "text": [
            "/usr/local/lib/python3.7/dist-packages/sklearn/utils/validation.py:993: DataConversionWarning: A column-vector y was passed when a 1d array was expected. Please change the shape of y to (n_samples, ), for example using ravel().\n",
            "  y = column_or_1d(y, warn=True)\n"
          ]
        },
        {
          "output_type": "stream",
          "name": "stdout",
          "text": [
            "[CV 1/5] END C=1000, degree=2, gamma=0.001, kernel=poly;, score=-10117.072 total time=   2.7s\n"
          ]
        },
        {
          "output_type": "stream",
          "name": "stderr",
          "text": [
            "/usr/local/lib/python3.7/dist-packages/sklearn/utils/validation.py:993: DataConversionWarning: A column-vector y was passed when a 1d array was expected. Please change the shape of y to (n_samples, ), for example using ravel().\n",
            "  y = column_or_1d(y, warn=True)\n"
          ]
        },
        {
          "output_type": "stream",
          "name": "stdout",
          "text": [
            "[CV 2/5] END C=1000, degree=2, gamma=0.001, kernel=poly;, score=-10619.258 total time=   2.7s\n"
          ]
        },
        {
          "output_type": "stream",
          "name": "stderr",
          "text": [
            "/usr/local/lib/python3.7/dist-packages/sklearn/utils/validation.py:993: DataConversionWarning: A column-vector y was passed when a 1d array was expected. Please change the shape of y to (n_samples, ), for example using ravel().\n",
            "  y = column_or_1d(y, warn=True)\n"
          ]
        },
        {
          "output_type": "stream",
          "name": "stdout",
          "text": [
            "[CV 3/5] END C=1000, degree=2, gamma=0.001, kernel=poly;, score=-10217.837 total time=   2.7s\n"
          ]
        },
        {
          "output_type": "stream",
          "name": "stderr",
          "text": [
            "/usr/local/lib/python3.7/dist-packages/sklearn/utils/validation.py:993: DataConversionWarning: A column-vector y was passed when a 1d array was expected. Please change the shape of y to (n_samples, ), for example using ravel().\n",
            "  y = column_or_1d(y, warn=True)\n"
          ]
        },
        {
          "output_type": "stream",
          "name": "stdout",
          "text": [
            "[CV 4/5] END C=1000, degree=2, gamma=0.001, kernel=poly;, score=-10205.497 total time=   2.7s\n"
          ]
        },
        {
          "output_type": "stream",
          "name": "stderr",
          "text": [
            "/usr/local/lib/python3.7/dist-packages/sklearn/utils/validation.py:993: DataConversionWarning: A column-vector y was passed when a 1d array was expected. Please change the shape of y to (n_samples, ), for example using ravel().\n",
            "  y = column_or_1d(y, warn=True)\n"
          ]
        },
        {
          "output_type": "stream",
          "name": "stdout",
          "text": [
            "[CV 5/5] END C=1000, degree=2, gamma=0.001, kernel=poly;, score=-28056.226 total time=   2.7s\n"
          ]
        },
        {
          "output_type": "stream",
          "name": "stderr",
          "text": [
            "/usr/local/lib/python3.7/dist-packages/sklearn/utils/validation.py:993: DataConversionWarning: A column-vector y was passed when a 1d array was expected. Please change the shape of y to (n_samples, ), for example using ravel().\n",
            "  y = column_or_1d(y, warn=True)\n"
          ]
        },
        {
          "output_type": "stream",
          "name": "stdout",
          "text": [
            "[CV 1/5] END C=10, degree=2, gamma=0.0001, kernel=poly;, score=-10133.736 total time=   2.7s\n"
          ]
        },
        {
          "output_type": "stream",
          "name": "stderr",
          "text": [
            "/usr/local/lib/python3.7/dist-packages/sklearn/utils/validation.py:993: DataConversionWarning: A column-vector y was passed when a 1d array was expected. Please change the shape of y to (n_samples, ), for example using ravel().\n",
            "  y = column_or_1d(y, warn=True)\n"
          ]
        },
        {
          "output_type": "stream",
          "name": "stdout",
          "text": [
            "[CV 2/5] END C=10, degree=2, gamma=0.0001, kernel=poly;, score=-10634.898 total time=   2.7s\n"
          ]
        },
        {
          "output_type": "stream",
          "name": "stderr",
          "text": [
            "/usr/local/lib/python3.7/dist-packages/sklearn/utils/validation.py:993: DataConversionWarning: A column-vector y was passed when a 1d array was expected. Please change the shape of y to (n_samples, ), for example using ravel().\n",
            "  y = column_or_1d(y, warn=True)\n"
          ]
        },
        {
          "output_type": "stream",
          "name": "stdout",
          "text": [
            "[CV 3/5] END C=10, degree=2, gamma=0.0001, kernel=poly;, score=-10231.941 total time=   2.7s\n"
          ]
        },
        {
          "output_type": "stream",
          "name": "stderr",
          "text": [
            "/usr/local/lib/python3.7/dist-packages/sklearn/utils/validation.py:993: DataConversionWarning: A column-vector y was passed when a 1d array was expected. Please change the shape of y to (n_samples, ), for example using ravel().\n",
            "  y = column_or_1d(y, warn=True)\n"
          ]
        },
        {
          "output_type": "stream",
          "name": "stdout",
          "text": [
            "[CV 4/5] END C=10, degree=2, gamma=0.0001, kernel=poly;, score=-10220.629 total time=   2.7s\n"
          ]
        },
        {
          "output_type": "stream",
          "name": "stderr",
          "text": [
            "/usr/local/lib/python3.7/dist-packages/sklearn/utils/validation.py:993: DataConversionWarning: A column-vector y was passed when a 1d array was expected. Please change the shape of y to (n_samples, ), for example using ravel().\n",
            "  y = column_or_1d(y, warn=True)\n"
          ]
        },
        {
          "output_type": "stream",
          "name": "stdout",
          "text": [
            "[CV 5/5] END C=10, degree=2, gamma=0.0001, kernel=poly;, score=-28072.549 total time=   2.7s\n"
          ]
        },
        {
          "output_type": "stream",
          "name": "stderr",
          "text": [
            "/usr/local/lib/python3.7/dist-packages/sklearn/utils/validation.py:993: DataConversionWarning: A column-vector y was passed when a 1d array was expected. Please change the shape of y to (n_samples, ), for example using ravel().\n",
            "  y = column_or_1d(y, warn=True)\n"
          ]
        },
        {
          "output_type": "execute_result",
          "data": {
            "text/plain": [
              "RandomizedSearchCV(estimator=SVR(),\n",
              "                   param_distributions={'C': [0.1, 1, 10, 100, 1000],\n",
              "                                        'degree': [2],\n",
              "                                        'gamma': [1, 0.1, 0.01, 0.001, 0.0001],\n",
              "                                        'kernel': ['poly']},\n",
              "                   random_state=0, scoring='neg_mean_absolute_error',\n",
              "                   verbose=3)"
            ]
          },
          "metadata": {},
          "execution_count": 17
        }
      ],
      "source": [
        "param_grid3 = {'C': [0.1, 1, 10, 100, 1000], \n",
        "              'gamma': [1, 0.1, 0.01, 0.001, 0.0001],\n",
        "              'kernel': ['poly'],\n",
        "              'degree':[2]} \n",
        "  \n",
        "grid3 = RandomizedSearchCV(SVR(), param_grid3, refit = True, verbose = 3,scoring='neg_mean_absolute_error', random_state=0)\n",
        "  \n",
        "# fitting the model for grid search\n",
        "grid3.fit(X_train, Y_train)"
      ]
    },
    {
      "cell_type": "code",
      "source": [
        "# print best parameter after tuning\n",
        "print(grid3.best_params_)\n",
        "  \n",
        "# print how our model looks after hyper-parameter tuning\n",
        "print(grid3.best_estimator_)"
      ],
      "metadata": {
        "id": "-MFbrnn7Dzbo",
        "colab": {
          "base_uri": "https://localhost:8080/"
        },
        "outputId": "b700e389-f7e5-4c7d-b754-7078b56cde92"
      },
      "execution_count": 18,
      "outputs": [
        {
          "output_type": "stream",
          "name": "stdout",
          "text": [
            "{'kernel': 'poly', 'gamma': 0.1, 'degree': 2, 'C': 100}\n",
            "SVR(C=100, degree=2, gamma=0.1, kernel='poly')\n"
          ]
        }
      ]
    },
    {
      "cell_type": "code",
      "execution_count": 19,
      "metadata": {
        "id": "fhXpY1MQDkL6"
      },
      "outputs": [],
      "source": [
        "y_predict_test_g3=grid3.predict(X_val)\n",
        "y_predict_train_g3=grid3.predict(X_train)\n",
        "mae_train=mean_absolute_error(Y_train, y_predict_train_g3)\n",
        "rmse_train=np.sqrt(mean_squared_error(Y_train,y_predict_train_g3))\n",
        "mae_test=mean_absolute_error(Y_val, y_predict_test_g3)\n",
        "rmse_test=np.sqrt(mean_squared_error(Y_val,y_predict_test_g3))"
      ]
    },
    {
      "cell_type": "code",
      "source": [
        "print('El MAE para entrenamiento es {}, en test es {} '.format(mae_train,mae_test))\n",
        "print('El RMS para entrenamiento es {}, en test es {} '.format(rmse_train,rmse_test))"
      ],
      "metadata": {
        "id": "NbkaN_FAD8sm",
        "colab": {
          "base_uri": "https://localhost:8080/"
        },
        "outputId": "2a714553-c50c-44cf-f887-80bcbf84451c"
      },
      "execution_count": 20,
      "outputs": [
        {
          "output_type": "stream",
          "name": "stdout",
          "text": [
            "El MAE para entrenamiento es 11166.168837912026, en test es 8027.432922585667 \n",
            "El RMS para entrenamiento es 308027.54810776905, en test es 15373.67777578531 \n"
          ]
        }
      ]
    },
    {
      "cell_type": "code",
      "source": [
        "\n",
        "\n",
        "saving_path='/content/drive/MyDrive/data/modelos/'\n",
        "model_filepath = saving_path+ 'SVR_binary_minmax.pkl'\n",
        "joblib.dump(grid, model_filepath)\n",
        "\n"
      ],
      "metadata": {
        "colab": {
          "base_uri": "https://localhost:8080/"
        },
        "id": "uV6ehtiIkiTF",
        "outputId": "b1d33acd-cc2f-4e6e-8d8f-e9e32b350ca1"
      },
      "execution_count": 23,
      "outputs": [
        {
          "output_type": "execute_result",
          "data": {
            "text/plain": [
              "['/content/drive/MyDrive/data/modelos/SVR_binary_minmax.pkl']"
            ]
          },
          "metadata": {},
          "execution_count": 23
        }
      ]
    },
    {
      "cell_type": "markdown",
      "source": [],
      "metadata": {
        "id": "DHX9r5Iqlwrz"
      }
    },
    {
      "cell_type": "code",
      "source": [
        "path='/content/drive/MyDrive/data/binary_encoding/standard/'\n",
        "X_train=pd.read_csv(path+'train/X_train_binary_encoding_standard.csv')\n",
        "Y_train=pd.read_csv(path+'train/Y_train_binary_encoding_standard.csv')\n",
        "X_val=pd.read_csv(path+'val/X_val_binary_encoding_standard.csv')\n",
        "Y_val=pd.read_csv(path+'val/y_val_binary_encoding_standard.csv')\n",
        "X_test=pd.read_csv(path+'test/X_test_binary_encoding_standard.csv')\n",
        "Y_test=pd.read_csv(path+'test/Y_test_binary_encoding_standard.csv')"
      ],
      "metadata": {
        "id": "IvNwhGBlk8kJ"
      },
      "execution_count": 26,
      "outputs": []
    },
    {
      "cell_type": "code",
      "source": [
        "param_grid = {'C': [0.1, 1, 10, 100, 1000], \n",
        "              'gamma': [1, 0.1, 0.01, 0.001, 0.0001],\n",
        "              'kernel': ['rbf']} \n",
        "  \n",
        "grid = GridSearchCV(SVR(), param_grid, refit = True, verbose = 3,scoring='neg_mean_absolute_error')\n",
        "  \n",
        "# fitting the model for grid search\n",
        "grid.fit(X_train, Y_train)"
      ],
      "metadata": {
        "colab": {
          "base_uri": "https://localhost:8080/"
        },
        "id": "CH8srIawmINR",
        "outputId": "90281f12-e90f-4872-cd76-ff7684b9e586"
      },
      "execution_count": 27,
      "outputs": [
        {
          "output_type": "stream",
          "name": "stdout",
          "text": [
            "Fitting 5 folds for each of 25 candidates, totalling 125 fits\n",
            "[CV 1/5] END ...C=0.1, gamma=1, kernel=rbf;, score=-28322.137 total time=   5.7s\n",
            "[CV 2/5] END ...C=0.1, gamma=1, kernel=rbf;, score=-10893.047 total time=   5.6s\n",
            "[CV 3/5] END ...C=0.1, gamma=1, kernel=rbf;, score=-10174.728 total time=   5.6s\n",
            "[CV 4/5] END ...C=0.1, gamma=1, kernel=rbf;, score=-10326.231 total time=   6.9s\n",
            "[CV 5/5] END ...C=0.1, gamma=1, kernel=rbf;, score=-10211.163 total time=   7.2s\n",
            "[CV 1/5] END .C=0.1, gamma=0.1, kernel=rbf;, score=-28320.575 total time=   6.9s\n",
            "[CV 2/5] END .C=0.1, gamma=0.1, kernel=rbf;, score=-10891.573 total time=   4.2s\n",
            "[CV 3/5] END .C=0.1, gamma=0.1, kernel=rbf;, score=-10173.083 total time=   4.0s\n",
            "[CV 4/5] END .C=0.1, gamma=0.1, kernel=rbf;, score=-10324.492 total time=   4.1s\n",
            "[CV 5/5] END .C=0.1, gamma=0.1, kernel=rbf;, score=-10209.604 total time=   4.1s\n",
            "[CV 1/5] END C=0.1, gamma=0.01, kernel=rbf;, score=-28315.838 total time=   4.1s\n",
            "[CV 2/5] END C=0.1, gamma=0.01, kernel=rbf;, score=-10887.123 total time=   4.1s\n",
            "[CV 3/5] END C=0.1, gamma=0.01, kernel=rbf;, score=-10168.206 total time=   4.9s\n",
            "[CV 4/5] END C=0.1, gamma=0.01, kernel=rbf;, score=-10319.384 total time=   5.1s\n",
            "[CV 5/5] END C=0.1, gamma=0.01, kernel=rbf;, score=-10205.172 total time=   4.2s\n",
            "[CV 1/5] END C=0.1, gamma=0.001, kernel=rbf;, score=-28321.247 total time=   4.1s\n",
            "[CV 2/5] END C=0.1, gamma=0.001, kernel=rbf;, score=-10892.186 total time=   4.2s\n",
            "[CV 3/5] END C=0.1, gamma=0.001, kernel=rbf;, score=-10173.775 total time=   4.1s\n",
            "[CV 4/5] END C=0.1, gamma=0.001, kernel=rbf;, score=-10325.210 total time=   4.1s\n",
            "[CV 5/5] END C=0.1, gamma=0.001, kernel=rbf;, score=-10210.315 total time=   4.1s\n",
            "[CV 1/5] END C=0.1, gamma=0.0001, kernel=rbf;, score=-28322.360 total time=   4.1s\n",
            "[CV 2/5] END C=0.1, gamma=0.0001, kernel=rbf;, score=-10893.247 total time=   4.1s\n",
            "[CV 3/5] END C=0.1, gamma=0.0001, kernel=rbf;, score=-10174.930 total time=   4.1s\n",
            "[CV 4/5] END C=0.1, gamma=0.0001, kernel=rbf;, score=-10326.402 total time=   5.5s\n",
            "[CV 5/5] END C=0.1, gamma=0.0001, kernel=rbf;, score=-10211.372 total time=   4.4s\n",
            "[CV 1/5] END .....C=1, gamma=1, kernel=rbf;, score=-28318.965 total time=   5.5s\n",
            "[CV 2/5] END .....C=1, gamma=1, kernel=rbf;, score=-10890.109 total time=   5.6s\n",
            "[CV 3/5] END .....C=1, gamma=1, kernel=rbf;, score=-10171.682 total time=   5.6s\n",
            "[CV 4/5] END .....C=1, gamma=1, kernel=rbf;, score=-10323.415 total time=   5.6s\n",
            "[CV 5/5] END .....C=1, gamma=1, kernel=rbf;, score=-10208.169 total time=   5.6s\n",
            "[CV 1/5] END ...C=1, gamma=0.1, kernel=rbf;, score=-28303.455 total time=   4.1s\n",
            "[CV 2/5] END ...C=1, gamma=0.1, kernel=rbf;, score=-10875.478 total time=   4.0s\n",
            "[CV 3/5] END ...C=1, gamma=0.1, kernel=rbf;, score=-10155.300 total time=   4.8s\n",
            "[CV 4/5] END ...C=1, gamma=0.1, kernel=rbf;, score=-10307.384 total time=   5.0s\n",
            "[CV 5/5] END ...C=1, gamma=0.1, kernel=rbf;, score=-10192.629 total time=   4.1s\n",
            "[CV 1/5] END ..C=1, gamma=0.01, kernel=rbf;, score=-28256.445 total time=   4.1s\n",
            "[CV 2/5] END ..C=1, gamma=0.01, kernel=rbf;, score=-10831.755 total time=   4.1s\n",
            "[CV 3/5] END ..C=1, gamma=0.01, kernel=rbf;, score=-10107.085 total time=   4.1s\n",
            "[CV 4/5] END ..C=1, gamma=0.01, kernel=rbf;, score=-10257.670 total time=   4.1s\n",
            "[CV 5/5] END ..C=1, gamma=0.01, kernel=rbf;, score=-10148.858 total time=   4.2s\n",
            "[CV 1/5] END .C=1, gamma=0.001, kernel=rbf;, score=-28310.103 total time=   4.2s\n",
            "[CV 2/5] END .C=1, gamma=0.001, kernel=rbf;, score=-10881.575 total time=   4.2s\n",
            "[CV 3/5] END .C=1, gamma=0.001, kernel=rbf;, score=-10162.196 total time=   4.2s\n",
            "[CV 4/5] END .C=1, gamma=0.001, kernel=rbf;, score=-10313.231 total time=   5.0s\n",
            "[CV 5/5] END .C=1, gamma=0.001, kernel=rbf;, score=-10199.736 total time=   5.1s\n",
            "[CV 1/5] END C=1, gamma=0.0001, kernel=rbf;, score=-28321.162 total time=   4.1s\n",
            "[CV 2/5] END C=1, gamma=0.0001, kernel=rbf;, score=-10892.105 total time=   4.2s\n",
            "[CV 3/5] END C=1, gamma=0.0001, kernel=rbf;, score=-10173.686 total time=   4.1s\n",
            "[CV 4/5] END C=1, gamma=0.0001, kernel=rbf;, score=-10325.119 total time=   4.1s\n",
            "[CV 5/5] END C=1, gamma=0.0001, kernel=rbf;, score=-10210.233 total time=   4.1s\n",
            "[CV 1/5] END ....C=10, gamma=1, kernel=rbf;, score=-28286.990 total time=   5.6s\n",
            "[CV 2/5] END ....C=10, gamma=1, kernel=rbf;, score=-10860.180 total time=   5.6s\n",
            "[CV 3/5] END ....C=10, gamma=1, kernel=rbf;, score=-10141.238 total time=   5.6s\n",
            "[CV 4/5] END ....C=10, gamma=1, kernel=rbf;, score=-10295.271 total time=   6.9s\n",
            "[CV 5/5] END ....C=10, gamma=1, kernel=rbf;, score=-10178.216 total time=   5.6s\n",
            "[CV 1/5] END ..C=10, gamma=0.1, kernel=rbf;, score=-28141.622 total time=   4.1s\n",
            "[CV 2/5] END ..C=10, gamma=0.1, kernel=rbf;, score=-10721.939 total time=   4.1s\n",
            "[CV 3/5] END ...C=10, gamma=0.1, kernel=rbf;, score=-9987.150 total time=   4.1s\n",
            "[CV 4/5] END ..C=10, gamma=0.1, kernel=rbf;, score=-10155.463 total time=   4.0s\n",
            "[CV 5/5] END ..C=10, gamma=0.1, kernel=rbf;, score=-10031.773 total time=   4.0s\n",
            "[CV 1/5] END .C=10, gamma=0.01, kernel=rbf;, score=-27737.845 total time=   4.1s\n",
            "[CV 2/5] END .C=10, gamma=0.01, kernel=rbf;, score=-10350.080 total time=   4.6s\n",
            "[CV 3/5] END ..C=10, gamma=0.01, kernel=rbf;, score=-9577.543 total time=   6.8s\n",
            "[CV 4/5] END ..C=10, gamma=0.01, kernel=rbf;, score=-9753.002 total time=   6.2s\n",
            "[CV 5/5] END ..C=10, gamma=0.01, kernel=rbf;, score=-9657.078 total time=   4.1s\n",
            "[CV 1/5] END C=10, gamma=0.001, kernel=rbf;, score=-28199.880 total time=   4.1s\n",
            "[CV 2/5] END C=10, gamma=0.001, kernel=rbf;, score=-10777.275 total time=   4.1s\n",
            "[CV 3/5] END C=10, gamma=0.001, kernel=rbf;, score=-10047.636 total time=   4.2s\n",
            "[CV 4/5] END C=10, gamma=0.001, kernel=rbf;, score=-10198.691 total time=   4.2s\n",
            "[CV 5/5] END C=10, gamma=0.001, kernel=rbf;, score=-10094.588 total time=   4.1s\n",
            "[CV 1/5] END C=10, gamma=0.0001, kernel=rbf;, score=-28309.262 total time=   4.2s\n",
            "[CV 2/5] END C=10, gamma=0.0001, kernel=rbf;, score=-10880.767 total time=   4.1s\n",
            "[CV 3/5] END C=10, gamma=0.0001, kernel=rbf;, score=-10161.321 total time=   4.1s\n",
            "[CV 4/5] END C=10, gamma=0.0001, kernel=rbf;, score=-10312.317 total time=   4.1s\n",
            "[CV 5/5] END C=10, gamma=0.0001, kernel=rbf;, score=-10198.908 total time=   5.8s\n",
            "[CV 1/5] END ...C=100, gamma=1, kernel=rbf;, score=-28013.197 total time=   5.6s\n",
            "[CV 2/5] END ...C=100, gamma=1, kernel=rbf;, score=-10599.744 total time=   5.6s\n",
            "[CV 3/5] END ....C=100, gamma=1, kernel=rbf;, score=-9877.701 total time=   5.6s\n",
            "[CV 4/5] END ...C=100, gamma=1, kernel=rbf;, score=-10071.027 total time=   5.5s\n",
            "[CV 5/5] END ....C=100, gamma=1, kernel=rbf;, score=-9920.435 total time=   5.5s\n",
            "[CV 1/5] END .C=100, gamma=0.1, kernel=rbf;, score=-27174.705 total time=   4.1s\n",
            "[CV 2/5] END ..C=100, gamma=0.1, kernel=rbf;, score=-9799.294 total time=   4.1s\n",
            "[CV 3/5] END ..C=100, gamma=0.1, kernel=rbf;, score=-8998.395 total time=   4.1s\n",
            "[CV 4/5] END ..C=100, gamma=0.1, kernel=rbf;, score=-9283.875 total time=   5.2s\n",
            "[CV 5/5] END ..C=100, gamma=0.1, kernel=rbf;, score=-9078.727 total time=   4.6s\n",
            "[CV 1/5] END C=100, gamma=0.01, kernel=rbf;, score=-26004.940 total time=   4.1s\n",
            "[CV 2/5] END .C=100, gamma=0.01, kernel=rbf;, score=-8627.364 total time=   4.1s\n",
            "[CV 3/5] END .C=100, gamma=0.01, kernel=rbf;, score=-7786.411 total time=   4.1s\n",
            "[CV 4/5] END .C=100, gamma=0.01, kernel=rbf;, score=-8068.642 total time=   4.1s\n",
            "[CV 5/5] END .C=100, gamma=0.01, kernel=rbf;, score=-7913.351 total time=   4.1s\n",
            "[CV 1/5] END C=100, gamma=0.001, kernel=rbf;, score=-27341.230 total time=   4.1s\n",
            "[CV 2/5] END C=100, gamma=0.001, kernel=rbf;, score=-9976.356 total time=   4.1s\n",
            "[CV 3/5] END C=100, gamma=0.001, kernel=rbf;, score=-9177.974 total time=   4.1s\n",
            "[CV 4/5] END C=100, gamma=0.001, kernel=rbf;, score=-9354.843 total time=   4.1s\n",
            "[CV 5/5] END C=100, gamma=0.001, kernel=rbf;, score=-9279.350 total time=   5.6s\n",
            "[CV 1/5] END C=100, gamma=0.0001, kernel=rbf;, score=-28191.694 total time=   4.4s\n",
            "[CV 2/5] END C=100, gamma=0.0001, kernel=rbf;, score=-10769.493 total time=   4.1s\n",
            "[CV 3/5] END C=100, gamma=0.0001, kernel=rbf;, score=-10038.785 total time=   4.1s\n",
            "[CV 4/5] END C=100, gamma=0.0001, kernel=rbf;, score=-10190.156 total time=   4.1s\n",
            "[CV 5/5] END C=100, gamma=0.0001, kernel=rbf;, score=-10086.629 total time=   4.1s\n",
            "[CV 1/5] END ..C=1000, gamma=1, kernel=rbf;, score=-26645.444 total time=   5.7s\n",
            "[CV 2/5] END ...C=1000, gamma=1, kernel=rbf;, score=-9277.173 total time=   5.7s\n",
            "[CV 3/5] END ...C=1000, gamma=1, kernel=rbf;, score=-8632.895 total time=   5.7s\n",
            "[CV 4/5] END ...C=1000, gamma=1, kernel=rbf;, score=-8904.313 total time=   6.5s\n",
            "[CV 5/5] END ...C=1000, gamma=1, kernel=rbf;, score=-8622.933 total time=   6.3s\n",
            "[CV 1/5] END C=1000, gamma=0.1, kernel=rbf;, score=-25036.861 total time=   4.1s\n",
            "[CV 2/5] END .C=1000, gamma=0.1, kernel=rbf;, score=-7749.108 total time=   4.1s\n",
            "[CV 3/5] END .C=1000, gamma=0.1, kernel=rbf;, score=-7127.094 total time=   4.2s\n",
            "[CV 4/5] END .C=1000, gamma=0.1, kernel=rbf;, score=-7407.897 total time=   4.1s\n",
            "[CV 5/5] END .C=1000, gamma=0.1, kernel=rbf;, score=-7059.097 total time=   4.2s\n",
            "[CV 1/5] END C=1000, gamma=0.01, kernel=rbf;, score=-24503.816 total time=   6.9s\n",
            "[CV 2/5] END C=1000, gamma=0.01, kernel=rbf;, score=-6986.729 total time=   4.7s\n",
            "[CV 3/5] END C=1000, gamma=0.01, kernel=rbf;, score=-6316.286 total time=   4.1s\n",
            "[CV 4/5] END C=1000, gamma=0.01, kernel=rbf;, score=-6697.723 total time=   5.7s\n",
            "[CV 5/5] END C=1000, gamma=0.01, kernel=rbf;, score=-6381.879 total time=   4.2s\n",
            "[CV 1/5] END C=1000, gamma=0.001, kernel=rbf;, score=-25851.488 total time=   4.1s\n",
            "[CV 2/5] END C=1000, gamma=0.001, kernel=rbf;, score=-8371.195 total time=   4.1s\n",
            "[CV 3/5] END C=1000, gamma=0.001, kernel=rbf;, score=-7553.893 total time=   4.1s\n",
            "[CV 4/5] END C=1000, gamma=0.001, kernel=rbf;, score=-7845.548 total time=   4.1s\n",
            "[CV 5/5] END C=1000, gamma=0.001, kernel=rbf;, score=-7698.658 total time=   4.1s\n",
            "[CV 1/5] END C=1000, gamma=0.0001, kernel=rbf;, score=-27290.134 total time=   4.2s\n",
            "[CV 2/5] END C=1000, gamma=0.0001, kernel=rbf;, score=-9930.622 total time=   4.1s\n",
            "[CV 3/5] END C=1000, gamma=0.0001, kernel=rbf;, score=-9128.235 total time=   4.1s\n",
            "[CV 4/5] END C=1000, gamma=0.0001, kernel=rbf;, score=-9300.446 total time=   4.2s\n",
            "[CV 5/5] END C=1000, gamma=0.0001, kernel=rbf;, score=-9230.469 total time=   5.7s\n"
          ]
        },
        {
          "output_type": "execute_result",
          "data": {
            "text/plain": [
              "GridSearchCV(estimator=SVR(),\n",
              "             param_grid={'C': [0.1, 1, 10, 100, 1000],\n",
              "                         'gamma': [1, 0.1, 0.01, 0.001, 0.0001],\n",
              "                         'kernel': ['rbf']},\n",
              "             scoring='neg_mean_absolute_error', verbose=3)"
            ]
          },
          "metadata": {},
          "execution_count": 27
        }
      ]
    },
    {
      "cell_type": "code",
      "source": [
        "# print best parameter after tuning\n",
        "print(grid.best_params_)\n",
        "  \n",
        "# print how our model looks after hyper-parameter tuning\n",
        "print(grid.best_estimator_)\n"
      ],
      "metadata": {
        "colab": {
          "base_uri": "https://localhost:8080/"
        },
        "id": "JiYcgxUTotcL",
        "outputId": "b174194e-c463-4892-dff4-e623eb8764b6"
      },
      "execution_count": 28,
      "outputs": [
        {
          "output_type": "stream",
          "name": "stdout",
          "text": [
            "{'C': 1000, 'gamma': 0.01, 'kernel': 'rbf'}\n",
            "SVR(C=1000, gamma=0.01)\n"
          ]
        }
      ]
    },
    {
      "cell_type": "code",
      "source": [
        "y_predict_test_g=grid.predict(X_val)\n",
        "y_predict_train_g=grid.predict(X_train)\n"
      ],
      "metadata": {
        "id": "OXF5lZrcovB2"
      },
      "execution_count": 29,
      "outputs": []
    },
    {
      "cell_type": "code",
      "source": [
        "mae_train=mean_absolute_error(Y_train, y_predict_train_g)\n",
        "rmse_train=np.sqrt(mean_squared_error(Y_train,y_predict_train_g))\n",
        "mae_test=mean_absolute_error(Y_val, y_predict_test_g)\n",
        "rmse_test=np.sqrt(mean_squared_error(Y_val,y_predict_test_g))\n",
        "r2_val=r2_score(Y_val, y_predict_test_g)\n",
        "r2_train=r2_score(Y_train,y_predict_train_g)"
      ],
      "metadata": {
        "id": "FG7-8k9Uoxe3"
      },
      "execution_count": 37,
      "outputs": []
    },
    {
      "cell_type": "code",
      "source": [
        "\n",
        "print('El MAE para entrenamiento es {}, en test es {} '.format(mae_train,mae_test))\n",
        "\n",
        "print('El RMS para entrenamiento es {}, en test es {} '.format(rmse_train,rmse_test))\n",
        "\n",
        "print('El r2 para enternamiento es {}, en test es {}'.format(r2_train,r2_val))"
      ],
      "metadata": {
        "colab": {
          "base_uri": "https://localhost:8080/"
        },
        "id": "2KTWAQzlpNZy",
        "outputId": "a5771c1c-e469-4d26-f52b-096c501dc2ce"
      },
      "execution_count": 38,
      "outputs": [
        {
          "output_type": "stream",
          "name": "stdout",
          "text": [
            "El MAE para entrenamiento es 9909.145078858119, en test es 6348.946378318977 \n",
            "El RMS para entrenamiento es 307980.8895512989, en test es 12919.069415002983 \n",
            "El r2 para enternamiento es 5.6530042071623043e-05, en test es 0.3829685569768081\n"
          ]
        }
      ]
    },
    {
      "cell_type": "code",
      "source": [
        "param_grid2 = {'C': [0.1, 1, 10, 100, 1000], \n",
        "              'gamma': [1, 0.1, 0.01, 0.001, 0.0001],\n",
        "              'kernel': ['linear']} \n",
        "  \n",
        "grid2 = GridSearchCV(SVR(), param_grid2, refit = True, verbose = 3,scoring='neg_mean_absolute_error')\n",
        "  \n",
        "# fitting the model for grid search\n",
        "grid2.fit(X_train, Y_train)"
      ],
      "metadata": {
        "colab": {
          "base_uri": "https://localhost:8080/"
        },
        "id": "QzZh-6dqpw1m",
        "outputId": "aef4b5fd-569a-433a-8e92-8a047b36fc65"
      },
      "execution_count": 39,
      "outputs": [
        {
          "output_type": "stream",
          "name": "stdout",
          "text": [
            "Fitting 5 folds for each of 25 candidates, totalling 125 fits\n",
            "[CV 1/5] END C=0.1, gamma=1, kernel=linear;, score=-27729.367 total time=   3.2s\n",
            "[CV 2/5] END C=0.1, gamma=1, kernel=linear;, score=-10335.377 total time=   2.5s\n",
            "[CV 3/5] END .C=0.1, gamma=1, kernel=linear;, score=-9566.480 total time=   2.5s\n",
            "[CV 4/5] END .C=0.1, gamma=1, kernel=linear;, score=-9734.578 total time=   2.4s\n",
            "[CV 5/5] END .C=0.1, gamma=1, kernel=linear;, score=-9650.152 total time=   2.4s\n",
            "[CV 1/5] END C=0.1, gamma=0.1, kernel=linear;, score=-27729.367 total time=   2.4s\n",
            "[CV 2/5] END C=0.1, gamma=0.1, kernel=linear;, score=-10335.377 total time=   2.8s\n",
            "[CV 3/5] END C=0.1, gamma=0.1, kernel=linear;, score=-9566.480 total time=   2.6s\n",
            "[CV 4/5] END C=0.1, gamma=0.1, kernel=linear;, score=-9734.578 total time=   2.4s\n",
            "[CV 5/5] END C=0.1, gamma=0.1, kernel=linear;, score=-9650.152 total time=   2.4s\n",
            "[CV 1/5] END C=0.1, gamma=0.01, kernel=linear;, score=-27729.367 total time=   2.5s\n",
            "[CV 2/5] END C=0.1, gamma=0.01, kernel=linear;, score=-10335.377 total time=   2.5s\n",
            "[CV 3/5] END C=0.1, gamma=0.01, kernel=linear;, score=-9566.480 total time=   2.4s\n",
            "[CV 4/5] END C=0.1, gamma=0.01, kernel=linear;, score=-9734.578 total time=   2.4s\n",
            "[CV 5/5] END C=0.1, gamma=0.01, kernel=linear;, score=-9650.152 total time=   2.5s\n",
            "[CV 1/5] END C=0.1, gamma=0.001, kernel=linear;, score=-27729.367 total time=   2.4s\n",
            "[CV 2/5] END C=0.1, gamma=0.001, kernel=linear;, score=-10335.377 total time=   2.4s\n",
            "[CV 3/5] END C=0.1, gamma=0.001, kernel=linear;, score=-9566.480 total time=   2.8s\n",
            "[CV 4/5] END C=0.1, gamma=0.001, kernel=linear;, score=-9734.578 total time=   4.2s\n",
            "[CV 5/5] END C=0.1, gamma=0.001, kernel=linear;, score=-9650.152 total time=   2.4s\n",
            "[CV 1/5] END C=0.1, gamma=0.0001, kernel=linear;, score=-27729.367 total time=   2.4s\n",
            "[CV 2/5] END C=0.1, gamma=0.0001, kernel=linear;, score=-10335.377 total time=   2.6s\n",
            "[CV 3/5] END C=0.1, gamma=0.0001, kernel=linear;, score=-9566.480 total time=   2.4s\n",
            "[CV 4/5] END C=0.1, gamma=0.0001, kernel=linear;, score=-9734.578 total time=   3.1s\n",
            "[CV 5/5] END C=0.1, gamma=0.0001, kernel=linear;, score=-9650.152 total time=   2.5s\n",
            "[CV 1/5] END ..C=1, gamma=1, kernel=linear;, score=-26177.470 total time=   2.5s\n",
            "[CV 2/5] END ...C=1, gamma=1, kernel=linear;, score=-8788.591 total time=   2.4s\n",
            "[CV 3/5] END ...C=1, gamma=1, kernel=linear;, score=-7929.591 total time=   2.4s\n",
            "[CV 4/5] END ...C=1, gamma=1, kernel=linear;, score=-8164.088 total time=   3.3s\n",
            "[CV 5/5] END ...C=1, gamma=1, kernel=linear;, score=-8066.230 total time=   3.3s\n",
            "[CV 1/5] END C=1, gamma=0.1, kernel=linear;, score=-26177.470 total time=   2.4s\n",
            "[CV 2/5] END .C=1, gamma=0.1, kernel=linear;, score=-8788.591 total time=   2.4s\n",
            "[CV 3/5] END .C=1, gamma=0.1, kernel=linear;, score=-7929.591 total time=   3.5s\n",
            "[CV 4/5] END .C=1, gamma=0.1, kernel=linear;, score=-8164.088 total time=   2.5s\n",
            "[CV 5/5] END .C=1, gamma=0.1, kernel=linear;, score=-8066.230 total time=   2.5s\n",
            "[CV 1/5] END C=1, gamma=0.01, kernel=linear;, score=-26177.470 total time=   4.1s\n",
            "[CV 2/5] END C=1, gamma=0.01, kernel=linear;, score=-8788.591 total time=   2.9s\n",
            "[CV 3/5] END C=1, gamma=0.01, kernel=linear;, score=-7929.591 total time=   3.2s\n",
            "[CV 4/5] END C=1, gamma=0.01, kernel=linear;, score=-8164.088 total time=   3.0s\n",
            "[CV 5/5] END C=1, gamma=0.01, kernel=linear;, score=-8066.230 total time=   2.4s\n",
            "[CV 1/5] END C=1, gamma=0.001, kernel=linear;, score=-26177.470 total time=   2.5s\n",
            "[CV 2/5] END C=1, gamma=0.001, kernel=linear;, score=-8788.591 total time=   2.4s\n",
            "[CV 3/5] END C=1, gamma=0.001, kernel=linear;, score=-7929.591 total time=   2.4s\n",
            "[CV 4/5] END C=1, gamma=0.001, kernel=linear;, score=-8164.088 total time=   2.5s\n",
            "[CV 5/5] END C=1, gamma=0.001, kernel=linear;, score=-8066.230 total time=   2.5s\n",
            "[CV 1/5] END C=1, gamma=0.0001, kernel=linear;, score=-26177.470 total time=   2.5s\n",
            "[CV 2/5] END C=1, gamma=0.0001, kernel=linear;, score=-8788.591 total time=   2.4s\n",
            "[CV 3/5] END C=1, gamma=0.0001, kernel=linear;, score=-7929.591 total time=   2.4s\n",
            "[CV 4/5] END C=1, gamma=0.0001, kernel=linear;, score=-8164.088 total time=   2.4s\n",
            "[CV 5/5] END C=1, gamma=0.0001, kernel=linear;, score=-8066.230 total time=   2.4s\n",
            "[CV 1/5] END .C=10, gamma=1, kernel=linear;, score=-25485.720 total time=   2.4s\n",
            "[CV 2/5] END ..C=10, gamma=1, kernel=linear;, score=-7953.619 total time=   2.4s\n",
            "[CV 3/5] END ..C=10, gamma=1, kernel=linear;, score=-7140.039 total time=   2.4s\n",
            "[CV 4/5] END ..C=10, gamma=1, kernel=linear;, score=-7543.341 total time=   3.5s\n",
            "[CV 5/5] END ..C=10, gamma=1, kernel=linear;, score=-7308.752 total time=   3.6s\n",
            "[CV 1/5] END C=10, gamma=0.1, kernel=linear;, score=-25485.720 total time=   2.4s\n",
            "[CV 2/5] END C=10, gamma=0.1, kernel=linear;, score=-7953.619 total time=   2.4s\n",
            "[CV 3/5] END C=10, gamma=0.1, kernel=linear;, score=-7140.039 total time=   2.4s\n",
            "[CV 4/5] END C=10, gamma=0.1, kernel=linear;, score=-7543.341 total time=   2.4s\n",
            "[CV 5/5] END C=10, gamma=0.1, kernel=linear;, score=-7308.752 total time=   3.7s\n",
            "[CV 1/5] END C=10, gamma=0.01, kernel=linear;, score=-25485.720 total time=   4.9s\n",
            "[CV 2/5] END C=10, gamma=0.01, kernel=linear;, score=-7953.619 total time=   2.9s\n",
            "[CV 3/5] END C=10, gamma=0.01, kernel=linear;, score=-7140.039 total time=   2.4s\n",
            "[CV 4/5] END C=10, gamma=0.01, kernel=linear;, score=-7543.341 total time=   2.4s\n",
            "[CV 5/5] END C=10, gamma=0.01, kernel=linear;, score=-7308.752 total time=   2.4s\n",
            "[CV 1/5] END C=10, gamma=0.001, kernel=linear;, score=-25485.720 total time=   2.4s\n",
            "[CV 2/5] END C=10, gamma=0.001, kernel=linear;, score=-7953.619 total time=   2.5s\n",
            "[CV 3/5] END C=10, gamma=0.001, kernel=linear;, score=-7140.039 total time=   2.5s\n",
            "[CV 4/5] END C=10, gamma=0.001, kernel=linear;, score=-7543.341 total time=   2.4s\n",
            "[CV 5/5] END C=10, gamma=0.001, kernel=linear;, score=-7308.752 total time=   2.5s\n",
            "[CV 1/5] END C=10, gamma=0.0001, kernel=linear;, score=-25485.720 total time=   2.4s\n",
            "[CV 2/5] END C=10, gamma=0.0001, kernel=linear;, score=-7953.619 total time=   3.8s\n",
            "[CV 3/5] END C=10, gamma=0.0001, kernel=linear;, score=-7140.039 total time=   3.1s\n",
            "[CV 4/5] END C=10, gamma=0.0001, kernel=linear;, score=-7543.341 total time=   2.4s\n",
            "[CV 5/5] END C=10, gamma=0.0001, kernel=linear;, score=-7308.752 total time=   2.4s\n",
            "[CV 1/5] END C=100, gamma=1, kernel=linear;, score=-25378.104 total time=   2.7s\n",
            "[CV 2/5] END .C=100, gamma=1, kernel=linear;, score=-7882.612 total time=   2.7s\n",
            "[CV 3/5] END .C=100, gamma=1, kernel=linear;, score=-7034.696 total time=   2.7s\n",
            "[CV 4/5] END .C=100, gamma=1, kernel=linear;, score=-7532.676 total time=   2.7s\n",
            "[CV 5/5] END .C=100, gamma=1, kernel=linear;, score=-7247.019 total time=   2.7s\n",
            "[CV 1/5] END C=100, gamma=0.1, kernel=linear;, score=-25378.104 total time=   2.7s\n",
            "[CV 2/5] END C=100, gamma=0.1, kernel=linear;, score=-7882.612 total time=   2.7s\n",
            "[CV 3/5] END C=100, gamma=0.1, kernel=linear;, score=-7034.696 total time=   2.6s\n",
            "[CV 4/5] END C=100, gamma=0.1, kernel=linear;, score=-7532.676 total time=   2.7s\n",
            "[CV 5/5] END C=100, gamma=0.1, kernel=linear;, score=-7247.019 total time=   2.6s\n",
            "[CV 1/5] END C=100, gamma=0.01, kernel=linear;, score=-25378.104 total time=   2.7s\n",
            "[CV 2/5] END C=100, gamma=0.01, kernel=linear;, score=-7882.612 total time=   2.7s\n",
            "[CV 3/5] END C=100, gamma=0.01, kernel=linear;, score=-7034.696 total time=   2.6s\n",
            "[CV 4/5] END C=100, gamma=0.01, kernel=linear;, score=-7532.676 total time=   3.2s\n",
            "[CV 5/5] END C=100, gamma=0.01, kernel=linear;, score=-7247.019 total time=   4.3s\n",
            "[CV 1/5] END C=100, gamma=0.001, kernel=linear;, score=-25378.104 total time=   2.7s\n",
            "[CV 2/5] END C=100, gamma=0.001, kernel=linear;, score=-7882.612 total time=   2.7s\n",
            "[CV 3/5] END C=100, gamma=0.001, kernel=linear;, score=-7034.696 total time=   2.6s\n",
            "[CV 4/5] END C=100, gamma=0.001, kernel=linear;, score=-7532.676 total time=   2.7s\n",
            "[CV 5/5] END C=100, gamma=0.001, kernel=linear;, score=-7247.019 total time=   2.6s\n",
            "[CV 1/5] END C=100, gamma=0.0001, kernel=linear;, score=-25378.104 total time=   2.7s\n",
            "[CV 2/5] END C=100, gamma=0.0001, kernel=linear;, score=-7882.612 total time=   2.7s\n",
            "[CV 3/5] END C=100, gamma=0.0001, kernel=linear;, score=-7034.696 total time=   2.7s\n",
            "[CV 4/5] END C=100, gamma=0.0001, kernel=linear;, score=-7532.676 total time=   2.7s\n",
            "[CV 5/5] END C=100, gamma=0.0001, kernel=linear;, score=-7247.019 total time=   2.6s\n",
            "[CV 1/5] END C=1000, gamma=1, kernel=linear;, score=-25376.450 total time=   4.8s\n",
            "[CV 2/5] END C=1000, gamma=1, kernel=linear;, score=-7880.458 total time=   5.5s\n",
            "[CV 3/5] END C=1000, gamma=1, kernel=linear;, score=-7025.539 total time=   4.6s\n",
            "[CV 4/5] END C=1000, gamma=1, kernel=linear;, score=-7546.841 total time=   5.9s\n",
            "[CV 5/5] END C=1000, gamma=1, kernel=linear;, score=-7241.642 total time=   6.6s\n",
            "[CV 1/5] END C=1000, gamma=0.1, kernel=linear;, score=-25376.450 total time=   4.8s\n",
            "[CV 2/5] END C=1000, gamma=0.1, kernel=linear;, score=-7880.458 total time=   5.6s\n",
            "[CV 3/5] END C=1000, gamma=0.1, kernel=linear;, score=-7025.539 total time=   4.5s\n",
            "[CV 4/5] END C=1000, gamma=0.1, kernel=linear;, score=-7546.841 total time=   4.5s\n",
            "[CV 5/5] END C=1000, gamma=0.1, kernel=linear;, score=-7241.642 total time=   6.2s\n",
            "[CV 1/5] END C=1000, gamma=0.01, kernel=linear;, score=-25376.450 total time=   4.8s\n",
            "[CV 2/5] END C=1000, gamma=0.01, kernel=linear;, score=-7880.458 total time=   5.6s\n",
            "[CV 3/5] END C=1000, gamma=0.01, kernel=linear;, score=-7025.539 total time=   6.3s\n",
            "[CV 4/5] END C=1000, gamma=0.01, kernel=linear;, score=-7546.841 total time=   4.7s\n",
            "[CV 5/5] END C=1000, gamma=0.01, kernel=linear;, score=-7241.642 total time=   6.3s\n",
            "[CV 1/5] END C=1000, gamma=0.001, kernel=linear;, score=-25376.450 total time=   4.8s\n",
            "[CV 2/5] END C=1000, gamma=0.001, kernel=linear;, score=-7880.458 total time=   5.7s\n",
            "[CV 3/5] END C=1000, gamma=0.001, kernel=linear;, score=-7025.539 total time=   4.5s\n",
            "[CV 4/5] END C=1000, gamma=0.001, kernel=linear;, score=-7546.841 total time=   4.5s\n",
            "[CV 5/5] END C=1000, gamma=0.001, kernel=linear;, score=-7241.642 total time=   6.2s\n",
            "[CV 1/5] END C=1000, gamma=0.0001, kernel=linear;, score=-25376.450 total time=   4.8s\n",
            "[CV 2/5] END C=1000, gamma=0.0001, kernel=linear;, score=-7880.458 total time=   7.2s\n",
            "[CV 3/5] END C=1000, gamma=0.0001, kernel=linear;, score=-7025.539 total time=   4.6s\n",
            "[CV 4/5] END C=1000, gamma=0.0001, kernel=linear;, score=-7546.841 total time=   4.5s\n",
            "[CV 5/5] END C=1000, gamma=0.0001, kernel=linear;, score=-7241.642 total time=   6.1s\n"
          ]
        },
        {
          "output_type": "execute_result",
          "data": {
            "text/plain": [
              "GridSearchCV(estimator=SVR(),\n",
              "             param_grid={'C': [0.1, 1, 10, 100, 1000],\n",
              "                         'gamma': [1, 0.1, 0.01, 0.001, 0.0001],\n",
              "                         'kernel': ['linear']},\n",
              "             scoring='neg_mean_absolute_error', verbose=3)"
            ]
          },
          "metadata": {},
          "execution_count": 39
        }
      ]
    },
    {
      "cell_type": "code",
      "source": [
        "# print best parameter after tuning\n",
        "print(grid2.best_params_)\n",
        "  \n",
        "# print how our model looks after hyper-parameter tuning\n",
        "print(grid2.best_estimator_)\n"
      ],
      "metadata": {
        "colab": {
          "base_uri": "https://localhost:8080/"
        },
        "id": "tUgIIElnqVTV",
        "outputId": "d18af872-47a6-45de-909a-08c40eeebf39"
      },
      "execution_count": 40,
      "outputs": [
        {
          "output_type": "stream",
          "name": "stdout",
          "text": [
            "{'C': 1000, 'gamma': 1, 'kernel': 'linear'}\n",
            "SVR(C=1000, gamma=1, kernel='linear')\n"
          ]
        }
      ]
    },
    {
      "cell_type": "code",
      "source": [
        "mae_train=mean_absolute_error(Y_train, y_predict_train_g2)\n",
        "rmse_train=np.sqrt(mean_squared_error(Y_train,y_predict_train_g2))\n",
        "mae_test=mean_absolute_error(Y_val, y_predict_test_g2)\n",
        "rmse_test=np.sqrt(mean_squared_error(Y_val,y_predict_test_g2))\n",
        "r2_val=r2_score(Y_val, y_predict_test_g2)\n",
        "r2_train=r2_score(Y_train,y_predict_train_g2)\n"
      ],
      "metadata": {
        "id": "a6TwYn-0qnzB"
      },
      "execution_count": 41,
      "outputs": []
    },
    {
      "cell_type": "code",
      "source": [
        "print('El MAE para entrenamiento es {}, en test es {} '.format(mae_train,mae_test))\n",
        "\n",
        "print('El RMS para entrenamiento es {}, en test es {} '.format(rmse_train,rmse_test))\n",
        "\n",
        "print('El r2 para enternamiento es {}, en test es {}'.format(r2_train,r2_val))\n"
      ],
      "metadata": {
        "colab": {
          "base_uri": "https://localhost:8080/"
        },
        "id": "4gU_Ja7iqp-m",
        "outputId": "d064c59b-ab10-49f7-8648-8c8f304bab6d"
      },
      "execution_count": 42,
      "outputs": [
        {
          "output_type": "stream",
          "name": "stdout",
          "text": [
            "El MAE para entrenamiento es 15831.924943159625, en test es 11922.782590089228 \n",
            "El RMS para entrenamiento es 308191.0195910549, en test es 17894.35384820132 \n",
            "El r2 para enternamiento es -0.0013084237470917248, en test es -0.18379601604938522\n"
          ]
        }
      ]
    },
    {
      "cell_type": "code",
      "source": [
        "param_grid3 = {'C': [0.1, 1, 10, 100, 1000], \n",
        "              'gamma': [1, 0.1, 0.01, 0.001, 0.0001],\n",
        "              'kernel': ['poly'],\n",
        "              'degree':[2]} \n",
        "  \n",
        "grid3 = RandomizedSearchCV(SVR(), param_grid3, refit = True, verbose = 3,scoring='neg_mean_absolute_error', random_state=0)\n",
        "  \n",
        "# fitting the model for grid search\n",
        "grid3.fit(X_train, Y_train)"
      ],
      "metadata": {
        "colab": {
          "base_uri": "https://localhost:8080/"
        },
        "id": "LArX6aAYqt2-",
        "outputId": "fc82856a-f7a2-443e-b98e-2fcc06ea7796"
      },
      "execution_count": 43,
      "outputs": [
        {
          "output_type": "stream",
          "name": "stdout",
          "text": [
            "Fitting 5 folds for each of 10 candidates, totalling 50 fits\n",
            "[CV 1/5] END C=1, degree=2, gamma=1, kernel=poly;, score=-25633.150 total time=   3.0s\n",
            "[CV 2/5] END C=1, degree=2, gamma=1, kernel=poly;, score=-8410.490 total time=   2.9s\n",
            "[CV 3/5] END C=1, degree=2, gamma=1, kernel=poly;, score=-7459.707 total time=   2.9s\n",
            "[CV 4/5] END C=1, degree=2, gamma=1, kernel=poly;, score=-7820.490 total time=   3.3s\n",
            "[CV 5/5] END C=1, degree=2, gamma=1, kernel=poly;, score=-7695.014 total time=   2.9s\n",
            "[CV 1/5] END C=0.1, degree=2, gamma=0.01, kernel=poly;, score=-28321.913 total time=   2.6s\n",
            "[CV 2/5] END C=0.1, degree=2, gamma=0.01, kernel=poly;, score=-10892.776 total time=   2.7s\n",
            "[CV 3/5] END C=0.1, degree=2, gamma=0.01, kernel=poly;, score=-10174.432 total time=   3.2s\n",
            "[CV 4/5] END C=0.1, degree=2, gamma=0.01, kernel=poly;, score=-10325.859 total time=   5.7s\n",
            "[CV 5/5] END C=0.1, degree=2, gamma=0.01, kernel=poly;, score=-10210.982 total time=   3.0s\n",
            "[CV 1/5] END C=100, degree=2, gamma=0.0001, kernel=poly;, score=-28322.435 total time=   2.8s\n",
            "[CV 2/5] END C=100, degree=2, gamma=0.0001, kernel=poly;, score=-10893.313 total time=   4.4s\n",
            "[CV 3/5] END C=100, degree=2, gamma=0.0001, kernel=poly;, score=-10175.005 total time=   4.3s\n",
            "[CV 4/5] END C=100, degree=2, gamma=0.0001, kernel=poly;, score=-10326.478 total time=   2.7s\n",
            "[CV 5/5] END C=100, degree=2, gamma=0.0001, kernel=poly;, score=-10211.446 total time=   2.7s\n",
            "[CV 1/5] END C=100, degree=2, gamma=0.1, kernel=poly;, score=-25633.150 total time=   2.9s\n",
            "[CV 2/5] END C=100, degree=2, gamma=0.1, kernel=poly;, score=-8410.490 total time=   2.9s\n",
            "[CV 3/5] END C=100, degree=2, gamma=0.1, kernel=poly;, score=-7459.707 total time=   2.9s\n",
            "[CV 4/5] END C=100, degree=2, gamma=0.1, kernel=poly;, score=-7820.490 total time=   3.0s\n",
            "[CV 5/5] END C=100, degree=2, gamma=0.1, kernel=poly;, score=-7695.014 total time=   3.0s\n",
            "[CV 1/5] END C=10, degree=2, gamma=0.1, kernel=poly;, score=-26527.390 total time=   2.7s\n",
            "[CV 2/5] END C=10, degree=2, gamma=0.1, kernel=poly;, score=-9291.337 total time=   2.7s\n",
            "[CV 3/5] END C=10, degree=2, gamma=0.1, kernel=poly;, score=-8318.315 total time=   2.7s\n",
            "[CV 4/5] END C=10, degree=2, gamma=0.1, kernel=poly;, score=-8597.509 total time=   3.4s\n",
            "[CV 5/5] END C=10, degree=2, gamma=0.1, kernel=poly;, score=-8532.047 total time=   2.7s\n",
            "[CV 1/5] END C=1000, degree=2, gamma=0.01, kernel=poly;, score=-26527.390 total time=   2.7s\n",
            "[CV 2/5] END C=1000, degree=2, gamma=0.01, kernel=poly;, score=-9291.337 total time=   2.7s\n",
            "[CV 3/5] END C=1000, degree=2, gamma=0.01, kernel=poly;, score=-8318.315 total time=   3.0s\n",
            "[CV 4/5] END C=1000, degree=2, gamma=0.01, kernel=poly;, score=-8597.509 total time=   5.9s\n",
            "[CV 5/5] END C=1000, degree=2, gamma=0.01, kernel=poly;, score=-8532.047 total time=   2.7s\n",
            "[CV 1/5] END C=100, degree=2, gamma=0.01, kernel=poly;, score=-27823.271 total time=   2.7s\n",
            "[CV 2/5] END C=100, degree=2, gamma=0.01, kernel=poly;, score=-10447.625 total time=   3.0s\n",
            "[CV 3/5] END C=100, degree=2, gamma=0.01, kernel=poly;, score=-9668.235 total time=   3.1s\n",
            "[CV 4/5] END C=100, degree=2, gamma=0.01, kernel=poly;, score=-9828.446 total time=   3.0s\n",
            "[CV 5/5] END C=100, degree=2, gamma=0.01, kernel=poly;, score=-9748.150 total time=   3.2s\n",
            "[CV 1/5] END C=1000, degree=2, gamma=0.0001, kernel=poly;, score=-28321.913 total time=   2.8s\n",
            "[CV 2/5] END C=1000, degree=2, gamma=0.0001, kernel=poly;, score=-10892.776 total time=   2.7s\n",
            "[CV 3/5] END C=1000, degree=2, gamma=0.0001, kernel=poly;, score=-10174.432 total time=   2.7s\n",
            "[CV 4/5] END C=1000, degree=2, gamma=0.0001, kernel=poly;, score=-10325.859 total time=   2.7s\n",
            "[CV 5/5] END C=1000, degree=2, gamma=0.0001, kernel=poly;, score=-10210.982 total time=   2.6s\n",
            "[CV 1/5] END C=1000, degree=2, gamma=0.001, kernel=poly;, score=-28264.850 total time=   2.7s\n",
            "[CV 2/5] END C=1000, degree=2, gamma=0.001, kernel=poly;, score=-10836.362 total time=   2.7s\n",
            "[CV 3/5] END C=1000, degree=2, gamma=0.001, kernel=poly;, score=-10112.245 total time=   2.7s\n",
            "[CV 4/5] END C=1000, degree=2, gamma=0.001, kernel=poly;, score=-10262.379 total time=   2.7s\n",
            "[CV 5/5] END C=1000, degree=2, gamma=0.001, kernel=poly;, score=-10160.081 total time=   4.6s\n",
            "[CV 1/5] END C=10, degree=2, gamma=0.0001, kernel=poly;, score=-28322.488 total time=   2.7s\n",
            "[CV 2/5] END C=10, degree=2, gamma=0.0001, kernel=poly;, score=-10893.368 total time=   2.7s\n",
            "[CV 3/5] END C=10, degree=2, gamma=0.0001, kernel=poly;, score=-10175.062 total time=   2.7s\n",
            "[CV 4/5] END C=10, degree=2, gamma=0.0001, kernel=poly;, score=-10326.540 total time=   2.7s\n",
            "[CV 5/5] END C=10, degree=2, gamma=0.0001, kernel=poly;, score=-10211.497 total time=   2.7s\n"
          ]
        },
        {
          "output_type": "execute_result",
          "data": {
            "text/plain": [
              "RandomizedSearchCV(estimator=SVR(),\n",
              "                   param_distributions={'C': [0.1, 1, 10, 100, 1000],\n",
              "                                        'degree': [2],\n",
              "                                        'gamma': [1, 0.1, 0.01, 0.001, 0.0001],\n",
              "                                        'kernel': ['poly']},\n",
              "                   random_state=0, scoring='neg_mean_absolute_error',\n",
              "                   verbose=3)"
            ]
          },
          "metadata": {},
          "execution_count": 43
        }
      ]
    },
    {
      "cell_type": "code",
      "source": [
        "# print best parameter after tuning\n",
        "print(grid3.best_params_)\n",
        "  \n",
        "# print how our model looks after hyper-parameter tuning\n",
        "print(grid3.best_estimator_)\n"
      ],
      "metadata": {
        "colab": {
          "base_uri": "https://localhost:8080/"
        },
        "id": "otiqpex6sPhj",
        "outputId": "8391f575-1c7f-411d-b23e-ddb959c78bf6"
      },
      "execution_count": 44,
      "outputs": [
        {
          "output_type": "stream",
          "name": "stdout",
          "text": [
            "{'kernel': 'poly', 'gamma': 1, 'degree': 2, 'C': 1}\n",
            "SVR(C=1, degree=2, gamma=1, kernel='poly')\n"
          ]
        }
      ]
    },
    {
      "cell_type": "code",
      "source": [
        "y_predict_test_g3=grid3.predict(X_val)\n",
        "y_predict_train_g3=grid3.predict(X_train)\n",
        "mae_train=mean_absolute_error(Y_train, y_predict_train_g3)\n",
        "rmse_train=np.sqrt(mean_squared_error(Y_train,y_predict_train_g3))\n",
        "mae_test=mean_absolute_error(Y_val, y_predict_test_g3)\n",
        "rmse_test=np.sqrt(mean_squared_error(Y_val,y_predict_test_g3))\n",
        "r2_val=r2_score(Y_val, y_predict_test_g3)\n",
        "r2_train=r2_score(Y_train,y_predict_train_g3)\n"
      ],
      "metadata": {
        "id": "WgagwcsAsUYA"
      },
      "execution_count": 45,
      "outputs": []
    },
    {
      "cell_type": "code",
      "source": [
        "print('El MAE para entrenamiento es {}, en test es {} '.format(mae_train,mae_test))\n",
        "\n",
        "print('El RMS para entrenamiento es {}, en test es {} '.format(rmse_train,rmse_test))\n",
        "\n",
        "print('El r2 para enternamiento es {}, en test es {}'.format(r2_train,r2_val))\n",
        "\n"
      ],
      "metadata": {
        "colab": {
          "base_uri": "https://localhost:8080/"
        },
        "id": "dnREkQfTslnY",
        "outputId": "7b128edd-06c9-4687-894a-17b3045b3e2e"
      },
      "execution_count": 46,
      "outputs": [
        {
          "output_type": "stream",
          "name": "stdout",
          "text": [
            "El MAE para entrenamiento es 10811.751462552276, en test es 7574.650920019338 \n",
            "El RMS para entrenamiento es 307991.6351274354, en test es 14036.403952161065 \n",
            "El r2 para enternamiento es -1.3248028589485372e-05, en test es 0.2716224548909244\n"
          ]
        }
      ]
    },
    {
      "cell_type": "code",
      "source": [
        "model_filepath = saving_path+ 'SVR_binary_standard.pkl'\n",
        "joblib.dump(grid, model_filepath)\n"
      ],
      "metadata": {
        "colab": {
          "base_uri": "https://localhost:8080/"
        },
        "id": "p_BuOoBssn5B",
        "outputId": "e3c7aea5-9cbc-4cc7-954a-7e3c2f40ad62"
      },
      "execution_count": 47,
      "outputs": [
        {
          "output_type": "execute_result",
          "data": {
            "text/plain": [
              "['/content/drive/MyDrive/data/modelos/SVR_binary_standard.pkl']"
            ]
          },
          "metadata": {},
          "execution_count": 47
        }
      ]
    },
    {
      "cell_type": "markdown",
      "source": [
        "Ahora leyendo los datos de one hot encoding"
      ],
      "metadata": {
        "id": "KjKeG0gStZjk"
      }
    },
    {
      "cell_type": "code",
      "source": [
        "path='/content/drive/MyDrive/data/one_hot_encoding/min_max/'\n",
        "X_train=pd.read_csv(path+'train/X_train_one_hot_encoding_min_max.csv')\n",
        "Y_train=pd.read_csv(path+'train/y_train_one_hot_encoding_min_max.csv')\n",
        "X_val=pd.read_csv(path+'val/X_val_one_hot_encoding_min_max.csv')\n",
        "Y_val=pd.read_csv(path+'val/y_val_one_hot_encoding_min_max.csv')\n",
        "X_test=pd.read_csv(path+'test/X_test_one_hot_encoding_min_max.csv')\n",
        "Y_test=pd.read_csv(path+'test/y_test_one_hot_encoding_min_max.csv')"
      ],
      "metadata": {
        "id": "1TzWHRz1tPTS"
      },
      "execution_count": 49,
      "outputs": []
    },
    {
      "cell_type": "code",
      "source": [
        "param_grid = {'C': [0.1, 1, 10, 100, 1000], \n",
        "              'gamma': [1, 0.1, 0.01, 0.001, 0.0001],\n",
        "              'kernel': ['rbf']} \n",
        "  \n",
        "grid = GridSearchCV(SVR(), param_grid, refit = True, verbose = 3,scoring='neg_mean_absolute_error')\n",
        "  \n",
        "# fitting the model for grid search\n",
        "grid.fit(X_train, Y_train)"
      ],
      "metadata": {
        "colab": {
          "base_uri": "https://localhost:8080/"
        },
        "id": "lmZTlL9_t5Fa",
        "outputId": "2367c9b9-87fd-4dfd-e8d0-b9c385fe9b01"
      },
      "execution_count": 50,
      "outputs": [
        {
          "output_type": "stream",
          "name": "stdout",
          "text": [
            "Fitting 5 folds for each of 25 candidates, totalling 125 fits\n",
            "[CV 1/5] END ...C=0.1, gamma=1, kernel=rbf;, score=-10102.404 total time=   3.6s\n",
            "[CV 2/5] END ...C=0.1, gamma=1, kernel=rbf;, score=-28150.136 total time=   3.3s\n",
            "[CV 3/5] END ...C=0.1, gamma=1, kernel=rbf;, score=-10537.207 total time=   3.3s\n",
            "[CV 4/5] END ...C=0.1, gamma=1, kernel=rbf;, score=-10724.688 total time=   3.3s\n",
            "[CV 5/5] END ...C=0.1, gamma=1, kernel=rbf;, score=-10478.669 total time=   3.2s\n",
            "[CV 1/5] END .C=0.1, gamma=0.1, kernel=rbf;, score=-10102.522 total time=   3.3s\n",
            "[CV 2/5] END .C=0.1, gamma=0.1, kernel=rbf;, score=-28150.429 total time=   3.3s\n",
            "[CV 3/5] END .C=0.1, gamma=0.1, kernel=rbf;, score=-10537.168 total time=   3.2s\n",
            "[CV 4/5] END .C=0.1, gamma=0.1, kernel=rbf;, score=-10725.104 total time=   3.3s\n",
            "[CV 5/5] END .C=0.1, gamma=0.1, kernel=rbf;, score=-10478.998 total time=   4.2s\n",
            "[CV 1/5] END C=0.1, gamma=0.01, kernel=rbf;, score=-10108.745 total time=   4.1s\n",
            "[CV 2/5] END C=0.1, gamma=0.01, kernel=rbf;, score=-28156.476 total time=   3.3s\n",
            "[CV 3/5] END C=0.1, gamma=0.01, kernel=rbf;, score=-10543.040 total time=   3.4s\n",
            "[CV 4/5] END C=0.1, gamma=0.01, kernel=rbf;, score=-10731.122 total time=   3.2s\n",
            "[CV 5/5] END C=0.1, gamma=0.01, kernel=rbf;, score=-10485.151 total time=   3.2s\n",
            "[CV 1/5] END C=0.1, gamma=0.001, kernel=rbf;, score=-10109.754 total time=   3.4s\n",
            "[CV 2/5] END C=0.1, gamma=0.001, kernel=rbf;, score=-28157.454 total time=   3.6s\n",
            "[CV 3/5] END C=0.1, gamma=0.001, kernel=rbf;, score=-10543.995 total time=   3.2s\n",
            "[CV 4/5] END C=0.1, gamma=0.001, kernel=rbf;, score=-10732.081 total time=   3.3s\n",
            "[CV 5/5] END C=0.1, gamma=0.001, kernel=rbf;, score=-10486.135 total time=   3.3s\n",
            "[CV 1/5] END C=0.1, gamma=0.0001, kernel=rbf;, score=-10109.859 total time=   3.2s\n",
            "[CV 2/5] END C=0.1, gamma=0.0001, kernel=rbf;, score=-28157.556 total time=   3.2s\n",
            "[CV 3/5] END C=0.1, gamma=0.0001, kernel=rbf;, score=-10544.095 total time=   3.2s\n",
            "[CV 4/5] END C=0.1, gamma=0.0001, kernel=rbf;, score=-10732.182 total time=   4.4s\n",
            "[CV 5/5] END C=0.1, gamma=0.0001, kernel=rbf;, score=-10486.238 total time=   5.5s\n",
            "[CV 1/5] END .....C=1, gamma=1, kernel=rbf;, score=-10038.014 total time=   3.3s\n",
            "[CV 2/5] END .....C=1, gamma=1, kernel=rbf;, score=-28085.832 total time=   4.9s\n",
            "[CV 3/5] END .....C=1, gamma=1, kernel=rbf;, score=-10476.750 total time=   3.2s\n",
            "[CV 4/5] END .....C=1, gamma=1, kernel=rbf;, score=-10660.303 total time=   4.3s\n",
            "[CV 5/5] END .....C=1, gamma=1, kernel=rbf;, score=-10413.937 total time=   3.4s\n",
            "[CV 1/5] END ...C=1, gamma=0.1, kernel=rbf;, score=-10037.546 total time=   3.3s\n",
            "[CV 2/5] END ...C=1, gamma=0.1, kernel=rbf;, score=-28087.413 total time=   3.3s\n",
            "[CV 3/5] END ...C=1, gamma=0.1, kernel=rbf;, score=-10475.488 total time=   3.3s\n",
            "[CV 4/5] END ...C=1, gamma=0.1, kernel=rbf;, score=-10663.411 total time=   3.3s\n",
            "[CV 5/5] END ...C=1, gamma=0.1, kernel=rbf;, score=-10415.766 total time=   3.3s\n",
            "[CV 1/5] END ..C=1, gamma=0.01, kernel=rbf;, score=-10098.736 total time=   3.2s\n",
            "[CV 2/5] END ..C=1, gamma=0.01, kernel=rbf;, score=-28146.790 total time=   4.0s\n",
            "[CV 3/5] END ..C=1, gamma=0.01, kernel=rbf;, score=-10533.518 total time=   4.4s\n",
            "[CV 4/5] END ..C=1, gamma=0.01, kernel=rbf;, score=-10721.490 total time=   3.3s\n",
            "[CV 5/5] END ..C=1, gamma=0.01, kernel=rbf;, score=-10475.345 total time=   3.3s\n",
            "[CV 1/5] END .C=1, gamma=0.001, kernel=rbf;, score=-10108.695 total time=   3.2s\n",
            "[CV 2/5] END .C=1, gamma=0.001, kernel=rbf;, score=-28156.428 total time=   3.2s\n",
            "[CV 3/5] END .C=1, gamma=0.001, kernel=rbf;, score=-10542.992 total time=   3.2s\n",
            "[CV 4/5] END .C=1, gamma=0.001, kernel=rbf;, score=-10731.075 total time=   3.2s\n",
            "[CV 5/5] END .C=1, gamma=0.001, kernel=rbf;, score=-10485.102 total time=   3.2s\n",
            "[CV 1/5] END C=1, gamma=0.0001, kernel=rbf;, score=-10109.754 total time=   3.2s\n",
            "[CV 2/5] END C=1, gamma=0.0001, kernel=rbf;, score=-28157.453 total time=   3.3s\n",
            "[CV 3/5] END C=1, gamma=0.0001, kernel=rbf;, score=-10543.994 total time=   3.2s\n",
            "[CV 4/5] END C=1, gamma=0.0001, kernel=rbf;, score=-10732.081 total time=   3.2s\n",
            "[CV 5/5] END C=1, gamma=0.0001, kernel=rbf;, score=-10486.135 total time=   3.2s\n",
            "[CV 1/5] END .....C=10, gamma=1, kernel=rbf;, score=-9526.188 total time=   3.2s\n",
            "[CV 2/5] END ....C=10, gamma=1, kernel=rbf;, score=-27573.862 total time=   4.7s\n",
            "[CV 3/5] END ....C=10, gamma=1, kernel=rbf;, score=-10004.393 total time=   3.6s\n",
            "[CV 4/5] END ....C=10, gamma=1, kernel=rbf;, score=-10138.399 total time=   3.3s\n",
            "[CV 5/5] END .....C=10, gamma=1, kernel=rbf;, score=-9900.797 total time=   3.3s\n",
            "[CV 1/5] END ...C=10, gamma=0.1, kernel=rbf;, score=-9490.749 total time=   3.3s\n",
            "[CV 2/5] END ..C=10, gamma=0.1, kernel=rbf;, score=-27566.011 total time=   3.3s\n",
            "[CV 3/5] END ...C=10, gamma=0.1, kernel=rbf;, score=-9961.135 total time=   3.3s\n",
            "[CV 4/5] END ..C=10, gamma=0.1, kernel=rbf;, score=-10141.499 total time=   3.3s\n",
            "[CV 5/5] END ...C=10, gamma=0.1, kernel=rbf;, score=-9884.167 total time=   3.3s\n",
            "[CV 1/5] END .C=10, gamma=0.01, kernel=rbf;, score=-10001.542 total time=   3.7s\n",
            "[CV 2/5] END .C=10, gamma=0.01, kernel=rbf;, score=-28053.135 total time=   3.7s\n",
            "[CV 3/5] END .C=10, gamma=0.01, kernel=rbf;, score=-10440.304 total time=   3.2s\n",
            "[CV 4/5] END .C=10, gamma=0.01, kernel=rbf;, score=-10628.700 total time=   4.6s\n",
            "[CV 5/5] END .C=10, gamma=0.01, kernel=rbf;, score=-10381.416 total time=   5.3s\n",
            "[CV 1/5] END C=10, gamma=0.001, kernel=rbf;, score=-10098.236 total time=   4.0s\n",
            "[CV 2/5] END C=10, gamma=0.001, kernel=rbf;, score=-28146.310 total time=   3.5s\n",
            "[CV 3/5] END C=10, gamma=0.001, kernel=rbf;, score=-10533.033 total time=   3.2s\n",
            "[CV 4/5] END C=10, gamma=0.001, kernel=rbf;, score=-10721.013 total time=   3.3s\n",
            "[CV 5/5] END C=10, gamma=0.001, kernel=rbf;, score=-10474.864 total time=   3.2s\n",
            "[CV 1/5] END C=10, gamma=0.0001, kernel=rbf;, score=-10108.689 total time=   3.2s\n",
            "[CV 2/5] END C=10, gamma=0.0001, kernel=rbf;, score=-28156.423 total time=   3.2s\n",
            "[CV 3/5] END C=10, gamma=0.0001, kernel=rbf;, score=-10542.987 total time=   3.2s\n",
            "[CV 4/5] END C=10, gamma=0.0001, kernel=rbf;, score=-10731.070 total time=   3.2s\n",
            "[CV 5/5] END C=10, gamma=0.0001, kernel=rbf;, score=-10485.097 total time=   3.2s\n",
            "[CV 1/5] END ....C=100, gamma=1, kernel=rbf;, score=-8144.218 total time=   3.3s\n",
            "[CV 2/5] END ...C=100, gamma=1, kernel=rbf;, score=-26170.921 total time=   3.2s\n",
            "[CV 3/5] END ....C=100, gamma=1, kernel=rbf;, score=-8772.028 total time=   3.7s\n",
            "[CV 4/5] END ....C=100, gamma=1, kernel=rbf;, score=-8843.072 total time=   5.9s\n",
            "[CV 5/5] END ....C=100, gamma=1, kernel=rbf;, score=-8650.946 total time=   5.7s\n",
            "[CV 1/5] END ..C=100, gamma=0.1, kernel=rbf;, score=-7846.842 total time=   3.2s\n",
            "[CV 2/5] END .C=100, gamma=0.1, kernel=rbf;, score=-26001.219 total time=   3.2s\n",
            "[CV 3/5] END ..C=100, gamma=0.1, kernel=rbf;, score=-8453.061 total time=   3.2s\n",
            "[CV 4/5] END ..C=100, gamma=0.1, kernel=rbf;, score=-8603.532 total time=   3.2s\n",
            "[CV 5/5] END ..C=100, gamma=0.1, kernel=rbf;, score=-8370.791 total time=   3.2s\n",
            "[CV 1/5] END .C=100, gamma=0.01, kernel=rbf;, score=-9248.822 total time=   3.2s\n",
            "[CV 2/5] END C=100, gamma=0.01, kernel=rbf;, score=-27337.191 total time=   3.3s\n",
            "[CV 3/5] END .C=100, gamma=0.01, kernel=rbf;, score=-9725.184 total time=   3.3s\n",
            "[CV 4/5] END .C=100, gamma=0.01, kernel=rbf;, score=-9909.310 total time=   3.3s\n",
            "[CV 5/5] END .C=100, gamma=0.01, kernel=rbf;, score=-9650.158 total time=   3.3s\n",
            "[CV 1/5] END C=100, gamma=0.001, kernel=rbf;, score=-9996.965 total time=   3.2s\n",
            "[CV 2/5] END C=100, gamma=0.001, kernel=rbf;, score=-28048.585 total time=   3.5s\n",
            "[CV 3/5] END C=100, gamma=0.001, kernel=rbf;, score=-10435.679 total time=   5.1s\n",
            "[CV 4/5] END C=100, gamma=0.001, kernel=rbf;, score=-10624.192 total time=   3.2s\n",
            "[CV 5/5] END C=100, gamma=0.001, kernel=rbf;, score=-10376.839 total time=   3.2s\n",
            "[CV 1/5] END C=100, gamma=0.0001, kernel=rbf;, score=-10098.185 total time=   3.9s\n",
            "[CV 2/5] END C=100, gamma=0.0001, kernel=rbf;, score=-28146.260 total time=   3.2s\n",
            "[CV 3/5] END C=100, gamma=0.0001, kernel=rbf;, score=-10532.984 total time=   3.3s\n",
            "[CV 4/5] END C=100, gamma=0.0001, kernel=rbf;, score=-10720.964 total time=   3.2s\n",
            "[CV 5/5] END C=100, gamma=0.0001, kernel=rbf;, score=-10474.814 total time=   3.2s\n",
            "[CV 1/5] END ...C=1000, gamma=1, kernel=rbf;, score=-6417.827 total time=   3.2s\n",
            "[CV 2/5] END ..C=1000, gamma=1, kernel=rbf;, score=-24322.057 total time=   3.3s\n",
            "[CV 3/5] END ...C=1000, gamma=1, kernel=rbf;, score=-7060.277 total time=   3.2s\n",
            "[CV 4/5] END ...C=1000, gamma=1, kernel=rbf;, score=-7010.759 total time=   3.2s\n",
            "[CV 5/5] END ...C=1000, gamma=1, kernel=rbf;, score=-6880.049 total time=   3.2s\n",
            "[CV 1/5] END .C=1000, gamma=0.1, kernel=rbf;, score=-6748.950 total time=   3.3s\n",
            "[CV 2/5] END C=1000, gamma=0.1, kernel=rbf;, score=-24803.945 total time=   4.6s\n",
            "[CV 3/5] END .C=1000, gamma=0.1, kernel=rbf;, score=-7321.795 total time=   3.6s\n",
            "[CV 4/5] END .C=1000, gamma=0.1, kernel=rbf;, score=-7480.974 total time=   3.2s\n",
            "[CV 5/5] END .C=1000, gamma=0.1, kernel=rbf;, score=-7302.239 total time=   3.2s\n",
            "[CV 1/5] END C=1000, gamma=0.01, kernel=rbf;, score=-7664.660 total time=   3.2s\n",
            "[CV 2/5] END C=1000, gamma=0.01, kernel=rbf;, score=-25811.351 total time=   3.2s\n",
            "[CV 3/5] END C=1000, gamma=0.01, kernel=rbf;, score=-8270.832 total time=   3.2s\n",
            "[CV 4/5] END C=1000, gamma=0.01, kernel=rbf;, score=-8436.626 total time=   3.2s\n",
            "[CV 5/5] END C=1000, gamma=0.01, kernel=rbf;, score=-8209.035 total time=   3.2s\n",
            "[CV 1/5] END C=1000, gamma=0.001, kernel=rbf;, score=-9220.829 total time=   3.3s\n",
            "[CV 2/5] END C=1000, gamma=0.001, kernel=rbf;, score=-27313.791 total time=   3.3s\n",
            "[CV 3/5] END C=1000, gamma=0.001, kernel=rbf;, score=-9696.646 total time=   3.2s\n",
            "[CV 4/5] END C=1000, gamma=0.001, kernel=rbf;, score=-9885.235 total time=   3.2s\n",
            "[CV 5/5] END C=1000, gamma=0.001, kernel=rbf;, score=-9624.143 total time=   3.2s\n",
            "[CV 1/5] END C=1000, gamma=0.0001, kernel=rbf;, score=-9996.466 total time=   3.3s\n",
            "[CV 2/5] END C=1000, gamma=0.0001, kernel=rbf;, score=-28048.116 total time=   4.8s\n",
            "[CV 3/5] END C=1000, gamma=0.0001, kernel=rbf;, score=-10435.201 total time=   3.2s\n",
            "[CV 4/5] END C=1000, gamma=0.0001, kernel=rbf;, score=-10623.746 total time=   3.2s\n",
            "[CV 5/5] END C=1000, gamma=0.0001, kernel=rbf;, score=-10376.363 total time=   3.2s\n"
          ]
        },
        {
          "output_type": "execute_result",
          "data": {
            "text/plain": [
              "GridSearchCV(estimator=SVR(),\n",
              "             param_grid={'C': [0.1, 1, 10, 100, 1000],\n",
              "                         'gamma': [1, 0.1, 0.01, 0.001, 0.0001],\n",
              "                         'kernel': ['rbf']},\n",
              "             scoring='neg_mean_absolute_error', verbose=3)"
            ]
          },
          "metadata": {},
          "execution_count": 50
        }
      ]
    },
    {
      "cell_type": "code",
      "source": [
        "# print best parameter after tuning\n",
        "print(grid.best_params_)\n",
        "  \n",
        "# print how our model looks after hyper-parameter tuning\n",
        "print(grid.best_estimator_)\n"
      ],
      "metadata": {
        "colab": {
          "base_uri": "https://localhost:8080/"
        },
        "id": "wC5RLeTluEZu",
        "outputId": "277f239d-a2bb-4ca1-9ef4-354eaeeb6ebf"
      },
      "execution_count": 51,
      "outputs": [
        {
          "output_type": "stream",
          "name": "stdout",
          "text": [
            "{'C': 1000, 'gamma': 1, 'kernel': 'rbf'}\n",
            "SVR(C=1000, gamma=1)\n"
          ]
        }
      ]
    },
    {
      "cell_type": "code",
      "source": [
        "y_predict_test_g=grid.predict(X_val)\n",
        "y_predict_train_g=grid.predict(X_train)\n",
        "\n",
        "mae_train=mean_absolute_error(Y_train, y_predict_train_g)\n",
        "rmse_train=np.sqrt(mean_squared_error(Y_train,y_predict_train_g))\n",
        "mae_test=mean_absolute_error(Y_val, y_predict_test_g)\n",
        "rmse_test=np.sqrt(mean_squared_error(Y_val,y_predict_test_g))\n",
        "r2_val=r2_score(Y_val, y_predict_test_g)\n",
        "r2_train=r2_score(Y_train,y_predict_train_g)\n"
      ],
      "metadata": {
        "id": "skCld0t3uZbL"
      },
      "execution_count": 52,
      "outputs": []
    },
    {
      "cell_type": "code",
      "source": [
        "print('El MAE para entrenamiento es {}, en test es {} '.format(mae_train,mae_test))\n",
        "\n",
        "print('El RMS para entrenamiento es {}, en test es {} '.format(rmse_train,rmse_test))\n",
        "\n",
        "print('El r2 para enternamiento es {}, en test es {}'.format(r2_train,r2_val))\n"
      ],
      "metadata": {
        "colab": {
          "base_uri": "https://localhost:8080/"
        },
        "id": "suJ5pTXjubGP",
        "outputId": "79d374e3-14bf-454a-ca28-a83f9d6a5798"
      },
      "execution_count": 53,
      "outputs": [
        {
          "output_type": "stream",
          "name": "stdout",
          "text": [
            "El MAE para entrenamiento es 9936.806509822827, en test es 6163.610575813555 \n",
            "El RMS para entrenamiento es 307993.4889160546, en test es 10877.864146384889 \n",
            "El r2 para enternamiento es 0.0001046899936546497, en test es 0.46349368882734787\n"
          ]
        }
      ]
    },
    {
      "cell_type": "markdown",
      "source": [
        "Kernel lineal"
      ],
      "metadata": {
        "id": "NtSqkANfu4os"
      }
    },
    {
      "cell_type": "code",
      "source": [
        "param_grid2 = {'C': [0.1, 1, 10, 100, 1000], \n",
        "              'gamma': [1, 0.1, 0.01, 0.001, 0.0001],\n",
        "              'kernel': ['linear']} \n",
        "  \n",
        "grid2 = GridSearchCV(SVR(), param_grid2, refit = True, verbose = 3,scoring='neg_mean_absolute_error')\n",
        "  \n",
        "# fitting the model for grid search\n",
        "grid2.fit(X_train, Y_train)"
      ],
      "metadata": {
        "colab": {
          "base_uri": "https://localhost:8080/"
        },
        "id": "aIOwxjhBudEL",
        "outputId": "ea77f6e1-5695-4df6-9b3d-f091a7024008"
      },
      "execution_count": 54,
      "outputs": [
        {
          "output_type": "stream",
          "name": "stdout",
          "text": [
            "Fitting 5 folds for each of 25 candidates, totalling 125 fits\n",
            "[CV 1/5] END C=0.1, gamma=1, kernel=linear;, score=-10052.090 total time=   2.0s\n",
            "[CV 2/5] END C=0.1, gamma=1, kernel=linear;, score=-28101.745 total time=   1.9s\n",
            "[CV 3/5] END C=0.1, gamma=1, kernel=linear;, score=-10488.917 total time=   1.9s\n",
            "[CV 4/5] END C=0.1, gamma=1, kernel=linear;, score=-10677.368 total time=   1.9s\n",
            "[CV 5/5] END C=0.1, gamma=1, kernel=linear;, score=-10430.411 total time=   1.9s\n",
            "[CV 1/5] END C=0.1, gamma=0.1, kernel=linear;, score=-10052.090 total time=   1.9s\n",
            "[CV 2/5] END C=0.1, gamma=0.1, kernel=linear;, score=-28101.745 total time=   1.9s\n",
            "[CV 3/5] END C=0.1, gamma=0.1, kernel=linear;, score=-10488.917 total time=   1.9s\n",
            "[CV 4/5] END C=0.1, gamma=0.1, kernel=linear;, score=-10677.368 total time=   1.9s\n",
            "[CV 5/5] END C=0.1, gamma=0.1, kernel=linear;, score=-10430.411 total time=   1.9s\n",
            "[CV 1/5] END C=0.1, gamma=0.01, kernel=linear;, score=-10052.090 total time=   1.9s\n",
            "[CV 2/5] END C=0.1, gamma=0.01, kernel=linear;, score=-28101.745 total time=   1.9s\n",
            "[CV 3/5] END C=0.1, gamma=0.01, kernel=linear;, score=-10488.917 total time=   1.9s\n",
            "[CV 4/5] END C=0.1, gamma=0.01, kernel=linear;, score=-10677.368 total time=   1.9s\n",
            "[CV 5/5] END C=0.1, gamma=0.01, kernel=linear;, score=-10430.411 total time=   2.6s\n",
            "[CV 1/5] END C=0.1, gamma=0.001, kernel=linear;, score=-10052.090 total time=   3.4s\n",
            "[CV 2/5] END C=0.1, gamma=0.001, kernel=linear;, score=-28101.745 total time=   3.4s\n",
            "[CV 3/5] END C=0.1, gamma=0.001, kernel=linear;, score=-10488.917 total time=   2.1s\n",
            "[CV 4/5] END C=0.1, gamma=0.001, kernel=linear;, score=-10677.368 total time=   1.9s\n",
            "[CV 5/5] END C=0.1, gamma=0.001, kernel=linear;, score=-10430.411 total time=   1.8s\n",
            "[CV 1/5] END C=0.1, gamma=0.0001, kernel=linear;, score=-10052.090 total time=   1.9s\n",
            "[CV 2/5] END C=0.1, gamma=0.0001, kernel=linear;, score=-28101.745 total time=   2.2s\n",
            "[CV 3/5] END C=0.1, gamma=0.0001, kernel=linear;, score=-10488.917 total time=   3.3s\n",
            "[CV 4/5] END C=0.1, gamma=0.0001, kernel=linear;, score=-10677.368 total time=   2.1s\n",
            "[CV 5/5] END C=0.1, gamma=0.0001, kernel=linear;, score=-10430.411 total time=   1.9s\n",
            "[CV 1/5] END ...C=1, gamma=1, kernel=linear;, score=-9597.359 total time=   1.9s\n",
            "[CV 2/5] END ..C=1, gamma=1, kernel=linear;, score=-27671.289 total time=   1.8s\n",
            "[CV 3/5] END ..C=1, gamma=1, kernel=linear;, score=-10058.957 total time=   1.9s\n",
            "[CV 4/5] END ..C=1, gamma=1, kernel=linear;, score=-10246.100 total time=   1.9s\n",
            "[CV 5/5] END ...C=1, gamma=1, kernel=linear;, score=-9991.520 total time=   1.9s\n",
            "[CV 1/5] END .C=1, gamma=0.1, kernel=linear;, score=-9597.359 total time=   1.9s\n",
            "[CV 2/5] END C=1, gamma=0.1, kernel=linear;, score=-27671.289 total time=   1.9s\n",
            "[CV 3/5] END C=1, gamma=0.1, kernel=linear;, score=-10058.957 total time=   1.9s\n",
            "[CV 4/5] END C=1, gamma=0.1, kernel=linear;, score=-10246.100 total time=   1.9s\n",
            "[CV 5/5] END .C=1, gamma=0.1, kernel=linear;, score=-9991.520 total time=   1.8s\n",
            "[CV 1/5] END C=1, gamma=0.01, kernel=linear;, score=-9597.359 total time=   1.9s\n",
            "[CV 2/5] END C=1, gamma=0.01, kernel=linear;, score=-27671.289 total time=   1.9s\n",
            "[CV 3/5] END C=1, gamma=0.01, kernel=linear;, score=-10058.957 total time=   1.9s\n",
            "[CV 4/5] END C=1, gamma=0.01, kernel=linear;, score=-10246.100 total time=   1.8s\n",
            "[CV 5/5] END C=1, gamma=0.01, kernel=linear;, score=-9991.520 total time=   1.9s\n",
            "[CV 1/5] END C=1, gamma=0.001, kernel=linear;, score=-9597.359 total time=   1.9s\n",
            "[CV 2/5] END C=1, gamma=0.001, kernel=linear;, score=-27671.289 total time=   1.9s\n",
            "[CV 3/5] END C=1, gamma=0.001, kernel=linear;, score=-10058.957 total time=   1.9s\n",
            "[CV 4/5] END C=1, gamma=0.001, kernel=linear;, score=-10246.100 total time=   1.9s\n",
            "[CV 5/5] END C=1, gamma=0.001, kernel=linear;, score=-9991.520 total time=   1.9s\n",
            "[CV 1/5] END C=1, gamma=0.0001, kernel=linear;, score=-9597.359 total time=   1.9s\n",
            "[CV 2/5] END C=1, gamma=0.0001, kernel=linear;, score=-27671.289 total time=   1.9s\n",
            "[CV 3/5] END C=1, gamma=0.0001, kernel=linear;, score=-10058.957 total time=   3.3s\n",
            "[CV 4/5] END C=1, gamma=0.0001, kernel=linear;, score=-10246.100 total time=   2.4s\n",
            "[CV 5/5] END C=1, gamma=0.0001, kernel=linear;, score=-9991.520 total time=   1.9s\n",
            "[CV 1/5] END ..C=10, gamma=1, kernel=linear;, score=-8032.574 total time=   1.8s\n",
            "[CV 2/5] END .C=10, gamma=1, kernel=linear;, score=-26180.486 total time=   1.8s\n",
            "[CV 3/5] END ..C=10, gamma=1, kernel=linear;, score=-8592.744 total time=   1.9s\n",
            "[CV 4/5] END ..C=10, gamma=1, kernel=linear;, score=-8774.265 total time=   1.8s\n",
            "[CV 5/5] END ..C=10, gamma=1, kernel=linear;, score=-8525.207 total time=   1.8s\n",
            "[CV 1/5] END C=10, gamma=0.1, kernel=linear;, score=-8032.574 total time=   1.9s\n",
            "[CV 2/5] END C=10, gamma=0.1, kernel=linear;, score=-26180.486 total time=   1.8s\n",
            "[CV 3/5] END C=10, gamma=0.1, kernel=linear;, score=-8592.744 total time=   1.8s\n",
            "[CV 4/5] END C=10, gamma=0.1, kernel=linear;, score=-8774.265 total time=   1.8s\n",
            "[CV 5/5] END C=10, gamma=0.1, kernel=linear;, score=-8525.207 total time=   1.8s\n",
            "[CV 1/5] END C=10, gamma=0.01, kernel=linear;, score=-8032.574 total time=   1.9s\n",
            "[CV 2/5] END C=10, gamma=0.01, kernel=linear;, score=-26180.486 total time=   1.9s\n",
            "[CV 3/5] END C=10, gamma=0.01, kernel=linear;, score=-8592.744 total time=   1.8s\n",
            "[CV 4/5] END C=10, gamma=0.01, kernel=linear;, score=-8774.265 total time=   1.8s\n",
            "[CV 5/5] END C=10, gamma=0.01, kernel=linear;, score=-8525.207 total time=   1.8s\n",
            "[CV 1/5] END C=10, gamma=0.001, kernel=linear;, score=-8032.574 total time=   1.8s\n",
            "[CV 2/5] END C=10, gamma=0.001, kernel=linear;, score=-26180.486 total time=   1.9s\n",
            "[CV 3/5] END C=10, gamma=0.001, kernel=linear;, score=-8592.744 total time=   1.8s\n",
            "[CV 4/5] END C=10, gamma=0.001, kernel=linear;, score=-8774.265 total time=   1.8s\n",
            "[CV 5/5] END C=10, gamma=0.001, kernel=linear;, score=-8525.207 total time=   1.8s\n",
            "[CV 1/5] END C=10, gamma=0.0001, kernel=linear;, score=-8032.574 total time=   1.8s\n",
            "[CV 2/5] END C=10, gamma=0.0001, kernel=linear;, score=-26180.486 total time=   1.8s\n",
            "[CV 3/5] END C=10, gamma=0.0001, kernel=linear;, score=-8592.744 total time=   2.9s\n",
            "[CV 4/5] END C=10, gamma=0.0001, kernel=linear;, score=-8774.265 total time=   2.8s\n",
            "[CV 5/5] END C=10, gamma=0.0001, kernel=linear;, score=-8525.207 total time=   1.9s\n",
            "[CV 1/5] END .C=100, gamma=1, kernel=linear;, score=-7160.531 total time=   1.8s\n",
            "[CV 2/5] END C=100, gamma=1, kernel=linear;, score=-25203.272 total time=   1.8s\n",
            "[CV 3/5] END .C=100, gamma=1, kernel=linear;, score=-7726.601 total time=   1.8s\n",
            "[CV 4/5] END .C=100, gamma=1, kernel=linear;, score=-7886.093 total time=   1.8s\n",
            "[CV 5/5] END .C=100, gamma=1, kernel=linear;, score=-7691.211 total time=   1.8s\n",
            "[CV 1/5] END C=100, gamma=0.1, kernel=linear;, score=-7160.531 total time=   1.8s\n",
            "[CV 2/5] END C=100, gamma=0.1, kernel=linear;, score=-25203.272 total time=   1.8s\n",
            "[CV 3/5] END C=100, gamma=0.1, kernel=linear;, score=-7726.601 total time=   1.9s\n",
            "[CV 4/5] END C=100, gamma=0.1, kernel=linear;, score=-7886.093 total time=   1.8s\n",
            "[CV 5/5] END C=100, gamma=0.1, kernel=linear;, score=-7691.211 total time=   1.8s\n",
            "[CV 1/5] END C=100, gamma=0.01, kernel=linear;, score=-7160.531 total time=   1.8s\n",
            "[CV 2/5] END C=100, gamma=0.01, kernel=linear;, score=-25203.272 total time=   1.8s\n",
            "[CV 3/5] END C=100, gamma=0.01, kernel=linear;, score=-7726.601 total time=   1.8s\n",
            "[CV 4/5] END C=100, gamma=0.01, kernel=linear;, score=-7886.093 total time=   1.9s\n",
            "[CV 5/5] END C=100, gamma=0.01, kernel=linear;, score=-7691.211 total time=   1.8s\n",
            "[CV 1/5] END C=100, gamma=0.001, kernel=linear;, score=-7160.531 total time=   1.8s\n",
            "[CV 2/5] END C=100, gamma=0.001, kernel=linear;, score=-25203.272 total time=   1.9s\n",
            "[CV 3/5] END C=100, gamma=0.001, kernel=linear;, score=-7726.601 total time=   1.9s\n",
            "[CV 4/5] END C=100, gamma=0.001, kernel=linear;, score=-7886.093 total time=   1.9s\n",
            "[CV 5/5] END C=100, gamma=0.001, kernel=linear;, score=-7691.211 total time=   1.8s\n",
            "[CV 1/5] END C=100, gamma=0.0001, kernel=linear;, score=-7160.531 total time=   1.8s\n",
            "[CV 2/5] END C=100, gamma=0.0001, kernel=linear;, score=-25203.272 total time=   1.8s\n",
            "[CV 3/5] END C=100, gamma=0.0001, kernel=linear;, score=-7726.601 total time=   2.8s\n",
            "[CV 4/5] END C=100, gamma=0.0001, kernel=linear;, score=-7886.093 total time=   2.8s\n",
            "[CV 5/5] END C=100, gamma=0.0001, kernel=linear;, score=-7691.211 total time=   1.8s\n",
            "[CV 1/5] END C=1000, gamma=1, kernel=linear;, score=-7043.823 total time=   1.9s\n",
            "[CV 2/5] END C=1000, gamma=1, kernel=linear;, score=-24997.124 total time=   2.0s\n",
            "[CV 3/5] END C=1000, gamma=1, kernel=linear;, score=-7514.314 total time=   1.9s\n",
            "[CV 4/5] END C=1000, gamma=1, kernel=linear;, score=-7692.688 total time=   1.9s\n",
            "[CV 5/5] END C=1000, gamma=1, kernel=linear;, score=-7528.628 total time=   2.0s\n",
            "[CV 1/5] END C=1000, gamma=0.1, kernel=linear;, score=-7043.823 total time=   1.9s\n",
            "[CV 2/5] END C=1000, gamma=0.1, kernel=linear;, score=-24997.124 total time=   1.9s\n",
            "[CV 3/5] END C=1000, gamma=0.1, kernel=linear;, score=-7514.314 total time=   1.9s\n",
            "[CV 4/5] END C=1000, gamma=0.1, kernel=linear;, score=-7692.688 total time=   1.9s\n",
            "[CV 5/5] END C=1000, gamma=0.1, kernel=linear;, score=-7528.628 total time=   2.0s\n",
            "[CV 1/5] END C=1000, gamma=0.01, kernel=linear;, score=-7043.823 total time=   1.9s\n",
            "[CV 2/5] END C=1000, gamma=0.01, kernel=linear;, score=-24997.124 total time=   1.9s\n",
            "[CV 3/5] END C=1000, gamma=0.01, kernel=linear;, score=-7514.314 total time=   1.9s\n",
            "[CV 4/5] END C=1000, gamma=0.01, kernel=linear;, score=-7692.688 total time=   1.9s\n",
            "[CV 5/5] END C=1000, gamma=0.01, kernel=linear;, score=-7528.628 total time=   2.4s\n",
            "[CV 1/5] END C=1000, gamma=0.001, kernel=linear;, score=-7043.823 total time=   2.4s\n",
            "[CV 2/5] END C=1000, gamma=0.001, kernel=linear;, score=-24997.124 total time=   1.9s\n",
            "[CV 3/5] END C=1000, gamma=0.001, kernel=linear;, score=-7514.314 total time=   1.9s\n",
            "[CV 4/5] END C=1000, gamma=0.001, kernel=linear;, score=-7692.688 total time=   1.9s\n",
            "[CV 5/5] END C=1000, gamma=0.001, kernel=linear;, score=-7528.628 total time=   3.8s\n",
            "[CV 1/5] END C=1000, gamma=0.0001, kernel=linear;, score=-7043.823 total time=   3.6s\n",
            "[CV 2/5] END C=1000, gamma=0.0001, kernel=linear;, score=-24997.124 total time=   2.5s\n",
            "[CV 3/5] END C=1000, gamma=0.0001, kernel=linear;, score=-7514.314 total time=   2.3s\n",
            "[CV 4/5] END C=1000, gamma=0.0001, kernel=linear;, score=-7692.688 total time=   2.6s\n",
            "[CV 5/5] END C=1000, gamma=0.0001, kernel=linear;, score=-7528.628 total time=   2.0s\n"
          ]
        },
        {
          "output_type": "execute_result",
          "data": {
            "text/plain": [
              "GridSearchCV(estimator=SVR(),\n",
              "             param_grid={'C': [0.1, 1, 10, 100, 1000],\n",
              "                         'gamma': [1, 0.1, 0.01, 0.001, 0.0001],\n",
              "                         'kernel': ['linear']},\n",
              "             scoring='neg_mean_absolute_error', verbose=3)"
            ]
          },
          "metadata": {},
          "execution_count": 54
        }
      ]
    },
    {
      "cell_type": "code",
      "source": [
        "print(grid2.best_params_)\n",
        "  \n",
        "# print how our model looks after hyper-parameter tuning\n",
        "print(grid2.best_estimator_)\n"
      ],
      "metadata": {
        "colab": {
          "base_uri": "https://localhost:8080/"
        },
        "id": "Ws9UWVM1w9aR",
        "outputId": "dd950524-537c-443e-d5f3-794a04ed4f22"
      },
      "execution_count": 55,
      "outputs": [
        {
          "output_type": "stream",
          "name": "stdout",
          "text": [
            "{'C': 1000, 'gamma': 1, 'kernel': 'linear'}\n",
            "SVR(C=1000, gamma=1, kernel='linear')\n"
          ]
        }
      ]
    },
    {
      "cell_type": "code",
      "source": [
        "y_predict_test_g2=grid2.predict(X_val)\n",
        "y_predict_train_g2=grid2.predict(X_train)\n"
      ],
      "metadata": {
        "id": "GgGZOxDXw7N5"
      },
      "execution_count": 56,
      "outputs": []
    },
    {
      "cell_type": "code",
      "source": [
        "mae_train=mean_absolute_error(Y_train, y_predict_train_g2)\n",
        "rmse_train=np.sqrt(mean_squared_error(Y_train,y_predict_train_g2))\n",
        "mae_test=mean_absolute_error(Y_val, y_predict_test_g2)\n",
        "rmse_test=np.sqrt(mean_squared_error(Y_val,y_predict_test_g2))\n",
        "r2_val=r2_score(Y_val, y_predict_test_g2)\n",
        "r2_train=r2_score(Y_train,y_predict_train_g2)\n",
        "\n",
        "\n",
        "print('El MAE para entrenamiento es {}, en test es {} '.format(mae_train,mae_test))\n",
        "\n",
        "print('El RMS para entrenamiento es {}, en test es {} '.format(rmse_train,rmse_test))\n",
        "\n",
        "print('El r2 para enternamiento es {}, en test es {}'.format(r2_train,r2_val))\n",
        "\n",
        "\n"
      ],
      "metadata": {
        "colab": {
          "base_uri": "https://localhost:8080/"
        },
        "id": "fDJjpYspxAcA",
        "outputId": "5fb2331c-4b68-4c47-9f53-06b1f6d40cfb"
      },
      "execution_count": 57,
      "outputs": [
        {
          "output_type": "stream",
          "name": "stdout",
          "text": [
            "El MAE para entrenamiento es 10925.628821193037, en test es 6931.539127596932 \n",
            "El RMS para entrenamiento es 308052.9547024662, en test es 11598.72689693583 \n",
            "El r2 para enternamiento es -0.0002814564876882919, en test es 0.3900303602109283\n"
          ]
        }
      ]
    },
    {
      "cell_type": "code",
      "source": [
        "param_grid3 = {'C': [0.1, 1, 10, 100, 1000], \n",
        "              'gamma': [1, 0.1, 0.01, 0.001, 0.0001],\n",
        "              'kernel': ['poly'],\n",
        "              'degree':[2]} \n",
        "  \n",
        "grid3 = RandomizedSearchCV(SVR(), param_grid3, refit = True, verbose = 3,scoring='neg_mean_absolute_error', random_state=0)\n",
        "  \n",
        "# fitting the model for grid search\n",
        "grid3.fit(X_train, Y_train)"
      ],
      "metadata": {
        "colab": {
          "base_uri": "https://localhost:8080/"
        },
        "id": "Xxe80JHExC1B",
        "outputId": "4e445548-dabd-468f-d156-29e94d54bba8"
      },
      "execution_count": 58,
      "outputs": [
        {
          "output_type": "stream",
          "name": "stdout",
          "text": [
            "Fitting 5 folds for each of 10 candidates, totalling 50 fits\n",
            "[CV 1/5] END C=1, degree=2, gamma=1, kernel=poly;, score=-8205.419 total time=   2.9s\n",
            "[CV 2/5] END C=1, degree=2, gamma=1, kernel=poly;, score=-26325.974 total time=   2.0s\n",
            "[CV 3/5] END C=1, degree=2, gamma=1, kernel=poly;, score=-8758.216 total time=   2.1s\n",
            "[CV 4/5] END C=1, degree=2, gamma=1, kernel=poly;, score=-8919.254 total time=   2.0s\n",
            "[CV 5/5] END C=1, degree=2, gamma=1, kernel=poly;, score=-8668.444 total time=   2.0s\n",
            "[CV 1/5] END C=0.1, degree=2, gamma=0.01, kernel=poly;, score=-10109.827 total time=   2.1s\n",
            "[CV 2/5] END C=0.1, degree=2, gamma=0.01, kernel=poly;, score=-28157.524 total time=   2.1s\n",
            "[CV 3/5] END C=0.1, degree=2, gamma=0.01, kernel=poly;, score=-10544.064 total time=   2.1s\n",
            "[CV 4/5] END C=0.1, degree=2, gamma=0.01, kernel=poly;, score=-10732.150 total time=   2.6s\n",
            "[CV 5/5] END C=0.1, degree=2, gamma=0.01, kernel=poly;, score=-10486.206 total time=   2.1s\n",
            "[CV 1/5] END C=100, degree=2, gamma=0.0001, kernel=poly;, score=-10109.867 total time=   3.1s\n",
            "[CV 2/5] END C=100, degree=2, gamma=0.0001, kernel=poly;, score=-28157.563 total time=   3.5s\n",
            "[CV 3/5] END C=100, degree=2, gamma=0.0001, kernel=poly;, score=-10544.102 total time=   2.1s\n",
            "[CV 4/5] END C=100, degree=2, gamma=0.0001, kernel=poly;, score=-10732.189 total time=   2.4s\n",
            "[CV 5/5] END C=100, degree=2, gamma=0.0001, kernel=poly;, score=-10486.246 total time=   4.7s\n",
            "[CV 1/5] END C=100, degree=2, gamma=0.1, kernel=poly;, score=-8205.419 total time=   2.1s\n",
            "[CV 2/5] END C=100, degree=2, gamma=0.1, kernel=poly;, score=-26325.974 total time=   2.1s\n",
            "[CV 3/5] END C=100, degree=2, gamma=0.1, kernel=poly;, score=-8758.216 total time=   2.1s\n",
            "[CV 4/5] END C=100, degree=2, gamma=0.1, kernel=poly;, score=-8919.254 total time=   2.0s\n",
            "[CV 5/5] END C=100, degree=2, gamma=0.1, kernel=poly;, score=-8668.444 total time=   2.0s\n",
            "[CV 1/5] END C=10, degree=2, gamma=0.1, kernel=poly;, score=-9713.231 total time=   2.1s\n",
            "[CV 2/5] END C=10, degree=2, gamma=0.1, kernel=poly;, score=-27774.491 total time=   2.1s\n",
            "[CV 3/5] END C=10, degree=2, gamma=0.1, kernel=poly;, score=-10169.744 total time=   2.1s\n",
            "[CV 4/5] END C=10, degree=2, gamma=0.1, kernel=poly;, score=-10350.241 total time=   2.1s\n",
            "[CV 5/5] END C=10, degree=2, gamma=0.1, kernel=poly;, score=-10095.098 total time=   2.1s\n",
            "[CV 1/5] END C=1000, degree=2, gamma=0.01, kernel=poly;, score=-9713.231 total time=   2.1s\n",
            "[CV 2/5] END C=1000, degree=2, gamma=0.01, kernel=poly;, score=-27774.491 total time=   2.1s\n",
            "[CV 3/5] END C=1000, degree=2, gamma=0.01, kernel=poly;, score=-10169.744 total time=   2.1s\n",
            "[CV 4/5] END C=1000, degree=2, gamma=0.01, kernel=poly;, score=-10350.241 total time=   2.1s\n",
            "[CV 5/5] END C=1000, degree=2, gamma=0.01, kernel=poly;, score=-10095.098 total time=   2.0s\n",
            "[CV 1/5] END C=100, degree=2, gamma=0.01, kernel=poly;, score=-10066.610 total time=   2.1s\n",
            "[CV 2/5] END C=100, degree=2, gamma=0.01, kernel=poly;, score=-28115.133 total time=   2.2s\n",
            "[CV 3/5] END C=100, degree=2, gamma=0.01, kernel=poly;, score=-10503.126 total time=   3.5s\n",
            "[CV 4/5] END C=100, degree=2, gamma=0.01, kernel=poly;, score=-10690.397 total time=   2.4s\n",
            "[CV 5/5] END C=100, degree=2, gamma=0.01, kernel=poly;, score=-10443.485 total time=   2.1s\n",
            "[CV 1/5] END C=1000, degree=2, gamma=0.0001, kernel=poly;, score=-10109.827 total time=   2.1s\n",
            "[CV 2/5] END C=1000, degree=2, gamma=0.0001, kernel=poly;, score=-28157.524 total time=   2.1s\n",
            "[CV 3/5] END C=1000, degree=2, gamma=0.0001, kernel=poly;, score=-10544.064 total time=   2.1s\n",
            "[CV 4/5] END C=1000, degree=2, gamma=0.0001, kernel=poly;, score=-10732.150 total time=   2.1s\n",
            "[CV 5/5] END C=1000, degree=2, gamma=0.0001, kernel=poly;, score=-10486.206 total time=   2.1s\n",
            "[CV 1/5] END C=1000, degree=2, gamma=0.001, kernel=poly;, score=-10105.486 total time=   2.1s\n",
            "[CV 2/5] END C=1000, degree=2, gamma=0.001, kernel=poly;, score=-28153.266 total time=   2.1s\n",
            "[CV 3/5] END C=1000, degree=2, gamma=0.001, kernel=poly;, score=-10539.969 total time=   2.1s\n",
            "[CV 4/5] END C=1000, degree=2, gamma=0.001, kernel=poly;, score=-10727.912 total time=   2.1s\n",
            "[CV 5/5] END C=1000, degree=2, gamma=0.001, kernel=poly;, score=-10481.863 total time=   2.1s\n",
            "[CV 1/5] END C=10, degree=2, gamma=0.0001, kernel=poly;, score=-10109.871 total time=   2.1s\n",
            "[CV 2/5] END C=10, degree=2, gamma=0.0001, kernel=poly;, score=-28157.567 total time=   2.1s\n",
            "[CV 3/5] END C=10, degree=2, gamma=0.0001, kernel=poly;, score=-10544.106 total time=   2.1s\n",
            "[CV 4/5] END C=10, degree=2, gamma=0.0001, kernel=poly;, score=-10732.192 total time=   2.1s\n",
            "[CV 5/5] END C=10, degree=2, gamma=0.0001, kernel=poly;, score=-10486.250 total time=   2.1s\n"
          ]
        },
        {
          "output_type": "execute_result",
          "data": {
            "text/plain": [
              "RandomizedSearchCV(estimator=SVR(),\n",
              "                   param_distributions={'C': [0.1, 1, 10, 100, 1000],\n",
              "                                        'degree': [2],\n",
              "                                        'gamma': [1, 0.1, 0.01, 0.001, 0.0001],\n",
              "                                        'kernel': ['poly']},\n",
              "                   random_state=0, scoring='neg_mean_absolute_error',\n",
              "                   verbose=3)"
            ]
          },
          "metadata": {},
          "execution_count": 58
        }
      ]
    },
    {
      "cell_type": "code",
      "source": [
        "y_predict_test_g3=grid3.predict(X_val)\n",
        "y_predict_train_g3=grid3.predict(X_train)\n"
      ],
      "metadata": {
        "id": "WydOPRPexQlc"
      },
      "execution_count": 59,
      "outputs": []
    },
    {
      "cell_type": "code",
      "source": [
        "mae_train=mean_absolute_error(Y_train, y_predict_train_g3)\n",
        "rmse_train=np.sqrt(mean_squared_error(Y_train,y_predict_train_g3))\n",
        "mae_test=mean_absolute_error(Y_val, y_predict_test_g3)\n",
        "rmse_test=np.sqrt(mean_squared_error(Y_val,y_predict_test_g3))\n",
        "r2_val=r2_score(Y_val, y_predict_test_g3)\n",
        "r2_train=r2_score(Y_train,y_predict_train_g3)\n"
      ],
      "metadata": {
        "id": "ncP7XzTgxVBg"
      },
      "execution_count": 60,
      "outputs": []
    },
    {
      "cell_type": "code",
      "source": [
        "print('El MAE para entrenamiento es {}, en test es {} '.format(mae_train,mae_test))\n",
        "\n",
        "print('El RMS para entrenamiento es {}, en test es {} '.format(rmse_train,rmse_test))\n",
        "\n",
        "print('El r2 para enternamiento es {}, en test es {}'.format(r2_train,r2_val))\n"
      ],
      "metadata": {
        "colab": {
          "base_uri": "https://localhost:8080/"
        },
        "id": "0S8tWmyexWiv",
        "outputId": "ed5f85c6-8cce-43c5-8c5c-427e3c05ca4f"
      },
      "execution_count": 61,
      "outputs": [
        {
          "output_type": "stream",
          "name": "stdout",
          "text": [
            "El MAE para entrenamiento es 12025.775203859692, en test es 8101.888964023869 \n",
            "El RMS para entrenamiento es 308053.11949004605, en test es 13244.844093231777 \n",
            "El r2 para enternamiento es -0.0002825266543720062, en test es 0.20460789669526847\n"
          ]
        }
      ]
    },
    {
      "cell_type": "code",
      "source": [
        "model_filepath = saving_path+ 'SVR_one_hot_min_max.pkl'\n",
        "joblib.dump(grid, model_filepath)"
      ],
      "metadata": {
        "colab": {
          "base_uri": "https://localhost:8080/"
        },
        "id": "9jCDpDXVxZa0",
        "outputId": "2fb93a52-ff1b-4c49-ca11-281e66dd3428"
      },
      "execution_count": 62,
      "outputs": [
        {
          "output_type": "execute_result",
          "data": {
            "text/plain": [
              "['/content/drive/MyDrive/data/modelos/SVR_one_hot_min_max.pkl']"
            ]
          },
          "metadata": {},
          "execution_count": 62
        }
      ]
    },
    {
      "cell_type": "markdown",
      "source": [
        "Haciendo el mismo procedimiento pero usando los datos con standard scaler"
      ],
      "metadata": {
        "id": "45Bw-iDdywj9"
      }
    },
    {
      "cell_type": "code",
      "source": [
        "path='/content/drive/MyDrive/data/one_hot_encoding/standard/'\n",
        "X_train=pd.read_csv(path+'train/X_train_one_hot_encoding_standard.csv')\n",
        "Y_train=pd.read_csv(path+'train/y_train_one_hot_encoding_standard.csv')\n",
        "X_val=pd.read_csv(path+'val/X_val_one_hot_encoding_standard.csv')\n",
        "Y_val=pd.read_csv(path+'val/y_val_one_hot_encoding_standard.csv')\n",
        "X_test=pd.read_csv(path+'test/X_test_one_hot_encoding_standard.csv')\n",
        "Y_test=pd.read_csv(path+'test/y_test_one_hot_encoding_standard.csv')"
      ],
      "metadata": {
        "id": "mQw8VwpSzbI7"
      },
      "execution_count": 64,
      "outputs": []
    },
    {
      "cell_type": "code",
      "source": [
        "param_grid = {'C': [0.1, 1, 10, 100, 1000], \n",
        "              'gamma': [1, 0.1, 0.01, 0.001, 0.0001],\n",
        "              'kernel': ['rbf']} \n",
        "  \n",
        "grid = GridSearchCV(SVR(), param_grid, refit = True, verbose = 3,scoring='neg_mean_absolute_error')\n",
        "  \n",
        "# fitting the model for grid search\n",
        "grid.fit(X_train, Y_train)"
      ],
      "metadata": {
        "colab": {
          "base_uri": "https://localhost:8080/"
        },
        "id": "xfLDiFLiynqq",
        "outputId": "f3d344cd-d041-4a9c-f549-03194c4ed430"
      },
      "execution_count": 65,
      "outputs": [
        {
          "output_type": "stream",
          "name": "stdout",
          "text": [
            "Fitting 5 folds for each of 25 candidates, totalling 125 fits\n",
            "[CV 1/5] END ....C=0.1, gamma=1, kernel=rbf;, score=-9927.557 total time=   4.5s\n",
            "[CV 2/5] END ...C=0.1, gamma=1, kernel=rbf;, score=-10899.469 total time=   3.9s\n",
            "[CV 3/5] END ...C=0.1, gamma=1, kernel=rbf;, score=-10463.696 total time=   3.9s\n",
            "[CV 4/5] END ...C=0.1, gamma=1, kernel=rbf;, score=-10510.871 total time=   4.0s\n",
            "[CV 5/5] END ...C=0.1, gamma=1, kernel=rbf;, score=-10156.995 total time=   4.4s\n",
            "[CV 1/5] END ..C=0.1, gamma=0.1, kernel=rbf;, score=-9923.238 total time=   3.3s\n",
            "[CV 2/5] END .C=0.1, gamma=0.1, kernel=rbf;, score=-10895.157 total time=   3.7s\n",
            "[CV 3/5] END .C=0.1, gamma=0.1, kernel=rbf;, score=-10459.537 total time=   3.2s\n",
            "[CV 4/5] END .C=0.1, gamma=0.1, kernel=rbf;, score=-10506.652 total time=   5.7s\n",
            "[CV 5/5] END .C=0.1, gamma=0.1, kernel=rbf;, score=-10153.081 total time=   3.4s\n",
            "[CV 1/5] END .C=0.1, gamma=0.01, kernel=rbf;, score=-9924.345 total time=   3.7s\n",
            "[CV 2/5] END C=0.1, gamma=0.01, kernel=rbf;, score=-10895.741 total time=   3.3s\n",
            "[CV 3/5] END C=0.1, gamma=0.01, kernel=rbf;, score=-10460.464 total time=   3.3s\n",
            "[CV 4/5] END C=0.1, gamma=0.01, kernel=rbf;, score=-10507.502 total time=   3.3s\n",
            "[CV 5/5] END C=0.1, gamma=0.01, kernel=rbf;, score=-10154.136 total time=   3.4s\n",
            "[CV 1/5] END C=0.1, gamma=0.001, kernel=rbf;, score=-9930.390 total time=   3.3s\n",
            "[CV 2/5] END C=0.1, gamma=0.001, kernel=rbf;, score=-10901.837 total time=   3.2s\n",
            "[CV 3/5] END C=0.1, gamma=0.001, kernel=rbf;, score=-10466.404 total time=   3.3s\n",
            "[CV 4/5] END C=0.1, gamma=0.001, kernel=rbf;, score=-10513.472 total time=   3.2s\n",
            "[CV 5/5] END C=0.1, gamma=0.001, kernel=rbf;, score=-10159.801 total time=   3.3s\n",
            "[CV 1/5] END C=0.1, gamma=0.0001, kernel=rbf;, score=-9931.345 total time=   3.3s\n",
            "[CV 2/5] END C=0.1, gamma=0.0001, kernel=rbf;, score=-10902.828 total time=   3.2s\n",
            "[CV 3/5] END C=0.1, gamma=0.0001, kernel=rbf;, score=-10467.337 total time=   4.9s\n",
            "[CV 4/5] END C=0.1, gamma=0.0001, kernel=rbf;, score=-10514.424 total time=   3.3s\n",
            "[CV 5/5] END C=0.1, gamma=0.0001, kernel=rbf;, score=-10160.699 total time=   3.2s\n",
            "[CV 1/5] END ......C=1, gamma=1, kernel=rbf;, score=-9893.197 total time=   4.0s\n",
            "[CV 2/5] END .....C=1, gamma=1, kernel=rbf;, score=-10867.123 total time=   3.9s\n",
            "[CV 3/5] END .....C=1, gamma=1, kernel=rbf;, score=-10430.166 total time=   4.3s\n",
            "[CV 4/5] END .....C=1, gamma=1, kernel=rbf;, score=-10478.357 total time=   3.9s\n",
            "[CV 5/5] END .....C=1, gamma=1, kernel=rbf;, score=-10123.060 total time=   3.9s\n",
            "[CV 1/5] END ....C=1, gamma=0.1, kernel=rbf;, score=-9851.520 total time=   3.2s\n",
            "[CV 2/5] END ...C=1, gamma=0.1, kernel=rbf;, score=-10828.306 total time=   3.3s\n",
            "[CV 3/5] END ...C=1, gamma=0.1, kernel=rbf;, score=-10389.249 total time=   3.2s\n",
            "[CV 4/5] END ...C=1, gamma=0.1, kernel=rbf;, score=-10437.870 total time=   3.2s\n",
            "[CV 5/5] END ...C=1, gamma=0.1, kernel=rbf;, score=-10083.267 total time=   3.2s\n",
            "[CV 1/5] END ...C=1, gamma=0.01, kernel=rbf;, score=-9860.710 total time=   3.7s\n",
            "[CV 2/5] END ..C=1, gamma=0.01, kernel=rbf;, score=-10831.634 total time=   4.6s\n",
            "[CV 3/5] END ..C=1, gamma=0.01, kernel=rbf;, score=-10397.954 total time=   3.3s\n",
            "[CV 4/5] END ..C=1, gamma=0.01, kernel=rbf;, score=-10445.000 total time=   3.2s\n",
            "[CV 5/5] END ..C=1, gamma=0.01, kernel=rbf;, score=-10093.268 total time=   3.3s\n",
            "[CV 1/5] END ..C=1, gamma=0.001, kernel=rbf;, score=-9920.818 total time=   3.3s\n",
            "[CV 2/5] END .C=1, gamma=0.001, kernel=rbf;, score=-10891.873 total time=   5.2s\n",
            "[CV 3/5] END .C=1, gamma=0.001, kernel=rbf;, score=-10457.019 total time=   4.9s\n",
            "[CV 4/5] END .C=1, gamma=0.001, kernel=rbf;, score=-10503.918 total time=   3.3s\n",
            "[CV 5/5] END .C=1, gamma=0.001, kernel=rbf;, score=-10150.773 total time=   3.2s\n",
            "[CV 1/5] END .C=1, gamma=0.0001, kernel=rbf;, score=-9930.337 total time=   3.9s\n",
            "[CV 2/5] END C=1, gamma=0.0001, kernel=rbf;, score=-10901.778 total time=   3.2s\n",
            "[CV 3/5] END C=1, gamma=0.0001, kernel=rbf;, score=-10466.354 total time=   3.3s\n",
            "[CV 4/5] END C=1, gamma=0.0001, kernel=rbf;, score=-10513.418 total time=   3.3s\n",
            "[CV 5/5] END C=1, gamma=0.0001, kernel=rbf;, score=-10159.752 total time=   4.8s\n",
            "[CV 1/5] END .....C=10, gamma=1, kernel=rbf;, score=-9582.763 total time=   4.0s\n",
            "[CV 2/5] END ....C=10, gamma=1, kernel=rbf;, score=-10584.420 total time=   3.9s\n",
            "[CV 3/5] END ....C=10, gamma=1, kernel=rbf;, score=-10125.235 total time=   3.9s\n",
            "[CV 4/5] END ....C=10, gamma=1, kernel=rbf;, score=-10195.963 total time=   3.9s\n",
            "[CV 5/5] END .....C=10, gamma=1, kernel=rbf;, score=-9821.345 total time=   3.9s\n",
            "[CV 1/5] END ...C=10, gamma=0.1, kernel=rbf;, score=-9267.836 total time=   3.2s\n",
            "[CV 2/5] END ..C=10, gamma=0.1, kernel=rbf;, score=-10294.778 total time=   3.3s\n",
            "[CV 3/5] END ...C=10, gamma=0.1, kernel=rbf;, score=-9822.782 total time=   3.2s\n",
            "[CV 4/5] END ...C=10, gamma=0.1, kernel=rbf;, score=-9904.233 total time=   3.3s\n",
            "[CV 5/5] END ...C=10, gamma=0.1, kernel=rbf;, score=-9540.966 total time=   3.2s\n",
            "[CV 1/5] END ..C=10, gamma=0.01, kernel=rbf;, score=-9299.217 total time=   3.3s\n",
            "[CV 2/5] END .C=10, gamma=0.01, kernel=rbf;, score=-10275.781 total time=   3.2s\n",
            "[CV 3/5] END ..C=10, gamma=0.01, kernel=rbf;, score=-9849.952 total time=   3.6s\n",
            "[CV 4/5] END ..C=10, gamma=0.01, kernel=rbf;, score=-9902.816 total time=   4.6s\n",
            "[CV 5/5] END ..C=10, gamma=0.01, kernel=rbf;, score=-9563.927 total time=   3.2s\n",
            "[CV 1/5] END .C=10, gamma=0.001, kernel=rbf;, score=-9825.787 total time=   3.3s\n",
            "[CV 2/5] END C=10, gamma=0.001, kernel=rbf;, score=-10795.151 total time=   3.2s\n",
            "[CV 3/5] END C=10, gamma=0.001, kernel=rbf;, score=-10364.427 total time=   3.2s\n",
            "[CV 4/5] END C=10, gamma=0.001, kernel=rbf;, score=-10410.186 total time=   3.3s\n",
            "[CV 5/5] END C=10, gamma=0.001, kernel=rbf;, score=-10060.502 total time=   3.2s\n",
            "[CV 1/5] END C=10, gamma=0.0001, kernel=rbf;, score=-9920.297 total time=   3.2s\n",
            "[CV 2/5] END C=10, gamma=0.0001, kernel=rbf;, score=-10891.274 total time=   3.3s\n",
            "[CV 3/5] END C=10, gamma=0.0001, kernel=rbf;, score=-10456.525 total time=   3.2s\n",
            "[CV 4/5] END C=10, gamma=0.0001, kernel=rbf;, score=-10503.383 total time=   3.3s\n",
            "[CV 5/5] END C=10, gamma=0.0001, kernel=rbf;, score=-10150.277 total time=   3.2s\n",
            "[CV 1/5] END ....C=100, gamma=1, kernel=rbf;, score=-8246.519 total time=   3.9s\n",
            "[CV 2/5] END ....C=100, gamma=1, kernel=rbf;, score=-9429.183 total time=   4.1s\n",
            "[CV 3/5] END ....C=100, gamma=1, kernel=rbf;, score=-8819.728 total time=   5.3s\n",
            "[CV 4/5] END ....C=100, gamma=1, kernel=rbf;, score=-9023.876 total time=   3.9s\n",
            "[CV 5/5] END ....C=100, gamma=1, kernel=rbf;, score=-8599.878 total time=   3.9s\n",
            "[CV 1/5] END ..C=100, gamma=0.1, kernel=rbf;, score=-7609.715 total time=   3.2s\n",
            "[CV 2/5] END ..C=100, gamma=0.1, kernel=rbf;, score=-8756.321 total time=   3.2s\n",
            "[CV 3/5] END ..C=100, gamma=0.1, kernel=rbf;, score=-8286.043 total time=   3.2s\n",
            "[CV 4/5] END ..C=100, gamma=0.1, kernel=rbf;, score=-8380.933 total time=   3.2s\n",
            "[CV 5/5] END ..C=100, gamma=0.1, kernel=rbf;, score=-8054.097 total time=   3.2s\n",
            "[CV 1/5] END .C=100, gamma=0.01, kernel=rbf;, score=-7384.849 total time=   3.2s\n",
            "[CV 2/5] END .C=100, gamma=0.01, kernel=rbf;, score=-8354.039 total time=   3.2s\n",
            "[CV 3/5] END .C=100, gamma=0.01, kernel=rbf;, score=-8034.584 total time=   3.2s\n",
            "[CV 4/5] END .C=100, gamma=0.01, kernel=rbf;, score=-8066.954 total time=   3.2s\n",
            "[CV 5/5] END .C=100, gamma=0.01, kernel=rbf;, score=-7794.389 total time=   3.3s\n",
            "[CV 1/5] END C=100, gamma=0.001, kernel=rbf;, score=-9025.880 total time=   3.3s\n",
            "[CV 2/5] END C=100, gamma=0.001, kernel=rbf;, score=-9980.087 total time=   4.9s\n",
            "[CV 3/5] END C=100, gamma=0.001, kernel=rbf;, score=-9587.478 total time=   3.3s\n",
            "[CV 4/5] END C=100, gamma=0.001, kernel=rbf;, score=-9629.032 total time=   3.3s\n",
            "[CV 5/5] END C=100, gamma=0.001, kernel=rbf;, score=-9300.979 total time=   3.2s\n",
            "[CV 1/5] END C=100, gamma=0.0001, kernel=rbf;, score=-9820.704 total time=   3.3s\n",
            "[CV 2/5] END C=100, gamma=0.0001, kernel=rbf;, score=-10789.572 total time=   3.2s\n",
            "[CV 3/5] END C=100, gamma=0.0001, kernel=rbf;, score=-10359.708 total time=   3.2s\n",
            "[CV 4/5] END C=100, gamma=0.0001, kernel=rbf;, score=-10405.027 total time=   3.2s\n",
            "[CV 5/5] END C=100, gamma=0.0001, kernel=rbf;, score=-10055.989 total time=   3.3s\n",
            "[CV 1/5] END ...C=1000, gamma=1, kernel=rbf;, score=-6436.286 total time=   4.0s\n",
            "[CV 2/5] END ...C=1000, gamma=1, kernel=rbf;, score=-7821.470 total time=   4.0s\n",
            "[CV 3/5] END ...C=1000, gamma=1, kernel=rbf;, score=-7084.713 total time=   4.0s\n",
            "[CV 4/5] END ...C=1000, gamma=1, kernel=rbf;, score=-7370.852 total time=   4.0s\n",
            "[CV 5/5] END ...C=1000, gamma=1, kernel=rbf;, score=-6939.450 total time=   4.6s\n",
            "[CV 1/5] END .C=1000, gamma=0.1, kernel=rbf;, score=-5754.743 total time=   4.4s\n",
            "[CV 2/5] END .C=1000, gamma=0.1, kernel=rbf;, score=-6955.564 total time=   3.2s\n",
            "[CV 3/5] END .C=1000, gamma=0.1, kernel=rbf;, score=-6438.484 total time=   3.2s\n",
            "[CV 4/5] END .C=1000, gamma=0.1, kernel=rbf;, score=-6627.621 total time=   3.2s\n",
            "[CV 5/5] END .C=1000, gamma=0.1, kernel=rbf;, score=-6296.605 total time=   3.3s\n",
            "[CV 1/5] END C=1000, gamma=0.01, kernel=rbf;, score=-6247.602 total time=   3.3s\n",
            "[CV 2/5] END C=1000, gamma=0.01, kernel=rbf;, score=-7317.195 total time=   3.2s\n",
            "[CV 3/5] END C=1000, gamma=0.01, kernel=rbf;, score=-6950.972 total time=   3.2s\n",
            "[CV 4/5] END C=1000, gamma=0.01, kernel=rbf;, score=-6970.184 total time=   3.2s\n",
            "[CV 5/5] END C=1000, gamma=0.01, kernel=rbf;, score=-6763.430 total time=   3.2s\n",
            "[CV 1/5] END C=1000, gamma=0.001, kernel=rbf;, score=-7181.411 total time=   3.2s\n",
            "[CV 2/5] END C=1000, gamma=0.001, kernel=rbf;, score=-8124.942 total time=   3.2s\n",
            "[CV 3/5] END C=1000, gamma=0.001, kernel=rbf;, score=-7875.942 total time=   3.3s\n",
            "[CV 4/5] END C=1000, gamma=0.001, kernel=rbf;, score=-7864.971 total time=   3.2s\n",
            "[CV 5/5] END C=1000, gamma=0.001, kernel=rbf;, score=-7607.661 total time=   5.1s\n",
            "[CV 1/5] END C=1000, gamma=0.0001, kernel=rbf;, score=-8987.756 total time=   5.8s\n",
            "[CV 2/5] END C=1000, gamma=0.0001, kernel=rbf;, score=-9936.469 total time=   4.2s\n",
            "[CV 3/5] END C=1000, gamma=0.0001, kernel=rbf;, score=-9553.327 total time=   3.2s\n",
            "[CV 4/5] END C=1000, gamma=0.0001, kernel=rbf;, score=-9589.079 total time=   3.3s\n",
            "[CV 5/5] END C=1000, gamma=0.0001, kernel=rbf;, score=-9268.095 total time=   3.2s\n"
          ]
        },
        {
          "output_type": "execute_result",
          "data": {
            "text/plain": [
              "GridSearchCV(estimator=SVR(),\n",
              "             param_grid={'C': [0.1, 1, 10, 100, 1000],\n",
              "                         'gamma': [1, 0.1, 0.01, 0.001, 0.0001],\n",
              "                         'kernel': ['rbf']},\n",
              "             scoring='neg_mean_absolute_error', verbose=3)"
            ]
          },
          "metadata": {},
          "execution_count": 65
        }
      ]
    },
    {
      "cell_type": "code",
      "source": [
        "# print best parameter after tuning\n",
        "print(grid.best_params_)\n",
        "  \n",
        "# print how our model looks after hyper-parameter tuning\n",
        "print(grid.best_estimator_)\n"
      ],
      "metadata": {
        "colab": {
          "base_uri": "https://localhost:8080/"
        },
        "id": "I0I6HZOTz20n",
        "outputId": "faebde64-3bce-4b65-aa5c-6d8965fe3f89"
      },
      "execution_count": 66,
      "outputs": [
        {
          "output_type": "stream",
          "name": "stdout",
          "text": [
            "{'C': 1000, 'gamma': 0.1, 'kernel': 'rbf'}\n",
            "SVR(C=1000, gamma=0.1)\n"
          ]
        }
      ]
    },
    {
      "cell_type": "code",
      "source": [
        "y_predict_test_g=grid.predict(X_val)\n",
        "y_predict_train_g=grid.predict(X_train)\n"
      ],
      "metadata": {
        "id": "ZiXAkF85z7do"
      },
      "execution_count": 67,
      "outputs": []
    },
    {
      "cell_type": "code",
      "source": [
        "mae_train=mean_absolute_error(Y_train, y_predict_train_g)\n",
        "rmse_train=np.sqrt(mean_squared_error(Y_train,y_predict_train_g))\n",
        "mae_test=mean_absolute_error(Y_val, y_predict_test_g)\n",
        "rmse_test=np.sqrt(mean_squared_error(Y_val,y_predict_test_g))\n",
        "r2_val=r2_score(Y_val, y_predict_test_g)\n",
        "r2_train=r2_score(Y_train,y_predict_train_g)\n"
      ],
      "metadata": {
        "id": "DFNCBQjPz9Kr"
      },
      "execution_count": 68,
      "outputs": []
    },
    {
      "cell_type": "code",
      "source": [
        "print('El MAE para entrenamiento es {}, en test es {} '.format(mae_train,mae_test))\n",
        "\n",
        "print('El RMS para entrenamiento es {}, en test es {} '.format(rmse_train,rmse_test))\n",
        "\n",
        "print('El r2 para enternamiento es {}, en test es {}'.format(r2_train,r2_val))\n"
      ],
      "metadata": {
        "colab": {
          "base_uri": "https://localhost:8080/"
        },
        "id": "82VjplVLz-py",
        "outputId": "239c1670-b93d-4823-c7bc-d1176893a97c"
      },
      "execution_count": 69,
      "outputs": [
        {
          "output_type": "stream",
          "name": "stdout",
          "text": [
            "El MAE para entrenamiento es 5970.908591103596, en test es 20414.384731834005 \n",
            "El RMS para entrenamiento es 11873.525437647053, en test es 615572.3125288315 \n",
            "El r2 para enternamiento es 0.4529374370110464, en test es -0.0010756172187897928\n"
          ]
        }
      ]
    },
    {
      "cell_type": "code",
      "source": [
        "param_grid2 = {'C': [0.1, 1, 10, 100, 1000], \n",
        "              'gamma': [1, 0.1, 0.01, 0.001, 0.0001],\n",
        "              'kernel': ['linear']} \n",
        "  \n",
        "grid2 = GridSearchCV(SVR(), param_grid2, refit = True, verbose = 3,scoring='neg_mean_absolute_error')\n",
        "  \n",
        "# fitting the model for grid search\n",
        "grid2.fit(X_train, Y_train)"
      ],
      "metadata": {
        "colab": {
          "base_uri": "https://localhost:8080/"
        },
        "id": "Fc4OvHlL0Aqe",
        "outputId": "721d38e4-ef50-404e-94a2-c03fa3d8e08b"
      },
      "execution_count": 70,
      "outputs": [
        {
          "output_type": "stream",
          "name": "stdout",
          "text": [
            "Fitting 5 folds for each of 25 candidates, totalling 125 fits\n",
            "[CV 1/5] END .C=0.1, gamma=1, kernel=linear;, score=-9411.940 total time=   3.1s\n",
            "[CV 2/5] END C=0.1, gamma=1, kernel=linear;, score=-10370.273 total time=   1.9s\n",
            "[CV 3/5] END .C=0.1, gamma=1, kernel=linear;, score=-9961.364 total time=   1.9s\n",
            "[CV 4/5] END C=0.1, gamma=1, kernel=linear;, score=-10003.576 total time=   3.0s\n",
            "[CV 5/5] END .C=0.1, gamma=1, kernel=linear;, score=-9674.172 total time=   1.9s\n",
            "[CV 1/5] END C=0.1, gamma=0.1, kernel=linear;, score=-9411.940 total time=   2.3s\n",
            "[CV 2/5] END C=0.1, gamma=0.1, kernel=linear;, score=-10370.273 total time=   4.2s\n",
            "[CV 3/5] END C=0.1, gamma=0.1, kernel=linear;, score=-9961.364 total time=   1.8s\n",
            "[CV 4/5] END C=0.1, gamma=0.1, kernel=linear;, score=-10003.576 total time=   1.8s\n",
            "[CV 5/5] END C=0.1, gamma=0.1, kernel=linear;, score=-9674.172 total time=   1.9s\n",
            "[CV 1/5] END C=0.1, gamma=0.01, kernel=linear;, score=-9411.940 total time=   2.4s\n",
            "[CV 2/5] END C=0.1, gamma=0.01, kernel=linear;, score=-10370.273 total time=   2.3s\n",
            "[CV 3/5] END C=0.1, gamma=0.01, kernel=linear;, score=-9961.364 total time=   1.8s\n",
            "[CV 4/5] END C=0.1, gamma=0.01, kernel=linear;, score=-10003.576 total time=   2.1s\n",
            "[CV 5/5] END C=0.1, gamma=0.01, kernel=linear;, score=-9674.172 total time=   2.6s\n",
            "[CV 1/5] END C=0.1, gamma=0.001, kernel=linear;, score=-9411.940 total time=   2.0s\n",
            "[CV 2/5] END C=0.1, gamma=0.001, kernel=linear;, score=-10370.273 total time=   1.9s\n",
            "[CV 3/5] END C=0.1, gamma=0.001, kernel=linear;, score=-9961.364 total time=   1.9s\n",
            "[CV 4/5] END C=0.1, gamma=0.001, kernel=linear;, score=-10003.576 total time=   1.8s\n",
            "[CV 5/5] END C=0.1, gamma=0.001, kernel=linear;, score=-9674.172 total time=   1.9s\n",
            "[CV 1/5] END C=0.1, gamma=0.0001, kernel=linear;, score=-9411.940 total time=   1.8s\n",
            "[CV 2/5] END C=0.1, gamma=0.0001, kernel=linear;, score=-10370.273 total time=   1.9s\n",
            "[CV 3/5] END C=0.1, gamma=0.0001, kernel=linear;, score=-9961.364 total time=   2.3s\n",
            "[CV 4/5] END C=0.1, gamma=0.0001, kernel=linear;, score=-10003.576 total time=   2.7s\n",
            "[CV 5/5] END C=0.1, gamma=0.0001, kernel=linear;, score=-9674.172 total time=   1.8s\n",
            "[CV 1/5] END ...C=1, gamma=1, kernel=linear;, score=-7574.808 total time=   1.8s\n",
            "[CV 2/5] END ...C=1, gamma=1, kernel=linear;, score=-8508.453 total time=   1.8s\n",
            "[CV 3/5] END ...C=1, gamma=1, kernel=linear;, score=-8237.706 total time=   2.6s\n",
            "[CV 4/5] END ...C=1, gamma=1, kernel=linear;, score=-8244.132 total time=   4.1s\n",
            "[CV 5/5] END ...C=1, gamma=1, kernel=linear;, score=-7958.325 total time=   2.5s\n",
            "[CV 1/5] END .C=1, gamma=0.1, kernel=linear;, score=-7574.808 total time=   2.3s\n",
            "[CV 2/5] END .C=1, gamma=0.1, kernel=linear;, score=-8508.453 total time=   1.9s\n",
            "[CV 3/5] END .C=1, gamma=0.1, kernel=linear;, score=-8237.706 total time=   1.8s\n",
            "[CV 4/5] END .C=1, gamma=0.1, kernel=linear;, score=-8244.132 total time=   2.5s\n",
            "[CV 5/5] END .C=1, gamma=0.1, kernel=linear;, score=-7958.325 total time=   1.9s\n",
            "[CV 1/5] END C=1, gamma=0.01, kernel=linear;, score=-7574.808 total time=   1.8s\n",
            "[CV 2/5] END C=1, gamma=0.01, kernel=linear;, score=-8508.453 total time=   2.3s\n",
            "[CV 3/5] END C=1, gamma=0.01, kernel=linear;, score=-8237.706 total time=   2.0s\n",
            "[CV 4/5] END C=1, gamma=0.01, kernel=linear;, score=-8244.132 total time=   1.8s\n",
            "[CV 5/5] END C=1, gamma=0.01, kernel=linear;, score=-7958.325 total time=   1.8s\n",
            "[CV 1/5] END C=1, gamma=0.001, kernel=linear;, score=-7574.808 total time=   1.8s\n",
            "[CV 2/5] END C=1, gamma=0.001, kernel=linear;, score=-8508.453 total time=   1.8s\n",
            "[CV 3/5] END C=1, gamma=0.001, kernel=linear;, score=-8237.706 total time=   1.8s\n",
            "[CV 4/5] END C=1, gamma=0.001, kernel=linear;, score=-8244.132 total time=   1.8s\n",
            "[CV 5/5] END C=1, gamma=0.001, kernel=linear;, score=-7958.325 total time=   1.8s\n",
            "[CV 1/5] END C=1, gamma=0.0001, kernel=linear;, score=-7574.808 total time=   1.8s\n",
            "[CV 2/5] END C=1, gamma=0.0001, kernel=linear;, score=-8508.453 total time=   1.8s\n",
            "[CV 3/5] END C=1, gamma=0.0001, kernel=linear;, score=-8237.706 total time=   1.8s\n",
            "[CV 4/5] END C=1, gamma=0.0001, kernel=linear;, score=-8244.132 total time=   1.8s\n",
            "[CV 5/5] END C=1, gamma=0.0001, kernel=linear;, score=-7958.325 total time=   1.9s\n",
            "[CV 1/5] END ..C=10, gamma=1, kernel=linear;, score=-6748.112 total time=   1.9s\n",
            "[CV 2/5] END ..C=10, gamma=1, kernel=linear;, score=-7716.715 total time=   1.8s\n",
            "[CV 3/5] END ..C=10, gamma=1, kernel=linear;, score=-7472.830 total time=   1.8s\n",
            "[CV 4/5] END ..C=10, gamma=1, kernel=linear;, score=-7441.966 total time=   2.4s\n",
            "[CV 5/5] END ..C=10, gamma=1, kernel=linear;, score=-7221.804 total time=   3.1s\n",
            "[CV 1/5] END C=10, gamma=0.1, kernel=linear;, score=-6748.112 total time=   1.9s\n",
            "[CV 2/5] END C=10, gamma=0.1, kernel=linear;, score=-7716.715 total time=   1.8s\n",
            "[CV 3/5] END C=10, gamma=0.1, kernel=linear;, score=-7472.830 total time=   1.8s\n",
            "[CV 4/5] END C=10, gamma=0.1, kernel=linear;, score=-7441.966 total time=   1.8s\n",
            "[CV 5/5] END C=10, gamma=0.1, kernel=linear;, score=-7221.804 total time=   1.8s\n",
            "[CV 1/5] END C=10, gamma=0.01, kernel=linear;, score=-6748.112 total time=   1.8s\n",
            "[CV 2/5] END C=10, gamma=0.01, kernel=linear;, score=-7716.715 total time=   1.9s\n",
            "[CV 3/5] END C=10, gamma=0.01, kernel=linear;, score=-7472.830 total time=   1.9s\n",
            "[CV 4/5] END C=10, gamma=0.01, kernel=linear;, score=-7441.966 total time=   1.9s\n",
            "[CV 5/5] END C=10, gamma=0.01, kernel=linear;, score=-7221.804 total time=   1.8s\n",
            "[CV 1/5] END C=10, gamma=0.001, kernel=linear;, score=-6748.112 total time=   1.8s\n",
            "[CV 2/5] END C=10, gamma=0.001, kernel=linear;, score=-7716.715 total time=   1.8s\n",
            "[CV 3/5] END C=10, gamma=0.001, kernel=linear;, score=-7472.830 total time=   1.8s\n",
            "[CV 4/5] END C=10, gamma=0.001, kernel=linear;, score=-7441.966 total time=   1.8s\n",
            "[CV 5/5] END C=10, gamma=0.001, kernel=linear;, score=-7221.804 total time=   1.9s\n",
            "[CV 1/5] END C=10, gamma=0.0001, kernel=linear;, score=-6748.112 total time=   1.8s\n",
            "[CV 2/5] END C=10, gamma=0.0001, kernel=linear;, score=-7716.715 total time=   1.8s\n",
            "[CV 3/5] END C=10, gamma=0.0001, kernel=linear;, score=-7472.830 total time=   1.9s\n",
            "[CV 4/5] END C=10, gamma=0.0001, kernel=linear;, score=-7441.966 total time=   1.8s\n",
            "[CV 5/5] END C=10, gamma=0.0001, kernel=linear;, score=-7221.804 total time=   1.9s\n",
            "[CV 1/5] END .C=100, gamma=1, kernel=linear;, score=-6667.248 total time=   2.0s\n",
            "[CV 2/5] END .C=100, gamma=1, kernel=linear;, score=-7710.422 total time=   2.4s\n",
            "[CV 3/5] END .C=100, gamma=1, kernel=linear;, score=-7356.072 total time=   2.0s\n",
            "[CV 4/5] END .C=100, gamma=1, kernel=linear;, score=-7355.512 total time=   2.5s\n",
            "[CV 5/5] END .C=100, gamma=1, kernel=linear;, score=-7117.476 total time=   3.5s\n",
            "[CV 1/5] END C=100, gamma=0.1, kernel=linear;, score=-6667.248 total time=   2.1s\n",
            "[CV 2/5] END C=100, gamma=0.1, kernel=linear;, score=-7710.422 total time=   2.0s\n",
            "[CV 3/5] END C=100, gamma=0.1, kernel=linear;, score=-7356.072 total time=   2.0s\n",
            "[CV 4/5] END C=100, gamma=0.1, kernel=linear;, score=-7355.512 total time=   2.0s\n",
            "[CV 5/5] END C=100, gamma=0.1, kernel=linear;, score=-7117.476 total time=   2.1s\n",
            "[CV 1/5] END C=100, gamma=0.01, kernel=linear;, score=-6667.248 total time=   1.9s\n",
            "[CV 2/5] END C=100, gamma=0.01, kernel=linear;, score=-7710.422 total time=   2.0s\n",
            "[CV 3/5] END C=100, gamma=0.01, kernel=linear;, score=-7356.072 total time=   1.9s\n",
            "[CV 4/5] END C=100, gamma=0.01, kernel=linear;, score=-7355.512 total time=   2.0s\n",
            "[CV 5/5] END C=100, gamma=0.01, kernel=linear;, score=-7117.476 total time=   2.1s\n",
            "[CV 1/5] END C=100, gamma=0.001, kernel=linear;, score=-6667.248 total time=   1.9s\n",
            "[CV 2/5] END C=100, gamma=0.001, kernel=linear;, score=-7710.422 total time=   2.0s\n",
            "[CV 3/5] END C=100, gamma=0.001, kernel=linear;, score=-7356.072 total time=   2.0s\n",
            "[CV 4/5] END C=100, gamma=0.001, kernel=linear;, score=-7355.512 total time=   2.0s\n",
            "[CV 5/5] END C=100, gamma=0.001, kernel=linear;, score=-7117.476 total time=   2.1s\n",
            "[CV 1/5] END C=100, gamma=0.0001, kernel=linear;, score=-6667.248 total time=   2.0s\n",
            "[CV 2/5] END C=100, gamma=0.0001, kernel=linear;, score=-7710.422 total time=   2.0s\n",
            "[CV 3/5] END C=100, gamma=0.0001, kernel=linear;, score=-7356.072 total time=   2.0s\n",
            "[CV 4/5] END C=100, gamma=0.0001, kernel=linear;, score=-7355.512 total time=   2.0s\n",
            "[CV 5/5] END C=100, gamma=0.0001, kernel=linear;, score=-7117.476 total time=   2.1s\n",
            "[CV 1/5] END C=1000, gamma=1, kernel=linear;, score=-6664.148 total time=   3.7s\n",
            "[CV 2/5] END C=1000, gamma=1, kernel=linear;, score=-7718.546 total time=   4.4s\n",
            "[CV 3/5] END C=1000, gamma=1, kernel=linear;, score=-7349.551 total time=   3.7s\n",
            "[CV 4/5] END C=1000, gamma=1, kernel=linear;, score=-7349.095 total time=   3.0s\n",
            "[CV 5/5] END C=1000, gamma=1, kernel=linear;, score=-7112.902 total time=   3.3s\n",
            "[CV 1/5] END C=1000, gamma=0.1, kernel=linear;, score=-6664.148 total time=   3.2s\n",
            "[CV 2/5] END C=1000, gamma=0.1, kernel=linear;, score=-7718.546 total time=   3.1s\n",
            "[CV 3/5] END C=1000, gamma=0.1, kernel=linear;, score=-7349.551 total time=   3.2s\n",
            "[CV 4/5] END C=1000, gamma=0.1, kernel=linear;, score=-7349.095 total time=   3.0s\n",
            "[CV 5/5] END C=1000, gamma=0.1, kernel=linear;, score=-7112.902 total time=   3.2s\n",
            "[CV 1/5] END C=1000, gamma=0.01, kernel=linear;, score=-6664.148 total time=   3.0s\n",
            "[CV 2/5] END C=1000, gamma=0.01, kernel=linear;, score=-7718.546 total time=   3.1s\n",
            "[CV 3/5] END C=1000, gamma=0.01, kernel=linear;, score=-7349.551 total time=   3.2s\n",
            "[CV 4/5] END C=1000, gamma=0.01, kernel=linear;, score=-7349.095 total time=   3.0s\n",
            "[CV 5/5] END C=1000, gamma=0.01, kernel=linear;, score=-7112.902 total time=   3.2s\n",
            "[CV 1/5] END C=1000, gamma=0.001, kernel=linear;, score=-6664.148 total time=   3.1s\n",
            "[CV 2/5] END C=1000, gamma=0.001, kernel=linear;, score=-7718.546 total time=   4.1s\n",
            "[CV 3/5] END C=1000, gamma=0.001, kernel=linear;, score=-7349.551 total time=   3.9s\n",
            "[CV 4/5] END C=1000, gamma=0.001, kernel=linear;, score=-7349.095 total time=   3.9s\n",
            "[CV 5/5] END C=1000, gamma=0.001, kernel=linear;, score=-7112.902 total time=   6.0s\n",
            "[CV 1/5] END C=1000, gamma=0.0001, kernel=linear;, score=-6664.148 total time=   3.1s\n",
            "[CV 2/5] END C=1000, gamma=0.0001, kernel=linear;, score=-7718.546 total time=   3.1s\n",
            "[CV 3/5] END C=1000, gamma=0.0001, kernel=linear;, score=-7349.551 total time=   3.2s\n",
            "[CV 4/5] END C=1000, gamma=0.0001, kernel=linear;, score=-7349.095 total time=   3.1s\n",
            "[CV 5/5] END C=1000, gamma=0.0001, kernel=linear;, score=-7112.902 total time=   3.2s\n"
          ]
        },
        {
          "output_type": "execute_result",
          "data": {
            "text/plain": [
              "GridSearchCV(estimator=SVR(),\n",
              "             param_grid={'C': [0.1, 1, 10, 100, 1000],\n",
              "                         'gamma': [1, 0.1, 0.01, 0.001, 0.0001],\n",
              "                         'kernel': ['linear']},\n",
              "             scoring='neg_mean_absolute_error', verbose=3)"
            ]
          },
          "metadata": {},
          "execution_count": 70
        }
      ]
    },
    {
      "cell_type": "code",
      "source": [
        "print(grid2.best_params_)\n",
        "  \n",
        "# print how our model looks after hyper-parameter tuning\n",
        "print(grid2.best_estimator_)\n"
      ],
      "metadata": {
        "colab": {
          "base_uri": "https://localhost:8080/"
        },
        "id": "uuxLwdPs2kfK",
        "outputId": "60b39502-d8a1-4f0f-8864-18e275688180"
      },
      "execution_count": 71,
      "outputs": [
        {
          "output_type": "stream",
          "name": "stdout",
          "text": [
            "{'C': 1000, 'gamma': 1, 'kernel': 'linear'}\n",
            "SVR(C=1000, gamma=1, kernel='linear')\n"
          ]
        }
      ]
    },
    {
      "cell_type": "code",
      "source": [
        "\n",
        "y_predict_test_g2=grid2.predict(X_val)\n",
        "y_predict_train_g2=grid2.predict(X_train)\n"
      ],
      "metadata": {
        "id": "RfOncIKr2mdK"
      },
      "execution_count": 72,
      "outputs": []
    },
    {
      "cell_type": "code",
      "source": [
        "mae_train=mean_absolute_error(Y_train, y_predict_train_g2)\n",
        "rmse_train=np.sqrt(mean_squared_error(Y_train,y_predict_train_g2))\n",
        "mae_test=mean_absolute_error(Y_val, y_predict_test_g2)\n",
        "rmse_test=np.sqrt(mean_squared_error(Y_val,y_predict_test_g2))\n",
        "r2_val=r2_score(Y_val, y_predict_test_g2)\n",
        "r2_train=r2_score(Y_train,y_predict_train_g2)\n"
      ],
      "metadata": {
        "id": "oM369EUJ2oI6"
      },
      "execution_count": 73,
      "outputs": []
    },
    {
      "cell_type": "code",
      "source": [
        "print('El MAE para entrenamiento es {}, en test es {} '.format(mae_train,mae_test))\n",
        "\n",
        "print('El RMS para entrenamiento es {}, en test es {} '.format(rmse_train,rmse_test))\n",
        "\n",
        "print('El r2 para enternamiento es {}, en test es {}'.format(r2_train,r2_val))\n"
      ],
      "metadata": {
        "colab": {
          "base_uri": "https://localhost:8080/"
        },
        "id": "E_3o1GHF2q3D",
        "outputId": "c0d83c34-87aa-4b56-e48a-a7886d63017b"
      },
      "execution_count": 74,
      "outputs": [
        {
          "output_type": "stream",
          "name": "stdout",
          "text": [
            "El MAE para entrenamiento es 7206.175354766112, en test es 21537.396251577353 \n",
            "El RMS para entrenamiento es 12672.171445259752, en test es 615699.2712298958 \n",
            "El r2 para enternamiento es 0.37686850593716037, en test es -0.0014885934486230656\n"
          ]
        }
      ]
    },
    {
      "cell_type": "code",
      "source": [
        "param_grid3 = {'C': [0.1, 1, 10, 100, 1000], \n",
        "              'gamma': [1, 0.1, 0.01, 0.001, 0.0001],\n",
        "              'kernel': ['poly'],\n",
        "              'degree':[2]} \n",
        "  \n",
        "grid3 = RandomizedSearchCV(SVR(), param_grid3, refit = True, verbose = 3,scoring='neg_mean_absolute_error', random_state=0)\n",
        "  \n",
        "# fitting the model for grid search\n",
        "grid3.fit(X_train, Y_train)"
      ],
      "metadata": {
        "colab": {
          "base_uri": "https://localhost:8080/"
        },
        "id": "jGmlWLeW2s6_",
        "outputId": "0671e13a-84a3-4c8d-d793-083e6c3d9933"
      },
      "execution_count": 75,
      "outputs": [
        {
          "output_type": "stream",
          "name": "stdout",
          "text": [
            "Fitting 5 folds for each of 10 candidates, totalling 50 fits\n",
            "[CV 1/5] END C=1, degree=2, gamma=1, kernel=poly;, score=-7535.130 total time=   2.2s\n",
            "[CV 2/5] END C=1, degree=2, gamma=1, kernel=poly;, score=-8471.441 total time=   2.2s\n",
            "[CV 3/5] END C=1, degree=2, gamma=1, kernel=poly;, score=-8274.012 total time=   2.2s\n",
            "[CV 4/5] END C=1, degree=2, gamma=1, kernel=poly;, score=-8277.341 total time=   2.1s\n",
            "[CV 5/5] END C=1, degree=2, gamma=1, kernel=poly;, score=-7973.464 total time=   2.2s\n",
            "[CV 1/5] END C=0.1, degree=2, gamma=0.01, kernel=poly;, score=-9931.026 total time=   2.6s\n",
            "[CV 2/5] END C=0.1, degree=2, gamma=0.01, kernel=poly;, score=-10902.464 total time=   3.4s\n",
            "[CV 3/5] END C=0.1, degree=2, gamma=0.01, kernel=poly;, score=-10467.020 total time=   2.1s\n",
            "[CV 4/5] END C=0.1, degree=2, gamma=0.01, kernel=poly;, score=-10514.070 total time=   2.1s\n",
            "[CV 5/5] END C=0.1, degree=2, gamma=0.01, kernel=poly;, score=-10160.377 total time=   2.1s\n",
            "[CV 1/5] END C=100, degree=2, gamma=0.0001, kernel=poly;, score=-9931.413 total time=   2.1s\n",
            "[CV 2/5] END C=100, degree=2, gamma=0.0001, kernel=poly;, score=-10902.897 total time=   2.1s\n",
            "[CV 3/5] END C=100, degree=2, gamma=0.0001, kernel=poly;, score=-10467.404 total time=   2.1s\n",
            "[CV 4/5] END C=100, degree=2, gamma=0.0001, kernel=poly;, score=-10514.489 total time=   2.1s\n",
            "[CV 5/5] END C=100, degree=2, gamma=0.0001, kernel=poly;, score=-10160.762 total time=   2.1s\n",
            "[CV 1/5] END C=100, degree=2, gamma=0.1, kernel=poly;, score=-7535.130 total time=   2.1s\n",
            "[CV 2/5] END C=100, degree=2, gamma=0.1, kernel=poly;, score=-8471.441 total time=   2.1s\n",
            "[CV 3/5] END C=100, degree=2, gamma=0.1, kernel=poly;, score=-8274.012 total time=   2.2s\n",
            "[CV 4/5] END C=100, degree=2, gamma=0.1, kernel=poly;, score=-8277.341 total time=   2.1s\n",
            "[CV 5/5] END C=100, degree=2, gamma=0.1, kernel=poly;, score=-7973.464 total time=   2.1s\n",
            "[CV 1/5] END C=10, degree=2, gamma=0.1, kernel=poly;, score=-8414.881 total time=   2.0s\n",
            "[CV 2/5] END C=10, degree=2, gamma=0.1, kernel=poly;, score=-9375.530 total time=   2.1s\n",
            "[CV 3/5] END C=10, degree=2, gamma=0.1, kernel=poly;, score=-9065.151 total time=   2.1s\n",
            "[CV 4/5] END C=10, degree=2, gamma=0.1, kernel=poly;, score=-9068.525 total time=   2.1s\n",
            "[CV 5/5] END C=10, degree=2, gamma=0.1, kernel=poly;, score=-8700.819 total time=   2.1s\n",
            "[CV 1/5] END C=1000, degree=2, gamma=0.01, kernel=poly;, score=-8414.881 total time=   2.1s\n",
            "[CV 2/5] END C=1000, degree=2, gamma=0.01, kernel=poly;, score=-9375.530 total time=   2.1s\n",
            "[CV 3/5] END C=1000, degree=2, gamma=0.01, kernel=poly;, score=-9065.151 total time=   2.1s\n",
            "[CV 4/5] END C=1000, degree=2, gamma=0.01, kernel=poly;, score=-9068.525 total time=   3.4s\n",
            "[CV 5/5] END C=1000, degree=2, gamma=0.01, kernel=poly;, score=-8700.819 total time=   2.6s\n",
            "[CV 1/5] END C=100, degree=2, gamma=0.01, kernel=poly;, score=-9584.556 total time=   2.1s\n",
            "[CV 2/5] END C=100, degree=2, gamma=0.01, kernel=poly;, score=-10530.499 total time=   2.1s\n",
            "[CV 3/5] END C=100, degree=2, gamma=0.01, kernel=poly;, score=-10125.153 total time=   2.1s\n",
            "[CV 4/5] END C=100, degree=2, gamma=0.01, kernel=poly;, score=-10149.803 total time=   2.1s\n",
            "[CV 5/5] END C=100, degree=2, gamma=0.01, kernel=poly;, score=-9823.966 total time=   2.1s\n",
            "[CV 1/5] END C=1000, degree=2, gamma=0.0001, kernel=poly;, score=-9931.026 total time=   2.1s\n",
            "[CV 2/5] END C=1000, degree=2, gamma=0.0001, kernel=poly;, score=-10902.464 total time=   2.1s\n",
            "[CV 3/5] END C=1000, degree=2, gamma=0.0001, kernel=poly;, score=-10467.020 total time=   2.1s\n",
            "[CV 4/5] END C=1000, degree=2, gamma=0.0001, kernel=poly;, score=-10514.070 total time=   2.1s\n",
            "[CV 5/5] END C=1000, degree=2, gamma=0.0001, kernel=poly;, score=-10160.377 total time=   2.1s\n",
            "[CV 1/5] END C=1000, degree=2, gamma=0.001, kernel=poly;, score=-9888.918 total time=   2.1s\n",
            "[CV 2/5] END C=1000, degree=2, gamma=0.001, kernel=poly;, score=-10856.708 total time=   2.1s\n",
            "[CV 3/5] END C=1000, degree=2, gamma=0.001, kernel=poly;, score=-10425.418 total time=   2.1s\n",
            "[CV 4/5] END C=1000, degree=2, gamma=0.001, kernel=poly;, score=-10469.787 total time=   2.1s\n",
            "[CV 5/5] END C=1000, degree=2, gamma=0.001, kernel=poly;, score=-10120.788 total time=   2.1s\n",
            "[CV 1/5] END C=10, degree=2, gamma=0.0001, kernel=poly;, score=-9931.452 total time=   2.1s\n",
            "[CV 2/5] END C=10, degree=2, gamma=0.0001, kernel=poly;, score=-10902.940 total time=   2.1s\n",
            "[CV 3/5] END C=10, degree=2, gamma=0.0001, kernel=poly;, score=-10467.442 total time=   2.1s\n",
            "[CV 4/5] END C=10, degree=2, gamma=0.0001, kernel=poly;, score=-10514.531 total time=   2.1s\n",
            "[CV 5/5] END C=10, degree=2, gamma=0.0001, kernel=poly;, score=-10160.801 total time=   2.1s\n"
          ]
        },
        {
          "output_type": "execute_result",
          "data": {
            "text/plain": [
              "RandomizedSearchCV(estimator=SVR(),\n",
              "                   param_distributions={'C': [0.1, 1, 10, 100, 1000],\n",
              "                                        'degree': [2],\n",
              "                                        'gamma': [1, 0.1, 0.01, 0.001, 0.0001],\n",
              "                                        'kernel': ['poly']},\n",
              "                   random_state=0, scoring='neg_mean_absolute_error',\n",
              "                   verbose=3)"
            ]
          },
          "metadata": {},
          "execution_count": 75
        }
      ]
    },
    {
      "cell_type": "code",
      "source": [
        "y_predict_test_g3=grid3.predict(X_val)\n",
        "y_predict_train_g3=grid3.predict(X_train)\n"
      ],
      "metadata": {
        "id": "wON6F6hk2xAG"
      },
      "execution_count": 76,
      "outputs": []
    },
    {
      "cell_type": "code",
      "source": [
        "mae_train=mean_absolute_error(Y_train, y_predict_train_g3)\n",
        "rmse_train=np.sqrt(mean_squared_error(Y_train,y_predict_train_g3))\n",
        "mae_test=mean_absolute_error(Y_val, y_predict_test_g3)\n",
        "rmse_test=np.sqrt(mean_squared_error(Y_val,y_predict_test_g3))\n",
        "r2_val=r2_score(Y_val, y_predict_test_g3)\n",
        "r2_train=r2_score(Y_train,y_predict_train_g3)\n"
      ],
      "metadata": {
        "id": "A6q834jU20Dz"
      },
      "execution_count": 77,
      "outputs": []
    },
    {
      "cell_type": "code",
      "source": [
        "print('El MAE para entrenamiento es {}, en test es {} '.format(mae_train,mae_test))\n",
        "\n",
        "print('El RMS para entrenamiento es {}, en test es {} '.format(rmse_train,rmse_test))\n",
        "\n",
        "print('El r2 para enternamiento es {}, en test es {}'.format(r2_train,r2_val))\n"
      ],
      "metadata": {
        "colab": {
          "base_uri": "https://localhost:8080/"
        },
        "id": "VBwQMzxS2231",
        "outputId": "cf52e30d-ad05-4b33-e48d-e3db78102592"
      },
      "execution_count": 78,
      "outputs": [
        {
          "output_type": "stream",
          "name": "stdout",
          "text": [
            "El MAE para entrenamiento es 7841.562069428249, en test es 22285.101637230466 \n",
            "El RMS para entrenamiento es 13877.506660258088, en test es 615626.877247909 \n",
            "El r2 para enternamiento es 0.2526904870737009, en test es -0.0012530970360062899\n"
          ]
        }
      ]
    },
    {
      "cell_type": "code",
      "source": [
        "model_filepath = saving_path+ 'SVR_one_hot_standard.pkl'\n",
        "joblib.dump(grid, model_filepath)"
      ],
      "metadata": {
        "colab": {
          "base_uri": "https://localhost:8080/"
        },
        "id": "2bfFaC9p24bL",
        "outputId": "7ab0ccce-5565-40f3-f2ba-1d3b1744550c"
      },
      "execution_count": 79,
      "outputs": [
        {
          "output_type": "execute_result",
          "data": {
            "text/plain": [
              "['/content/drive/MyDrive/data/modelos/SVR_one_hot_standard.pkl']"
            ]
          },
          "metadata": {},
          "execution_count": 79
        }
      ]
    },
    {
      "cell_type": "code",
      "source": [],
      "metadata": {
        "id": "o3ku8n0O4q_S"
      },
      "execution_count": null,
      "outputs": []
    }
  ],
  "metadata": {
    "colab": {
      "provenance": []
    },
    "kernelspec": {
      "display_name": "Python 3",
      "name": "python3"
    },
    "language_info": {
      "name": "python"
    }
  },
  "nbformat": 4,
  "nbformat_minor": 0
}